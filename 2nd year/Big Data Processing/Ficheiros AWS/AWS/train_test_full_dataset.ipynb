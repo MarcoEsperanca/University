{
 "cells": [
  {
   "cell_type": "markdown",
   "id": "33a2c6f8-d85a-42a6-bb33-09646fe087be",
   "metadata": {},
   "source": [
    "#### Processamento de Big Data: Projeto Final\n",
    "\n",
    "Licenciatura em Ciência de Dados\n",
    "\n",
    "CDB1\n",
    "\n",
    "Marco Delgado Esperança, Nº 110451\n",
    "\n",
    "Maria João Ferreira Lourenço, Nº 104716\n",
    "\n",
    "Docente: João Oliveira\n",
    "\n",
    "8 de abril de 2023\n",
    "\n",
    "Flight Status Prediction\n",
    "\n",
    "https://www.kaggle.com/datasets/robikscube/flight-delay-dataset-20182022"
   ]
  },
  {
   "cell_type": "markdown",
   "id": "66e5c8af-0ed2-40a6-9d25-51cf0682b2d9",
   "metadata": {},
   "source": [
    "# Treino e teste e implementação dos modelos"
   ]
  },
  {
   "cell_type": "markdown",
   "id": "fb40da94-a26a-4eb6-98a2-9f576d1ce96e",
   "metadata": {},
   "source": [
    "Este notebook contém a criação do treino e teste e a implementação de 2 modelos - um de aprendizagem supervisionada e outro de aprendizagem não superviisionada."
   ]
  },
  {
   "cell_type": "code",
   "execution_count": 1,
   "id": "cf0cd1ee-bc00-41b6-bcf2-78b4a65fb06a",
   "metadata": {},
   "outputs": [
    {
     "data": {
      "application/vnd.jupyter.widget-view+json": {
       "model_id": "fd06919c2d0a4459884d43d096b33e3f",
       "version_major": 2,
       "version_minor": 0
      },
      "text/plain": [
       "VBox()"
      ]
     },
     "metadata": {},
     "output_type": "display_data"
    },
    {
     "name": "stdout",
     "output_type": "stream",
     "text": [
      "Starting Spark application\n"
     ]
    },
    {
     "data": {
      "text/html": [
       "<table>\n",
       "<tr><th>ID</th><th>YARN Application ID</th><th>Kind</th><th>State</th><th>Spark UI</th><th>Driver log</th><th>Current session?</th></tr><tr><td>0</td><td>application_1680800037789_0001</td><td>pyspark</td><td>idle</td><td><a target=\"_blank\" href=\"http://ip-172-31-10-220.ec2.internal:20888/proxy/application_1680800037789_0001/\" class=\"emr-proxy-link\" emr-resource=\"j-H2DZ805CI2CL\n",
       "\" application-id=\"application_1680800037789_0001\">Link</a></td><td><a target=\"_blank\" href=\"http://ip-172-31-15-21.ec2.internal:8042/node/containerlogs/container_1680800037789_0001_01_000001/livy\" >Link</a></td><td>✔</td></tr></table>"
      ],
      "text/plain": [
       "<IPython.core.display.HTML object>"
      ]
     },
     "metadata": {},
     "output_type": "display_data"
    },
    {
     "data": {
      "application/vnd.jupyter.widget-view+json": {
       "model_id": "",
       "version_major": 2,
       "version_minor": 0
      },
      "text/plain": [
       "FloatProgress(value=0.0, bar_style='info', description='Progress:', layout=Layout(height='25px', width='50%'),…"
      ]
     },
     "metadata": {},
     "output_type": "display_data"
    },
    {
     "name": "stdout",
     "output_type": "stream",
     "text": [
      "SparkSession available as 'spark'.\n"
     ]
    },
    {
     "data": {
      "application/vnd.jupyter.widget-view+json": {
       "model_id": "",
       "version_major": 2,
       "version_minor": 0
      },
      "text/plain": [
       "FloatProgress(value=0.0, bar_style='info', description='Progress:', layout=Layout(height='25px', width='50%'),…"
      ]
     },
     "metadata": {},
     "output_type": "display_data"
    },
    {
     "name": "stdout",
     "output_type": "stream",
     "text": [
      "<pyspark.sql.session.SparkSession object at 0x7f1d1b7e7bd0>"
     ]
    }
   ],
   "source": [
    "spark"
   ]
  },
  {
   "cell_type": "code",
   "execution_count": 5,
   "id": "3c0c7c2d-3eca-4ea2-9246-466e7195d165",
   "metadata": {},
   "outputs": [],
   "source": [
    "#spark.stop()"
   ]
  },
  {
   "cell_type": "code",
   "execution_count": 2,
   "id": "55ecb72f-0ba9-4c1f-b543-57d48e919382",
   "metadata": {},
   "outputs": [
    {
     "data": {
      "application/vnd.jupyter.widget-view+json": {
       "model_id": "8eaab3bd665d4524b34feae659936604",
       "version_major": 2,
       "version_minor": 0
      },
      "text/plain": [
       "VBox()"
      ]
     },
     "metadata": {},
     "output_type": "display_data"
    },
    {
     "data": {
      "application/vnd.jupyter.widget-view+json": {
       "model_id": "",
       "version_major": 2,
       "version_minor": 0
      },
      "text/plain": [
       "FloatProgress(value=0.0, bar_style='info', description='Progress:', layout=Layout(height='25px', width='50%'),…"
      ]
     },
     "metadata": {},
     "output_type": "display_data"
    }
   ],
   "source": [
    "filename = \"./flights_clean.parquet\"\n",
    "filename_s3 = \"s3://pbdmybucketgrupo3/flights_clean.parquet/\""
   ]
  },
  {
   "cell_type": "code",
   "execution_count": 3,
   "id": "90a0acfe-4c16-4af1-88b9-239390b443d8",
   "metadata": {},
   "outputs": [
    {
     "data": {
      "application/vnd.jupyter.widget-view+json": {
       "model_id": "0261df0568354f04b27127afd00d4356",
       "version_major": 2,
       "version_minor": 0
      },
      "text/plain": [
       "VBox()"
      ]
     },
     "metadata": {},
     "output_type": "display_data"
    },
    {
     "data": {
      "application/vnd.jupyter.widget-view+json": {
       "model_id": "",
       "version_major": 2,
       "version_minor": 0
      },
      "text/plain": [
       "FloatProgress(value=0.0, bar_style='info', description='Progress:', layout=Layout(height='25px', width='50%'),…"
      ]
     },
     "metadata": {},
     "output_type": "display_data"
    }
   ],
   "source": [
    "df_flights_clean = spark.read.format(\"parquet\").load(filename_s3)"
   ]
  },
  {
   "cell_type": "code",
   "execution_count": 4,
   "id": "dbeb4259-efe6-4538-aa49-5504b9d779dc",
   "metadata": {},
   "outputs": [
    {
     "data": {
      "application/vnd.jupyter.widget-view+json": {
       "model_id": "7d1013e6d4c4404cbfb9a2a61f290944",
       "version_major": 2,
       "version_minor": 0
      },
      "text/plain": [
       "VBox()"
      ]
     },
     "metadata": {},
     "output_type": "display_data"
    },
    {
     "data": {
      "application/vnd.jupyter.widget-view+json": {
       "model_id": "",
       "version_major": 2,
       "version_minor": 0
      },
      "text/plain": [
       "FloatProgress(value=0.0, bar_style='info', description='Progress:', layout=Layout(height='25px', width='50%'),…"
      ]
     },
     "metadata": {},
     "output_type": "display_data"
    },
    {
     "name": "stdout",
     "output_type": "stream",
     "text": [
      "root\n",
      " |-- FlightDate: timestamp (nullable = true)\n",
      " |-- Airline: string (nullable = true)\n",
      " |-- Origin: string (nullable = true)\n",
      " |-- Dest: string (nullable = true)\n",
      " |-- Cancelled: boolean (nullable = true)\n",
      " |-- Diverted: boolean (nullable = true)\n",
      " |-- CRSDepTime: integer (nullable = true)\n",
      " |-- DepTime: double (nullable = true)\n",
      " |-- DepDelayMinutes: double (nullable = true)\n",
      " |-- DepDelay: double (nullable = true)\n",
      " |-- ArrTime: double (nullable = true)\n",
      " |-- ArrDelayMinutes: double (nullable = true)\n",
      " |-- AirTime: double (nullable = true)\n",
      " |-- CRSElapsedTime: double (nullable = true)\n",
      " |-- ActualElapsedTime: double (nullable = true)\n",
      " |-- Distance: double (nullable = true)\n",
      " |-- Year: integer (nullable = true)\n",
      " |-- Quarter: integer (nullable = true)\n",
      " |-- Month: integer (nullable = true)\n",
      " |-- DayofMonth: integer (nullable = true)\n",
      " |-- DayOfWeek: integer (nullable = true)\n",
      " |-- Marketing_Airline_Network: string (nullable = true)\n",
      " |-- Operated_or_Branded_Code_Share_Partners: string (nullable = true)\n",
      " |-- DOT_ID_Marketing_Airline: integer (nullable = true)\n",
      " |-- IATA_Code_Marketing_Airline: string (nullable = true)\n",
      " |-- Flight_Number_Marketing_Airline: integer (nullable = true)\n",
      " |-- Operating_Airline: string (nullable = true)\n",
      " |-- IATA_Code_Operating_Airline: string (nullable = true)\n",
      " |-- Tail_Number: string (nullable = true)\n",
      " |-- OriginAirportID: integer (nullable = true)\n",
      " |-- OriginAirportSeqID: integer (nullable = true)\n",
      " |-- OriginCityName: string (nullable = true)\n",
      " |-- OriginState: string (nullable = true)\n",
      " |-- OriginStateName: string (nullable = true)\n",
      " |-- DestAirportID: integer (nullable = true)\n",
      " |-- DestAirportSeqID: integer (nullable = true)\n",
      " |-- DestCityName: string (nullable = true)\n",
      " |-- DestState: string (nullable = true)\n",
      " |-- DestStateName: string (nullable = true)\n",
      " |-- DepDel15: double (nullable = true)\n",
      " |-- DepartureDelayGroups: double (nullable = true)\n",
      " |-- DepTimeBlk: string (nullable = true)\n",
      " |-- WheelsOff: double (nullable = true)\n",
      " |-- WheelsOn: double (nullable = true)\n",
      " |-- ArrDelay: double (nullable = true)\n",
      " |-- ArrDel15: double (nullable = true)\n",
      " |-- ArrTimeBlk: string (nullable = true)"
     ]
    }
   ],
   "source": [
    "df_flights_clean.printSchema()"
   ]
  },
  {
   "cell_type": "code",
   "execution_count": 5,
   "id": "96fffeab-9b19-4b2e-8d06-c965130d4e7a",
   "metadata": {},
   "outputs": [
    {
     "data": {
      "application/vnd.jupyter.widget-view+json": {
       "model_id": "06d673d56aec4b7081abf0258a892b34",
       "version_major": 2,
       "version_minor": 0
      },
      "text/plain": [
       "VBox()"
      ]
     },
     "metadata": {},
     "output_type": "display_data"
    },
    {
     "data": {
      "application/vnd.jupyter.widget-view+json": {
       "model_id": "",
       "version_major": 2,
       "version_minor": 0
      },
      "text/plain": [
       "FloatProgress(value=0.0, bar_style='info', description='Progress:', layout=Layout(height='25px', width='50%'),…"
      ]
     },
     "metadata": {},
     "output_type": "display_data"
    }
   ],
   "source": [
    "df_sample = df_flights_clean.sample(False, 0.1, seed=42)\n",
    "df_sample = df_sample.limit(15000000)"
   ]
  },
  {
   "cell_type": "code",
   "execution_count": 6,
   "id": "e175aa53-3e08-46f0-99b7-18ef0868ad87",
   "metadata": {},
   "outputs": [
    {
     "data": {
      "application/vnd.jupyter.widget-view+json": {
       "model_id": "d659d36886424088b7a234b00a9a8877",
       "version_major": 2,
       "version_minor": 0
      },
      "text/plain": [
       "VBox()"
      ]
     },
     "metadata": {},
     "output_type": "display_data"
    },
    {
     "data": {
      "application/vnd.jupyter.widget-view+json": {
       "model_id": "",
       "version_major": 2,
       "version_minor": 0
      },
      "text/plain": [
       "FloatProgress(value=0.0, bar_style='info', description='Progress:', layout=Layout(height='25px', width='50%'),…"
      ]
     },
     "metadata": {},
     "output_type": "display_data"
    }
   ],
   "source": [
    "# Some Spark related imports we will use hereafter\n",
    "\n",
    "import sys\n",
    "import time\n",
    "\n",
    "from pyspark.sql import SparkSession\n",
    "import pyspark.sql.functions as F\n",
    "from pyspark.sql.types import *\n",
    "\n",
    "from pyspark.ml import Pipeline\n",
    "from pyspark.ml.stat import Correlation\n",
    "from pyspark.ml.feature import VectorAssembler, StringIndexer, OneHotEncoder\n",
    "from pyspark.ml.classification import LinearSVC\n",
    "from pyspark.ml.evaluation import BinaryClassificationEvaluator"
   ]
  },
  {
   "cell_type": "code",
   "execution_count": 7,
   "id": "82b73668",
   "metadata": {},
   "outputs": [
    {
     "data": {
      "application/vnd.jupyter.widget-view+json": {
       "model_id": "590b4ed0ae394aa6a966b7e969dba3c2",
       "version_major": 2,
       "version_minor": 0
      },
      "text/plain": [
       "VBox()"
      ]
     },
     "metadata": {},
     "output_type": "display_data"
    },
    {
     "data": {
      "application/vnd.jupyter.widget-view+json": {
       "model_id": "",
       "version_major": 2,
       "version_minor": 0
      },
      "text/plain": [
       "FloatProgress(value=0.0, bar_style='info', description='Progress:', layout=Layout(height='25px', width='50%'),…"
      ]
     },
     "metadata": {},
     "output_type": "display_data"
    }
   ],
   "source": [
    "import numpy as np"
   ]
  },
  {
   "cell_type": "markdown",
   "id": "291b2b35-eac1-45f8-8294-c23348a6142d",
   "metadata": {},
   "source": [
    "# Aprendizegam supervisionada"
   ]
  },
  {
   "cell_type": "markdown",
   "id": "610b04e9-e0f1-473c-b26b-08b39efa15c2",
   "metadata": {},
   "source": [
    "## SVM (Classificação)"
   ]
  },
  {
   "cell_type": "markdown",
   "id": "eaa141e0-a661-4ef0-8d4d-dc68e15c83a9",
   "metadata": {},
   "source": [
    "Para este conjunto de dados, vamos aplicar um modelo de classificação binária por SVM (Support Vector Machine), com o objetivo de prever se um voo chegará com um atraso superior a 15 minutos (**target**: **ArrDel15**). A escolha deste target se deve ao fato de que um atraso superior a 15 minutos pode ter um grande impacto na programação e planejamento dos passageiros e das companhias aéreas, além de poder resultar em custos adicionais para a empresa. Através deste modelo, é possível identificar os principais fatores que contribuem para a ocorrência de atrasos e, consequentemente, ajudar as companhias aéreas a tomar medidas preventivas para reduzir a incidência de atrasos em voos futuros."
   ]
  },
  {
   "cell_type": "markdown",
   "id": "7086f166-b02a-4c65-b5c3-210b4a7a55cf",
   "metadata": {},
   "source": [
    "<br>\n",
    "<br>"
   ]
  },
  {
   "cell_type": "markdown",
   "id": "0922284e-8fcb-49cb-bbc1-d3eaea531c90",
   "metadata": {},
   "source": [
    "É uma boa prática separar as variáveis numéricas das variáveis não numéricas, pois o modelo SVM pode não lida bem com variáveis não numéricas diretamente. Portanto, as variáveis não numéricas devem ser transformadas em variáveis numéricas usando técnicas como a codificação one-hot encoding ou a codificação de rótulos (label encoding) antes de serem incluídas no modelo.<br><br>"
   ]
  },
  {
   "cell_type": "markdown",
   "id": "87bd4a49-3da4-4541-b8b1-57c89cdfb489",
   "metadata": {},
   "source": [
    "Desta forma, para iniciar o processo, este código cria duas listas de variáveis independentes, uma lista chamada *cls_numeric* e outra chamada *cls_non_numeric*. A lista *cls_numeric* contém as colunas do dataframe *df_sample* que contêm variáveis numéricas que podem ser utilizadas como recursos no modelo SVM, enquanto a lista *cls_non_numeric* contém as colunas do dataframe *df_sample* que contêm variáveis não numéricas.<br><br>"
   ]
  },
  {
   "cell_type": "code",
   "execution_count": 11,
   "id": "ae0219a0-59b8-472c-9134-47beaf00bb51",
   "metadata": {},
   "outputs": [
    {
     "data": {
      "application/vnd.jupyter.widget-view+json": {
       "model_id": "b26ea100b15f43d4890780568678e0e7",
       "version_major": 2,
       "version_minor": 0
      },
      "text/plain": [
       "VBox()"
      ]
     },
     "metadata": {},
     "output_type": "display_data"
    },
    {
     "data": {
      "application/vnd.jupyter.widget-view+json": {
       "model_id": "",
       "version_major": 2,
       "version_minor": 0
      },
      "text/plain": [
       "FloatProgress(value=0.0, bar_style='info', description='Progress:', layout=Layout(height='25px', width='50%'),…"
      ]
     },
     "metadata": {},
     "output_type": "display_data"
    },
    {
     "name": "stdout",
     "output_type": "stream",
     "text": [
      "['FlightDate', 'Airline', 'Origin', 'Dest', 'Cancelled', 'Diverted', 'DepTime', 'Year', 'Month', 'DayofMonth', 'DayOfWeek', 'Marketing_Airline_Network', 'Operated_or_Branded_Code_Share_Partners', 'IATA_Code_Marketing_Airline', 'Operating_Airline', 'IATA_Code_Operating_Airline', 'Tail_Number', 'OriginCityName', 'OriginState', 'OriginStateName', 'DestCityName', 'DestState', 'DestStateName', 'DepDel15', 'DepTimeBlk', 'ArrDelay']"
     ]
    }
   ],
   "source": [
    "cls_numeric = [\"CRSDepTime\", \"DepDelayMinutes\", \"DepDelay\", \"ArrTime\", \"ArrDelayMinutes\", \"AirTime\", \"CRSElapsedTime\",               \n",
    "               \"ActualElapsedTime\", \"Distance\", \"Quarter\", \"DOT_ID_Marketing_Airline\", \"Flight_Number_Marketing_Airline\",\"OriginAirportID\", \n",
    "               \"OriginAirportSeqID\", \"DestAirportID\", \"DestAirportSeqID\", \"DepartureDelayGroups\", \"WheelsOff\",  \"WheelsOn\", \"ArrDel15\", \"ArrTimeBlk\"]\n",
    "\n",
    "cls_non_numeric = [i for i in df_flights_clean.columns if i not in cls_numeric]\n",
    "cls_non_numeric"
   ]
  },
  {
   "cell_type": "markdown",
   "id": "df52c216-87f8-409b-8f83-00ab0424fe73",
   "metadata": {},
   "source": [
    "<br>\n",
    "<br>"
   ]
  },
  {
   "cell_type": "markdown",
   "id": "55d4c057-e92d-4e41-b06f-6b01eb166fdc",
   "metadata": {},
   "source": [
    "A primeira parte do código define as colunas que não são features (*cls_not_features*), ou seja, as colunas que não serão utilizadas como input para o modelo (nomeadamente o target e possíveis preditores multicolineares). Depois, são definidas as colunas categóricas e não categóricas. \n",
    "\n",
    "O próximo passo é codificar as colunas categóricas em índices numéricos, que podem ser usados como input para o modelo. Para isso, é usado um objeto designado StringIndexer. Em seguida, é criado um objeto OneHotEncoder que transforma os índices numéricos em vetores binários, que são mais adequados para o modelo.\n",
    "\n",
    "Por fim, é usado um objeto VectorAssembler para juntar todas as colunas num único vetor, que será o input do modelo de classificação. As colunas de entrada são especificadas como *assembler_inputs*, que contém os nomes das colunas categóricas e não categóricas codificadas e os seus índices numéricos correspondentes. O vetor resultante é atribuído à coluna *features*."
   ]
  },
  {
   "cell_type": "markdown",
   "id": "d27bc3fc-8a2f-4aa1-8324-30202da0f574",
   "metadata": {},
   "source": [
    "<br>\n",
    "<br>"
   ]
  },
  {
   "cell_type": "code",
   "execution_count": 12,
   "id": "9fe07646-0400-4ed6-9e0c-3d44f0ef3159",
   "metadata": {},
   "outputs": [
    {
     "data": {
      "application/vnd.jupyter.widget-view+json": {
       "model_id": "6c1b861a7bc9409dade14a430a98617f",
       "version_major": 2,
       "version_minor": 0
      },
      "text/plain": [
       "VBox()"
      ]
     },
     "metadata": {},
     "output_type": "display_data"
    },
    {
     "data": {
      "application/vnd.jupyter.widget-view+json": {
       "model_id": "",
       "version_major": 2,
       "version_minor": 0
      },
      "text/plain": [
       "FloatProgress(value=0.0, bar_style='info', description='Progress:', layout=Layout(height='25px', width='50%'),…"
      ]
     },
     "metadata": {},
     "output_type": "display_data"
    },
    {
     "name": "stdout",
     "output_type": "stream",
     "text": [
      "['Airline OHE', 'Origin OHE', 'Dest OHE', 'DepTime OHE', 'Year OHE', 'Month OHE', 'DayofMonth OHE', 'DayOfWeek OHE', 'Marketing_Airline_Network OHE', 'Operated_or_Branded_Code_Share_Partners OHE', 'IATA_Code_Marketing_Airline OHE', 'Operating_Airline OHE', 'IATA_Code_Operating_Airline OHE', 'Tail_Number OHE', 'OriginCityName OHE', 'OriginState OHE', 'OriginStateName OHE', 'DestCityName OHE', 'DestState OHE', 'DestStateName OHE', 'DepDel15 OHE', 'DepTimeBlk OHE', 'CRSDepTime', 'DepDelayMinutes', 'DepDelay', 'ArrTime', 'ArrDelayMinutes', 'AirTime', 'CRSElapsedTime', 'ActualElapsedTime', 'Distance', 'Quarter', 'DOT_ID_Marketing_Airline', 'Flight_Number_Marketing_Airline', 'OriginAirportID', 'OriginAirportSeqID', 'DestAirportID', 'DestAirportSeqID', 'DepartureDelayGroups', 'WheelsOff', 'WheelsOn']"
     ]
    }
   ],
   "source": [
    "# Encoding columns and vector assembling them\n",
    "# See Chapter 10 of the book \"Learning Spark - Lightning-Fast Data Analytics\"\n",
    "\n",
    "cls_not_features = ['FlightDate', 'ArrDelay', 'ArrDel15', 'ArrTimeBlk', \"Cancelled\", \"Diverted\"] \n",
    "categorical_cols = [i for i in cls_non_numeric if i not in cls_not_features]\n",
    "non_categorical_cols = [i for i in cls_numeric if i not in cls_not_features]\n",
    "\n",
    "index_output_cols = [x + ' Index' for x in categorical_cols]\n",
    "ohe_output_cols = [x + ' OHE' for x in categorical_cols]\n",
    "\n",
    "string_indexer = StringIndexer(inputCols=categorical_cols, outputCols=index_output_cols, handleInvalid=\"skip\")\n",
    "\n",
    "ohe_encoder = OneHotEncoder(inputCols=index_output_cols, outputCols=ohe_output_cols)\n",
    "   \n",
    "# Put all input features into a single vector, by using a transformer\n",
    "\n",
    "assembler_inputs = ohe_output_cols + non_categorical_cols\n",
    "vec_assembler = VectorAssembler(inputCols=assembler_inputs, outputCol=\"features\")\n",
    "assembler_inputs"
   ]
  },
  {
   "cell_type": "code",
   "execution_count": 13,
   "id": "fdfaba68-7a69-42e0-8591-2ab42266f3ea",
   "metadata": {},
   "outputs": [
    {
     "data": {
      "application/vnd.jupyter.widget-view+json": {
       "model_id": "8876d2ec688744dfa4b2099371fe1cd8",
       "version_major": 2,
       "version_minor": 0
      },
      "text/plain": [
       "VBox()"
      ]
     },
     "metadata": {},
     "output_type": "display_data"
    },
    {
     "data": {
      "application/vnd.jupyter.widget-view+json": {
       "model_id": "",
       "version_major": 2,
       "version_minor": 0
      },
      "text/plain": [
       "FloatProgress(value=0.0, bar_style='info', description='Progress:', layout=Layout(height='25px', width='50%'),…"
      ]
     },
     "metadata": {},
     "output_type": "display_data"
    },
    {
     "name": "stdout",
     "output_type": "stream",
     "text": [
      "['Airline', 'Origin', 'Dest', 'DepTime', 'Year', 'Month', 'DayofMonth', 'DayOfWeek', 'Marketing_Airline_Network', 'Operated_or_Branded_Code_Share_Partners', 'IATA_Code_Marketing_Airline', 'Operating_Airline', 'IATA_Code_Operating_Airline', 'Tail_Number', 'OriginCityName', 'OriginState', 'OriginStateName', 'DestCityName', 'DestState', 'DestStateName', 'DepDel15', 'DepTimeBlk']"
     ]
    }
   ],
   "source": [
    "categorical_cols"
   ]
  },
  {
   "cell_type": "code",
   "execution_count": 14,
   "id": "9cf18a2d-73f8-4da1-8f52-82dfabc03c02",
   "metadata": {},
   "outputs": [
    {
     "data": {
      "application/vnd.jupyter.widget-view+json": {
       "model_id": "4336b14aecaa4eb5a8395de6be7849b4",
       "version_major": 2,
       "version_minor": 0
      },
      "text/plain": [
       "VBox()"
      ]
     },
     "metadata": {},
     "output_type": "display_data"
    },
    {
     "data": {
      "application/vnd.jupyter.widget-view+json": {
       "model_id": "",
       "version_major": 2,
       "version_minor": 0
      },
      "text/plain": [
       "FloatProgress(value=0.0, bar_style='info', description='Progress:', layout=Layout(height='25px', width='50%'),…"
      ]
     },
     "metadata": {},
     "output_type": "display_data"
    },
    {
     "name": "stdout",
     "output_type": "stream",
     "text": [
      "['CRSDepTime', 'DepDelayMinutes', 'DepDelay', 'ArrTime', 'ArrDelayMinutes', 'AirTime', 'CRSElapsedTime', 'ActualElapsedTime', 'Distance', 'Quarter', 'DOT_ID_Marketing_Airline', 'Flight_Number_Marketing_Airline', 'OriginAirportID', 'OriginAirportSeqID', 'DestAirportID', 'DestAirportSeqID', 'DepartureDelayGroups', 'WheelsOff', 'WheelsOn']"
     ]
    }
   ],
   "source": [
    "non_categorical_cols"
   ]
  },
  {
   "cell_type": "markdown",
   "id": "262f77ea-c7bd-40bb-a4d0-237fb6021037",
   "metadata": {},
   "source": [
    "<br>\n",
    "<br>"
   ]
  },
  {
   "cell_type": "markdown",
   "id": "336b6a07-03b7-40eb-bc95-710eeabda15c",
   "metadata": {},
   "source": [
    "Este código divide o data set *df_sample* aleatoriamente em dois subconjuntos: um conjunto de treino (*df_train*) e um conjunto de teste (*df_test*).<br>\n",
    "Usando uma seed de 42, para garantir que subamostra seja sempre a mesma, atribui-se 80% ao conjunto de treino e 20% ao conjunto de teste."
   ]
  },
  {
   "cell_type": "code",
   "execution_count": 15,
   "id": "24e9dd54-476a-4487-a5b2-6e7a22cd5e72",
   "metadata": {},
   "outputs": [
    {
     "data": {
      "application/vnd.jupyter.widget-view+json": {
       "model_id": "5629d4081dac4bbaae0583d8aa28cdf6",
       "version_major": 2,
       "version_minor": 0
      },
      "text/plain": [
       "VBox()"
      ]
     },
     "metadata": {},
     "output_type": "display_data"
    },
    {
     "data": {
      "application/vnd.jupyter.widget-view+json": {
       "model_id": "",
       "version_major": 2,
       "version_minor": 0
      },
      "text/plain": [
       "FloatProgress(value=0.0, bar_style='info', description='Progress:', layout=Layout(height='25px', width='50%'),…"
      ]
     },
     "metadata": {},
     "output_type": "display_data"
    }
   ],
   "source": [
    "df_train, df_test = df_flights_clean.randomSplit([0.8, 0.2], 42) "
   ]
  },
  {
   "cell_type": "markdown",
   "id": "c444f107-5447-4ba2-8bef-e62766d4fb13",
   "metadata": {},
   "source": [
    "<br>"
   ]
  },
  {
   "cell_type": "markdown",
   "id": "57b903e9-8330-4428-addb-2aa9d4c84856",
   "metadata": {},
   "source": [
    "Em seguida apresenta-se a contabilização do número de elementos no conjunto de treino e no conjunto de teste."
   ]
  },
  {
   "cell_type": "code",
   "execution_count": 16,
   "id": "a72cdb51-5556-4f5b-8bff-977fb66cdf18",
   "metadata": {},
   "outputs": [
    {
     "data": {
      "application/vnd.jupyter.widget-view+json": {
       "model_id": "641e0a9eb090496dae150a07a3481702",
       "version_major": 2,
       "version_minor": 0
      },
      "text/plain": [
       "VBox()"
      ]
     },
     "metadata": {},
     "output_type": "display_data"
    },
    {
     "data": {
      "application/vnd.jupyter.widget-view+json": {
       "model_id": "",
       "version_major": 2,
       "version_minor": 0
      },
      "text/plain": [
       "FloatProgress(value=0.0, bar_style='info', description='Progress:', layout=Layout(height='25px', width='50%'),…"
      ]
     },
     "metadata": {},
     "output_type": "display_data"
    },
    {
     "name": "stdout",
     "output_type": "stream",
     "text": [
      "There are 22671355 rows in the training set and 5668003 in the test set."
     ]
    }
   ],
   "source": [
    "print(f\"There are {df_train.count()} rows in the training set and {df_test.count()} in the test set.\")"
   ]
  },
  {
   "cell_type": "markdown",
   "id": "5039b8c8-6233-47aa-935d-2d9ff0752aeb",
   "metadata": {},
   "source": [
    "Tal como definido anteriormente, o modelo será treinado com a coluna *ArrDel15* como target e usará o algoritmo de otimização de gradiente descendente para minimizar a função de perda durante o treino.<br>"
   ]
  },
  {
   "cell_type": "markdown",
   "id": "373829e0-d70e-405a-a520-126da515c1ab",
   "metadata": {},
   "source": [
    "<br>"
   ]
  },
  {
   "cell_type": "markdown",
   "id": "cae50a49-9d7c-4d8d-a400-9788675cc51f",
   "metadata": {},
   "source": [
    "Os hiperparâmetros definidos são:\n",
    "\n",
    "- maxIter: número máximo de iterações permitidas pelo algoritmo de otimização de gradiente descendente (10);\n",
    "- regParam: parâmetro de regularização para evitar overfitting (ajuste excessivo) do modelo (0.1)."
   ]
  },
  {
   "cell_type": "code",
   "execution_count": 17,
   "id": "89ccf405-001b-4e15-b75b-deb9af37194d",
   "metadata": {},
   "outputs": [
    {
     "data": {
      "application/vnd.jupyter.widget-view+json": {
       "model_id": "1bb863f6fb934461ab9034779a7999fd",
       "version_major": 2,
       "version_minor": 0
      },
      "text/plain": [
       "VBox()"
      ]
     },
     "metadata": {},
     "output_type": "display_data"
    },
    {
     "data": {
      "application/vnd.jupyter.widget-view+json": {
       "model_id": "",
       "version_major": 2,
       "version_minor": 0
      },
      "text/plain": [
       "FloatProgress(value=0.0, bar_style='info', description='Progress:', layout=Layout(height='25px', width='50%'),…"
      ]
     },
     "metadata": {},
     "output_type": "display_data"
    }
   ],
   "source": [
    "lsvc = LinearSVC(maxIter=10, regParam=0.1, labelCol='ArrDel15')"
   ]
  },
  {
   "cell_type": "markdown",
   "id": "5ef59975-41c8-4dcc-a62d-053d4e595e8a",
   "metadata": {},
   "source": [
    "Seguidamente, criou-se um Pipeline que encapsula todo o processo de transformação e treino do modelo de classificação. O pipeline consiste em uma sequência de estados (stages), que devem ser executados em ordem."
   ]
  },
  {
   "cell_type": "markdown",
   "id": "bff0f9cf-1936-42c3-b615-1ec15cd86225",
   "metadata": {},
   "source": [
    "Neste caso, a lista de estados é definida como [string_indexer, ohe_encoder, vec_assembler, lsvc].\n",
    "\n",
    "- **string_indexer**: um transformador que mapeia colunas categóricas em índices numéricos.\n",
    "- **ohe_encoder**: um transformador que transforma os índices numéricos em vetores binários (one-hot-encoding).\n",
    "- **vec_assembler**: um transformador que une todos os vetores de entrada em um único vetor.\n",
    "- **lsvc**: um estimador de classificação, que neste caso é um LinearSVC."
   ]
  },
  {
   "cell_type": "code",
   "execution_count": 18,
   "id": "f014a80c-67f3-47f6-8b67-097104fa67c2",
   "metadata": {},
   "outputs": [
    {
     "data": {
      "application/vnd.jupyter.widget-view+json": {
       "model_id": "e3fec909e6a7423bbf3fdebe3e5a80ee",
       "version_major": 2,
       "version_minor": 0
      },
      "text/plain": [
       "VBox()"
      ]
     },
     "metadata": {},
     "output_type": "display_data"
    },
    {
     "data": {
      "application/vnd.jupyter.widget-view+json": {
       "model_id": "",
       "version_major": 2,
       "version_minor": 0
      },
      "text/plain": [
       "FloatProgress(value=0.0, bar_style='info', description='Progress:', layout=Layout(height='25px', width='50%'),…"
      ]
     },
     "metadata": {},
     "output_type": "display_data"
    }
   ],
   "source": [
    "pipeline = Pipeline(stages=[string_indexer, ohe_encoder, vec_assembler, lsvc])"
   ]
  },
  {
   "cell_type": "markdown",
   "id": "2ec03f72-9d8b-4e71-94ce-875b966d55d3",
   "metadata": {},
   "source": [
    "Assim, criou-se um modelo de pipeline utilizando os dados de treino *df_train*."
   ]
  },
  {
   "cell_type": "code",
   "execution_count": 19,
   "id": "5589872e-361a-4c7d-a768-4bcef61d1429",
   "metadata": {},
   "outputs": [
    {
     "data": {
      "application/vnd.jupyter.widget-view+json": {
       "model_id": "058c7441b1a143559bf53497df4faec4",
       "version_major": 2,
       "version_minor": 0
      },
      "text/plain": [
       "VBox()"
      ]
     },
     "metadata": {},
     "output_type": "display_data"
    },
    {
     "data": {
      "application/vnd.jupyter.widget-view+json": {
       "model_id": "",
       "version_major": 2,
       "version_minor": 0
      },
      "text/plain": [
       "FloatProgress(value=0.0, bar_style='info', description='Progress:', layout=Layout(height='25px', width='50%'),…"
      ]
     },
     "metadata": {},
     "output_type": "display_data"
    },
    {
     "name": "stdout",
     "output_type": "stream",
     "text": [
      "Tempo total de execução (s): 2517.111598968506 segundos\n",
      "Tempo total de execução (min): 41.95185998280843 minutos"
     ]
    }
   ],
   "source": [
    "start_time = time.time()\n",
    "pipeline_model = pipeline.fit(df_train)\n",
    "end_time = time.time()\n",
    "elapsed_time = end_time - start_time\n",
    "elapsed_time_min = elapsed_time/60\n",
    "print(\"Tempo total de execução (s):\", elapsed_time, \"segundos\")\n",
    "print(\"Tempo total de execução (min):\", elapsed_time_min, \"minutos\")"
   ]
  },
  {
   "cell_type": "markdown",
   "id": "1d610539-f164-452b-8f8f-e34537f293c3",
   "metadata": {},
   "source": [
    "<br>"
   ]
  },
  {
   "cell_type": "markdown",
   "id": "ccf106b2-3e1c-48dc-96f5-2823b492b561",
   "metadata": {},
   "source": [
    "De seguida, aplica-se o modelo treinado (pipeline_model) ao conjunto de dados de teste (*df_test*), usando o método transform() do PipelineModel. O resultado é armazenado em um novo DataFrame chamado *df_prediction*, imprimindo-se a estrutura (schema) do DataFrame resultante."
   ]
  },
  {
   "cell_type": "markdown",
   "id": "29a029a1-2ad3-4967-8378-d9f0788a3823",
   "metadata": {},
   "source": [
    "<br>"
   ]
  },
  {
   "cell_type": "code",
   "execution_count": 20,
   "id": "a8e34168-89b8-4525-b6d9-3000fba75cf8",
   "metadata": {},
   "outputs": [
    {
     "data": {
      "application/vnd.jupyter.widget-view+json": {
       "model_id": "7ced7fd696794b93bec86d0399329078",
       "version_major": 2,
       "version_minor": 0
      },
      "text/plain": [
       "VBox()"
      ]
     },
     "metadata": {},
     "output_type": "display_data"
    },
    {
     "data": {
      "application/vnd.jupyter.widget-view+json": {
       "model_id": "",
       "version_major": 2,
       "version_minor": 0
      },
      "text/plain": [
       "FloatProgress(value=0.0, bar_style='info', description='Progress:', layout=Layout(height='25px', width='50%'),…"
      ]
     },
     "metadata": {},
     "output_type": "display_data"
    },
    {
     "name": "stdout",
     "output_type": "stream",
     "text": [
      "root\n",
      " |-- FlightDate: timestamp (nullable = true)\n",
      " |-- Airline: string (nullable = true)\n",
      " |-- Origin: string (nullable = true)\n",
      " |-- Dest: string (nullable = true)\n",
      " |-- Cancelled: boolean (nullable = true)\n",
      " |-- Diverted: boolean (nullable = true)\n",
      " |-- CRSDepTime: integer (nullable = true)\n",
      " |-- DepTime: double (nullable = true)\n",
      " |-- DepDelayMinutes: double (nullable = true)\n",
      " |-- DepDelay: double (nullable = true)\n",
      " |-- ArrTime: double (nullable = true)\n",
      " |-- ArrDelayMinutes: double (nullable = true)\n",
      " |-- AirTime: double (nullable = true)\n",
      " |-- CRSElapsedTime: double (nullable = true)\n",
      " |-- ActualElapsedTime: double (nullable = true)\n",
      " |-- Distance: double (nullable = true)\n",
      " |-- Year: integer (nullable = true)\n",
      " |-- Quarter: integer (nullable = true)\n",
      " |-- Month: integer (nullable = true)\n",
      " |-- DayofMonth: integer (nullable = true)\n",
      " |-- DayOfWeek: integer (nullable = true)\n",
      " |-- Marketing_Airline_Network: string (nullable = true)\n",
      " |-- Operated_or_Branded_Code_Share_Partners: string (nullable = true)\n",
      " |-- DOT_ID_Marketing_Airline: integer (nullable = true)\n",
      " |-- IATA_Code_Marketing_Airline: string (nullable = true)\n",
      " |-- Flight_Number_Marketing_Airline: integer (nullable = true)\n",
      " |-- Operating_Airline: string (nullable = true)\n",
      " |-- IATA_Code_Operating_Airline: string (nullable = true)\n",
      " |-- Tail_Number: string (nullable = true)\n",
      " |-- OriginAirportID: integer (nullable = true)\n",
      " |-- OriginAirportSeqID: integer (nullable = true)\n",
      " |-- OriginCityName: string (nullable = true)\n",
      " |-- OriginState: string (nullable = true)\n",
      " |-- OriginStateName: string (nullable = true)\n",
      " |-- DestAirportID: integer (nullable = true)\n",
      " |-- DestAirportSeqID: integer (nullable = true)\n",
      " |-- DestCityName: string (nullable = true)\n",
      " |-- DestState: string (nullable = true)\n",
      " |-- DestStateName: string (nullable = true)\n",
      " |-- DepDel15: double (nullable = true)\n",
      " |-- DepartureDelayGroups: double (nullable = true)\n",
      " |-- DepTimeBlk: string (nullable = true)\n",
      " |-- WheelsOff: double (nullable = true)\n",
      " |-- WheelsOn: double (nullable = true)\n",
      " |-- ArrDelay: double (nullable = true)\n",
      " |-- ArrDel15: double (nullable = true)\n",
      " |-- ArrTimeBlk: string (nullable = true)\n",
      " |-- Origin Index: double (nullable = false)\n",
      " |-- DestStateName Index: double (nullable = false)\n",
      " |-- Operated_or_Branded_Code_Share_Partners Index: double (nullable = false)\n",
      " |-- IATA_Code_Marketing_Airline Index: double (nullable = false)\n",
      " |-- OriginState Index: double (nullable = false)\n",
      " |-- Operating_Airline Index: double (nullable = false)\n",
      " |-- DestState Index: double (nullable = false)\n",
      " |-- Month Index: double (nullable = false)\n",
      " |-- DayofMonth Index: double (nullable = false)\n",
      " |-- DayOfWeek Index: double (nullable = false)\n",
      " |-- OriginCityName Index: double (nullable = false)\n",
      " |-- Year Index: double (nullable = false)\n",
      " |-- IATA_Code_Operating_Airline Index: double (nullable = false)\n",
      " |-- Dest Index: double (nullable = false)\n",
      " |-- Marketing_Airline_Network Index: double (nullable = false)\n",
      " |-- Tail_Number Index: double (nullable = false)\n",
      " |-- DepTime Index: double (nullable = false)\n",
      " |-- DepDel15 Index: double (nullable = false)\n",
      " |-- OriginStateName Index: double (nullable = false)\n",
      " |-- Airline Index: double (nullable = false)\n",
      " |-- DestCityName Index: double (nullable = false)\n",
      " |-- DepTimeBlk Index: double (nullable = false)\n",
      " |-- DepTime OHE: vector (nullable = true)\n",
      " |-- DestCityName OHE: vector (nullable = true)\n",
      " |-- IATA_Code_Marketing_Airline OHE: vector (nullable = true)\n",
      " |-- Month OHE: vector (nullable = true)\n",
      " |-- DestStateName OHE: vector (nullable = true)\n",
      " |-- OriginStateName OHE: vector (nullable = true)\n",
      " |-- DepTimeBlk OHE: vector (nullable = true)\n",
      " |-- DepDel15 OHE: vector (nullable = true)\n",
      " |-- Marketing_Airline_Network OHE: vector (nullable = true)\n",
      " |-- DayofMonth OHE: vector (nullable = true)\n",
      " |-- Tail_Number OHE: vector (nullable = true)\n",
      " |-- Operating_Airline OHE: vector (nullable = true)\n",
      " |-- Year OHE: vector (nullable = true)\n",
      " |-- IATA_Code_Operating_Airline OHE: vector (nullable = true)\n",
      " |-- DestState OHE: vector (nullable = true)\n",
      " |-- OriginState OHE: vector (nullable = true)\n",
      " |-- Airline OHE: vector (nullable = true)\n",
      " |-- DayOfWeek OHE: vector (nullable = true)\n",
      " |-- Origin OHE: vector (nullable = true)\n",
      " |-- Dest OHE: vector (nullable = true)\n",
      " |-- OriginCityName OHE: vector (nullable = true)\n",
      " |-- Operated_or_Branded_Code_Share_Partners OHE: vector (nullable = true)\n",
      " |-- features: vector (nullable = true)\n",
      " |-- rawPrediction: vector (nullable = true)\n",
      " |-- prediction: double (nullable = false)"
     ]
    }
   ],
   "source": [
    "# Make predictions on test data and show values of columns of interest\n",
    "\n",
    "df_prediction = pipeline_model.transform(df_test)\n",
    "\n",
    "# Check its schema\n",
    "\n",
    "df_prediction.printSchema()"
   ]
  },
  {
   "cell_type": "markdown",
   "id": "ef8fa427-39c7-40f7-ad2d-8e98bce65a80",
   "metadata": {},
   "source": [
    "Este código mostra as colunas 'features', 'rawPrediction', 'prediction' e 'ArrDel15' do DataFrame df_prediction.\n",
    "\n",
    "- A coluna **features** representa as características do voo (horários de partida e chegada, duração, etc.) em formato vetor. Essas características foram criadas anteriormente através do processo de codificação e vetorização.\n",
    "\n",
    "- A coluna **rawPrediction** mostra a pontuação resultante da aplicação do modelo LinearSVC às características do voo. Essa pontuação não é a previsão final (0 ou 1), mas é uma medida da confiança do modelo na previsão.\n",
    "\n",
    "- A coluna **prediction** mostra a previsão final (0 ou 1) do modelo LinearSVC para a coluna 'ArrDel15' (o atraso na chegada é maior ou igual a 15 minutos).\n",
    "\n",
    "- A coluna **ArrDel15** é a variável alvo que indica se o voo teve um atraso na chegada maior ou igual a 15 minutos (1) ou não (0)."
   ]
  },
  {
   "cell_type": "code",
   "execution_count": 22,
   "id": "f01ad729-64aa-429c-975f-66a33adc1ff1",
   "metadata": {},
   "outputs": [
    {
     "data": {
      "application/vnd.jupyter.widget-view+json": {
       "model_id": "811d2feaa8e146c08014e6f309719c18",
       "version_major": 2,
       "version_minor": 0
      },
      "text/plain": [
       "VBox()"
      ]
     },
     "metadata": {},
     "output_type": "display_data"
    },
    {
     "data": {
      "application/vnd.jupyter.widget-view+json": {
       "model_id": "",
       "version_major": 2,
       "version_minor": 0
      },
      "text/plain": [
       "FloatProgress(value=0.0, bar_style='info', description='Progress:', layout=Layout(height='25px', width='50%'),…"
      ]
     },
     "metadata": {},
     "output_type": "display_data"
    },
    {
     "name": "stdout",
     "output_type": "stream",
     "text": [
      "+--------------------+--------------------+----------+--------+\n",
      "|            features|       rawPrediction|prediction|ArrDel15|\n",
      "+--------------------+--------------------+----------+--------+\n",
      "|(10432,[17,155,41...|[1.39313071054016...|       0.0|     0.0|\n",
      "|(10432,[17,137,43...|[1.41512528286250...|       0.0|     0.0|\n",
      "|(10432,[17,137,41...|[1.34348518553140...|       0.0|     0.0|\n",
      "|(10432,[17,156,41...|[-1.2376211872544...|       1.0|     1.0|\n",
      "|(10432,[17,235,41...|[-16.656822755775...|       1.0|     1.0|\n",
      "|(10432,[17,116,41...|[1.36104497631456...|       0.0|     0.0|\n",
      "|(10432,[17,171,41...|[1.41092836803438...|       0.0|     0.0|\n",
      "|(10432,[17,112,41...|[1.38363329294186...|       0.0|     0.0|\n",
      "|(10432,[17,50,460...|[1.37251042506783...|       0.0|     0.0|\n",
      "|(10432,[17,50,503...|[1.41651755657751...|       0.0|     0.0|\n",
      "|(10432,[17,50,503...|[1.38350924377027...|       0.0|     0.0|\n",
      "|(10432,[17,50,522...|[1.35101385206167...|       0.0|     0.0|\n",
      "|(10432,[17,50,480...|[-5.3688439742948...|       1.0|     1.0|\n",
      "|(10432,[17,50,486...|[1.09235815107987...|       0.0|     0.0|\n",
      "|(10432,[17,68,415...|[1.41053421316191...|       0.0|     0.0|\n",
      "|(10432,[17,217,41...|[1.22899659943448...|       0.0|     0.0|\n",
      "|(10432,[17,28,542...|[1.39585902928765...|       0.0|     0.0|\n",
      "|(10432,[17,28,632...|[-4.0641038365555...|       1.0|     1.0|\n",
      "|(10432,[17,28,520...|[-2.9185755894972...|       1.0|     1.0|\n",
      "|(10432,[17,28,455...|[-0.0394991381575...|       1.0|     0.0|\n",
      "+--------------------+--------------------+----------+--------+\n",
      "only showing top 20 rows"
     ]
    }
   ],
   "source": [
    "# Columns to be focus on\n",
    "\n",
    "df_prediction.select('features', 'rawPrediction', 'prediction', 'ArrDel15').show() "
   ]
  },
  {
   "cell_type": "markdown",
   "id": "25c3a98c-9d74-45fb-bdac-e58f78f5260c",
   "metadata": {},
   "source": [
    "### Avaliação dos resultados"
   ]
  },
  {
   "cell_type": "markdown",
   "id": "129dfc99-091f-473f-ab59-11468490d399",
   "metadata": {},
   "source": [
    "Em primeiro lugar, procedeu-se ao cálculo da métrica de avaliação binária \"areaUnderROC\" (Área sob a curva ROC), que é uma medida da qualidade do modelo para classificar corretamente exemplos positivos e negativos. Para isso, são usados os dados de teste que foram processados pelo pipeline de treinamento e ajustados pelo modelo treinado."
   ]
  },
  {
   "cell_type": "code",
   "execution_count": 23,
   "id": "11e75e07-1f71-4600-a936-4f14341a1052",
   "metadata": {},
   "outputs": [
    {
     "data": {
      "application/vnd.jupyter.widget-view+json": {
       "model_id": "2960a2098795407dba590ed452ebcfbc",
       "version_major": 2,
       "version_minor": 0
      },
      "text/plain": [
       "VBox()"
      ]
     },
     "metadata": {},
     "output_type": "display_data"
    },
    {
     "data": {
      "application/vnd.jupyter.widget-view+json": {
       "model_id": "",
       "version_major": 2,
       "version_minor": 0
      },
      "text/plain": [
       "FloatProgress(value=0.0, bar_style='info', description='Progress:', layout=Layout(height='25px', width='50%'),…"
      ]
     },
     "metadata": {},
     "output_type": "display_data"
    },
    {
     "name": "stdout",
     "output_type": "stream",
     "text": [
      "areaUnderROC = 0.9657404665493518"
     ]
    }
   ],
   "source": [
    "# Compute evaluation metrics on test data\n",
    "\n",
    "prediction_label = df_prediction.select('rawPrediction', 'prediction', 'ArrDel15')  \n",
    "\n",
    "# supports metricName=\"areaUnderROC\" (default) and \"areaUnderPR\"\n",
    "# it relates to sensitivity (TP rate) and specificity (FP rate)\n",
    "\n",
    "evaluator = BinaryClassificationEvaluator(labelCol='ArrDel15')\n",
    "\n",
    "print(\"areaUnderROC = \" + str(evaluator.evaluate(prediction_label)))\n",
    "# print(\"areaUnderPR = \" + str(evaluator.evaluate(prediction_label, {evaluator.metricName: 'areaUnderPR'})))"
   ]
  },
  {
   "cell_type": "markdown",
   "id": "0bf2fb55-3ce8-4c5f-90c9-cd0dd72782df",
   "metadata": {},
   "source": [
    "No contexto deste modelo, uma área sob a curva ROC de 0.9778 indica que o modelo é capaz de distinguir entre voos que chegam com atraso de pelo menos 15 minutos e voos que chegam na hora ou com um atraso menor com uma precisão muito alta."
   ]
  },
  {
   "cell_type": "markdown",
   "id": "703abae3-c033-4393-8082-4ed34cbf0d9a",
   "metadata": {},
   "source": [
    "<br>"
   ]
  },
  {
   "cell_type": "markdown",
   "id": "69ed2b4e-fd4f-41fe-b460-5d3e5a21aafc",
   "metadata": {},
   "source": [
    "Em seguida, para o cálculo de diversas métricas de classificação, procedeu-se ao cálculo da contagem de cada caso do resultado da previsão feita pelo modelo SVM no conjunto de teste. "
   ]
  },
  {
   "cell_type": "code",
   "execution_count": 24,
   "id": "5dc156a8-be0c-46b0-9ebb-c8fb349add74",
   "metadata": {},
   "outputs": [
    {
     "data": {
      "application/vnd.jupyter.widget-view+json": {
       "model_id": "55cf2123a36b4665b45b6c306cdb49ad",
       "version_major": 2,
       "version_minor": 0
      },
      "text/plain": [
       "VBox()"
      ]
     },
     "metadata": {},
     "output_type": "display_data"
    },
    {
     "data": {
      "application/vnd.jupyter.widget-view+json": {
       "model_id": "",
       "version_major": 2,
       "version_minor": 0
      },
      "text/plain": [
       "FloatProgress(value=0.0, bar_style='info', description='Progress:', layout=Layout(height='25px', width='50%'),…"
      ]
     },
     "metadata": {},
     "output_type": "display_data"
    },
    {
     "name": "stdout",
     "output_type": "stream",
     "text": [
      "[640001, 4649534, 16635, 361832, 5668002]"
     ]
    }
   ],
   "source": [
    "# Counting rows for each case TP, TN, FP and FN respectively\n",
    "\n",
    "n = df_prediction.count()\n",
    "tp = df_prediction.filter((F.col('prediction') > 0) & (F.col('ArrDel15') == 1)).count()\n",
    "tn = df_prediction.filter((F.col('prediction') == 0) & (F.col('ArrDel15') == 0)).count()\n",
    "fp = df_prediction.filter((F.col('prediction') > 0) & (F.col('ArrDel15') == 0)).count()\n",
    "fn = n - tp - tn - fp\n",
    "[tp, tn, fp, fn, n]"
   ]
  },
  {
   "cell_type": "code",
   "execution_count": 25,
   "id": "e7305ea0-a6ba-40fe-b4c4-8ce16011b192",
   "metadata": {},
   "outputs": [
    {
     "data": {
      "application/vnd.jupyter.widget-view+json": {
       "model_id": "a7f9c36f5b0548f6acccef2b6ac30ce0",
       "version_major": 2,
       "version_minor": 0
      },
      "text/plain": [
       "VBox()"
      ]
     },
     "metadata": {},
     "output_type": "display_data"
    },
    {
     "data": {
      "application/vnd.jupyter.widget-view+json": {
       "model_id": "",
       "version_major": 2,
       "version_minor": 0
      },
      "text/plain": [
       "FloatProgress(value=0.0, bar_style='info', description='Progress:', layout=Layout(height='25px', width='50%'),…"
      ]
     },
     "metadata": {},
     "output_type": "display_data"
    },
    {
     "name": "stdout",
     "output_type": "stream",
     "text": [
      "0.9332274406395763"
     ]
    }
   ],
   "source": [
    "accuracy = (tp + tn) / (tp + tn + fp + fn)\n",
    "accuracy"
   ]
  },
  {
   "cell_type": "markdown",
   "id": "868caed3-3217-447a-81c1-fbfe70706368",
   "metadata": {},
   "source": [
    "No contexto deste modelo, uma accuracy de 0.933 significa que o modelo acertou 93.3% das vezes na sua previsão de atrasos de voo de pelo menos 15 minutos."
   ]
  },
  {
   "cell_type": "code",
   "execution_count": 27,
   "id": "2ec7fe3c-457a-431c-99ea-8fa720d845f9",
   "metadata": {},
   "outputs": [
    {
     "data": {
      "application/vnd.jupyter.widget-view+json": {
       "model_id": "c94b4a880cee4d81b6cee28375cd2a87",
       "version_major": 2,
       "version_minor": 0
      },
      "text/plain": [
       "VBox()"
      ]
     },
     "metadata": {},
     "output_type": "display_data"
    },
    {
     "data": {
      "application/vnd.jupyter.widget-view+json": {
       "model_id": "",
       "version_major": 2,
       "version_minor": 0
      },
      "text/plain": [
       "FloatProgress(value=0.0, bar_style='info', description='Progress:', layout=Layout(height='25px', width='50%'),…"
      ]
     },
     "metadata": {},
     "output_type": "display_data"
    },
    {
     "name": "stdout",
     "output_type": "stream",
     "text": [
      "0.9746663295950877"
     ]
    }
   ],
   "source": [
    "precision = tp / (tp + fp)\n",
    "precision"
   ]
  },
  {
   "cell_type": "markdown",
   "id": "ee691eb0-03a0-4d26-9531-dbd62c8dae30",
   "metadata": {},
   "source": [
    "A precision de 0.975 significa que, das vezes em que o modelo previu que um voo seria atrasado em pelo menos 15 minutos (ou seja, classificou como positivo), em média, 97.5% desses voos realmente foram atrasados."
   ]
  },
  {
   "cell_type": "code",
   "execution_count": 28,
   "id": "645a87f7-d444-4264-8da1-8d67d471d5c9",
   "metadata": {},
   "outputs": [
    {
     "data": {
      "application/vnd.jupyter.widget-view+json": {
       "model_id": "415b7595e12c47ea94e9771d0f685135",
       "version_major": 2,
       "version_minor": 0
      },
      "text/plain": [
       "VBox()"
      ]
     },
     "metadata": {},
     "output_type": "display_data"
    },
    {
     "data": {
      "application/vnd.jupyter.widget-view+json": {
       "model_id": "",
       "version_major": 2,
       "version_minor": 0
      },
      "text/plain": [
       "FloatProgress(value=0.0, bar_style='info', description='Progress:', layout=Layout(height='25px', width='50%'),…"
      ]
     },
     "metadata": {},
     "output_type": "display_data"
    },
    {
     "name": "stdout",
     "output_type": "stream",
     "text": [
      "0.6388300245649724"
     ]
    }
   ],
   "source": [
    "recall = tp / (tp + fn)\n",
    "recall"
   ]
  },
  {
   "cell_type": "markdown",
   "id": "ae0b915a-db0d-4a23-9e15-6060f9da031a",
   "metadata": {},
   "source": [
    "Um recall de 0.639 significa que o modelo foi capaz de identificar corretamente 63.9% de todos os voos que realmente atrasaram pelo menos 15 minutos (classe positiva)."
   ]
  },
  {
   "cell_type": "code",
   "execution_count": 29,
   "id": "96615954-b9d4-4f91-9c8c-c474a9307212",
   "metadata": {},
   "outputs": [
    {
     "data": {
      "application/vnd.jupyter.widget-view+json": {
       "model_id": "72a1bcd62f6145118e0934e1a4a1a902",
       "version_major": 2,
       "version_minor": 0
      },
      "text/plain": [
       "VBox()"
      ]
     },
     "metadata": {},
     "output_type": "display_data"
    },
    {
     "data": {
      "application/vnd.jupyter.widget-view+json": {
       "model_id": "",
       "version_major": 2,
       "version_minor": 0
      },
      "text/plain": [
       "FloatProgress(value=0.0, bar_style='info', description='Progress:', layout=Layout(height='25px', width='50%'),…"
      ]
     },
     "metadata": {},
     "output_type": "display_data"
    },
    {
     "name": "stdout",
     "output_type": "stream",
     "text": [
      "0.9964349769586143"
     ]
    }
   ],
   "source": [
    "specificity = tn / (tn + fp)\n",
    "specificity"
   ]
  },
  {
   "cell_type": "markdown",
   "id": "3232fd15-7b37-469f-b55b-dc04db957836",
   "metadata": {},
   "source": [
    "No contexto do modelo, uma specificity de 0.996 significa que 99.6% dos voos que não tiveram atrasos superiores a 15 minutos foram corretamente identificados como não tendo atrasos significativos pelo modelo."
   ]
  },
  {
   "cell_type": "code",
   "execution_count": 30,
   "id": "485ba671-3cb8-41ea-848e-b06fac6b8818",
   "metadata": {},
   "outputs": [
    {
     "data": {
      "application/vnd.jupyter.widget-view+json": {
       "model_id": "c00eb45167aa421a80ecd9bdea3eb5c9",
       "version_major": 2,
       "version_minor": 0
      },
      "text/plain": [
       "VBox()"
      ]
     },
     "metadata": {},
     "output_type": "display_data"
    },
    {
     "data": {
      "application/vnd.jupyter.widget-view+json": {
       "model_id": "",
       "version_major": 2,
       "version_minor": 0
      },
      "text/plain": [
       "FloatProgress(value=0.0, bar_style='info', description='Progress:', layout=Layout(height='25px', width='50%'),…"
      ]
     },
     "metadata": {},
     "output_type": "display_data"
    },
    {
     "name": "stdout",
     "output_type": "stream",
     "text": [
      "0.7717973625072281"
     ]
    }
   ],
   "source": [
    "f1_score = 2 * recall * precision / (recall + precision)\n",
    "f1_score"
   ]
  },
  {
   "cell_type": "markdown",
   "id": "472b1d1d-afc4-46cd-b60e-ff20e4cda1d9",
   "metadata": {},
   "source": [
    "No que diz respeito ao F1-score, que é de 0.771, significa que o modelo é razoavelmente preciso na detecção de voos atrasados pelo menos 15 minutos (classe positiva) e não atrasados (classe negativa). "
   ]
  },
  {
   "cell_type": "markdown",
   "id": "6db38cde-0e90-4a9d-9ec9-a8223f400af9",
   "metadata": {},
   "source": [
    "# Aprendizagem não supervisionada "
   ]
  },
  {
   "cell_type": "markdown",
   "id": "4d4c2b23-c09a-46d7-9461-2791a844b4a5",
   "metadata": {},
   "source": [
    "## KMeans"
   ]
  },
  {
   "cell_type": "markdown",
   "id": "d4a7f5a5-a10a-4e1c-980a-b75af380db5a",
   "metadata": {},
   "source": [
    "No contexto de dados de atrasos em voos, o modelo KMeans, um dos algoritmos mais populares de aprendizagem não supervisionada, pode ser usado como uma ferramenta de aprendizagem não supervisionada para descobrir padrões e agrupamentos entre os voos com atrasos. Esses padrões podem ajudar as companhias aéreas e os reguladores a entender melhor as causas dos atrasos e a tomar medidas para melhorar o desempenho e a eficiência do sistema de transporte aéreo. O modelo KMeans é especialmente adequado para esse tipo de análise, pois é capaz de agrupar dados em clusters com base nas suas características semelhantes, o que pode ser útil para detectar padrões ocultos e relacionamentos entre os voos com atrasos."
   ]
  },
  {
   "cell_type": "code",
   "execution_count": 8,
   "id": "27aaa325-d3ec-452b-8c82-e16625436384",
   "metadata": {},
   "outputs": [
    {
     "data": {
      "application/vnd.jupyter.widget-view+json": {
       "model_id": "bf31f9375a1f422298b4e0e71095c3f6",
       "version_major": 2,
       "version_minor": 0
      },
      "text/plain": [
       "VBox()"
      ]
     },
     "metadata": {},
     "output_type": "display_data"
    },
    {
     "data": {
      "application/vnd.jupyter.widget-view+json": {
       "model_id": "",
       "version_major": 2,
       "version_minor": 0
      },
      "text/plain": [
       "FloatProgress(value=0.0, bar_style='info', description='Progress:', layout=Layout(height='25px', width='50%'),…"
      ]
     },
     "metadata": {},
     "output_type": "display_data"
    }
   ],
   "source": [
    "from pyspark.ml.feature import VectorAssembler, StandardScaler\n",
    "from pyspark.ml.clustering import KMeans\n",
    "from pyspark.ml.stat import Correlation"
   ]
  },
  {
   "cell_type": "markdown",
   "id": "03e866bb-2f97-41ba-ad67-e0c4b6667146",
   "metadata": {},
   "source": [
    "<br>"
   ]
  },
  {
   "cell_type": "markdown",
   "id": "a2bc9276-c02c-47c5-a4d3-1fd0e37ba7a3",
   "metadata": {},
   "source": [
    "### Padrões de atraso entre atrasos de partida/chegada e distância"
   ]
  },
  {
   "cell_type": "markdown",
   "id": "afb821bc-29b6-4a36-b6a0-de2b15cc4752",
   "metadata": {},
   "source": [
    "Em primeiro lugar, procedeu-se à seleção de três colunas específicas (*DepDelay*, *ArrDelay* e *Distance*) do DataFrame *df_sample*. As colunas selecionadas são usadas para ajustar um modelo de clustering K-means."
   ]
  },
  {
   "cell_type": "code",
   "execution_count": 9,
   "id": "505b7e95-e0b7-419c-893e-3d77f543a4bf",
   "metadata": {},
   "outputs": [
    {
     "data": {
      "application/vnd.jupyter.widget-view+json": {
       "model_id": "ca6bdccbed39429e80515dc0f3870306",
       "version_major": 2,
       "version_minor": 0
      },
      "text/plain": [
       "VBox()"
      ]
     },
     "metadata": {},
     "output_type": "display_data"
    },
    {
     "data": {
      "application/vnd.jupyter.widget-view+json": {
       "model_id": "",
       "version_major": 2,
       "version_minor": 0
      },
      "text/plain": [
       "FloatProgress(value=0.0, bar_style='info', description='Progress:', layout=Layout(height='25px', width='50%'),…"
      ]
     },
     "metadata": {},
     "output_type": "display_data"
    }
   ],
   "source": [
    "cols = [\"DepDelay\", \"ArrDelay\", \"Distance\"]"
   ]
  },
  {
   "cell_type": "markdown",
   "id": "7f2f989c-768e-4e23-a958-9d034898671e",
   "metadata": {},
   "source": [
    "De seguida, criou-se uma instância do VectorAssembler, que é um transformador que combina várias colunas em uma única coluna de recursos (features).\n",
    "Recorreu-se ao método \"transform()\" do VectorAssembler para aplicar a transformação aos dados em *df_sample*. O parâmetro *inputCols* especifica as colunas de entrada que serão usadas para criar a nova coluna de recursos (features), enquanto o parâmetro *outputCol* especifica o nome da nova coluna criada."
   ]
  },
  {
   "cell_type": "code",
   "execution_count": 10,
   "id": "ea25a2d6-8dfc-478c-8752-654b055b72ce",
   "metadata": {},
   "outputs": [
    {
     "data": {
      "application/vnd.jupyter.widget-view+json": {
       "model_id": "b2ec5fcceb2549bc83e5e880c95afa6e",
       "version_major": 2,
       "version_minor": 0
      },
      "text/plain": [
       "VBox()"
      ]
     },
     "metadata": {},
     "output_type": "display_data"
    },
    {
     "data": {
      "application/vnd.jupyter.widget-view+json": {
       "model_id": "",
       "version_major": 2,
       "version_minor": 0
      },
      "text/plain": [
       "FloatProgress(value=0.0, bar_style='info', description='Progress:', layout=Layout(height='25px', width='50%'),…"
      ]
     },
     "metadata": {},
     "output_type": "display_data"
    }
   ],
   "source": [
    "# Criação do vector\n",
    "\n",
    "vec_assembler = VectorAssembler(inputCols=cols, outputCol=\"features\")\n",
    "vec_df = vec_assembler.transform(df_flights_clean)"
   ]
  },
  {
   "cell_type": "code",
   "execution_count": 11,
   "id": "8bba22e9-ea79-475d-8d2b-604363633719",
   "metadata": {},
   "outputs": [
    {
     "data": {
      "application/vnd.jupyter.widget-view+json": {
       "model_id": "1d7caba7ae1949f7b01a5eac337c6527",
       "version_major": 2,
       "version_minor": 0
      },
      "text/plain": [
       "VBox()"
      ]
     },
     "metadata": {},
     "output_type": "display_data"
    },
    {
     "data": {
      "application/vnd.jupyter.widget-view+json": {
       "model_id": "",
       "version_major": 2,
       "version_minor": 0
      },
      "text/plain": [
       "FloatProgress(value=0.0, bar_style='info', description='Progress:', layout=Layout(height='25px', width='50%'),…"
      ]
     },
     "metadata": {},
     "output_type": "display_data"
    },
    {
     "name": "stdout",
     "output_type": "stream",
     "text": [
      "['FlightDate', 'Airline', 'Origin', 'Dest', 'Cancelled', 'Diverted', 'CRSDepTime', 'DepTime', 'DepDelayMinutes', 'DepDelay', 'ArrTime', 'ArrDelayMinutes', 'AirTime', 'CRSElapsedTime', 'ActualElapsedTime', 'Distance', 'Year', 'Quarter', 'Month', 'DayofMonth', 'DayOfWeek', 'Marketing_Airline_Network', 'Operated_or_Branded_Code_Share_Partners', 'DOT_ID_Marketing_Airline', 'IATA_Code_Marketing_Airline', 'Flight_Number_Marketing_Airline', 'Operating_Airline', 'IATA_Code_Operating_Airline', 'Tail_Number', 'OriginAirportID', 'OriginAirportSeqID', 'OriginCityName', 'OriginState', 'OriginStateName', 'DestAirportID', 'DestAirportSeqID', 'DestCityName', 'DestState', 'DestStateName', 'DepDel15', 'DepartureDelayGroups', 'DepTimeBlk', 'WheelsOff', 'WheelsOn', 'ArrDelay', 'ArrDel15', 'ArrTimeBlk', 'features']"
     ]
    }
   ],
   "source": [
    "# Imprimir as colunas do vetor\n",
    "\n",
    "vec_df.columns"
   ]
  },
  {
   "cell_type": "markdown",
   "id": "ecc44ca5-b7c2-44d7-9fcb-859034627ca9",
   "metadata": {},
   "source": [
    "<br>"
   ]
  },
  {
   "cell_type": "markdown",
   "id": "945c4913-db81-44c8-91b3-c57c6e654be3",
   "metadata": {},
   "source": [
    "De forma a escolhermos o melhor k (número de clusters) para a aplicação do algoritmo KMeans, decidimos reduzir o tamanho do vetor usado para treinar o modelo, limitando o número de linhas do DataFrame da amostra para 100 (*max_tiny*). <br>"
   ]
  },
  {
   "cell_type": "markdown",
   "id": "8486a15e-0350-41b3-864b-3ccd9e6f2314",
   "metadata": {},
   "source": [
    "Definido esse limite, após a criação do DataFrame *vec_dftiny* limitado com o número de linhas anteriormente indicado, aplicou-se o VectorAssembler que combina as colunas especificadas em *cols* em uma única coluna de features, que é adicionada como uma nova coluna no DataFrame resultante."
   ]
  },
  {
   "cell_type": "code",
   "execution_count": 12,
   "id": "29bade2d-8485-4cd9-808a-b152584054ac",
   "metadata": {},
   "outputs": [
    {
     "data": {
      "application/vnd.jupyter.widget-view+json": {
       "model_id": "2dbf328be4304286ae6b0ec0cc0255ee",
       "version_major": 2,
       "version_minor": 0
      },
      "text/plain": [
       "VBox()"
      ]
     },
     "metadata": {},
     "output_type": "display_data"
    },
    {
     "data": {
      "application/vnd.jupyter.widget-view+json": {
       "model_id": "",
       "version_major": 2,
       "version_minor": 0
      },
      "text/plain": [
       "FloatProgress(value=0.0, bar_style='info', description='Progress:', layout=Layout(height='25px', width='50%'),…"
      ]
     },
     "metadata": {},
     "output_type": "display_data"
    }
   ],
   "source": [
    "# para encontrar o melhor k iremos reduzir o tamanho do nosso vetor\n",
    "max_tiny = 100\n",
    "vec_dftiny = vec_assembler.transform(df_flights_clean.limit(max_tiny))"
   ]
  },
  {
   "cell_type": "markdown",
   "id": "a0f1bd0e-4c4f-4e99-ae32-afd507332fa3",
   "metadata": {},
   "source": [
    "<br>"
   ]
  },
  {
   "cell_type": "markdown",
   "id": "a8cb9349-28c3-47fa-8fd5-d0d656350a55",
   "metadata": {},
   "source": [
    "Criou-se uma instância do modelo K-means com o número de clusters definido por \"k\", semente (seed) igual a 221 e número máximo de iterações igual a 20.\n",
    "Ajustou-se o modelo aos dados de treino (*vec_dftiny*) usando o método \"fit()\", sendo o modelo é usado para gerar previsões para os dados de treino usando o método \"transform()\".<br>\n",
    "Os centroids são armazenados numa lista designada *cluster_centres*.\n",
    "Por fim, calcula-se a métrica de Silhouette para as previsões geradas pelo modelo, usando o objeto *evaluator*, sendo o valor armazenado na lista *silhouettes*.\n",
    " código fornece uma lista de valores de Silhouette para cada valor de \"k\" testado. Isso pode ser usado para selecionar o número ideal de clusters para o modelo de KMeans. O número ideal de clusters é aquele que maximiza a métrica de Silhouette."
   ]
  },
  {
   "cell_type": "code",
   "execution_count": 13,
   "id": "26039ded-e62e-4117-9bca-b387e7d73f5d",
   "metadata": {},
   "outputs": [
    {
     "data": {
      "application/vnd.jupyter.widget-view+json": {
       "model_id": "83652fcd0b72456da47df860248bca3f",
       "version_major": 2,
       "version_minor": 0
      },
      "text/plain": [
       "VBox()"
      ]
     },
     "metadata": {},
     "output_type": "display_data"
    },
    {
     "data": {
      "application/vnd.jupyter.widget-view+json": {
       "model_id": "",
       "version_major": 2,
       "version_minor": 0
      },
      "text/plain": [
       "FloatProgress(value=0.0, bar_style='info', description='Progress:', layout=Layout(height='25px', width='50%'),…"
      ]
     },
     "metadata": {},
     "output_type": "display_data"
    },
    {
     "name": "stdout",
     "output_type": "stream",
     "text": [
      "Tempo total de execução (s): 74.67615747451782 segundos\n",
      "Tempo total de execução (min): 1.244602624575297 minutos"
     ]
    }
   ],
   "source": [
    "# Algortimo K-Means\n",
    "from pyspark.ml.evaluation import ClusteringEvaluator\n",
    "\n",
    "start_time = time.time()\n",
    "evaluator = ClusteringEvaluator()\n",
    "\n",
    "silhouettes = []\n",
    "cluster_centres = []\n",
    "for k in range(2,20):\n",
    "    \n",
    "    # Treina um modelo K-mean\n",
    "    kmeans = KMeans(k=k, seed=221, maxIter=20)\n",
    "    \n",
    "    # Ajuste do modelo\n",
    "    model = kmeans.fit(vec_dftiny)\n",
    "    \n",
    "    # usar modelo para transformar o DataFrame ao adicionar previsões com aglomerados (\"cluster\") \n",
    "    predictions = model.transform(vec_dftiny)\n",
    "    \n",
    "\n",
    "    # Obter ClustersCenters através do modelo\n",
    "    cluster_centres.append(model.clusterCenters())\n",
    "    \n",
    "    # Avaliação do modelo com base no silhouette\n",
    "    silhouettes.append(evaluator.evaluate(predictions))\n",
    "\n",
    "end_time = time.time()\n",
    "elapsed_time = end_time - start_time\n",
    "elapsed_time_min = elapsed_time/60\n",
    "print(\"Tempo total de execução (s):\", elapsed_time, \"segundos\")\n",
    "print(\"Tempo total de execução (min):\", elapsed_time_min, \"minutos\")"
   ]
  },
  {
   "cell_type": "markdown",
   "id": "08dd099a-dead-4bcc-9be1-498cc67735fa",
   "metadata": {},
   "source": [
    "De seguida, imprime-se os resultados dos centroides dos clusters e das métricas de Silhouette para cada valor de k testado no modelo de clustering KMeans."
   ]
  },
  {
   "cell_type": "code",
   "execution_count": 14,
   "id": "3bee09d2-aba1-4b05-9632-465fee81deb8",
   "metadata": {},
   "outputs": [
    {
     "data": {
      "application/vnd.jupyter.widget-view+json": {
       "model_id": "b525e180f138464aae06478b85fe272e",
       "version_major": 2,
       "version_minor": 0
      },
      "text/plain": [
       "VBox()"
      ]
     },
     "metadata": {},
     "output_type": "display_data"
    },
    {
     "data": {
      "application/vnd.jupyter.widget-view+json": {
       "model_id": "",
       "version_major": 2,
       "version_minor": 0
      },
      "text/plain": [
       "FloatProgress(value=0.0, bar_style='info', description='Progress:', layout=Layout(height='25px', width='50%'),…"
      ]
     },
     "metadata": {},
     "output_type": "display_data"
    },
    {
     "name": "stdout",
     "output_type": "stream",
     "text": [
      "Cluster centres: \n",
      "[array([8.17741935e+00, 1.45161290e-01, 1.96870968e+02]), array([ 16.89473684,   8.81578947, 574.05263158])]\n",
      "[array([ 10.75      ,  -3.54166667, 545.95833333]), array([  2.61904762,  -2.92857143, 158.16666667]), array([ 16.41176471,  10.76470588, 371.61764706])]\n",
      "[array([ -0.98245614,  -9.77192982, 196.        ]), array([ 19.32352941,  11.41176471, 546.05882353]), array([ -3.75, -13.25, 812.  ]), array([112.6, 113.2, 206.8])]\n",
      "[array([ 13.90909091,   3.18181818, 505.48484848]), array([ -2.775,  -8.9  , 158.825]), array([110.5, 116.5, 145. ]), array([ 91.,  88., 752.]), array([ 11.08333333,   3.66666667, 346.04166667])]\n",
      "[array([ 46.07692308,  42.38461538, 413.84615385]), array([ -2.775,  -8.9  , 158.825]), array([110.5, 116.5, 145. ]), array([ 91.,  88., 752.]), array([ -1.95238095,  -8.80952381, 345.47619048]), array([  7.26086957,  -7.52173913, 537.        ])]\n",
      "[array([  1.20689655, -10.44827586, 240.10344828]), array([148.2, 153.4, 486.2]), array([ -3.75, -13.25, 812.  ]), array([ -3.75,  -7.75, 474.  ]), array([ -0.68965517,  -6.89655172, 154.06896552]), array([123.  , 128.  , 193.75]), array([ -2.57142857, -15.0952381 , 587.76190476])]\n",
      "[array([  7.26086957,  -7.52173913, 537.        ]), array([ -2.775,  -8.9  , 158.825]), array([ -2.  ,  -8.75, 342.8 ]), array([105., 105., 145.]), array([116., 128., 145.]), array([ 91.,  88., 752.]), array([ 6.66666667e-01, -3.33333333e-01,  4.29222222e+02]), array([118.4, 108.8, 383.2])]\n",
      "[array([ 35. ,  19.4, 537. ]), array([ -2.8125,  -7.625 , 145.    ]), array([110.5, 116.5, 145. ]), array([ 91.,  88., 752.]), array([ 6.66666667e-01, -3.33333333e-01,  4.29222222e+02]), array([ -2.625, -14.   , 214.125]), array([-4.44444444e-01, -1.50000000e+01,  5.37000000e+02]), array([118.4, 108.8, 383.2]), array([ -2.  ,  -8.75, 342.8 ])]\n",
      "[array([ 35. ,  19.4, 537. ]), array([ -2.8125,  -7.625 , 145.    ]), array([110.5, 116.5, 145. ]), array([ 91.,  88., 752.]), array([ 6.66666667e-01, -3.33333333e-01,  4.29222222e+02]), array([ -2.625, -14.   , 214.125]), array([-4.44444444e-01, -1.50000000e+01,  5.37000000e+02]), array([196., 197., 433.]), array([ -2.  ,  -8.75, 342.8 ]), array([ 99.  ,  86.75, 370.75])]\n",
      "[array([ -7.4       , -29.33333333, 207.33333333]), array([ -2.89655172, -13.06896552, 556.37931034]), array([ -3.75, -13.25, 812.  ]), array([123.  , 128.  , 193.75]), array([206., 199., 587.]), array([166.5, 177. , 461. ]), array([101., 107., 461.]), array([ -0.71428571,  -1.5       , 264.28571429]), array([-5.88235294e-02, -7.64705882e-01,  1.85470588e+02]), array([ 59.,  48., 259.]), array([  1.9, -12.5,  95. ])]\n",
      "[array([ -7.4       , -29.33333333, 207.33333333]), array([ -2.57142857, -15.0952381 , 587.76190476]), array([ -3.75, -13.25, 812.  ]), array([123.  , 128.  , 193.75]), array([206., 199., 587.]), array([166.5, 177. , 461. ]), array([101., 107., 461.]), array([ -0.71428571,  -1.5       , 264.28571429]), array([-5.88235294e-02, -7.64705882e-01,  1.85470588e+02]), array([ 59.,  48., 259.]), array([  1.9, -12.5,  95. ]), array([ -3.75,  -7.75, 474.  ])]\n",
      "[array([  33.66666667,   26.33333333, 2677.66666667]), array([ -4.625,  -0.375, 201.875]), array([5.71428571e-01, 3.57142857e+00, 6.28142857e+02]), array([  36.85714286,   36.57142857, 2468.        ]), array([  37.42857143,   42.14285714, 2246.28571429]), array([   2.13333333,    3.13333333, 1661.66666667]), array([ 365.5,  377.5, 1116. ]), array([  30.92307692,   47.07692308, 1124.38461538]), array([ -2.77777778, -12.77777778, 884.77777778]), array([ 28.16666667,  30.5       , 731.33333333]), array([-2.000e+00,  4.000e+00,  3.414e+03]), array([  2.35294118,  -7.41176471, 394.76470588]), array([191.8, 180.6, 341.4])]\n",
      "[array([ -3.66666667, -10.        , 427.33333333]), array([ -2.8125,  -7.625 , 145.    ]), array([110.5, 116.5, 145. ]), array([ 91.,  88., 752.]), array([  9.33333333,  19.        , 433.        ]), array([ 18.85714286,  -0.57142857, 537.        ]), array([ 89.,  74., 433.]), array([196., 197., 433.]), array([102.33333333,  91.        , 350.        ]), array([ -9.2, -20.4, 198. ]), array([ -2.  ,  -8.75, 342.8 ]), array([ 79.,  87., 537.]), array([ -2.93333333, -17.06666667, 537.        ]), array([  8.33333333,  -3.33333333, 241.        ])]\n",
      "[array([ -3.66666667, -10.        , 427.33333333]), array([ -2.8125,  -7.625 , 145.    ]), array([110.5, 116.5, 145. ]), array([ 91.,  88., 752.]), array([  9.33333333,  19.        , 433.        ]), array([ 18.85714286,  -0.57142857, 537.        ]), array([ 89.,  74., 433.]), array([196., 197., 433.]), array([102.33333333,  91.        , 350.        ]), array([ -9.2, -20.4, 198. ]), array([ -1.58823529,  -9.58823529, 350.        ]), array([ 79.,  87., 537.]), array([ -2.93333333, -17.06666667, 537.        ]), array([  8.33333333,  -3.33333333, 241.        ]), array([ -4.33333333,  -4.        , 302.        ])]\n",
      "[array([  33.66666667,   26.33333333, 2677.66666667]), array([ -4.625,  -0.375, 201.875]), array([  12.  ,    8.25, 1435.5 ]), array([ 365.5,  377.5, 1116. ]), array([ 18.8,  19.9, 651.6]), array([  25.125,   23.5  , 1018.625]), array([  14.5       ,   10.16666667, 2451.83333333]), array([ 225. ,  250.5, 2396. ]), array([  -3. ,   -2. , 1810.6]), array([ -5.3,  -8.3, 828.8]), array([-2.000e+00,  4.000e+00,  3.414e+03]), array([191.8, 180.6, 341.4]), array([-2.83333333e+00, -1.83333333e+00,  2.24950000e+03]), array([   5.375,    7.75 , 1608.   ]), array([  2.35294118,  -7.41176471, 394.76470588]), array([  34. ,   72.6, 1135.6])]\n",
      "[array([ -7.4       , -29.33333333, 207.33333333]), array([166.5, 177. , 461. ]), array([ -3.75, -13.25, 812.  ]), array([ -5.        ,  -7.71428571, 587.        ]), array([ -3.75,  -7.75, 474.  ]), array([206., 199., 587.]), array([153.5, 145. , 203.5]), array([ 59.,  48., 259.]), array([ 11.,  19., 259.]), array([ 92.5, 111. , 184. ]), array([  1.9, -12.5,  95. ]), array([101., 107., 461.]), array([-5.88235294e-02, -7.64705882e-01,  1.85470588e+02]), array([ -5.16666667, -23.83333333, 588.16666667]), array([ -6. ,  -6.5, 296. ]), array([ -3.44444444,  -7.22222222, 259.        ]), array([ 21.5,  11.5, 588. ])]\n",
      "[array([ 89.,  74., 433.]), array([ -2.8125,  -7.625 , 145.    ]), array([ 18.25,  -8.5 , 537.  ]), array([ 91.,  88., 752.]), array([  9.33333333,  19.        , 433.        ]), array([ -6., -20., 241.]), array([ -3.66666667, -10.        , 427.33333333]), array([ -9.2, -20.4, 198. ]), array([117., 107., 350.]), array([ 41.33333333,  33.33333333, 350.        ]), array([ 79.,  87., 537.]), array([ -5.2, -13.6, 350. ]), array([196., 197., 433.]), array([ 17.5 ,   3.25, 537.  ]), array([110.5, 116.5, 145. ]), array([ 37.,  30., 241.]), array([ -3.92857143, -17.07142857, 537.        ]), array([ -4.33333333,  -4.        , 302.        ])]\n",
      "[array([  12.  ,    8.25, 1435.5 ]), array([-2.000e+00,  4.000e+00,  3.414e+03]), array([198.33333333, 183.33333333, 407.66666667]), array([   5.54545455,    4.45454545, 2335.18181818]), array([   1.16666667,   -4.5       , 1022.33333333]), array([ -5.3,  -8.3, 828.8]), array([  2.        ,  -8.        , 425.72727273]), array([  11.        ,   33.        , 1182.66666667]), array([  27.5,   20. , 2638.5]), array([  -3. ,   -2. , 1810.6]), array([ 18.8,  19.9, 651.6]), array([ 365.5,  377.5, 1116. ]), array([ 18.71428571,  10.85714286, 330.28571429]), array([   5.375,    7.75 , 1608.   ]), array([ 279.,  306., 2227.]), array([ 171.,  195., 2565.]), array([251., 239., 200.]), array([  82.75,  119.75, 1036.25]), array([ -4.625,  -0.375, 201.875])]\n",
      "Silhouettes with squared euclidean distances: \n",
      "[0.8713801295242771, 0.3527511833971247, 0.27529682830861196, 0.15616890259197366, 0.5833179964030601, 0.4677403407252567, 0.23198392852306665, 0.4563029587207672, 0.5981980219179295, 0.7596624006190558, 0.7676607345862392, 0.8323672864862922, 0.760461910091529, 0.6630448933523208, 0.8200990877751013, 0.2997598368133857, 0.31748698750025406, 0.7241918389656375]\n",
      "Tempo total de execução (s): 117.6932623386383 segundos\n",
      "Tempo total de execução (min): 1.9615543723106383 minutos"
     ]
    }
   ],
   "source": [
    "# Resultados dos clusterscenters e silhouette\n",
    "\n",
    "print(\"Cluster centres: \")\n",
    "for centroid in cluster_centres:\n",
    "    print(centroid)\n",
    "print(\"Silhouettes with squared euclidean distances: \")\n",
    "print(silhouettes)\n",
    "end_time = time.time()\n",
    "elapsed_time = end_time - start_time\n",
    "elapsed_time_min = elapsed_time/60\n",
    "print(\"Tempo total de execução (s):\", elapsed_time, \"segundos\")\n",
    "print(\"Tempo total de execução (min):\", elapsed_time_min, \"minutos\")"
   ]
  },
  {
   "cell_type": "markdown",
   "id": "5b8567e1",
   "metadata": {},
   "source": [
    "<br>"
   ]
  },
  {
   "cell_type": "markdown",
   "id": "21b13d10",
   "metadata": {},
   "source": [
    "Em seguida, procurou-se o k que maximiza a Silhouette score."
   ]
  },
  {
   "cell_type": "code",
   "execution_count": 15,
   "id": "51f3bf41",
   "metadata": {},
   "outputs": [
    {
     "data": {
      "application/vnd.jupyter.widget-view+json": {
       "model_id": "3d7ff16b670a42a1b66b5573b17da8ff",
       "version_major": 2,
       "version_minor": 0
      },
      "text/plain": [
       "VBox()"
      ]
     },
     "metadata": {},
     "output_type": "display_data"
    },
    {
     "data": {
      "application/vnd.jupyter.widget-view+json": {
       "model_id": "",
       "version_major": 2,
       "version_minor": 0
      },
      "text/plain": [
       "FloatProgress(value=0.0, bar_style='info', description='Progress:', layout=Layout(height='25px', width='50%'),…"
      ]
     },
     "metadata": {},
     "output_type": "display_data"
    },
    {
     "name": "stdout",
     "output_type": "stream",
     "text": [
      "11"
     ]
    }
   ],
   "source": [
    "optimal_k = np.argmax(silhouettes[2:20]) + 2\n",
    "optimal_k"
   ]
  },
  {
   "cell_type": "markdown",
   "id": "9de96000-2c90-4be9-9287-639abf684302",
   "metadata": {},
   "source": [
    "O pico mais alto é atingido para k=11, então escolhe-se esse valor para k."
   ]
  },
  {
   "cell_type": "markdown",
   "id": "5670b902-dd33-4373-801c-878639904bc1",
   "metadata": {},
   "source": [
    "<br>"
   ]
  },
  {
   "cell_type": "markdown",
   "id": "1f03f782-380e-4d5d-9a75-7b484dbb1632",
   "metadata": {},
   "source": [
    "Aplica-se o modelo KMeans, usando o valor ótimo determinado para k (5).\n",
    "O modelo KKMeans é inicializado com o número de clusters ótimo encontrado anteriormente (*optimal_k*=5), um valor de semente aleatório fixo (*seed*=221) e um limite máximo de iterações (*maxIter*=20).<br>\n",
    "Ajusta-se  o modelo aos dados de treino usando o método \"fit()\" com o conjunto de dados que passou pelo processo de transformação com VectorAssembler (*vec_df*).<br> \n",
    "O modelo é então usado para prever os clusters para todo o conjunto de dados com o método \"transform()\".<br>\n",
    "Usa-se o método \"clusterCenters()\" para obter os centroides dos clusters do modelo, usando a métrica de Silhouette para avaliar o desempenho do modelo.<br>\n",
    "Finalmente, imprimem-se os centroides dos clusters."
   ]
  },
  {
   "cell_type": "markdown",
   "id": "b2e89219-16c1-4b1b-a197-e03ac976e241",
   "metadata": {},
   "source": [
    "<br>"
   ]
  },
  {
   "cell_type": "code",
   "execution_count": 16,
   "id": "e6b22ee3-9a77-4fab-8c00-6c7492421252",
   "metadata": {},
   "outputs": [
    {
     "data": {
      "application/vnd.jupyter.widget-view+json": {
       "model_id": "f88864f0961c46c09312f07bb39fe63e",
       "version_major": 2,
       "version_minor": 0
      },
      "text/plain": [
       "VBox()"
      ]
     },
     "metadata": {},
     "output_type": "display_data"
    },
    {
     "data": {
      "application/vnd.jupyter.widget-view+json": {
       "model_id": "",
       "version_major": 2,
       "version_minor": 0
      },
      "text/plain": [
       "FloatProgress(value=0.0, bar_style='info', description='Progress:', layout=Layout(height='25px', width='50%'),…"
      ]
     },
     "metadata": {},
     "output_type": "display_data"
    },
    {
     "name": "stdout",
     "output_type": "stream",
     "text": [
      "Silhouette with squared euclidean distance = 0.6530132618837142\n",
      "Cluster Centers: \n",
      "[  6.84623135   1.76972071 392.33006143]\n",
      "[9.38637289e+00 7.47110888e-01 2.48294127e+03]\n",
      "[623.53601671 621.29480674 592.78651025]\n",
      "[1.09767524e+01 6.95208518e-01 4.84482431e+03]\n",
      "[  8.55899613   2.77950064 874.78521601]\n",
      "[  6.42340232   1.9872594  196.29920608]\n",
      "[9.84712080e+00 1.55376608e+00 1.98940140e+03]\n",
      "[   9.53341133    2.15854312 1542.8296125 ]\n",
      "[   9.8375297     3.85744608 1127.37399453]\n",
      "[1.03688719e+01 1.02580510e+00 3.69896260e+03]\n",
      "[  7.50592341   2.17825291 616.14060382]\n",
      "Tempo total de execução (s): 167.2504825592041 segundos\n",
      "Tempo total de execução (min): 2.7875080426534016 minutos"
     ]
    }
   ],
   "source": [
    "# Avaliar o modelo com optimal_k = 11\n",
    "\n",
    "# Algoritmo K-means aplicado a todo o dataset (sem vec_dftiny)\n",
    "from pyspark.ml.evaluation import ClusteringEvaluator\n",
    "from pyspark.ml.clustering import KMeans\n",
    "\n",
    "start_time = time.time()\n",
    "# Loads data\n",
    "dataset = df_flights_clean\n",
    "\n",
    "# Treina um modelo K-mean\n",
    "kmeans = KMeans(k=optimal_k, seed=221, maxIter=20)\n",
    "\n",
    "# Ajuste do modelo\n",
    "model = kmeans.fit(vec_df)\n",
    "\n",
    "# usar modelo para transformar o DataFrame ao adicionar previsões com aglomerados (\"cluster\") \n",
    "predictions = model.transform(vec_df)\n",
    "    \n",
    "# Obter ClustersCenters através do modelo\n",
    "cluster_centres = model.clusterCenters()\n",
    "\n",
    "# Avaliar o clustering calculando o valor do Silhouette\n",
    "evaluator = ClusteringEvaluator()\n",
    "\n",
    "silhouette = evaluator.evaluate(predictions)\n",
    "print(\"Silhouette with squared euclidean distance = \" + str(silhouette))\n",
    "\n",
    "# Mostrar os resultados\n",
    "print(\"Cluster Centers: \")\n",
    "ctr=[]\n",
    "centers = model.clusterCenters()\n",
    "for center in centers:\n",
    "    ctr.append(center)\n",
    "    print(center)\n",
    "    \n",
    "end_time = time.time()\n",
    "elapsed_time = end_time - start_time\n",
    "elapsed_time_min = elapsed_time/60\n",
    "print(\"Tempo total de execução (s):\", elapsed_time, \"segundos\")\n",
    "print(\"Tempo total de execução (min):\", elapsed_time_min, \"minutos\")"
   ]
  },
  {
   "cell_type": "markdown",
   "id": "41cac6f8-008b-4914-973a-8a10ab69fe9e",
   "metadata": {},
   "source": [
    "Com todas as variaveis e K=11, Silhouette with squared euclidean distance = 0.6538, logo o modelo tem uma coesão moderada com os dados iniciais."
   ]
  },
  {
   "cell_type": "markdown",
   "id": "7ab6651b-cc1c-4dc4-afce-5622c3e57d1e",
   "metadata": {},
   "source": [
    "<br>"
   ]
  },
  {
   "cell_type": "markdown",
   "id": "ffe2b83c-4bf2-423f-9bae-8f05414020ec",
   "metadata": {},
   "source": [
    "De seguida, apresenta-se o número dos diferentes clusters."
   ]
  },
  {
   "cell_type": "code",
   "execution_count": 17,
   "id": "aaf83c4c-b110-4aa8-9c76-c041cde032b6",
   "metadata": {},
   "outputs": [
    {
     "data": {
      "application/vnd.jupyter.widget-view+json": {
       "model_id": "ea341208373c489498475f7802b033af",
       "version_major": 2,
       "version_minor": 0
      },
      "text/plain": [
       "VBox()"
      ]
     },
     "metadata": {},
     "output_type": "display_data"
    },
    {
     "data": {
      "application/vnd.jupyter.widget-view+json": {
       "model_id": "",
       "version_major": 2,
       "version_minor": 0
      },
      "text/plain": [
       "FloatProgress(value=0.0, bar_style='info', description='Progress:', layout=Layout(height='25px', width='50%'),…"
      ]
     },
     "metadata": {},
     "output_type": "display_data"
    },
    {
     "name": "stdout",
     "output_type": "stream",
     "text": [
      "+----------+\n",
      "|prediction|\n",
      "+----------+\n",
      "|         1|\n",
      "|         6|\n",
      "|         3|\n",
      "|         4|\n",
      "|         8|\n",
      "|         5|\n",
      "|         2|\n",
      "|         7|\n",
      "|         0|\n",
      "|         9|\n",
      "|        10|\n",
      "+----------+"
     ]
    }
   ],
   "source": [
    "# Mostrar os números dos diferentes clusteres\n",
    "\n",
    "predictions.select(\"prediction\").distinct().show()"
   ]
  },
  {
   "cell_type": "markdown",
   "id": "af620b05",
   "metadata": {},
   "source": [
    "Vamos então guardar o modelo para se posteriormente o quisermos usar, nomeadamente para efeitos de visualização."
   ]
  },
  {
   "cell_type": "code",
   "execution_count": 46,
   "id": "0e3099dc",
   "metadata": {},
   "outputs": [
    {
     "data": {
      "application/vnd.jupyter.widget-view+json": {
       "model_id": "11abf42c871945fb956727b4b3ea5957",
       "version_major": 2,
       "version_minor": 0
      },
      "text/plain": [
       "VBox()"
      ]
     },
     "metadata": {},
     "output_type": "display_data"
    },
    {
     "data": {
      "application/vnd.jupyter.widget-view+json": {
       "model_id": "",
       "version_major": 2,
       "version_minor": 0
      },
      "text/plain": [
       "FloatProgress(value=0.0, bar_style='info', description='Progress:', layout=Layout(height='25px', width='50%'),…"
      ]
     },
     "metadata": {},
     "output_type": "display_data"
    }
   ],
   "source": [
    "model.save(\"kmeans_model_1\")"
   ]
  },
  {
   "cell_type": "code",
   "execution_count": 53,
   "id": "e2179d2d",
   "metadata": {},
   "outputs": [
    {
     "data": {
      "application/vnd.jupyter.widget-view+json": {
       "model_id": "1b4b4578a9f349b191489efad94b08eb",
       "version_major": 2,
       "version_minor": 0
      },
      "text/plain": [
       "VBox()"
      ]
     },
     "metadata": {},
     "output_type": "display_data"
    },
    {
     "data": {
      "application/vnd.jupyter.widget-view+json": {
       "model_id": "",
       "version_major": 2,
       "version_minor": 0
      },
      "text/plain": [
       "FloatProgress(value=0.0, bar_style='info', description='Progress:', layout=Layout(height='25px', width='50%'),…"
      ]
     },
     "metadata": {},
     "output_type": "display_data"
    }
   ],
   "source": [
    "path_save = \"s3://pbdmybucketgrupo3/modelos\"\n",
    "model.save(path_save)"
   ]
  },
  {
   "cell_type": "code",
   "execution_count": 48,
   "id": "facd2a3b",
   "metadata": {},
   "outputs": [
    {
     "data": {
      "application/vnd.jupyter.widget-view+json": {
       "model_id": "8d0ecdef001649ae84843296d9da97bb",
       "version_major": 2,
       "version_minor": 0
      },
      "text/plain": [
       "VBox()"
      ]
     },
     "metadata": {},
     "output_type": "display_data"
    },
    {
     "data": {
      "application/vnd.jupyter.widget-view+json": {
       "model_id": "",
       "version_major": 2,
       "version_minor": 0
      },
      "text/plain": [
       "FloatProgress(value=0.0, bar_style='info', description='Progress:', layout=Layout(height='25px', width='50%'),…"
      ]
     },
     "metadata": {},
     "output_type": "display_data"
    }
   ],
   "source": [
    "from pyspark.ml.clustering import KMeansModel\n",
    "kmeans_model = KMeansModel.load(\"kmeans_model_1\")"
   ]
  },
  {
   "cell_type": "markdown",
   "id": "30ca018f-7ff0-4282-8c02-4acd6b6e5d68",
   "metadata": {},
   "source": [
    "## Gráfico de dispersão para a relação entre o atrasado de partida (DepDelay) e o atraso de chegada (ArrDelay)"
   ]
  },
  {
   "cell_type": "code",
   "execution_count": 57,
   "id": "aaaaa81e-8d01-44d3-9cca-941ac602bbf0",
   "metadata": {},
   "outputs": [
    {
     "name": "stderr",
     "output_type": "stream",
     "text": [
      "/var/folders/6f/xxdlxkl953v7h6b6nsn7dhp40000gn/T/ipykernel_21615/3442062530.py:9: UserWarning: No data for colormapping provided via 'c'. Parameters 'cmap' will be ignored\n",
      "  plt.scatter(df_plot.iloc[:,0], df_plot.iloc[:,1], s=40, cmap='viridis');\n"
     ]
    },
    {
     "data": {
      "image/png": "[encoded data removed]",
      "text/plain": [
       "<Figure size 640x480 with 1 Axes>"
      ]
     },
     "metadata": {},
     "output_type": "display_data"
    }
   ],
   "source": [
    "# Vizualização do algoritmo K Means\n",
    "import matplotlib.pyplot as plt \n",
    "import pandas\n",
    "import numpy as np\n",
    "\n",
    "df_plot =  predictions.select([\"DepDelay\", \"ArrDelay\", \"Distance\"]).toPandas()\n",
    "plt.xlabel('DepDelay')\n",
    "plt.ylabel('ArrDelay')\n",
    "plt.scatter(df_plot.iloc[:,0], df_plot.iloc[:,1], s=40, cmap='viridis');"
   ]
  },
  {
   "cell_type": "markdown",
   "id": "14efbc73-6ab2-4e3f-8052-d8d3a5656751",
   "metadata": {},
   "source": [
    "Verifica-se que há uma relação, tal como se esperava, diretamente proporcinal entre o atrado de partida (*DepDelay*) e atraso de chegada (*ArrDelay*)."
   ]
  },
  {
   "cell_type": "markdown",
   "id": "4872e3db-b241-4098-a2d2-265bb6741852",
   "metadata": {},
   "source": [
    "## Gráfico de dispersão para a relação entre o atraso na partida (DepDelay) e a distância entre os aeroportos (Distance)"
   ]
  },
  {
   "cell_type": "code",
   "execution_count": 58,
   "id": "39a21952-48cd-457a-8f58-0f477d8473a6",
   "metadata": {},
   "outputs": [
    {
     "name": "stderr",
     "output_type": "stream",
     "text": [
      "/var/folders/6f/xxdlxkl953v7h6b6nsn7dhp40000gn/T/ipykernel_21615/1811034646.py:4: UserWarning: No data for colormapping provided via 'c'. Parameters 'cmap' will be ignored\n",
      "  plt.scatter(df_plot.iloc[:,0], df_plot.iloc[:,2], s=20, cmap='viridis');\n"
     ]
    },
    {
     "data": {
      "image/png": "[encoded data removed]",
      "text/plain": [
       "<Figure size 640x480 with 1 Axes>"
      ]
     },
     "metadata": {},
     "output_type": "display_data"
    }
   ],
   "source": [
    "df_plot =  predictions.select([\"DepDelay\", \"ArrDelay\", \"Distance\"]).toPandas()\n",
    "plt.xlabel('DepDelay')\n",
    "plt.ylabel('Distance')\n",
    "plt.scatter(df_plot.iloc[:,0], df_plot.iloc[:,2], s=20, cmap='viridis');"
   ]
  },
  {
   "cell_type": "markdown",
   "id": "0c97410e-65fb-44e1-9951-ce92271a6e8f",
   "metadata": {},
   "source": [
    "Neste gráfico podemos observar que há uma tendência para quanto maior for a distância da viagem, menor costumam ser os atrasos nas partidas. Além disso, verifica-se que a maioria dos atrasos não é muito significativo, até porque a viagem mais longa tem um atraso nulo."
   ]
  },
  {
   "cell_type": "markdown",
   "id": "ffe790fe-af0a-421a-bf72-60c25cc3017d",
   "metadata": {},
   "source": [
    "## Gráfico de dispersão para a relação entre o atraso de chegada (ArrDelay) e a distância entre aeroportos (Distance)"
   ]
  },
  {
   "cell_type": "code",
   "execution_count": 52,
   "id": "4abdc848-bb59-48bd-9916-eb99fb8858e0",
   "metadata": {},
   "outputs": [
    {
     "name": "stderr",
     "output_type": "stream",
     "text": [
      "/var/folders/6f/xxdlxkl953v7h6b6nsn7dhp40000gn/T/ipykernel_21615/3671868252.py:4: UserWarning: No data for colormapping provided via 'c'. Parameters 'cmap' will be ignored\n",
      "  plt.scatter(df_plot.iloc[:,1], df_plot.iloc[:,2], s=20, cmap='viridis');\n"
     ]
    },
    {
     "data": {
      "image/png": "[encoded data removed]",
      "text/plain": [
       "<Figure size 640x480 with 1 Axes>"
      ]
     },
     "metadata": {},
     "output_type": "display_data"
    }
   ],
   "source": [
    "df_plot =  predictions.select([\"DepDelay\", \"ArrDelay\", \"Distance\"]).toPandas()\n",
    "plt.xlabel('ArrDelay')\n",
    "plt.ylabel('Distance')\n",
    "plt.scatter(df_plot.iloc[:,1], df_plot.iloc[:,2], s=20, cmap='viridis');"
   ]
  },
  {
   "cell_type": "markdown",
   "id": "b20b487b-1c24-4338-b3a6-874b5b24f739",
   "metadata": {},
   "source": [
    "De forma idêntica à análise anterior, verifica-se que há uma tendência para quanto maior for a distância na viagem, menor costumam ser os atrasos nas chegadas."
   ]
  },
  {
   "cell_type": "markdown",
   "id": "3d70dfc7-15c7-47fb-9fc5-e738642adf24",
   "metadata": {},
   "source": [
    "## Identificar padrões de atraso baseado em outros fatores"
   ]
  },
  {
   "cell_type": "markdown",
   "id": "2e572442-e8b0-49b5-a774-9d78df51df25",
   "metadata": {},
   "source": [
    "De forma a identificar padrões de atraso baseados em outros fatores escolheram-se as colunas que se apresentam abaixo para aplicar o KMeans."
   ]
  },
  {
   "cell_type": "code",
   "execution_count": 9,
   "id": "37aae972-f0bf-4dca-8dec-170536aec01f",
   "metadata": {},
   "outputs": [
    {
     "data": {
      "application/vnd.jupyter.widget-view+json": {
       "model_id": "5767d1f3b4f14c29a9aabd156b20cded",
       "version_major": 2,
       "version_minor": 0
      },
      "text/plain": [
       "VBox()"
      ]
     },
     "metadata": {},
     "output_type": "display_data"
    },
    {
     "data": {
      "application/vnd.jupyter.widget-view+json": {
       "model_id": "",
       "version_major": 2,
       "version_minor": 0
      },
      "text/plain": [
       "FloatProgress(value=0.0, bar_style='info', description='Progress:', layout=Layout(height='25px', width='50%'),…"
      ]
     },
     "metadata": {},
     "output_type": "display_data"
    }
   ],
   "source": [
    "cols2 = [\"Airline\", \"Origin\", \"Dest\", \"CRSDepTime\", \"DepDelayMinutes\", \"DepDelay\", \"ArrDelayMinutes\", \"AirTime\", \"Distance\", \"Month\"]"
   ]
  },
  {
   "cell_type": "markdown",
   "id": "e435a7ba-5804-4aba-9e0a-a11b20903b51",
   "metadata": {},
   "source": [
    "<br>"
   ]
  },
  {
   "cell_type": "markdown",
   "id": "a9d5510b-fd99-4387-9274-29535920da97",
   "metadata": {},
   "source": [
    "Primeiro, são criados indexadores de string para as colunas \"Airline\", \"Origin\" e \"Dest\". O resultado desse processo é uma nova coluna para cada coluna original, com o sufixo \"_index\", contendo os valores numéricos correspondentes a cada categoria.\n",
    "\n",
    "Em seguida, é utilizado o encoder OneHotEncoder para converter as colunas indexadas em vetores binários, onde cada elemento do vetor representa uma categoria da variável. Assim, para cada categoria, é criado um novo atributo, onde o valor 1 indica que aquela categoria está presente na observação e o valor 0 indica ausência.\n",
    "\n",
    "As colunas selecionadas para compor o vetor de características são: \"CRSDepTime\", \"DepDelayMinutes\", \"DepDelay\", \"ArrDelayMinutes\", \"AirTime\", \"Distance\", \"Month\", \"Airline_vec\", \"Origin_vec\" e \"Dest_vec\". É utilizado o VectorAssembler para juntar essas colunas em um único vetor, com o nome \"features\", que será utilizado no treinoo do modelo. O método \"limit(100)\" é utilizado para limitar o número de observações do dataset para 100, apenas para fins de demonstração."
   ]
  },
  {
   "cell_type": "markdown",
   "id": "cc183fe5-fd3b-4576-8cfe-436ab6de810f",
   "metadata": {},
   "source": [
    "<br>"
   ]
  },
  {
   "cell_type": "code",
   "execution_count": 10,
   "id": "9329ea96-8975-4e59-ba3e-7a6097138372",
   "metadata": {},
   "outputs": [
    {
     "data": {
      "application/vnd.jupyter.widget-view+json": {
       "model_id": "4367f0024d374df5adc6af02aa30245f",
       "version_major": 2,
       "version_minor": 0
      },
      "text/plain": [
       "VBox()"
      ]
     },
     "metadata": {},
     "output_type": "display_data"
    },
    {
     "data": {
      "application/vnd.jupyter.widget-view+json": {
       "model_id": "",
       "version_major": 2,
       "version_minor": 0
      },
      "text/plain": [
       "FloatProgress(value=0.0, bar_style='info', description='Progress:', layout=Layout(height='25px', width='50%'),…"
      ]
     },
     "metadata": {},
     "output_type": "display_data"
    }
   ],
   "source": [
    "# Criação do vector\n",
    "from pyspark.ml.stat import Correlation\n",
    "from pyspark.ml.feature import VectorAssembler\n",
    "\n",
    "indexers = [StringIndexer(inputCol=col, outputCol=col+\"_index\", handleInvalid=\"keep\")\n",
    "            for col in [\"Airline\", \"Origin\", \"Dest\"]]\n",
    "indexed = Pipeline(stages=indexers).fit(df_flights_clean).transform(df_flights_clean)\n",
    "\n",
    "\n",
    "encoder = OneHotEncoder(inputCols=[\"Airline_index\", \"Origin_index\", \"Dest_index\"], outputCols=[\"Airline_vec\", \"Origin_vec\", \"Dest_vec\"])\n",
    "encoded = encoder.fit(indexed).transform(indexed)\n",
    "\n",
    "\n",
    "cols2 = [\"CRSDepTime\", \"DepDelayMinutes\", \"DepDelay\", \"ArrDelayMinutes\", \"AirTime\", \"Distance\", \"Month\", \"Airline_vec\", \"Origin_vec\", \"Dest_vec\"]\n",
    "assembler = VectorAssembler(inputCols=cols2, outputCol=\"features\")\n",
    "assembled = assembler.transform(encoded.limit(100))"
   ]
  },
  {
   "cell_type": "markdown",
   "id": "4df270c5-e68e-4af1-b13c-ad749ea9887f",
   "metadata": {},
   "source": [
    "De forma análoga à explicada anteriormente, calcula-se o Silhouette score para diferentes valores de k."
   ]
  },
  {
   "cell_type": "code",
   "execution_count": 11,
   "id": "506cd9ce-2a66-49f6-8df4-cfa5df5e7779",
   "metadata": {},
   "outputs": [
    {
     "data": {
      "application/vnd.jupyter.widget-view+json": {
       "model_id": "74f308ac201640f1b4945859dba4a24c",
       "version_major": 2,
       "version_minor": 0
      },
      "text/plain": [
       "VBox()"
      ]
     },
     "metadata": {},
     "output_type": "display_data"
    },
    {
     "data": {
      "application/vnd.jupyter.widget-view+json": {
       "model_id": "",
       "version_major": 2,
       "version_minor": 0
      },
      "text/plain": [
       "FloatProgress(value=0.0, bar_style='info', description='Progress:', layout=Layout(height='25px', width='50%'),…"
      ]
     },
     "metadata": {},
     "output_type": "display_data"
    },
    {
     "name": "stdout",
     "output_type": "stream",
     "text": [
      "Tempo total de execução (s): 84.10168242454529 segundos\n",
      "Tempo total de execução (min): 1.4016947070757548 minutos"
     ]
    }
   ],
   "source": [
    "# Algortimo K-Means\n",
    "from pyspark.ml.evaluation import ClusteringEvaluator\n",
    "from pyspark.ml.clustering import KMeans\n",
    "\n",
    "start_time = time.time()\n",
    "evaluator = ClusteringEvaluator()\n",
    "\n",
    "silhouettes = []\n",
    "cluster_centres = []\n",
    "for k in range(2,20):\n",
    "    \n",
    "    # Treina um modelo K-mean\n",
    "    kmeans = KMeans(k=k, seed=221, maxIter=20)\n",
    "    \n",
    "    # Ajuste do modelo\n",
    "    model = kmeans.fit(assembled)\n",
    "    \n",
    "    # usar modelo para transformar o DataFrame ao adicionar previsões com aglomerados (\"cluster\") \n",
    "    prediction = model.transform(assembled)\n",
    "    \n",
    "\n",
    "    # Obter ClustersCenters através do modelo\n",
    "    cluster_centres.append(model.clusterCenters())\n",
    "    \n",
    "    # Avaliação do modelo com base no silhouette\n",
    "    silhouettes.append(evaluator.evaluate(prediction))\n",
    "end_time = time.time()\n",
    "elapsed_time = end_time - start_time\n",
    "elapsed_time_min = elapsed_time/60\n",
    "print(\"Tempo total de execução (s):\", elapsed_time, \"segundos\")\n",
    "print(\"Tempo total de execução (min):\", elapsed_time_min, \"minutos\")"
   ]
  },
  {
   "cell_type": "markdown",
   "id": "2f37453c",
   "metadata": {},
   "source": [
    "<br>"
   ]
  },
  {
   "cell_type": "markdown",
   "id": "246a239d",
   "metadata": {},
   "source": [
    "Em seguida, procurou-se o k que maximiza a Silhouette score."
   ]
  },
  {
   "cell_type": "code",
   "execution_count": 12,
   "id": "edd9f30a",
   "metadata": {},
   "outputs": [
    {
     "data": {
      "application/vnd.jupyter.widget-view+json": {
       "model_id": "acd6bf860c6f48428f3156add1437aec",
       "version_major": 2,
       "version_minor": 0
      },
      "text/plain": [
       "VBox()"
      ]
     },
     "metadata": {},
     "output_type": "display_data"
    },
    {
     "data": {
      "application/vnd.jupyter.widget-view+json": {
       "model_id": "",
       "version_major": 2,
       "version_minor": 0
      },
      "text/plain": [
       "FloatProgress(value=0.0, bar_style='info', description='Progress:', layout=Layout(height='25px', width='50%'),…"
      ]
     },
     "metadata": {},
     "output_type": "display_data"
    },
    {
     "name": "stdout",
     "output_type": "stream",
     "text": [
      "3"
     ]
    }
   ],
   "source": [
    "optimal_k = np.argmax(silhouettes[2:20]) + 2\n",
    "optimal_k"
   ]
  },
  {
   "cell_type": "markdown",
   "id": "73ddb070-4537-4e0e-a62c-bd8cee447792",
   "metadata": {},
   "source": [
    "Escolhe-se o valor ótimo segundo a Silhouette score para k (k=3)."
   ]
  },
  {
   "cell_type": "markdown",
   "id": "831a5d1e-0938-45c1-a364-8f27776e4062",
   "metadata": {},
   "source": [
    "Em seguida avalia-se o modelo com k=3 e calcula-se o centroide para cada cluster."
   ]
  },
  {
   "cell_type": "code",
   "execution_count": 13,
   "id": "dbdd95ec-39f5-4c22-81c1-f59acbaf25e3",
   "metadata": {
    "scrolled": false
   },
   "outputs": [
    {
     "data": {
      "application/vnd.jupyter.widget-view+json": {
       "model_id": "4e284f8dfc844242953b0a088fde981a",
       "version_major": 2,
       "version_minor": 0
      },
      "text/plain": [
       "VBox()"
      ]
     },
     "metadata": {},
     "output_type": "display_data"
    },
    {
     "data": {
      "application/vnd.jupyter.widget-view+json": {
       "model_id": "",
       "version_major": 2,
       "version_minor": 0
      },
      "text/plain": [
       "FloatProgress(value=0.0, bar_style='info', description='Progress:', layout=Layout(height='25px', width='50%'),…"
      ]
     },
     "metadata": {},
     "output_type": "display_data"
    },
    {
     "name": "stdout",
     "output_type": "stream",
     "text": [
      "Silhouette with squared euclidean distance = 0.778477020402866\n",
      "Cluster Centers: \n",
      "[1.22588235e+03 1.84411765e+01 1.61764706e+01 1.52352941e+01\n",
      " 8.26470588e+01 5.12735294e+02 1.00000000e+00 0.00000000e+00\n",
      " 0.00000000e+00 0.00000000e+00 0.00000000e+00 0.00000000e+00\n",
      " 0.00000000e+00 0.00000000e+00 0.00000000e+00 1.00000000e+00\n",
      " 0.00000000e+00 0.00000000e+00 0.00000000e+00 0.00000000e+00\n",
      " 0.00000000e+00 0.00000000e+00 0.00000000e+00 0.00000000e+00\n",
      " 0.00000000e+00 0.00000000e+00 0.00000000e+00 0.00000000e+00\n",
      " 0.00000000e+00 0.00000000e+00 0.00000000e+00 0.00000000e+00\n",
      " 0.00000000e+00 0.00000000e+00 0.00000000e+00 2.94117647e-01\n",
      " 0.00000000e+00 0.00000000e+00 0.00000000e+00 0.00000000e+00\n",
      " 0.00000000e+00 0.00000000e+00 0.00000000e+00 0.00000000e+00\n",
      " 0.00000000e+00 0.00000000e+00 0.00000000e+00 0.00000000e+00\n",
      " 0.00000000e+00 0.00000000e+00 0.00000000e+00 0.00000000e+00\n",
      " 0.00000000e+00 0.00000000e+00 0.00000000e+00 0.00000000e+00\n",
      " 0.00000000e+00 0.00000000e+00 0.00000000e+00 0.00000000e+00\n",
      " 0.00000000e+00 0.00000000e+00 0.00000000e+00 0.00000000e+00\n",
      " 0.00000000e+00 0.00000000e+00 0.00000000e+00 0.00000000e+00\n",
      " 0.00000000e+00 0.00000000e+00 0.00000000e+00 0.00000000e+00\n",
      " 0.00000000e+00 0.00000000e+00 0.00000000e+00 0.00000000e+00\n",
      " 0.00000000e+00 0.00000000e+00 0.00000000e+00 2.94117647e-02\n",
      " 0.00000000e+00 0.00000000e+00 0.00000000e+00 0.00000000e+00\n",
      " 0.00000000e+00 0.00000000e+00 0.00000000e+00 0.00000000e+00\n",
      " 0.00000000e+00 0.00000000e+00 0.00000000e+00 0.00000000e+00\n",
      " 0.00000000e+00 0.00000000e+00 0.00000000e+00 0.00000000e+00\n",
      " 0.00000000e+00 0.00000000e+00 0.00000000e+00 0.00000000e+00\n",
      " 0.00000000e+00 0.00000000e+00 0.00000000e+00 0.00000000e+00\n",
      " 0.00000000e+00 0.00000000e+00 0.00000000e+00 0.00000000e+00\n",
      " 0.00000000e+00 0.00000000e+00 0.00000000e+00 0.00000000e+00\n",
      " 0.00000000e+00 0.00000000e+00 0.00000000e+00 0.00000000e+00\n",
      " 0.00000000e+00 0.00000000e+00 0.00000000e+00 0.00000000e+00\n",
      " 0.00000000e+00 0.00000000e+00 0.00000000e+00 0.00000000e+00\n",
      " 0.00000000e+00 0.00000000e+00 0.00000000e+00 0.00000000e+00\n",
      " 0.00000000e+00 0.00000000e+00 0.00000000e+00 0.00000000e+00\n",
      " 0.00000000e+00 0.00000000e+00 0.00000000e+00 0.00000000e+00\n",
      " 0.00000000e+00 0.00000000e+00 0.00000000e+00 0.00000000e+00\n",
      " 0.00000000e+00 0.00000000e+00 0.00000000e+00 0.00000000e+00\n",
      " 6.76470588e-01 0.00000000e+00 0.00000000e+00 0.00000000e+00\n",
      " 0.00000000e+00 0.00000000e+00 0.00000000e+00 0.00000000e+00\n",
      " 0.00000000e+00 0.00000000e+00 0.00000000e+00 0.00000000e+00\n",
      " 0.00000000e+00 0.00000000e+00 0.00000000e+00 0.00000000e+00\n",
      " 0.00000000e+00 0.00000000e+00 0.00000000e+00 0.00000000e+00\n",
      " 0.00000000e+00 0.00000000e+00 0.00000000e+00 0.00000000e+00\n",
      " 0.00000000e+00 0.00000000e+00 0.00000000e+00 0.00000000e+00\n",
      " 0.00000000e+00 0.00000000e+00 0.00000000e+00 0.00000000e+00\n",
      " 0.00000000e+00 0.00000000e+00 0.00000000e+00 0.00000000e+00\n",
      " 0.00000000e+00 0.00000000e+00 0.00000000e+00 0.00000000e+00\n",
      " 0.00000000e+00 0.00000000e+00 0.00000000e+00 0.00000000e+00\n",
      " 0.00000000e+00 0.00000000e+00 0.00000000e+00 0.00000000e+00\n",
      " 0.00000000e+00 0.00000000e+00 0.00000000e+00 0.00000000e+00\n",
      " 0.00000000e+00 0.00000000e+00 0.00000000e+00 0.00000000e+00\n",
      " 0.00000000e+00 0.00000000e+00 0.00000000e+00 0.00000000e+00\n",
      " 0.00000000e+00 0.00000000e+00 0.00000000e+00 0.00000000e+00\n",
      " 0.00000000e+00 0.00000000e+00 0.00000000e+00 0.00000000e+00\n",
      " 0.00000000e+00 0.00000000e+00 0.00000000e+00 0.00000000e+00\n",
      " 0.00000000e+00 0.00000000e+00 0.00000000e+00 0.00000000e+00\n",
      " 0.00000000e+00 0.00000000e+00 0.00000000e+00 0.00000000e+00\n",
      " 0.00000000e+00 0.00000000e+00 0.00000000e+00 0.00000000e+00\n",
      " 0.00000000e+00 0.00000000e+00 0.00000000e+00 0.00000000e+00\n",
      " 0.00000000e+00 0.00000000e+00 0.00000000e+00 0.00000000e+00\n",
      " 0.00000000e+00 0.00000000e+00 0.00000000e+00 0.00000000e+00\n",
      " 0.00000000e+00 0.00000000e+00 0.00000000e+00 0.00000000e+00\n",
      " 0.00000000e+00 0.00000000e+00 0.00000000e+00 0.00000000e+00\n",
      " 0.00000000e+00 0.00000000e+00 0.00000000e+00 0.00000000e+00\n",
      " 0.00000000e+00 0.00000000e+00 0.00000000e+00 0.00000000e+00\n",
      " 0.00000000e+00 0.00000000e+00 0.00000000e+00 0.00000000e+00\n",
      " 0.00000000e+00 0.00000000e+00 0.00000000e+00 0.00000000e+00\n",
      " 0.00000000e+00 0.00000000e+00 0.00000000e+00 0.00000000e+00\n",
      " 0.00000000e+00 0.00000000e+00 0.00000000e+00 0.00000000e+00\n",
      " 0.00000000e+00 0.00000000e+00 0.00000000e+00 0.00000000e+00\n",
      " 0.00000000e+00 0.00000000e+00 0.00000000e+00 0.00000000e+00\n",
      " 0.00000000e+00 0.00000000e+00 0.00000000e+00 0.00000000e+00\n",
      " 0.00000000e+00 0.00000000e+00 0.00000000e+00 0.00000000e+00\n",
      " 0.00000000e+00 0.00000000e+00 0.00000000e+00 0.00000000e+00\n",
      " 0.00000000e+00 0.00000000e+00 0.00000000e+00 0.00000000e+00\n",
      " 0.00000000e+00 0.00000000e+00 0.00000000e+00 0.00000000e+00\n",
      " 0.00000000e+00 0.00000000e+00 0.00000000e+00 0.00000000e+00\n",
      " 0.00000000e+00 0.00000000e+00 0.00000000e+00 0.00000000e+00\n",
      " 0.00000000e+00 0.00000000e+00 0.00000000e+00 0.00000000e+00\n",
      " 0.00000000e+00 0.00000000e+00 0.00000000e+00 0.00000000e+00\n",
      " 0.00000000e+00 0.00000000e+00 0.00000000e+00 0.00000000e+00\n",
      " 0.00000000e+00 0.00000000e+00 0.00000000e+00 0.00000000e+00\n",
      " 0.00000000e+00 0.00000000e+00 0.00000000e+00 0.00000000e+00\n",
      " 0.00000000e+00 0.00000000e+00 0.00000000e+00 0.00000000e+00\n",
      " 0.00000000e+00 0.00000000e+00 0.00000000e+00 0.00000000e+00\n",
      " 0.00000000e+00 0.00000000e+00 0.00000000e+00 0.00000000e+00\n",
      " 0.00000000e+00 0.00000000e+00 0.00000000e+00 0.00000000e+00\n",
      " 0.00000000e+00 0.00000000e+00 0.00000000e+00 0.00000000e+00\n",
      " 0.00000000e+00 0.00000000e+00 0.00000000e+00 0.00000000e+00\n",
      " 0.00000000e+00 0.00000000e+00 0.00000000e+00 0.00000000e+00\n",
      " 0.00000000e+00 0.00000000e+00 0.00000000e+00 0.00000000e+00\n",
      " 0.00000000e+00 0.00000000e+00 0.00000000e+00 0.00000000e+00\n",
      " 0.00000000e+00 0.00000000e+00 0.00000000e+00 0.00000000e+00\n",
      " 0.00000000e+00 0.00000000e+00 0.00000000e+00 0.00000000e+00\n",
      " 0.00000000e+00 0.00000000e+00 0.00000000e+00 0.00000000e+00\n",
      " 0.00000000e+00 0.00000000e+00 0.00000000e+00 0.00000000e+00\n",
      " 0.00000000e+00 0.00000000e+00 0.00000000e+00 0.00000000e+00\n",
      " 0.00000000e+00 0.00000000e+00 0.00000000e+00 0.00000000e+00\n",
      " 0.00000000e+00 0.00000000e+00 0.00000000e+00 0.00000000e+00\n",
      " 0.00000000e+00 0.00000000e+00 0.00000000e+00 0.00000000e+00\n",
      " 0.00000000e+00 0.00000000e+00 0.00000000e+00 0.00000000e+00\n",
      " 0.00000000e+00 0.00000000e+00 0.00000000e+00 0.00000000e+00\n",
      " 0.00000000e+00 0.00000000e+00 0.00000000e+00 0.00000000e+00\n",
      " 0.00000000e+00 0.00000000e+00 0.00000000e+00 0.00000000e+00\n",
      " 0.00000000e+00 0.00000000e+00 0.00000000e+00 0.00000000e+00\n",
      " 0.00000000e+00 0.00000000e+00 0.00000000e+00 0.00000000e+00\n",
      " 0.00000000e+00 0.00000000e+00 0.00000000e+00 0.00000000e+00\n",
      " 0.00000000e+00 0.00000000e+00 0.00000000e+00 0.00000000e+00\n",
      " 0.00000000e+00 0.00000000e+00 0.00000000e+00 0.00000000e+00\n",
      " 0.00000000e+00 0.00000000e+00 6.76470588e-01 0.00000000e+00\n",
      " 0.00000000e+00 0.00000000e+00 0.00000000e+00 2.94117647e-02\n",
      " 0.00000000e+00 0.00000000e+00 0.00000000e+00 0.00000000e+00\n",
      " 0.00000000e+00 0.00000000e+00 0.00000000e+00 0.00000000e+00\n",
      " 0.00000000e+00 0.00000000e+00 0.00000000e+00 0.00000000e+00\n",
      " 0.00000000e+00 0.00000000e+00 0.00000000e+00 0.00000000e+00\n",
      " 0.00000000e+00 0.00000000e+00 0.00000000e+00 0.00000000e+00\n",
      " 0.00000000e+00 0.00000000e+00 0.00000000e+00 0.00000000e+00\n",
      " 0.00000000e+00 0.00000000e+00 0.00000000e+00 0.00000000e+00\n",
      " 0.00000000e+00 0.00000000e+00 0.00000000e+00 0.00000000e+00\n",
      " 0.00000000e+00 0.00000000e+00 0.00000000e+00 0.00000000e+00\n",
      " 0.00000000e+00 0.00000000e+00 0.00000000e+00 0.00000000e+00\n",
      " 0.00000000e+00 0.00000000e+00 0.00000000e+00 0.00000000e+00\n",
      " 0.00000000e+00 0.00000000e+00 0.00000000e+00 0.00000000e+00\n",
      " 0.00000000e+00 0.00000000e+00 0.00000000e+00 0.00000000e+00\n",
      " 0.00000000e+00 0.00000000e+00 0.00000000e+00 0.00000000e+00\n",
      " 0.00000000e+00 0.00000000e+00 0.00000000e+00 0.00000000e+00\n",
      " 0.00000000e+00 0.00000000e+00 0.00000000e+00 0.00000000e+00\n",
      " 0.00000000e+00 0.00000000e+00 0.00000000e+00 0.00000000e+00\n",
      " 0.00000000e+00 0.00000000e+00 0.00000000e+00 0.00000000e+00\n",
      " 0.00000000e+00 0.00000000e+00 0.00000000e+00 0.00000000e+00\n",
      " 0.00000000e+00 0.00000000e+00 0.00000000e+00 0.00000000e+00\n",
      " 0.00000000e+00 0.00000000e+00 0.00000000e+00 0.00000000e+00\n",
      " 0.00000000e+00 0.00000000e+00 0.00000000e+00 0.00000000e+00\n",
      " 0.00000000e+00 0.00000000e+00 0.00000000e+00 0.00000000e+00\n",
      " 0.00000000e+00 0.00000000e+00 0.00000000e+00 0.00000000e+00\n",
      " 0.00000000e+00 0.00000000e+00 0.00000000e+00 0.00000000e+00\n",
      " 0.00000000e+00 0.00000000e+00 0.00000000e+00 0.00000000e+00\n",
      " 0.00000000e+00 0.00000000e+00 0.00000000e+00 0.00000000e+00\n",
      " 0.00000000e+00 0.00000000e+00 0.00000000e+00 0.00000000e+00\n",
      " 0.00000000e+00 0.00000000e+00 0.00000000e+00 0.00000000e+00\n",
      " 0.00000000e+00 0.00000000e+00 0.00000000e+00 0.00000000e+00\n",
      " 0.00000000e+00 0.00000000e+00 0.00000000e+00 0.00000000e+00\n",
      " 0.00000000e+00 0.00000000e+00 0.00000000e+00 0.00000000e+00\n",
      " 0.00000000e+00 0.00000000e+00 0.00000000e+00 0.00000000e+00\n",
      " 0.00000000e+00 0.00000000e+00 0.00000000e+00 0.00000000e+00\n",
      " 0.00000000e+00 0.00000000e+00 0.00000000e+00 0.00000000e+00\n",
      " 0.00000000e+00 0.00000000e+00 0.00000000e+00 0.00000000e+00\n",
      " 0.00000000e+00 0.00000000e+00 0.00000000e+00 0.00000000e+00\n",
      " 0.00000000e+00 0.00000000e+00 0.00000000e+00 0.00000000e+00\n",
      " 0.00000000e+00 0.00000000e+00 0.00000000e+00 0.00000000e+00\n",
      " 0.00000000e+00 0.00000000e+00 0.00000000e+00 0.00000000e+00\n",
      " 0.00000000e+00 0.00000000e+00 0.00000000e+00 0.00000000e+00\n",
      " 0.00000000e+00 0.00000000e+00 0.00000000e+00 0.00000000e+00\n",
      " 0.00000000e+00 0.00000000e+00 0.00000000e+00 0.00000000e+00\n",
      " 0.00000000e+00 0.00000000e+00 0.00000000e+00 0.00000000e+00\n",
      " 0.00000000e+00 0.00000000e+00 0.00000000e+00 0.00000000e+00\n",
      " 0.00000000e+00 0.00000000e+00 0.00000000e+00 0.00000000e+00\n",
      " 0.00000000e+00 0.00000000e+00 0.00000000e+00 0.00000000e+00\n",
      " 0.00000000e+00 0.00000000e+00 0.00000000e+00 0.00000000e+00\n",
      " 0.00000000e+00 0.00000000e+00 0.00000000e+00 0.00000000e+00\n",
      " 0.00000000e+00 0.00000000e+00 0.00000000e+00 0.00000000e+00\n",
      " 0.00000000e+00 0.00000000e+00 0.00000000e+00 0.00000000e+00\n",
      " 0.00000000e+00 0.00000000e+00 2.94117647e-01 0.00000000e+00\n",
      " 0.00000000e+00 0.00000000e+00 0.00000000e+00 0.00000000e+00\n",
      " 0.00000000e+00 0.00000000e+00 0.00000000e+00 0.00000000e+00\n",
      " 0.00000000e+00 0.00000000e+00 0.00000000e+00 0.00000000e+00\n",
      " 0.00000000e+00 0.00000000e+00 0.00000000e+00 0.00000000e+00\n",
      " 0.00000000e+00 0.00000000e+00 0.00000000e+00 0.00000000e+00\n",
      " 0.00000000e+00 0.00000000e+00 0.00000000e+00 0.00000000e+00\n",
      " 0.00000000e+00 0.00000000e+00 0.00000000e+00 0.00000000e+00\n",
      " 0.00000000e+00 0.00000000e+00 0.00000000e+00 0.00000000e+00\n",
      " 0.00000000e+00 0.00000000e+00 0.00000000e+00 0.00000000e+00\n",
      " 0.00000000e+00 0.00000000e+00 0.00000000e+00 0.00000000e+00\n",
      " 0.00000000e+00 0.00000000e+00 0.00000000e+00 0.00000000e+00\n",
      " 0.00000000e+00 0.00000000e+00 0.00000000e+00 0.00000000e+00\n",
      " 0.00000000e+00 0.00000000e+00 0.00000000e+00 0.00000000e+00\n",
      " 0.00000000e+00 0.00000000e+00 0.00000000e+00 0.00000000e+00\n",
      " 0.00000000e+00 0.00000000e+00 0.00000000e+00 0.00000000e+00\n",
      " 0.00000000e+00 0.00000000e+00 0.00000000e+00 0.00000000e+00\n",
      " 0.00000000e+00 0.00000000e+00 0.00000000e+00 0.00000000e+00\n",
      " 0.00000000e+00 0.00000000e+00 0.00000000e+00 0.00000000e+00\n",
      " 0.00000000e+00 0.00000000e+00 0.00000000e+00 0.00000000e+00\n",
      " 0.00000000e+00 0.00000000e+00 0.00000000e+00 0.00000000e+00\n",
      " 0.00000000e+00 0.00000000e+00 0.00000000e+00 0.00000000e+00\n",
      " 0.00000000e+00 0.00000000e+00 0.00000000e+00 0.00000000e+00\n",
      " 0.00000000e+00 0.00000000e+00 0.00000000e+00 0.00000000e+00\n",
      " 0.00000000e+00 0.00000000e+00 0.00000000e+00 0.00000000e+00\n",
      " 0.00000000e+00 0.00000000e+00 0.00000000e+00 0.00000000e+00\n",
      " 0.00000000e+00 0.00000000e+00 0.00000000e+00 0.00000000e+00\n",
      " 0.00000000e+00 0.00000000e+00 0.00000000e+00 0.00000000e+00\n",
      " 0.00000000e+00 0.00000000e+00 0.00000000e+00 0.00000000e+00\n",
      " 0.00000000e+00 0.00000000e+00 0.00000000e+00 0.00000000e+00\n",
      " 0.00000000e+00 0.00000000e+00 0.00000000e+00 0.00000000e+00\n",
      " 0.00000000e+00 0.00000000e+00 0.00000000e+00 0.00000000e+00\n",
      " 0.00000000e+00 0.00000000e+00 0.00000000e+00 0.00000000e+00\n",
      " 0.00000000e+00 0.00000000e+00 0.00000000e+00 0.00000000e+00\n",
      " 0.00000000e+00 0.00000000e+00 0.00000000e+00 0.00000000e+00\n",
      " 0.00000000e+00 0.00000000e+00 0.00000000e+00 0.00000000e+00\n",
      " 0.00000000e+00 0.00000000e+00 0.00000000e+00 0.00000000e+00\n",
      " 0.00000000e+00 0.00000000e+00 0.00000000e+00 0.00000000e+00\n",
      " 0.00000000e+00 0.00000000e+00 0.00000000e+00 0.00000000e+00\n",
      " 0.00000000e+00 0.00000000e+00 0.00000000e+00 0.00000000e+00\n",
      " 0.00000000e+00 0.00000000e+00 0.00000000e+00 0.00000000e+00\n",
      " 0.00000000e+00 0.00000000e+00 0.00000000e+00]\n",
      "[1.02166667e+03 1.14333333e+01 7.05000000e+00 1.08166667e+01\n",
      " 4.30000000e+01 2.25983333e+02 1.00000000e+00 0.00000000e+00\n",
      " 0.00000000e+00 0.00000000e+00 0.00000000e+00 0.00000000e+00\n",
      " 0.00000000e+00 0.00000000e+00 0.00000000e+00 1.00000000e+00\n",
      " 0.00000000e+00 0.00000000e+00 0.00000000e+00 0.00000000e+00\n",
      " 0.00000000e+00 0.00000000e+00 0.00000000e+00 0.00000000e+00\n",
      " 0.00000000e+00 0.00000000e+00 0.00000000e+00 0.00000000e+00\n",
      " 0.00000000e+00 0.00000000e+00 0.00000000e+00 0.00000000e+00\n",
      " 0.00000000e+00 0.00000000e+00 0.00000000e+00 8.00000000e-01\n",
      " 0.00000000e+00 0.00000000e+00 0.00000000e+00 0.00000000e+00\n",
      " 0.00000000e+00 0.00000000e+00 0.00000000e+00 0.00000000e+00\n",
      " 0.00000000e+00 0.00000000e+00 0.00000000e+00 0.00000000e+00\n",
      " 0.00000000e+00 0.00000000e+00 0.00000000e+00 0.00000000e+00\n",
      " 0.00000000e+00 0.00000000e+00 0.00000000e+00 0.00000000e+00\n",
      " 0.00000000e+00 0.00000000e+00 0.00000000e+00 0.00000000e+00\n",
      " 0.00000000e+00 0.00000000e+00 0.00000000e+00 0.00000000e+00\n",
      " 0.00000000e+00 0.00000000e+00 0.00000000e+00 0.00000000e+00\n",
      " 0.00000000e+00 0.00000000e+00 0.00000000e+00 0.00000000e+00\n",
      " 0.00000000e+00 0.00000000e+00 0.00000000e+00 0.00000000e+00\n",
      " 0.00000000e+00 0.00000000e+00 0.00000000e+00 0.00000000e+00\n",
      " 0.00000000e+00 0.00000000e+00 0.00000000e+00 0.00000000e+00\n",
      " 0.00000000e+00 0.00000000e+00 0.00000000e+00 0.00000000e+00\n",
      " 0.00000000e+00 0.00000000e+00 0.00000000e+00 0.00000000e+00\n",
      " 0.00000000e+00 0.00000000e+00 0.00000000e+00 0.00000000e+00\n",
      " 0.00000000e+00 5.00000000e-02 0.00000000e+00 0.00000000e+00\n",
      " 0.00000000e+00 0.00000000e+00 0.00000000e+00 0.00000000e+00\n",
      " 0.00000000e+00 0.00000000e+00 0.00000000e+00 0.00000000e+00\n",
      " 0.00000000e+00 0.00000000e+00 0.00000000e+00 0.00000000e+00\n",
      " 0.00000000e+00 0.00000000e+00 0.00000000e+00 0.00000000e+00\n",
      " 0.00000000e+00 0.00000000e+00 0.00000000e+00 0.00000000e+00\n",
      " 0.00000000e+00 0.00000000e+00 0.00000000e+00 0.00000000e+00\n",
      " 0.00000000e+00 0.00000000e+00 0.00000000e+00 0.00000000e+00\n",
      " 0.00000000e+00 0.00000000e+00 0.00000000e+00 0.00000000e+00\n",
      " 0.00000000e+00 0.00000000e+00 0.00000000e+00 0.00000000e+00\n",
      " 0.00000000e+00 0.00000000e+00 0.00000000e+00 0.00000000e+00\n",
      " 0.00000000e+00 0.00000000e+00 0.00000000e+00 0.00000000e+00\n",
      " 0.00000000e+00 0.00000000e+00 0.00000000e+00 0.00000000e+00\n",
      " 0.00000000e+00 0.00000000e+00 0.00000000e+00 0.00000000e+00\n",
      " 0.00000000e+00 0.00000000e+00 0.00000000e+00 0.00000000e+00\n",
      " 0.00000000e+00 0.00000000e+00 0.00000000e+00 0.00000000e+00\n",
      " 0.00000000e+00 0.00000000e+00 0.00000000e+00 0.00000000e+00\n",
      " 0.00000000e+00 0.00000000e+00 0.00000000e+00 0.00000000e+00\n",
      " 0.00000000e+00 0.00000000e+00 0.00000000e+00 0.00000000e+00\n",
      " 0.00000000e+00 0.00000000e+00 0.00000000e+00 3.33333333e-02\n",
      " 0.00000000e+00 0.00000000e+00 0.00000000e+00 0.00000000e+00\n",
      " 0.00000000e+00 0.00000000e+00 0.00000000e+00 0.00000000e+00\n",
      " 0.00000000e+00 0.00000000e+00 0.00000000e+00 0.00000000e+00\n",
      " 0.00000000e+00 0.00000000e+00 0.00000000e+00 0.00000000e+00\n",
      " 0.00000000e+00 0.00000000e+00 0.00000000e+00 0.00000000e+00\n",
      " 0.00000000e+00 0.00000000e+00 0.00000000e+00 0.00000000e+00\n",
      " 0.00000000e+00 0.00000000e+00 0.00000000e+00 0.00000000e+00\n",
      " 0.00000000e+00 0.00000000e+00 0.00000000e+00 0.00000000e+00\n",
      " 0.00000000e+00 0.00000000e+00 0.00000000e+00 0.00000000e+00\n",
      " 0.00000000e+00 0.00000000e+00 0.00000000e+00 0.00000000e+00\n",
      " 0.00000000e+00 0.00000000e+00 0.00000000e+00 0.00000000e+00\n",
      " 0.00000000e+00 0.00000000e+00 0.00000000e+00 0.00000000e+00\n",
      " 0.00000000e+00 0.00000000e+00 0.00000000e+00 0.00000000e+00\n",
      " 0.00000000e+00 0.00000000e+00 0.00000000e+00 0.00000000e+00\n",
      " 0.00000000e+00 0.00000000e+00 0.00000000e+00 0.00000000e+00\n",
      " 0.00000000e+00 0.00000000e+00 0.00000000e+00 0.00000000e+00\n",
      " 0.00000000e+00 0.00000000e+00 0.00000000e+00 0.00000000e+00\n",
      " 0.00000000e+00 0.00000000e+00 0.00000000e+00 0.00000000e+00\n",
      " 0.00000000e+00 0.00000000e+00 0.00000000e+00 0.00000000e+00\n",
      " 0.00000000e+00 0.00000000e+00 0.00000000e+00 0.00000000e+00\n",
      " 0.00000000e+00 0.00000000e+00 0.00000000e+00 0.00000000e+00\n",
      " 0.00000000e+00 0.00000000e+00 0.00000000e+00 0.00000000e+00\n",
      " 0.00000000e+00 0.00000000e+00 0.00000000e+00 0.00000000e+00\n",
      " 0.00000000e+00 0.00000000e+00 0.00000000e+00 0.00000000e+00\n",
      " 0.00000000e+00 0.00000000e+00 0.00000000e+00 0.00000000e+00\n",
      " 0.00000000e+00 0.00000000e+00 0.00000000e+00 0.00000000e+00\n",
      " 0.00000000e+00 0.00000000e+00 0.00000000e+00 0.00000000e+00\n",
      " 0.00000000e+00 0.00000000e+00 0.00000000e+00 0.00000000e+00\n",
      " 0.00000000e+00 0.00000000e+00 0.00000000e+00 0.00000000e+00\n",
      " 0.00000000e+00 0.00000000e+00 0.00000000e+00 0.00000000e+00\n",
      " 0.00000000e+00 0.00000000e+00 0.00000000e+00 0.00000000e+00\n",
      " 0.00000000e+00 0.00000000e+00 0.00000000e+00 0.00000000e+00\n",
      " 0.00000000e+00 0.00000000e+00 1.16666667e-01 0.00000000e+00\n",
      " 0.00000000e+00 0.00000000e+00 0.00000000e+00 0.00000000e+00\n",
      " 0.00000000e+00 0.00000000e+00 0.00000000e+00 0.00000000e+00\n",
      " 0.00000000e+00 0.00000000e+00 0.00000000e+00 0.00000000e+00\n",
      " 0.00000000e+00 0.00000000e+00 0.00000000e+00 0.00000000e+00\n",
      " 0.00000000e+00 0.00000000e+00 0.00000000e+00 0.00000000e+00\n",
      " 0.00000000e+00 0.00000000e+00 0.00000000e+00 0.00000000e+00\n",
      " 0.00000000e+00 0.00000000e+00 0.00000000e+00 0.00000000e+00\n",
      " 0.00000000e+00 0.00000000e+00 0.00000000e+00 0.00000000e+00\n",
      " 0.00000000e+00 0.00000000e+00 0.00000000e+00 0.00000000e+00\n",
      " 0.00000000e+00 0.00000000e+00 0.00000000e+00 0.00000000e+00\n",
      " 0.00000000e+00 0.00000000e+00 0.00000000e+00 0.00000000e+00\n",
      " 0.00000000e+00 0.00000000e+00 0.00000000e+00 0.00000000e+00\n",
      " 0.00000000e+00 0.00000000e+00 0.00000000e+00 0.00000000e+00\n",
      " 0.00000000e+00 0.00000000e+00 0.00000000e+00 0.00000000e+00\n",
      " 0.00000000e+00 0.00000000e+00 0.00000000e+00 0.00000000e+00\n",
      " 0.00000000e+00 0.00000000e+00 0.00000000e+00 0.00000000e+00\n",
      " 0.00000000e+00 0.00000000e+00 0.00000000e+00 0.00000000e+00\n",
      " 0.00000000e+00 0.00000000e+00 0.00000000e+00 0.00000000e+00\n",
      " 0.00000000e+00 0.00000000e+00 0.00000000e+00 0.00000000e+00\n",
      " 0.00000000e+00 0.00000000e+00 0.00000000e+00 0.00000000e+00\n",
      " 0.00000000e+00 0.00000000e+00 0.00000000e+00 0.00000000e+00\n",
      " 0.00000000e+00 0.00000000e+00 0.00000000e+00 0.00000000e+00\n",
      " 0.00000000e+00 0.00000000e+00 0.00000000e+00 0.00000000e+00\n",
      " 0.00000000e+00 0.00000000e+00 0.00000000e+00 0.00000000e+00\n",
      " 0.00000000e+00 0.00000000e+00 0.00000000e+00 0.00000000e+00\n",
      " 0.00000000e+00 0.00000000e+00 0.00000000e+00 0.00000000e+00\n",
      " 0.00000000e+00 0.00000000e+00 0.00000000e+00 0.00000000e+00\n",
      " 0.00000000e+00 0.00000000e+00 0.00000000e+00 0.00000000e+00\n",
      " 0.00000000e+00 0.00000000e+00 0.00000000e+00 1.50000000e-01\n",
      " 0.00000000e+00 0.00000000e+00 0.00000000e+00 0.00000000e+00\n",
      " 0.00000000e+00 0.00000000e+00 0.00000000e+00 0.00000000e+00\n",
      " 0.00000000e+00 0.00000000e+00 5.00000000e-02 0.00000000e+00\n",
      " 0.00000000e+00 0.00000000e+00 0.00000000e+00 0.00000000e+00\n",
      " 0.00000000e+00 0.00000000e+00 0.00000000e+00 0.00000000e+00\n",
      " 0.00000000e+00 0.00000000e+00 0.00000000e+00 0.00000000e+00\n",
      " 0.00000000e+00 0.00000000e+00 0.00000000e+00 0.00000000e+00\n",
      " 0.00000000e+00 0.00000000e+00 0.00000000e+00 0.00000000e+00\n",
      " 0.00000000e+00 0.00000000e+00 0.00000000e+00 0.00000000e+00\n",
      " 0.00000000e+00 0.00000000e+00 0.00000000e+00 0.00000000e+00\n",
      " 0.00000000e+00 0.00000000e+00 0.00000000e+00 0.00000000e+00\n",
      " 0.00000000e+00 0.00000000e+00 0.00000000e+00 0.00000000e+00\n",
      " 0.00000000e+00 0.00000000e+00 0.00000000e+00 0.00000000e+00\n",
      " 0.00000000e+00 0.00000000e+00 0.00000000e+00 0.00000000e+00\n",
      " 0.00000000e+00 0.00000000e+00 0.00000000e+00 0.00000000e+00\n",
      " 0.00000000e+00 0.00000000e+00 0.00000000e+00 0.00000000e+00\n",
      " 0.00000000e+00 0.00000000e+00 0.00000000e+00 0.00000000e+00\n",
      " 0.00000000e+00 0.00000000e+00 0.00000000e+00 0.00000000e+00\n",
      " 0.00000000e+00 0.00000000e+00 0.00000000e+00 0.00000000e+00\n",
      " 0.00000000e+00 0.00000000e+00 0.00000000e+00 0.00000000e+00\n",
      " 0.00000000e+00 0.00000000e+00 0.00000000e+00 0.00000000e+00\n",
      " 0.00000000e+00 0.00000000e+00 0.00000000e+00 0.00000000e+00\n",
      " 0.00000000e+00 0.00000000e+00 0.00000000e+00 0.00000000e+00\n",
      " 0.00000000e+00 0.00000000e+00 0.00000000e+00 0.00000000e+00\n",
      " 0.00000000e+00 0.00000000e+00 0.00000000e+00 0.00000000e+00\n",
      " 0.00000000e+00 0.00000000e+00 0.00000000e+00 0.00000000e+00\n",
      " 0.00000000e+00 0.00000000e+00 0.00000000e+00 0.00000000e+00\n",
      " 0.00000000e+00 0.00000000e+00 0.00000000e+00 0.00000000e+00\n",
      " 0.00000000e+00 0.00000000e+00 0.00000000e+00 0.00000000e+00\n",
      " 0.00000000e+00 0.00000000e+00 0.00000000e+00 0.00000000e+00\n",
      " 0.00000000e+00 0.00000000e+00 0.00000000e+00 0.00000000e+00\n",
      " 0.00000000e+00 0.00000000e+00 0.00000000e+00 0.00000000e+00\n",
      " 0.00000000e+00 0.00000000e+00 0.00000000e+00 0.00000000e+00\n",
      " 0.00000000e+00 0.00000000e+00 0.00000000e+00 0.00000000e+00\n",
      " 0.00000000e+00 0.00000000e+00 0.00000000e+00 1.66666667e-02\n",
      " 0.00000000e+00 0.00000000e+00 0.00000000e+00 0.00000000e+00\n",
      " 0.00000000e+00 0.00000000e+00 0.00000000e+00 0.00000000e+00\n",
      " 0.00000000e+00 0.00000000e+00 0.00000000e+00 0.00000000e+00\n",
      " 0.00000000e+00 0.00000000e+00 0.00000000e+00 0.00000000e+00\n",
      " 0.00000000e+00 0.00000000e+00 0.00000000e+00 0.00000000e+00\n",
      " 0.00000000e+00 0.00000000e+00 3.33333333e-01 0.00000000e+00\n",
      " 0.00000000e+00 0.00000000e+00 0.00000000e+00 0.00000000e+00\n",
      " 0.00000000e+00 0.00000000e+00 0.00000000e+00 0.00000000e+00\n",
      " 0.00000000e+00 0.00000000e+00 0.00000000e+00 0.00000000e+00\n",
      " 0.00000000e+00 0.00000000e+00 0.00000000e+00 0.00000000e+00\n",
      " 0.00000000e+00 0.00000000e+00 0.00000000e+00 0.00000000e+00\n",
      " 0.00000000e+00 0.00000000e+00 0.00000000e+00 0.00000000e+00\n",
      " 0.00000000e+00 0.00000000e+00 0.00000000e+00 0.00000000e+00\n",
      " 0.00000000e+00 0.00000000e+00 0.00000000e+00 0.00000000e+00\n",
      " 0.00000000e+00 0.00000000e+00 0.00000000e+00 0.00000000e+00\n",
      " 0.00000000e+00 0.00000000e+00 0.00000000e+00 0.00000000e+00\n",
      " 0.00000000e+00 0.00000000e+00 0.00000000e+00 0.00000000e+00\n",
      " 0.00000000e+00 0.00000000e+00 0.00000000e+00 0.00000000e+00\n",
      " 0.00000000e+00 0.00000000e+00 0.00000000e+00 0.00000000e+00\n",
      " 0.00000000e+00 0.00000000e+00 0.00000000e+00 0.00000000e+00\n",
      " 0.00000000e+00 0.00000000e+00 0.00000000e+00 0.00000000e+00\n",
      " 0.00000000e+00 0.00000000e+00 0.00000000e+00 0.00000000e+00\n",
      " 0.00000000e+00 0.00000000e+00 0.00000000e+00 0.00000000e+00\n",
      " 0.00000000e+00 0.00000000e+00 0.00000000e+00 0.00000000e+00\n",
      " 0.00000000e+00 0.00000000e+00 0.00000000e+00 0.00000000e+00\n",
      " 0.00000000e+00 0.00000000e+00 0.00000000e+00 0.00000000e+00\n",
      " 0.00000000e+00 0.00000000e+00 0.00000000e+00 0.00000000e+00\n",
      " 0.00000000e+00 0.00000000e+00 0.00000000e+00 0.00000000e+00\n",
      " 0.00000000e+00 0.00000000e+00 0.00000000e+00 0.00000000e+00\n",
      " 0.00000000e+00 0.00000000e+00 0.00000000e+00 0.00000000e+00\n",
      " 0.00000000e+00 0.00000000e+00 0.00000000e+00 0.00000000e+00\n",
      " 0.00000000e+00 0.00000000e+00 0.00000000e+00 0.00000000e+00\n",
      " 0.00000000e+00 4.50000000e-01 0.00000000e+00 0.00000000e+00\n",
      " 0.00000000e+00 0.00000000e+00 0.00000000e+00 0.00000000e+00\n",
      " 0.00000000e+00 0.00000000e+00 0.00000000e+00 0.00000000e+00\n",
      " 0.00000000e+00 0.00000000e+00 0.00000000e+00 0.00000000e+00\n",
      " 0.00000000e+00 0.00000000e+00 0.00000000e+00 0.00000000e+00\n",
      " 0.00000000e+00 0.00000000e+00 0.00000000e+00 0.00000000e+00\n",
      " 0.00000000e+00 0.00000000e+00 0.00000000e+00 0.00000000e+00\n",
      " 0.00000000e+00 0.00000000e+00 0.00000000e+00 0.00000000e+00\n",
      " 0.00000000e+00 0.00000000e+00 0.00000000e+00 0.00000000e+00\n",
      " 0.00000000e+00 0.00000000e+00 0.00000000e+00 0.00000000e+00\n",
      " 0.00000000e+00 0.00000000e+00 0.00000000e+00 0.00000000e+00\n",
      " 0.00000000e+00 0.00000000e+00 0.00000000e+00 0.00000000e+00\n",
      " 0.00000000e+00 0.00000000e+00 0.00000000e+00 0.00000000e+00\n",
      " 0.00000000e+00 0.00000000e+00 0.00000000e+00 0.00000000e+00\n",
      " 0.00000000e+00 0.00000000e+00 0.00000000e+00 0.00000000e+00\n",
      " 0.00000000e+00 0.00000000e+00 0.00000000e+00 0.00000000e+00\n",
      " 0.00000000e+00 0.00000000e+00 0.00000000e+00 0.00000000e+00\n",
      " 0.00000000e+00 0.00000000e+00 0.00000000e+00 0.00000000e+00\n",
      " 0.00000000e+00 0.00000000e+00 0.00000000e+00 0.00000000e+00\n",
      " 0.00000000e+00 0.00000000e+00 0.00000000e+00 0.00000000e+00\n",
      " 0.00000000e+00 0.00000000e+00 0.00000000e+00 0.00000000e+00\n",
      " 0.00000000e+00 0.00000000e+00 0.00000000e+00 0.00000000e+00\n",
      " 0.00000000e+00 0.00000000e+00 0.00000000e+00 0.00000000e+00\n",
      " 0.00000000e+00 0.00000000e+00 0.00000000e+00 0.00000000e+00\n",
      " 0.00000000e+00 0.00000000e+00 0.00000000e+00 0.00000000e+00\n",
      " 0.00000000e+00 0.00000000e+00 0.00000000e+00 0.00000000e+00\n",
      " 0.00000000e+00 0.00000000e+00 0.00000000e+00 0.00000000e+00\n",
      " 0.00000000e+00 0.00000000e+00 0.00000000e+00 0.00000000e+00\n",
      " 0.00000000e+00 0.00000000e+00 0.00000000e+00 0.00000000e+00\n",
      " 0.00000000e+00 0.00000000e+00 0.00000000e+00]\n",
      "[ 1.87750000e+03  0.00000000e+00 -7.83333333e+00  0.00000000e+00\n",
      "  4.16666667e+01  2.31500000e+02  1.00000000e+00  0.00000000e+00\n",
      "  0.00000000e+00  0.00000000e+00  0.00000000e+00  0.00000000e+00\n",
      "  0.00000000e+00  0.00000000e+00  0.00000000e+00  1.00000000e+00\n",
      "  0.00000000e+00  0.00000000e+00  0.00000000e+00  0.00000000e+00\n",
      "  0.00000000e+00  0.00000000e+00  0.00000000e+00  0.00000000e+00\n",
      "  0.00000000e+00  0.00000000e+00  0.00000000e+00  0.00000000e+00\n",
      "  0.00000000e+00  0.00000000e+00  0.00000000e+00  0.00000000e+00\n",
      "  0.00000000e+00  0.00000000e+00  0.00000000e+00  1.66666667e-01\n",
      "  0.00000000e+00  0.00000000e+00  0.00000000e+00  0.00000000e+00\n",
      "  0.00000000e+00  0.00000000e+00  0.00000000e+00  0.00000000e+00\n",
      "  0.00000000e+00  0.00000000e+00  0.00000000e+00  0.00000000e+00\n",
      "  0.00000000e+00  0.00000000e+00  8.33333333e-01  0.00000000e+00\n",
      "  0.00000000e+00  0.00000000e+00  0.00000000e+00  0.00000000e+00\n",
      "  0.00000000e+00  0.00000000e+00  0.00000000e+00  0.00000000e+00\n",
      "  0.00000000e+00  0.00000000e+00  0.00000000e+00  0.00000000e+00\n",
      "  0.00000000e+00  0.00000000e+00  0.00000000e+00  0.00000000e+00\n",
      "  0.00000000e+00  0.00000000e+00  0.00000000e+00  0.00000000e+00\n",
      "  0.00000000e+00  0.00000000e+00  0.00000000e+00  0.00000000e+00\n",
      "  0.00000000e+00  0.00000000e+00  0.00000000e+00  0.00000000e+00\n",
      "  0.00000000e+00  0.00000000e+00  0.00000000e+00  0.00000000e+00\n",
      "  0.00000000e+00  0.00000000e+00  0.00000000e+00  0.00000000e+00\n",
      "  0.00000000e+00  0.00000000e+00  0.00000000e+00  0.00000000e+00\n",
      "  0.00000000e+00  0.00000000e+00  0.00000000e+00  0.00000000e+00\n",
      "  0.00000000e+00  0.00000000e+00  0.00000000e+00  0.00000000e+00\n",
      "  0.00000000e+00  0.00000000e+00  0.00000000e+00  0.00000000e+00\n",
      "  0.00000000e+00  0.00000000e+00  0.00000000e+00  0.00000000e+00\n",
      "  0.00000000e+00  0.00000000e+00  0.00000000e+00  0.00000000e+00\n",
      "  0.00000000e+00  0.00000000e+00  0.00000000e+00  0.00000000e+00\n",
      "  0.00000000e+00  0.00000000e+00  0.00000000e+00  0.00000000e+00\n",
      "  0.00000000e+00  0.00000000e+00  0.00000000e+00  0.00000000e+00\n",
      "  0.00000000e+00  0.00000000e+00  0.00000000e+00  0.00000000e+00\n",
      "  0.00000000e+00  0.00000000e+00  0.00000000e+00  0.00000000e+00\n",
      "  0.00000000e+00  0.00000000e+00  0.00000000e+00  0.00000000e+00\n",
      "  0.00000000e+00  0.00000000e+00  0.00000000e+00  0.00000000e+00\n",
      "  0.00000000e+00  0.00000000e+00  0.00000000e+00  0.00000000e+00\n",
      "  0.00000000e+00  0.00000000e+00  0.00000000e+00  0.00000000e+00\n",
      "  0.00000000e+00  0.00000000e+00  0.00000000e+00  0.00000000e+00\n",
      "  0.00000000e+00  0.00000000e+00  0.00000000e+00  0.00000000e+00\n",
      "  0.00000000e+00  0.00000000e+00  0.00000000e+00  0.00000000e+00\n",
      "  0.00000000e+00  0.00000000e+00  0.00000000e+00  0.00000000e+00\n",
      "  0.00000000e+00  0.00000000e+00  0.00000000e+00  0.00000000e+00\n",
      "  0.00000000e+00  0.00000000e+00  0.00000000e+00  0.00000000e+00\n",
      "  0.00000000e+00  0.00000000e+00  0.00000000e+00  0.00000000e+00\n",
      "  0.00000000e+00  0.00000000e+00  0.00000000e+00  0.00000000e+00\n",
      "  0.00000000e+00  0.00000000e+00  0.00000000e+00  0.00000000e+00\n",
      "  0.00000000e+00  0.00000000e+00  0.00000000e+00  0.00000000e+00\n",
      "  0.00000000e+00  0.00000000e+00  0.00000000e+00  0.00000000e+00\n",
      "  0.00000000e+00  0.00000000e+00  0.00000000e+00  0.00000000e+00\n",
      "  0.00000000e+00  0.00000000e+00  0.00000000e+00  0.00000000e+00\n",
      "  0.00000000e+00  0.00000000e+00  0.00000000e+00  0.00000000e+00\n",
      "  0.00000000e+00  0.00000000e+00  0.00000000e+00  0.00000000e+00\n",
      "  0.00000000e+00  0.00000000e+00  0.00000000e+00  0.00000000e+00\n",
      "  0.00000000e+00  0.00000000e+00  0.00000000e+00  0.00000000e+00\n",
      "  0.00000000e+00  0.00000000e+00  0.00000000e+00  0.00000000e+00\n",
      "  0.00000000e+00  0.00000000e+00  0.00000000e+00  0.00000000e+00\n",
      "  0.00000000e+00  0.00000000e+00  0.00000000e+00  0.00000000e+00\n",
      "  0.00000000e+00  0.00000000e+00  0.00000000e+00  0.00000000e+00\n",
      "  0.00000000e+00  0.00000000e+00  0.00000000e+00  0.00000000e+00\n",
      "  0.00000000e+00  0.00000000e+00  0.00000000e+00  0.00000000e+00\n",
      "  0.00000000e+00  0.00000000e+00  0.00000000e+00  0.00000000e+00\n",
      "  0.00000000e+00  0.00000000e+00  0.00000000e+00  0.00000000e+00\n",
      "  0.00000000e+00  0.00000000e+00  0.00000000e+00  0.00000000e+00\n",
      "  0.00000000e+00  0.00000000e+00  0.00000000e+00  0.00000000e+00\n",
      "  0.00000000e+00  0.00000000e+00  0.00000000e+00  0.00000000e+00\n",
      "  0.00000000e+00  0.00000000e+00  0.00000000e+00  0.00000000e+00\n",
      "  0.00000000e+00  0.00000000e+00  0.00000000e+00  0.00000000e+00\n",
      "  0.00000000e+00  0.00000000e+00  0.00000000e+00  0.00000000e+00\n",
      "  0.00000000e+00  0.00000000e+00  0.00000000e+00  0.00000000e+00\n",
      "  0.00000000e+00  0.00000000e+00  0.00000000e+00  0.00000000e+00\n",
      "  0.00000000e+00  0.00000000e+00  0.00000000e+00  0.00000000e+00\n",
      "  0.00000000e+00  0.00000000e+00  0.00000000e+00  0.00000000e+00\n",
      "  0.00000000e+00  0.00000000e+00  0.00000000e+00  0.00000000e+00\n",
      "  0.00000000e+00  0.00000000e+00  0.00000000e+00  0.00000000e+00\n",
      "  0.00000000e+00  0.00000000e+00  0.00000000e+00  0.00000000e+00\n",
      "  0.00000000e+00  0.00000000e+00  0.00000000e+00  0.00000000e+00\n",
      "  0.00000000e+00  0.00000000e+00  0.00000000e+00  0.00000000e+00\n",
      "  0.00000000e+00  0.00000000e+00  0.00000000e+00  0.00000000e+00\n",
      "  0.00000000e+00  0.00000000e+00  0.00000000e+00  0.00000000e+00\n",
      "  0.00000000e+00  0.00000000e+00  0.00000000e+00  0.00000000e+00\n",
      "  0.00000000e+00  0.00000000e+00  0.00000000e+00  0.00000000e+00\n",
      "  0.00000000e+00  0.00000000e+00  0.00000000e+00  0.00000000e+00\n",
      "  0.00000000e+00  0.00000000e+00  0.00000000e+00  0.00000000e+00\n",
      "  0.00000000e+00  0.00000000e+00  0.00000000e+00  0.00000000e+00\n",
      "  0.00000000e+00  0.00000000e+00  0.00000000e+00  0.00000000e+00\n",
      "  0.00000000e+00  0.00000000e+00  0.00000000e+00  0.00000000e+00\n",
      "  0.00000000e+00  0.00000000e+00  0.00000000e+00  0.00000000e+00\n",
      "  0.00000000e+00  0.00000000e+00  0.00000000e+00  0.00000000e+00\n",
      "  0.00000000e+00  0.00000000e+00  0.00000000e+00  0.00000000e+00\n",
      "  0.00000000e+00  0.00000000e+00  0.00000000e+00  0.00000000e+00\n",
      "  0.00000000e+00  0.00000000e+00  0.00000000e+00  0.00000000e+00\n",
      "  0.00000000e+00  0.00000000e+00  0.00000000e+00  0.00000000e+00\n",
      "  0.00000000e+00  0.00000000e+00  0.00000000e+00  0.00000000e+00\n",
      "  0.00000000e+00  0.00000000e+00  0.00000000e+00  0.00000000e+00\n",
      "  0.00000000e+00  0.00000000e+00  0.00000000e+00  0.00000000e+00\n",
      "  0.00000000e+00  0.00000000e+00  0.00000000e+00  0.00000000e+00\n",
      "  0.00000000e+00  0.00000000e+00  0.00000000e+00  0.00000000e+00\n",
      "  0.00000000e+00  0.00000000e+00  0.00000000e+00  0.00000000e+00\n",
      "  0.00000000e+00  0.00000000e+00  0.00000000e+00  0.00000000e+00\n",
      "  0.00000000e+00  0.00000000e+00  0.00000000e+00  0.00000000e+00\n",
      "  0.00000000e+00  0.00000000e+00  0.00000000e+00  0.00000000e+00\n",
      "  0.00000000e+00  0.00000000e+00  0.00000000e+00  0.00000000e+00\n",
      "  0.00000000e+00  0.00000000e+00  0.00000000e+00  0.00000000e+00\n",
      "  0.00000000e+00  0.00000000e+00  0.00000000e+00  0.00000000e+00\n",
      "  0.00000000e+00  0.00000000e+00  0.00000000e+00  0.00000000e+00\n",
      "  0.00000000e+00  0.00000000e+00  0.00000000e+00  0.00000000e+00\n",
      "  0.00000000e+00  0.00000000e+00  0.00000000e+00  0.00000000e+00\n",
      "  0.00000000e+00  0.00000000e+00  0.00000000e+00  0.00000000e+00\n",
      "  0.00000000e+00  0.00000000e+00  0.00000000e+00  0.00000000e+00\n",
      "  0.00000000e+00  0.00000000e+00  0.00000000e+00  0.00000000e+00\n",
      "  0.00000000e+00  0.00000000e+00  0.00000000e+00  0.00000000e+00\n",
      "  0.00000000e+00  0.00000000e+00  0.00000000e+00  0.00000000e+00\n",
      "  0.00000000e+00  0.00000000e+00  0.00000000e+00  0.00000000e+00\n",
      "  0.00000000e+00  0.00000000e+00  0.00000000e+00  0.00000000e+00\n",
      "  0.00000000e+00  0.00000000e+00  0.00000000e+00  0.00000000e+00\n",
      "  0.00000000e+00  0.00000000e+00  0.00000000e+00  0.00000000e+00\n",
      "  0.00000000e+00  0.00000000e+00  0.00000000e+00  0.00000000e+00\n",
      "  0.00000000e+00  0.00000000e+00  0.00000000e+00  0.00000000e+00\n",
      "  0.00000000e+00  0.00000000e+00  0.00000000e+00  0.00000000e+00\n",
      "  0.00000000e+00  0.00000000e+00  0.00000000e+00  0.00000000e+00\n",
      "  0.00000000e+00  0.00000000e+00  0.00000000e+00  0.00000000e+00\n",
      "  0.00000000e+00  0.00000000e+00  0.00000000e+00  0.00000000e+00\n",
      "  0.00000000e+00  0.00000000e+00  0.00000000e+00  0.00000000e+00\n",
      "  0.00000000e+00  0.00000000e+00  0.00000000e+00  0.00000000e+00\n",
      "  0.00000000e+00  0.00000000e+00  0.00000000e+00  0.00000000e+00\n",
      "  0.00000000e+00  0.00000000e+00  0.00000000e+00  0.00000000e+00\n",
      "  0.00000000e+00  0.00000000e+00  0.00000000e+00  8.33333333e-01\n",
      "  0.00000000e+00  0.00000000e+00  0.00000000e+00  0.00000000e+00\n",
      "  0.00000000e+00  0.00000000e+00  0.00000000e+00  0.00000000e+00\n",
      "  0.00000000e+00  0.00000000e+00  0.00000000e+00  0.00000000e+00\n",
      "  0.00000000e+00  0.00000000e+00  0.00000000e+00  0.00000000e+00\n",
      "  0.00000000e+00  0.00000000e+00  0.00000000e+00  0.00000000e+00\n",
      "  0.00000000e+00  0.00000000e+00  0.00000000e+00  0.00000000e+00\n",
      "  0.00000000e+00  0.00000000e+00  0.00000000e+00  0.00000000e+00\n",
      "  0.00000000e+00  0.00000000e+00  0.00000000e+00  0.00000000e+00\n",
      "  0.00000000e+00  0.00000000e+00  0.00000000e+00  0.00000000e+00\n",
      "  0.00000000e+00  0.00000000e+00  0.00000000e+00  0.00000000e+00\n",
      "  0.00000000e+00  0.00000000e+00  0.00000000e+00  0.00000000e+00\n",
      "  0.00000000e+00  0.00000000e+00  0.00000000e+00  0.00000000e+00\n",
      "  0.00000000e+00  0.00000000e+00  0.00000000e+00  0.00000000e+00\n",
      "  0.00000000e+00  0.00000000e+00  0.00000000e+00  0.00000000e+00\n",
      "  0.00000000e+00  0.00000000e+00  0.00000000e+00  0.00000000e+00\n",
      "  0.00000000e+00  0.00000000e+00  0.00000000e+00  0.00000000e+00\n",
      "  0.00000000e+00  0.00000000e+00  0.00000000e+00  0.00000000e+00\n",
      "  0.00000000e+00  0.00000000e+00  0.00000000e+00  0.00000000e+00\n",
      "  0.00000000e+00  0.00000000e+00  0.00000000e+00  0.00000000e+00\n",
      "  0.00000000e+00  0.00000000e+00  0.00000000e+00  0.00000000e+00\n",
      "  0.00000000e+00  0.00000000e+00  0.00000000e+00  0.00000000e+00\n",
      "  0.00000000e+00  0.00000000e+00  0.00000000e+00  0.00000000e+00\n",
      "  0.00000000e+00  0.00000000e+00  0.00000000e+00  0.00000000e+00\n",
      "  0.00000000e+00  0.00000000e+00  0.00000000e+00  0.00000000e+00\n",
      "  0.00000000e+00  0.00000000e+00  0.00000000e+00  0.00000000e+00\n",
      "  0.00000000e+00  0.00000000e+00  0.00000000e+00  0.00000000e+00\n",
      "  1.66666667e-01  0.00000000e+00  0.00000000e+00  0.00000000e+00\n",
      "  0.00000000e+00  0.00000000e+00  0.00000000e+00  0.00000000e+00\n",
      "  0.00000000e+00  0.00000000e+00  0.00000000e+00  0.00000000e+00\n",
      "  0.00000000e+00  0.00000000e+00  0.00000000e+00  0.00000000e+00\n",
      "  0.00000000e+00  0.00000000e+00  0.00000000e+00  0.00000000e+00\n",
      "  0.00000000e+00  0.00000000e+00  0.00000000e+00  0.00000000e+00\n",
      "  0.00000000e+00  0.00000000e+00  0.00000000e+00  0.00000000e+00\n",
      "  0.00000000e+00  0.00000000e+00  0.00000000e+00  0.00000000e+00\n",
      "  0.00000000e+00  0.00000000e+00  0.00000000e+00  0.00000000e+00\n",
      "  0.00000000e+00  0.00000000e+00  0.00000000e+00  0.00000000e+00\n",
      "  0.00000000e+00  0.00000000e+00  0.00000000e+00  0.00000000e+00\n",
      "  0.00000000e+00  0.00000000e+00  0.00000000e+00  0.00000000e+00\n",
      "  0.00000000e+00  0.00000000e+00  0.00000000e+00  0.00000000e+00\n",
      "  0.00000000e+00  0.00000000e+00  0.00000000e+00  0.00000000e+00\n",
      "  0.00000000e+00  0.00000000e+00  0.00000000e+00  0.00000000e+00\n",
      "  0.00000000e+00  0.00000000e+00  0.00000000e+00  0.00000000e+00\n",
      "  0.00000000e+00  0.00000000e+00  0.00000000e+00  0.00000000e+00\n",
      "  0.00000000e+00  0.00000000e+00  0.00000000e+00  0.00000000e+00\n",
      "  0.00000000e+00  0.00000000e+00  0.00000000e+00  0.00000000e+00\n",
      "  0.00000000e+00  0.00000000e+00  0.00000000e+00  0.00000000e+00\n",
      "  0.00000000e+00  0.00000000e+00  0.00000000e+00  0.00000000e+00\n",
      "  0.00000000e+00  0.00000000e+00  0.00000000e+00  0.00000000e+00\n",
      "  0.00000000e+00  0.00000000e+00  0.00000000e+00  0.00000000e+00\n",
      "  0.00000000e+00  0.00000000e+00  0.00000000e+00  0.00000000e+00\n",
      "  0.00000000e+00  0.00000000e+00  0.00000000e+00  0.00000000e+00\n",
      "  0.00000000e+00  0.00000000e+00  0.00000000e+00  0.00000000e+00\n",
      "  0.00000000e+00  0.00000000e+00  0.00000000e+00  0.00000000e+00\n",
      "  0.00000000e+00  0.00000000e+00  0.00000000e+00  0.00000000e+00\n",
      "  0.00000000e+00  0.00000000e+00  0.00000000e+00  0.00000000e+00\n",
      "  0.00000000e+00  0.00000000e+00  0.00000000e+00  0.00000000e+00\n",
      "  0.00000000e+00  0.00000000e+00  0.00000000e+00  0.00000000e+00\n",
      "  0.00000000e+00  0.00000000e+00  0.00000000e+00  0.00000000e+00\n",
      "  0.00000000e+00  0.00000000e+00  0.00000000e+00  0.00000000e+00\n",
      "  0.00000000e+00  0.00000000e+00  0.00000000e+00  0.00000000e+00\n",
      "  0.00000000e+00  0.00000000e+00  0.00000000e+00  0.00000000e+00\n",
      "  0.00000000e+00  0.00000000e+00  0.00000000e+00  0.00000000e+00\n",
      "  0.00000000e+00  0.00000000e+00  0.00000000e+00  0.00000000e+00\n",
      "  0.00000000e+00  0.00000000e+00  0.00000000e+00  0.00000000e+00\n",
      "  0.00000000e+00  0.00000000e+00  0.00000000e+00  0.00000000e+00\n",
      "  0.00000000e+00  0.00000000e+00  0.00000000e+00  0.00000000e+00\n",
      "  0.00000000e+00  0.00000000e+00  0.00000000e+00  0.00000000e+00\n",
      "  0.00000000e+00  0.00000000e+00  0.00000000e+00  0.00000000e+00\n",
      "  0.00000000e+00  0.00000000e+00  0.00000000e+00  0.00000000e+00\n",
      "  0.00000000e+00  0.00000000e+00  0.00000000e+00  0.00000000e+00\n",
      "  0.00000000e+00  0.00000000e+00  0.00000000e+00  0.00000000e+00\n",
      "  0.00000000e+00  0.00000000e+00  0.00000000e+00  0.00000000e+00\n",
      "  0.00000000e+00  0.00000000e+00  0.00000000e+00  0.00000000e+00\n",
      "  0.00000000e+00  0.00000000e+00  0.00000000e+00  0.00000000e+00\n",
      "  0.00000000e+00  0.00000000e+00  0.00000000e+00  0.00000000e+00\n",
      "  0.00000000e+00  0.00000000e+00  0.00000000e+00]\n",
      "Tempo total de execução (s): 16.4018394947052 segundos\n",
      "Tempo total de execução (min): 0.27336399157842 minutos"
     ]
    }
   ],
   "source": [
    "#Avaliar o modelo com optimal_k = 2\n",
    "\n",
    "# Algoritmo K-means aplicado a todo o dataset (sem vec_dftiny)\n",
    "from pyspark.ml.evaluation import ClusteringEvaluator\n",
    "from pyspark.ml.clustering import KMeans\n",
    "\n",
    "start_time = time.time()\n",
    "# Loads data\n",
    "dataset = df_flights_clean\n",
    "\n",
    "# Treina um modelo K-mean\n",
    "kmeans = KMeans(k=optimal_k, seed=221, maxIter=20)\n",
    "\n",
    "# Ajuste do modelo\n",
    "model = kmeans.fit(assembled)\n",
    "\n",
    "# usar modelo para transformar o DataFrame ao adicionar previsões com aglomerados (\"cluster\") \n",
    "predictions = model.transform(assembled)\n",
    "    \n",
    "# Obter ClustersCenters através do modelo\n",
    "cluster_centres = model.clusterCenters()\n",
    "\n",
    "# Avaliar o clustering calculando o valor do Silhouette\n",
    "evaluator = ClusteringEvaluator()\n",
    "\n",
    "silhouette = evaluator.evaluate(predictions)\n",
    "print(\"Silhouette with squared euclidean distance = \" + str(silhouette))\n",
    "\n",
    "# Mostrar os resultados\n",
    "print(\"Cluster Centers: \")\n",
    "ctr=[]\n",
    "centers = model.clusterCenters()\n",
    "for center in centers:\n",
    "    ctr.append(center)\n",
    "    print(center)\n",
    "end_time = time.time()\n",
    "elapsed_time = end_time - start_time\n",
    "elapsed_time_min = elapsed_time/60\n",
    "print(\"Tempo total de execução (s):\", elapsed_time, \"segundos\")\n",
    "print(\"Tempo total de execução (min):\", elapsed_time_min, \"minutos\")"
   ]
  },
  {
   "cell_type": "markdown",
   "id": "9af8d97f-18d6-4938-9d48-fe6caeb0c2a0",
   "metadata": {},
   "source": [
    "- Com todas as variaveis e K=3, Silhouette with squared euclidean distance = 0.778, logo o modelo tem uma coesão forte com os dados iniciais."
   ]
  },
  {
   "cell_type": "markdown",
   "id": "55c578ef-e32a-417b-ace7-513bb0eddd86",
   "metadata": {},
   "source": [
    "<br>"
   ]
  },
  {
   "cell_type": "markdown",
   "id": "06f158c9-a167-4f66-aa77-b2ce7d79a464",
   "metadata": {},
   "source": [
    "<br>"
   ]
  },
  {
   "cell_type": "markdown",
   "id": "dec57f5d-1830-455c-9947-3ec8d94c9d81",
   "metadata": {},
   "source": [
    "Seguidamente, apresentam-se o número dos diferentes clusters."
   ]
  },
  {
   "cell_type": "code",
   "execution_count": 14,
   "id": "884b942c-5dde-432b-8bf0-74a046ac04fb",
   "metadata": {},
   "outputs": [
    {
     "data": {
      "application/vnd.jupyter.widget-view+json": {
       "model_id": "0f649aeb219f4104bdcc5f84d6774289",
       "version_major": 2,
       "version_minor": 0
      },
      "text/plain": [
       "VBox()"
      ]
     },
     "metadata": {},
     "output_type": "display_data"
    },
    {
     "data": {
      "application/vnd.jupyter.widget-view+json": {
       "model_id": "",
       "version_major": 2,
       "version_minor": 0
      },
      "text/plain": [
       "FloatProgress(value=0.0, bar_style='info', description='Progress:', layout=Layout(height='25px', width='50%'),…"
      ]
     },
     "metadata": {},
     "output_type": "display_data"
    },
    {
     "name": "stdout",
     "output_type": "stream",
     "text": [
      "+----------+\n",
      "|prediction|\n",
      "+----------+\n",
      "|         1|\n",
      "|         2|\n",
      "|         0|\n",
      "+----------+"
     ]
    }
   ],
   "source": [
    "# Mostrar os números dos diferentes clusteres\n",
    "predictions.select(\"prediction\").distinct().show()"
   ]
  },
  {
   "cell_type": "markdown",
   "id": "422c92fb",
   "metadata": {},
   "source": [
    "Em seguida, vamos guardar o modelo para se quisermos posteriormente o usar."
   ]
  },
  {
   "cell_type": "code",
   "execution_count": 15,
   "id": "4646bddc",
   "metadata": {},
   "outputs": [
    {
     "data": {
      "application/vnd.jupyter.widget-view+json": {
       "model_id": "a76fc339b8754c6a9d14544c0e32719c",
       "version_major": 2,
       "version_minor": 0
      },
      "text/plain": [
       "VBox()"
      ]
     },
     "metadata": {},
     "output_type": "display_data"
    },
    {
     "data": {
      "application/vnd.jupyter.widget-view+json": {
       "model_id": "",
       "version_major": 2,
       "version_minor": 0
      },
      "text/plain": [
       "FloatProgress(value=0.0, bar_style='info', description='Progress:', layout=Layout(height='25px', width='50%'),…"
      ]
     },
     "metadata": {},
     "output_type": "display_data"
    }
   ],
   "source": [
    "model.save(\"kmeans_model_2\")"
   ]
  },
  {
   "cell_type": "code",
   "execution_count": 16,
   "id": "4b4e78a0",
   "metadata": {},
   "outputs": [
    {
     "data": {
      "application/vnd.jupyter.widget-view+json": {
       "model_id": "a7e10a81248e4559b3381ae695cce9dc",
       "version_major": 2,
       "version_minor": 0
      },
      "text/plain": [
       "VBox()"
      ]
     },
     "metadata": {},
     "output_type": "display_data"
    },
    {
     "data": {
      "application/vnd.jupyter.widget-view+json": {
       "model_id": "",
       "version_major": 2,
       "version_minor": 0
      },
      "text/plain": [
       "FloatProgress(value=0.0, bar_style='info', description='Progress:', layout=Layout(height='25px', width='50%'),…"
      ]
     },
     "metadata": {},
     "output_type": "display_data"
    }
   ],
   "source": [
    "path_save = \"s3://pbdmybucketgrupo3/modelos2\"\n",
    "model.save(path_save)"
   ]
  },
  {
   "cell_type": "code",
   "execution_count": 18,
   "id": "407a87f0",
   "metadata": {},
   "outputs": [
    {
     "data": {
      "application/vnd.jupyter.widget-view+json": {
       "model_id": "272b8beceb054bd7a14f26ba14bc44fe",
       "version_major": 2,
       "version_minor": 0
      },
      "text/plain": [
       "VBox()"
      ]
     },
     "metadata": {},
     "output_type": "display_data"
    },
    {
     "data": {
      "application/vnd.jupyter.widget-view+json": {
       "model_id": "",
       "version_major": 2,
       "version_minor": 0
      },
      "text/plain": [
       "FloatProgress(value=0.0, bar_style='info', description='Progress:', layout=Layout(height='25px', width='50%'),…"
      ]
     },
     "metadata": {},
     "output_type": "display_data"
    }
   ],
   "source": [
    "from pyspark.ml.clustering import KMeansModel\n",
    "kmeans_model=KMeansModel.load(\"kmeans_model_2\")"
   ]
  },
  {
   "cell_type": "code",
   "execution_count": 19,
   "id": "24c01387-b2e6-48b2-94d9-b99e4deefa78",
   "metadata": {},
   "outputs": [
    {
     "data": {
      "application/vnd.jupyter.widget-view+json": {
       "model_id": "7b94a4b87e894006821cab320b3dceef",
       "version_major": 2,
       "version_minor": 0
      },
      "text/plain": [
       "VBox()"
      ]
     },
     "metadata": {},
     "output_type": "display_data"
    },
    {
     "data": {
      "application/vnd.jupyter.widget-view+json": {
       "model_id": "",
       "version_major": 2,
       "version_minor": 0
      },
      "text/plain": [
       "FloatProgress(value=0.0, bar_style='info', description='Progress:', layout=Layout(height='25px', width='50%'),…"
      ]
     },
     "metadata": {},
     "output_type": "display_data"
    }
   ],
   "source": [
    "# Relembrar as colunas selecionadas\n",
    "\n",
    "cols2 = [\"Airline\", \"Origin\", \"Dest\", \"CRSDepTime\", \"DepDelayMinutes\", \"DepDelay\", \"ArrDelayMinutes\", \"AirTime\", \"Distance\", \"Month\"]"
   ]
  },
  {
   "cell_type": "markdown",
   "id": "84487775-3b55-47d8-a069-1ea752bc03d2",
   "metadata": {},
   "source": [
    "## Gráfico de dispersão para a relação entre a Origem (Origin) e atraso na partida (DestDelay)"
   ]
  },
  {
   "cell_type": "code",
   "execution_count": 69,
   "id": "9bd49a07-eb30-407a-b79f-5d885a5e794f",
   "metadata": {},
   "outputs": [
    {
     "name": "stderr",
     "output_type": "stream",
     "text": [
      "/var/folders/6f/xxdlxkl953v7h6b6nsn7dhp40000gn/T/ipykernel_21615/2158272528.py:8: UserWarning: No data for colormapping provided via 'c'. Parameters 'cmap' will be ignored\n",
      "  plt.scatter(df_plot.iloc[:,1], df_plot.iloc[:,5], s=40, cmap='viridis');\n"
     ]
    },
    {
     "data": {
      "image/png": "[encoded data removed]",
      "text/plain": [
       "<Figure size 640x480 with 1 Axes>"
      ]
     },
     "metadata": {},
     "output_type": "display_data"
    }
   ],
   "source": [
    "# Visualização do algoritmo Kmeans\n",
    "\n",
    "df_plot =  predictions.select(cols2).toPandas()\n",
    "plt.xlim(-1,20)\n",
    "plt.xticks(rotation=45)\n",
    "plt.xlabel(cols2[1])\n",
    "plt.ylabel(cols2[5])\n",
    "plt.scatter(df_plot.iloc[:,1], df_plot.iloc[:,5], s=40, cmap='viridis');"
   ]
  },
  {
   "cell_type": "markdown",
   "id": "18c8e891-6583-4ffa-ab34-557697d543fd",
   "metadata": {},
   "source": [
    "Pela análise deste gráfico, verificamos que existe um claro destaque com partidas atrasadas para o aeroporto de Atlanta (ATL)."
   ]
  },
  {
   "cell_type": "markdown",
   "id": "0cd824b8-d55b-4bab-9b04-c215d04ab493",
   "metadata": {},
   "source": [
    "## Gráfico de dispersão para a relação entre o Destino (Dest) e atraso na partida (DestDelay)"
   ]
  },
  {
   "cell_type": "code",
   "execution_count": 79,
   "id": "68f4c87b-ae7e-410a-ae33-f647eda7c955",
   "metadata": {},
   "outputs": [
    {
     "name": "stderr",
     "output_type": "stream",
     "text": [
      "/var/folders/6f/xxdlxkl953v7h6b6nsn7dhp40000gn/T/ipykernel_21615/3408388266.py:8: UserWarning: No data for colormapping provided via 'c'. Parameters 'cmap' will be ignored\n",
      "  plt.scatter(df_plot.iloc[:,2], df_plot.iloc[:,5], s=40, cmap='viridis');\n"
     ]
    },
    {
     "data": {
      "image/png": "[encoded data removed]",
      "text/plain": [
       "<Figure size 640x480 with 1 Axes>"
      ]
     },
     "metadata": {},
     "output_type": "display_data"
    }
   ],
   "source": [
    "# # Visualização do algoritmo Kmeans\n",
    "\n",
    "df_plot =  predictions.select(cols2).toPandas()\n",
    "plt.xlim(-1,20)\n",
    "plt.xticks(rotation=45)\n",
    "plt.xlabel(cols2[2])\n",
    "plt.ylabel(cols2[5])\n",
    "plt.scatter(df_plot.iloc[:,2], df_plot.iloc[:,5], s=40, cmap='viridis');"
   ]
  },
  {
   "cell_type": "markdown",
   "id": "13ad41e4-a6fe-4797-9e9b-39082166f8f7",
   "metadata": {},
   "source": [
    "Há uma tendência para os voos partirem a tempo ou até adiantados, havendo contudo alguns exemplos de voos com grande atrasos de partida."
   ]
  },
  {
   "cell_type": "markdown",
   "id": "3422e788-5cee-4abe-94b6-dcb7e48eb138",
   "metadata": {},
   "source": [
    "## Gráfico de dispersão para a relação entre a origem (Origin) e o atraso de chegada em minutos (ArrDelayMinutes)"
   ]
  },
  {
   "cell_type": "code",
   "execution_count": 72,
   "id": "2e4b65ae-69b2-480a-b7d1-66995f54b1d5",
   "metadata": {},
   "outputs": [
    {
     "name": "stderr",
     "output_type": "stream",
     "text": [
      "/var/folders/6f/xxdlxkl953v7h6b6nsn7dhp40000gn/T/ipykernel_21615/2496826933.py:8: UserWarning: No data for colormapping provided via 'c'. Parameters 'cmap' will be ignored\n",
      "  plt.scatter(df_plot.iloc[:,1], df_plot.iloc[:,6], s=40, cmap='viridis');\n"
     ]
    },
    {
     "data": {
      "image/png": "[encoded data removed]",
      "text/plain": [
       "<Figure size 640x480 with 1 Axes>"
      ]
     },
     "metadata": {},
     "output_type": "display_data"
    }
   ],
   "source": [
    "# Visualização do algoritmo Kmeans\n",
    "\n",
    "df_plot =  predictions.select(cols2).toPandas()\n",
    "plt.xlim(-1,20)\n",
    "plt.xticks(rotation=45)\n",
    "plt.xlabel(cols2[1])\n",
    "plt.ylabel(cols2[6])\n",
    "plt.scatter(df_plot.iloc[:,1], df_plot.iloc[:,6], s=40, cmap='viridis');"
   ]
  },
  {
   "cell_type": "markdown",
   "id": "ec02c208-00da-44c1-b581-f3724100008d",
   "metadata": {},
   "source": [
    "Constata-se que tal como nos atrasos das partidas, é o aeroporto de Atlanta (ATL) que regista os maiores atrasos de chegada (em minutos)."
   ]
  }
 ],
 "metadata": {
  "kernelspec": {
   "display_name": "PySpark",
   "language": "",
   "name": "pysparkkernel"
  },
  "language_info": {
   "codemirror_mode": {
    "name": "python",
    "version": 3
   },
   "mimetype": "text/x-python",
   "name": "pyspark",
   "pygments_lexer": "python3"
  }
 },
 "nbformat": 4,
 "nbformat_minor": 5
}
