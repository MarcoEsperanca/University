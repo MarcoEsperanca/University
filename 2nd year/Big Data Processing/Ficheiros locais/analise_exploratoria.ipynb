{
 "cells": [
  {
   "cell_type": "markdown",
   "id": "b7067193-b421-4e2d-8c1f-31ea822822e6",
   "metadata": {},
   "source": [
    "#### Processamento de Big Data: Projeto Final\n",
    "\n",
    "Licenciatura em Ciência de Dados\n",
    "\n",
    "CDB1\n",
    "\n",
    "Marco Delgado Esperança, Nº 110451\n",
    "\n",
    "Maria João Ferreira Lourenço, Nº 104716\n",
    "\n",
    "Docente: João Oliveira\n",
    "\n",
    "8 de abril de 2023\n",
    "\n",
    "Flight Status Prediction\n",
    "\n",
    "https://www.kaggle.com/datasets/robikscube/flight-delay-dataset-20182022"
   ]
  },
  {
   "cell_type": "markdown",
   "id": "3bbf0142-e345-49df-9d08-45501a3c21b6",
   "metadata": {},
   "source": [
    "# Análise Exploratória"
   ]
  },
  {
   "cell_type": "markdown",
   "id": "90efcdbb-c033-484d-8e03-52b0c8ab5168",
   "metadata": {},
   "source": [
    "Esta corresponde à segunda fase do trabalho, onde realizamos um conjunto de estatísticas descritivas acerca de variáveis presentes no ficheiro parquet e as suas relações. É de notar que apenas estudamos as que nos pareceram mais interessantes e relevantes."
   ]
  },
  {
   "cell_type": "code",
   "execution_count": 5,
   "id": "6ff6908a-0e4c-4bfe-b9a4-c5ed7cc08f99",
   "metadata": {},
   "outputs": [
    {
     "data": {
      "text/html": [
       "\n",
       "            <div>\n",
       "                <p><b>SparkSession - in-memory</b></p>\n",
       "                \n",
       "        <div>\n",
       "            <p><b>SparkContext</b></p>\n",
       "\n",
       "            <p><a href=\"http://172.20.49.164:4040\">Spark UI</a></p>\n",
       "\n",
       "            <dl>\n",
       "              <dt>Version</dt>\n",
       "                <dd><code>v3.3.1</code></dd>\n",
       "              <dt>Master</dt>\n",
       "                <dd><code>local[*]</code></dd>\n",
       "              <dt>AppName</dt>\n",
       "                <dd><code>pyspark-shell</code></dd>\n",
       "            </dl>\n",
       "        </div>\n",
       "        \n",
       "            </div>\n",
       "        "
      ],
      "text/plain": [
       "<pyspark.sql.session.SparkSession object at 0x7f0d702c0cd0>"
      ]
     },
     "execution_count": 5,
     "metadata": {},
     "output_type": "execute_result"
    }
   ],
   "source": [
    "spark"
   ]
  },
  {
   "cell_type": "code",
   "execution_count": 11,
   "id": "4cba6d34-685f-438c-a922-3530d9ea21aa",
   "metadata": {
    "tags": []
   },
   "outputs": [],
   "source": [
    "# bibliotecas \n",
    "import sys\n",
    "\n",
    "from pyspark.sql import SparkSession\n",
    "import pyspark.sql.functions as F\n",
    "from pyspark import SparkConf, SparkContext\n",
    "from pyspark.sql.functions import desc, count, avg"
   ]
  },
  {
   "cell_type": "markdown",
   "id": "72f45111-0e6b-4f0f-ae67-ad0324ef1f58",
   "metadata": {
    "tags": []
   },
   "source": [
    "# Importação do ficheiro parquet"
   ]
  },
  {
   "cell_type": "code",
   "execution_count": 12,
   "id": "85dacf0f-068f-4c3b-b0e8-1f5bfdff2562",
   "metadata": {},
   "outputs": [],
   "source": [
    "filename = [\"./flights_clean.parquet\"]"
   ]
  },
  {
   "cell_type": "code",
   "execution_count": 13,
   "id": "ec5ad9df-38a4-4a54-9cd2-68483b65cc53",
   "metadata": {
    "tags": []
   },
   "outputs": [],
   "source": [
    "df_flights_clean = spark.read.format(\"parquet\").load(filename)"
   ]
  },
  {
   "cell_type": "code",
   "execution_count": 29,
   "id": "f75c5044-f1fc-46d2-99fd-6f78f8e60f1b",
   "metadata": {
    "tags": []
   },
   "outputs": [
    {
     "name": "stdout",
     "output_type": "stream",
     "text": [
      "Número de linhas:  28339509       ||   Número de colunas:  47\n"
     ]
    }
   ],
   "source": [
    "print(\"Número de linhas: \", df_flights_clean.count(), \"      ||   Número de colunas: \", len(df_flights_clean.columns))"
   ]
  },
  {
   "cell_type": "code",
   "execution_count": 30,
   "id": "cf16e270-d877-4dec-93a6-903807d96eae",
   "metadata": {
    "tags": []
   },
   "outputs": [],
   "source": [
    "# number of operating airline tem duas correlações 0.4 e uma alta\n",
    "cols_to_drop = [\"Flight_Number_Operating_Airline\", \n",
    "                \"DOT_ID_Operating_Airline\",\n",
    "                \"OriginCityMarketID\",\n",
    "                \"OriginStateFips\",\n",
    "                \"OriginWac\", # 0.5\n",
    "                \"DestCityMarketID\",\n",
    "                \"DestStateFips\",\n",
    "                \"DestWac\",\n",
    "                \"TaxiOut\",\n",
    "                \"TaxiIn\",\n",
    "                \"CRSArrTime\",\n",
    "                \"ArrivalDelayGroups\",\n",
    "                \"DistanceGroup\",\n",
    "                \"DivAirportLandings\"\n",
    "               ]"
   ]
  },
  {
   "cell_type": "code",
   "execution_count": 5,
   "id": "55babe6c-bdff-47bf-b680-c4b62286354f",
   "metadata": {
    "tags": []
   },
   "outputs": [
    {
     "data": {
      "text/plain": [
       "['FlightDate', 'Airline', 'Origin', 'Dest', 'Cancelled', 'Diverted', 'CRSDepTime', 'DepTime', 'DepDelayMinutes', 'DepDelay', 'ArrTime', 'ArrDelayMinutes', 'AirTime', 'CRSElapsedTime', 'ActualElapsedTime', 'Distance', 'Year', 'Quarter', 'Month', 'DayofMonth', 'DayOfWeek', 'Marketing_Airline_Network', 'Operated_or_Branded_Code_Share_Partners', 'DOT_ID_Marketing_Airline', 'IATA_Code_Marketing_Airline', 'Flight_Number_Marketing_Airline', 'Operating_Airline', 'IATA_Code_Operating_Airline', 'Tail_Number', 'OriginAirportID', 'OriginAirportSeqID', 'OriginCityName', 'OriginState', 'OriginStateName', 'DestAirportID', 'DestAirportSeqID', 'DestCityName', 'DestState', 'DestStateName', 'DepDel15', 'DepartureDelayGroups', 'DepTimeBlk', 'WheelsOff', 'WheelsOn', 'ArrDelay', 'ArrDel15', 'ArrTimeBlk']"
      ]
     },
     "execution_count": 5,
     "metadata": {},
     "output_type": "execute_result"
    }
   ],
   "source": [
    "df_flights_clean.columns"
   ]
  },
  {
   "cell_type": "markdown",
   "id": "46d9feea-0d5b-4a69-b81b-d4224f638fde",
   "metadata": {
    "tags": []
   },
   "source": [
    "## Descritivas das variáveis numéricas"
   ]
  },
  {
   "cell_type": "code",
   "execution_count": 32,
   "id": "5083652b-0ca0-4eeb-ba9a-5640834386fb",
   "metadata": {
    "tags": []
   },
   "outputs": [
    {
     "name": "stdout",
     "output_type": "stream",
     "text": [
      "23/04/03 19:39:51 WARN package: Truncated the string representation of a plan since it was too large. This behavior can be adjusted by setting 'spark.sql.debug.maxToStringFields'.\n"
     ]
    },
    {
     "data": {
      "text/html": [
       "<div>\n",
       "<style scoped>\n",
       "    .dataframe tbody tr th:only-of-type {\n",
       "        vertical-align: middle;\n",
       "    }\n",
       "\n",
       "    .dataframe tbody tr th {\n",
       "        vertical-align: top;\n",
       "    }\n",
       "\n",
       "    .dataframe thead th {\n",
       "        text-align: right;\n",
       "    }\n",
       "</style>\n",
       "<table border=\"1\" class=\"dataframe\">\n",
       "  <thead>\n",
       "    <tr style=\"text-align: right;\">\n",
       "      <th></th>\n",
       "      <th>0</th>\n",
       "      <th>1</th>\n",
       "      <th>2</th>\n",
       "      <th>3</th>\n",
       "      <th>4</th>\n",
       "    </tr>\n",
       "  </thead>\n",
       "  <tbody>\n",
       "    <tr>\n",
       "      <th>summary</th>\n",
       "      <td>count</td>\n",
       "      <td>mean</td>\n",
       "      <td>stddev</td>\n",
       "      <td>min</td>\n",
       "      <td>max</td>\n",
       "    </tr>\n",
       "    <tr>\n",
       "      <th>CRSDepTime</th>\n",
       "      <td>28339509</td>\n",
       "      <td>1325.3256407159347</td>\n",
       "      <td>482.13724257483176</td>\n",
       "      <td>1</td>\n",
       "      <td>2359</td>\n",
       "    </tr>\n",
       "    <tr>\n",
       "      <th>DepTime</th>\n",
       "      <td>28339509</td>\n",
       "      <td>1329.1466037396767</td>\n",
       "      <td>495.0205944665375</td>\n",
       "      <td>1.0</td>\n",
       "      <td>2400.0</td>\n",
       "    </tr>\n",
       "    <tr>\n",
       "      <th>DepDelayMinutes</th>\n",
       "      <td>28339509</td>\n",
       "      <td>12.717445669224544</td>\n",
       "      <td>45.99462412502477</td>\n",
       "      <td>0.0</td>\n",
       "      <td>7223.0</td>\n",
       "    </tr>\n",
       "    <tr>\n",
       "      <th>DepDelay</th>\n",
       "      <td>28339509</td>\n",
       "      <td>9.238519164181708</td>\n",
       "      <td>47.100785715662155</td>\n",
       "      <td>-611.0</td>\n",
       "      <td>7223.0</td>\n",
       "    </tr>\n",
       "    <tr>\n",
       "      <th>ArrTime</th>\n",
       "      <td>28339509</td>\n",
       "      <td>1467.9772431131394</td>\n",
       "      <td>525.3427738955158</td>\n",
       "      <td>1.0</td>\n",
       "      <td>2400.0</td>\n",
       "    </tr>\n",
       "    <tr>\n",
       "      <th>ArrDelayMinutes</th>\n",
       "      <td>28339509</td>\n",
       "      <td>12.809568401485008</td>\n",
       "      <td>45.80091701166583</td>\n",
       "      <td>0.0</td>\n",
       "      <td>7232.0</td>\n",
       "    </tr>\n",
       "    <tr>\n",
       "      <th>AirTime</th>\n",
       "      <td>28339509</td>\n",
       "      <td>109.08957346438147</td>\n",
       "      <td>69.06727016403666</td>\n",
       "      <td>4.0</td>\n",
       "      <td>1557.0</td>\n",
       "    </tr>\n",
       "    <tr>\n",
       "      <th>CRSElapsedTime</th>\n",
       "      <td>28339509</td>\n",
       "      <td>138.95247677015152</td>\n",
       "      <td>70.93263349401167</td>\n",
       "      <td>-292.0</td>\n",
       "      <td>1645.0</td>\n",
       "    </tr>\n",
       "    <tr>\n",
       "      <th>ActualElapsedTime</th>\n",
       "      <td>28339509</td>\n",
       "      <td>133.32010836885001</td>\n",
       "      <td>70.77018240814341</td>\n",
       "      <td>13.0</td>\n",
       "      <td>1604.0</td>\n",
       "    </tr>\n",
       "    <tr>\n",
       "      <th>Distance</th>\n",
       "      <td>28339509</td>\n",
       "      <td>781.6336122125475</td>\n",
       "      <td>582.733379476448</td>\n",
       "      <td>29.0</td>\n",
       "      <td>5812.0</td>\n",
       "    </tr>\n",
       "    <tr>\n",
       "      <th>Year</th>\n",
       "      <td>28339509</td>\n",
       "      <td>2019.8236103525999</td>\n",
       "      <td>1.3456380171837519</td>\n",
       "      <td>2018</td>\n",
       "      <td>2022</td>\n",
       "    </tr>\n",
       "    <tr>\n",
       "      <th>Quarter</th>\n",
       "      <td>28339509</td>\n",
       "      <td>2.4620510891702465</td>\n",
       "      <td>1.1220915738512547</td>\n",
       "      <td>1</td>\n",
       "      <td>4</td>\n",
       "    </tr>\n",
       "    <tr>\n",
       "      <th>Month</th>\n",
       "      <td>28339509</td>\n",
       "      <td>6.369936896224984</td>\n",
       "      <td>3.4559849942800698</td>\n",
       "      <td>1</td>\n",
       "      <td>12</td>\n",
       "    </tr>\n",
       "    <tr>\n",
       "      <th>DayofMonth</th>\n",
       "      <td>28339509</td>\n",
       "      <td>15.739597182153014</td>\n",
       "      <td>8.764440540211877</td>\n",
       "      <td>1</td>\n",
       "      <td>31</td>\n",
       "    </tr>\n",
       "    <tr>\n",
       "      <th>DayOfWeek</th>\n",
       "      <td>28339509</td>\n",
       "      <td>3.9749077515774887</td>\n",
       "      <td>2.002243389555112</td>\n",
       "      <td>1</td>\n",
       "      <td>7</td>\n",
       "    </tr>\n",
       "    <tr>\n",
       "      <th>DOT_ID_Marketing_Airline</th>\n",
       "      <td>28339509</td>\n",
       "      <td>19828.146026418453</td>\n",
       "      <td>277.30846826163423</td>\n",
       "      <td>19393</td>\n",
       "      <td>21171</td>\n",
       "    </tr>\n",
       "    <tr>\n",
       "      <th>Flight_Number_Marketing_Airline</th>\n",
       "      <td>28339509</td>\n",
       "      <td>2687.269194889721</td>\n",
       "      <td>1838.6171002668923</td>\n",
       "      <td>1</td>\n",
       "      <td>9888</td>\n",
       "    </tr>\n",
       "    <tr>\n",
       "      <th>OriginAirportID</th>\n",
       "      <td>28339509</td>\n",
       "      <td>12677.560165068491</td>\n",
       "      <td>1526.3607506740916</td>\n",
       "      <td>10135</td>\n",
       "      <td>16869</td>\n",
       "    </tr>\n",
       "    <tr>\n",
       "      <th>OriginAirportSeqID</th>\n",
       "      <td>28339509</td>\n",
       "      <td>1267759.871906214</td>\n",
       "      <td>152635.8783630885</td>\n",
       "      <td>1013505</td>\n",
       "      <td>1686901</td>\n",
       "    </tr>\n",
       "    <tr>\n",
       "      <th>DestAirportID</th>\n",
       "      <td>28339509</td>\n",
       "      <td>12678.019470485533</td>\n",
       "      <td>1526.5935196421058</td>\n",
       "      <td>10135</td>\n",
       "      <td>16869</td>\n",
       "    </tr>\n",
       "    <tr>\n",
       "      <th>DestAirportSeqID</th>\n",
       "      <td>28339509</td>\n",
       "      <td>1267805.8021598398</td>\n",
       "      <td>152659.15524125262</td>\n",
       "      <td>1013505</td>\n",
       "      <td>1686901</td>\n",
       "    </tr>\n",
       "    <tr>\n",
       "      <th>DepDel15</th>\n",
       "      <td>28339509</td>\n",
       "      <td>0.172242468985613</td>\n",
       "      <td>0.37759105642787044</td>\n",
       "      <td>0.0</td>\n",
       "      <td>1.0</td>\n",
       "    </tr>\n",
       "    <tr>\n",
       "      <th>DepartureDelayGroups</th>\n",
       "      <td>28339509</td>\n",
       "      <td>-0.019812164000441928</td>\n",
       "      <td>2.157985501039415</td>\n",
       "      <td>-2.0</td>\n",
       "      <td>12.0</td>\n",
       "    </tr>\n",
       "    <tr>\n",
       "      <th>WheelsOff</th>\n",
       "      <td>28339509</td>\n",
       "      <td>1352.7503336066973</td>\n",
       "      <td>496.2206312067274</td>\n",
       "      <td>1.0</td>\n",
       "      <td>2400.0</td>\n",
       "    </tr>\n",
       "    <tr>\n",
       "      <th>WheelsOn</th>\n",
       "      <td>28339509</td>\n",
       "      <td>1463.1384907197933</td>\n",
       "      <td>521.2833877172434</td>\n",
       "      <td>1.0</td>\n",
       "      <td>2400.0</td>\n",
       "    </tr>\n",
       "    <tr>\n",
       "      <th>ArrDelay</th>\n",
       "      <td>28339509</td>\n",
       "      <td>3.608231568161608</td>\n",
       "      <td>49.28003522814578</td>\n",
       "      <td>-475.0</td>\n",
       "      <td>7232.0</td>\n",
       "    </tr>\n",
       "    <tr>\n",
       "      <th>ArrDel15</th>\n",
       "      <td>28339509</td>\n",
       "      <td>0.17661742128277522</td>\n",
       "      <td>0.3813446117538203</td>\n",
       "      <td>0.0</td>\n",
       "      <td>1.0</td>\n",
       "    </tr>\n",
       "  </tbody>\n",
       "</table>\n",
       "</div>"
      ],
      "text/plain": [
       "                                        0  ...        4\n",
       "summary                             count  ...      max\n",
       "CRSDepTime                       28339509  ...     2359\n",
       "DepTime                          28339509  ...   2400.0\n",
       "DepDelayMinutes                  28339509  ...   7223.0\n",
       "DepDelay                         28339509  ...   7223.0\n",
       "ArrTime                          28339509  ...   2400.0\n",
       "ArrDelayMinutes                  28339509  ...   7232.0\n",
       "AirTime                          28339509  ...   1557.0\n",
       "CRSElapsedTime                   28339509  ...   1645.0\n",
       "ActualElapsedTime                28339509  ...   1604.0\n",
       "Distance                         28339509  ...   5812.0\n",
       "Year                             28339509  ...     2022\n",
       "Quarter                          28339509  ...        4\n",
       "Month                            28339509  ...       12\n",
       "DayofMonth                       28339509  ...       31\n",
       "DayOfWeek                        28339509  ...        7\n",
       "DOT_ID_Marketing_Airline         28339509  ...    21171\n",
       "Flight_Number_Marketing_Airline  28339509  ...     9888\n",
       "OriginAirportID                  28339509  ...    16869\n",
       "OriginAirportSeqID               28339509  ...  1686901\n",
       "DestAirportID                    28339509  ...    16869\n",
       "DestAirportSeqID                 28339509  ...  1686901\n",
       "DepDel15                         28339509  ...      1.0\n",
       "DepartureDelayGroups             28339509  ...     12.0\n",
       "WheelsOff                        28339509  ...   2400.0\n",
       "WheelsOn                         28339509  ...   2400.0\n",
       "ArrDelay                         28339509  ...   7232.0\n",
       "ArrDel15                         28339509  ...      1.0\n",
       "\n",
       "[28 rows x 5 columns]"
      ]
     },
     "execution_count": 32,
     "metadata": {},
     "output_type": "execute_result"
    }
   ],
   "source": [
    "def describe_numeric_cols_v2(df):\n",
    "    numeric_cols = [col_name for col_name, col_type in df.dtypes if col_type in ('int', 'bigint', 'float', 'double') and col_name not in cols_to_drop]\n",
    "    return df.select(numeric_cols).describe().toPandas().transpose()\n",
    "\n",
    "describe_numeric_cols_v2(df_flights_clean)"
   ]
  },
  {
   "cell_type": "markdown",
   "id": "826064b6-9650-410e-a067-4825ed89e18b",
   "metadata": {},
   "source": [
    "Todas as colunas têm o mesmo número de linhas, logo não temos valores omissos, como era esperado, uma vez que procedemos à sua limpeza no notebook relacionado com a 'Importação, transformação e limpeza dos dados'. A média e a dispersão das variáveis varia muito consoante a variável que estamos a falar. Os valores máximos são sempre positivos e os valores mínimos, também o tendem a ser com exceção, das variáveis 'DepDelay', 'CRSElapsedTime', 'DepartureDelayGroups' e 'ArrDelay'. É de notar que as variáveis que assumem valores negativos implicam que existiram voos que partiram antes do tempo."
   ]
  },
  {
   "cell_type": "markdown",
   "id": "a136b462-b12a-4bec-8c6f-815accbbd6e1",
   "metadata": {
    "tags": []
   },
   "source": [
    "## Variedade de descritivas interessantes"
   ]
  },
  {
   "cell_type": "markdown",
   "id": "588b5060-5e9c-4fe9-ba93-53153a37dc11",
   "metadata": {},
   "source": [
    "### Número de voos por ano - 'Year'"
   ]
  },
  {
   "cell_type": "code",
   "execution_count": 35,
   "id": "3450f3c6-2f03-47e3-9717-b1cf0f645ba0",
   "metadata": {},
   "outputs": [
    {
     "name": "stdout",
     "output_type": "stream",
     "text": [
      "+----+-----------------+\n",
      "|Year|Number of flights|\n",
      "+----+-----------------+\n",
      "|2018|          5578617|\n",
      "|2019|          7917263|\n",
      "|2020|          4712844|\n",
      "|2021|          6185869|\n",
      "|2022|          3944916|\n",
      "+----+-----------------+\n",
      "\n"
     ]
    }
   ],
   "source": [
    "df_flights_clean.groupBy(\"Year\").agg(F.count(\"*\").alias(\"Number of flights\")).show()"
   ]
  },
  {
   "cell_type": "markdown",
   "id": "b3935284-e096-443f-8e52-b0f708219b6d",
   "metadata": {},
   "source": [
    "Observamos que o ano com mais voos foi 2019, em 2020 houve uma queda, que pode estar associada à pandemia, um aumento em 2021, pois houve abertura de fronteiras consoante a prova de teste negativo e vacina e 2022 é o ano com menos voos porque só temos informação até aos mês 7 - julho."
   ]
  },
  {
   "cell_type": "markdown",
   "id": "6dd7d2c3-58b5-4aba-a513-f0740d259eef",
   "metadata": {},
   "source": [
    "### Número de voos por trimestre - 'Quarter'"
   ]
  },
  {
   "cell_type": "code",
   "execution_count": 43,
   "id": "c73ca54f-56ca-4304-be0f-13d2f17d7eee",
   "metadata": {},
   "outputs": [
    {
     "name": "stdout",
     "output_type": "stream",
     "text": [
      "+-------+-----------------+\n",
      "|Quarter|Number of flights|\n",
      "+-------+-----------------+\n",
      "|      1|          7510257|\n",
      "|      2|          7033393|\n",
      "|      3|          6987160|\n",
      "|      4|          6808699|\n",
      "+-------+-----------------+\n",
      "\n"
     ]
    }
   ],
   "source": [
    "df_flights_clean.groupBy(\"Quarter\").agg(F.count(\"*\").alias(\"Number of flights\")).sort('Quarter').show()"
   ]
  },
  {
   "cell_type": "markdown",
   "id": "ef4300e1-38b0-4531-838f-b29c384969a4",
   "metadata": {},
   "source": [
    "O primeiro trimestre é o com mais voos, seguido do segundo, terceiro e quarto. Isto pode acontecer, devido à presença do mês de janeiro - férias escolares e passagem de ano - e de março - férias escolares - e é de notar que o carnaval também se realiza neste trimestre. Também é relevante mencionar que 2022 não tem os dados completos, o que se pode refletir nos dados do terceiro e quarto trimestres. "
   ]
  },
  {
   "cell_type": "markdown",
   "id": "b4c95e9d-a791-466f-a5cd-931f00722377",
   "metadata": {},
   "source": [
    "### Número de voos por mês - 'Month'"
   ]
  },
  {
   "cell_type": "code",
   "execution_count": 42,
   "id": "f742706a-7438-4b2b-9c4d-1e56c175cb33",
   "metadata": {},
   "outputs": [
    {
     "name": "stdout",
     "output_type": "stream",
     "text": [
      "+-----+-----------------+\n",
      "|Month|Number of flights|\n",
      "+-----+-----------------+\n",
      "|    1|          2612300|\n",
      "|    2|          2265069|\n",
      "|    3|          2632888|\n",
      "|    4|          2356760|\n",
      "|    5|          2307502|\n",
      "|    6|          2369131|\n",
      "|    7|          2635455|\n",
      "|    8|          2175988|\n",
      "|    9|          2175717|\n",
      "|   10|          2301924|\n",
      "|   11|          2237636|\n",
      "|   12|          2269139|\n",
      "+-----+-----------------+\n",
      "\n"
     ]
    }
   ],
   "source": [
    "df_flights_clean.groupBy(\"Month\").agg(F.count(\"*\").alias(\"Number of flights\")).sort('Month').show()"
   ]
  },
  {
   "cell_type": "markdown",
   "id": "e3a55d99-8d8a-443f-a618-afbed9c58a1d",
   "metadata": {},
   "source": [
    "Os meses com mais voos são julho - 7 -, março - 3 - e janeiro - 1, que são meses marcados pelas férias de verão, de primavera e de inverno. O mês com menos voos é setembro. É de notar masi uma vez que não temos informação acerca dos meses 8 a 12 do ano de 2022."
   ]
  },
  {
   "cell_type": "markdown",
   "id": "37d4514e-4c1e-4d6e-82c3-546001d54e7c",
   "metadata": {},
   "source": [
    "### Número de voos por dia do mês - 'DayofMonth'"
   ]
  },
  {
   "cell_type": "code",
   "execution_count": 71,
   "id": "47b2ba55-b529-4c99-b9d7-d674aee0b662",
   "metadata": {},
   "outputs": [
    {
     "name": "stdout",
     "output_type": "stream",
     "text": [
      "+----------+-----------------+\n",
      "|DayofMonth|Number of flights|\n",
      "+----------+-----------------+\n",
      "|1         |909801           |\n",
      "|2         |911237           |\n",
      "|3         |924375           |\n",
      "|4         |919262           |\n",
      "|5         |927825           |\n",
      "|6         |932159           |\n",
      "|7         |930824           |\n",
      "|8         |934997           |\n",
      "|9         |931210           |\n",
      "|10        |943059           |\n",
      "|11        |937785           |\n",
      "|12        |942133           |\n",
      "|13        |937193           |\n",
      "|14        |933053           |\n",
      "|15        |933478           |\n",
      "|16        |928763           |\n",
      "|17        |938894           |\n",
      "|18        |942858           |\n",
      "|19        |943291           |\n",
      "|20        |940305           |\n",
      "+----------+-----------------+\n",
      "only showing top 20 rows\n",
      "\n"
     ]
    }
   ],
   "source": [
    "df_flights_clean.groupBy(\"DayofMonth\").agg(F.count(\"*\").alias(\"Number of flights\")).sort('DayofMonth').show()"
   ]
  },
  {
   "cell_type": "markdown",
   "id": "b36243da-1b83-4019-ad3d-b1fc9aea41da",
   "metadata": {},
   "source": [
    "Dos dias visíveis o dia 1 é o com menos voos e o dia 19 é o com mais voos. Apesar de não ser visível aqui, colocamos a hipótese de que o dia 31 deve ser o com menos voos, porque é um dia que não existe em todos os meses, esta pode ser confirmada no gráfico intitulado de 'Número de voos de partida atrasados por dia do mês' no notebook 'Visualização'."
   ]
  },
  {
   "cell_type": "markdown",
   "id": "cc7a7bdb-c3b0-4167-95bd-26c553699a48",
   "metadata": {},
   "source": [
    "### Número de voos por dia da semana - 'DayofWeek'"
   ]
  },
  {
   "cell_type": "code",
   "execution_count": 46,
   "id": "21f54b47-a74c-404a-aaa0-3b42002d1aa1",
   "metadata": {},
   "outputs": [
    {
     "name": "stdout",
     "output_type": "stream",
     "text": [
      "+---------+-----------------+\n",
      "|DayofWeek|Number of flights|\n",
      "+---------+-----------------+\n",
      "|        1|          4225014|\n",
      "|        2|          3938863|\n",
      "|        3|          4004727|\n",
      "|        4|          4196953|\n",
      "|        5|          4228383|\n",
      "|        6|          3618697|\n",
      "|        7|          4126872|\n",
      "+---------+-----------------+\n",
      "\n"
     ]
    }
   ],
   "source": [
    "df_flights_clean.groupBy(\"DayofWeek\").agg(F.count(\"*\").alias(\"Number of flights\")).sort('DayofWeek').show()"
   ]
  },
  {
   "cell_type": "markdown",
   "id": "52dd5d54-1b6b-4a6c-a6e0-73001c59bb3a",
   "metadata": {},
   "source": [
    "O dia da semana com mais voos é quinta e o com menos voos é sábado."
   ]
  },
  {
   "cell_type": "markdown",
   "id": "76ac0288-be68-42a0-ba62-d6c759b094df",
   "metadata": {},
   "source": [
    "### Top 10 companhias aéreas com mais voos - 'Airline'"
   ]
  },
  {
   "cell_type": "code",
   "execution_count": 49,
   "id": "7595eb4e-8cca-4463-8b27-6e5988d15347",
   "metadata": {
    "tags": []
   },
   "outputs": [
    {
     "name": "stdout",
     "output_type": "stream",
     "text": [
      "+--------------------+-------+\n",
      "|             Airline|  count|\n",
      "+--------------------+-------+\n",
      "|Southwest Airline...|5292591|\n",
      "|Delta Air Lines Inc.|3242140|\n",
      "|SkyWest Airlines ...|3077213|\n",
      "|American Airlines...|3031275|\n",
      "|United Air Lines ...|2301368|\n",
      "|   Republic Airlines|1239828|\n",
      "|     JetBlue Airways|1073460|\n",
      "|           Envoy Air|1033979|\n",
      "|   Endeavor Air Inc.| 974640|\n",
      "|         Comair Inc.| 922947|\n",
      "+--------------------+-------+\n",
      "\n"
     ]
    }
   ],
   "source": [
    "airline_counts = df_flights_clean.groupBy('Airline').agg(count('*').alias('count'))\n",
    "\n",
    "airline_counts.orderBy('count', ascending=False).limit(10).show()"
   ]
  },
  {
   "cell_type": "markdown",
   "id": "7c6303a6-b4bd-485b-957f-02986f09abdb",
   "metadata": {},
   "source": [
    "Aqui podemos observar que a companhia aérea com mais voos é a Southwest Airlines."
   ]
  },
  {
   "cell_type": "markdown",
   "id": "dd90b816-f7c2-43d1-ab40-788c614872e2",
   "metadata": {},
   "source": [
    "### Número de voos pelo top 10 de origens - 'Origin'"
   ]
  },
  {
   "cell_type": "code",
   "execution_count": 52,
   "id": "8f928b79-e3bf-4563-9935-94866447ef69",
   "metadata": {
    "tags": []
   },
   "outputs": [
    {
     "name": "stdout",
     "output_type": "stream",
     "text": [
      "+------+-------+\n",
      "|Origin|  count|\n",
      "+------+-------+\n",
      "|   ATL|1347020|\n",
      "|   ORD|1327411|\n",
      "|   DEN|1137835|\n",
      "|   DFW|1064833|\n",
      "|   CLT| 880449|\n",
      "|   LAX| 833491|\n",
      "|   SEA| 711509|\n",
      "|   IAH| 672528|\n",
      "|   PHX| 661849|\n",
      "|   LAS| 648466|\n",
      "+------+-------+\n",
      "only showing top 10 rows\n",
      "\n"
     ]
    }
   ],
   "source": [
    "df_flights_clean.groupBy('Origin').count().orderBy(desc('count')).show(10)"
   ]
  },
  {
   "cell_type": "markdown",
   "id": "fd22b7f9-06ae-4231-a28e-56cf1849ed6a",
   "metadata": {},
   "source": [
    "O aeroporto com mais partidas é Aeroporto Internacional de Atlanta Hartsfield-Jackson."
   ]
  },
  {
   "cell_type": "markdown",
   "id": "2e14ffa5-1491-47eb-acfb-a167d38a0899",
   "metadata": {},
   "source": [
    "### Número de voos pelo top 10 de destinos - 'Dest'"
   ]
  },
  {
   "cell_type": "code",
   "execution_count": 53,
   "id": "0b040a0d-54a8-4c5e-ae18-ba7b75967dab",
   "metadata": {
    "tags": []
   },
   "outputs": [
    {
     "name": "stdout",
     "output_type": "stream",
     "text": [
      "+----+-------+\n",
      "|Dest|  count|\n",
      "+----+-------+\n",
      "| ATL|1347297|\n",
      "| ORD|1325509|\n",
      "| DEN|1136193|\n",
      "| DFW|1062170|\n",
      "| CLT| 879096|\n",
      "| LAX| 834181|\n",
      "| SEA| 710775|\n",
      "| IAH| 671574|\n",
      "| PHX| 661392|\n",
      "| LAS| 648924|\n",
      "+----+-------+\n",
      "only showing top 10 rows\n",
      "\n"
     ]
    }
   ],
   "source": [
    "df_flights_clean.groupBy('Dest').count().orderBy(desc('count')).show(10)"
   ]
  },
  {
   "cell_type": "markdown",
   "id": "b454a89b-6331-4054-85e7-b230cc6001c7",
   "metadata": {},
   "source": [
    "O aeroporto com mais chegadas é Aeroporto Internacional de Atlanta Hartsfield-Jackson. Salientamos que ainda que os valores variem um pouco, os aeroportos mais relevantes nas partidas e chegadas são os mesmos, o que faz sentido, considerando que as rotas já estão estabelecidas de e para estes aeroportos."
   ]
  },
  {
   "cell_type": "markdown",
   "id": "fa573eef-a4d8-4884-93d7-3dede7b565b6",
   "metadata": {
    "tags": []
   },
   "source": [
    "## -----"
   ]
  },
  {
   "cell_type": "markdown",
   "id": "4ac0b79b-614d-4472-b9e0-a49102739226",
   "metadata": {
    "tags": []
   },
   "source": [
    "### Atrasos na partidas - 'DepDel15'"
   ]
  },
  {
   "cell_type": "markdown",
   "id": "3670ff3a-6e5a-435a-b21d-10b60c65ad47",
   "metadata": {},
   "source": [
    "É de notar que a variável DepDel15, apenas assume 2 valores - 0 e 1. Sendo que 1, corresponde a voos com atraso na partida, ou seja, voos atrasados por 15 ou mais minutos e 0, se os voos tiverem partido com menos de 15 minutos de atraso. "
   ]
  },
  {
   "cell_type": "code",
   "execution_count": 54,
   "id": "0ead7bcb-dfc3-4e47-9998-2b5c1f388b7e",
   "metadata": {},
   "outputs": [
    {
     "name": "stdout",
     "output_type": "stream",
     "text": [
      "+--------+-----------------+\n",
      "|DepDel15|Number of flights|\n",
      "+--------+-----------------+\n",
      "|     0.0|         23458242|\n",
      "|     1.0|          4881267|\n",
      "+--------+-----------------+\n",
      "\n"
     ]
    }
   ],
   "source": [
    "df_flights_clean.groupBy(\"DepDel15\").agg(F.count(\"*\").alias(\"Number of flights\")).show()"
   ]
  },
  {
   "cell_type": "markdown",
   "id": "571df0b5-9f65-419f-9ad7-1ce50389488c",
   "metadata": {},
   "source": [
    "Há mais voos não atrasados na partida, do que o contrário."
   ]
  },
  {
   "cell_type": "markdown",
   "id": "f94ea921-a27c-4a11-80c5-1340d4f45cf3",
   "metadata": {
    "tags": []
   },
   "source": [
    "### Top 10 companhias aéreas com atrasos nas partidas - 'DepDel15' e 'Airline'"
   ]
  },
  {
   "cell_type": "code",
   "execution_count": 59,
   "id": "1b752181-e698-472d-b7fb-c4bc4a64bbcd",
   "metadata": {
    "tags": []
   },
   "outputs": [
    {
     "name": "stdout",
     "output_type": "stream",
     "text": [
      "+--------------------+-----------------+\n",
      "|             Airline|Number of flights|\n",
      "+--------------------+-----------------+\n",
      "|Southwest Airline...|          1131161|\n",
      "|American Airlines...|           540742|\n",
      "|SkyWest Airlines ...|           457436|\n",
      "|Delta Air Lines Inc.|           419022|\n",
      "|United Air Lines ...|           399404|\n",
      "|     JetBlue Airways|           273833|\n",
      "|   Republic Airlines|           171790|\n",
      "|           Envoy Air|           151474|\n",
      "|    Spirit Air Lines|           149826|\n",
      "|         Comair Inc.|           149711|\n",
      "+--------------------+-----------------+\n",
      "\n"
     ]
    }
   ],
   "source": [
    "df_flights_clean.select(\"DepDel15\", \"Airline\").where(\"DepDel15=1\").groupBy(\"Airline\").agg(F.count(\"*\").alias(\"Number of flights\")).sort(F.desc(\"Number of flights\")).limit(10).show()"
   ]
  },
  {
   "cell_type": "markdown",
   "id": "e252fc02-ffbf-434f-abc5-0f86771d2cf7",
   "metadata": {},
   "source": [
    "É de notar que o top 10 de companhias aéreas com mais atrasos nas partidas são praticamente as mesmas que correspondem ao top 10  de aeroportos com mais voos, a única exceção é a companhia aérea Spirit Air Lines. A com mais atrasos é a Southwest Airlines."
   ]
  },
  {
   "cell_type": "markdown",
   "id": "f02c495c-a10c-4e2c-a314-b70787322028",
   "metadata": {},
   "source": [
    "### Atrasos nas partidas por ano - 'DepDel15' e 'Year'"
   ]
  },
  {
   "cell_type": "code",
   "execution_count": 61,
   "id": "a86b5db5-b4c9-41e1-bda7-6d9f88069c1b",
   "metadata": {},
   "outputs": [
    {
     "name": "stdout",
     "output_type": "stream",
     "text": [
      "+----+-----------------+\n",
      "|Year|Number of flights|\n",
      "+----+-----------------+\n",
      "|2018|          1044682|\n",
      "|2019|          1477915|\n",
      "|2020|           431062|\n",
      "|2021|          1068103|\n",
      "|2022|           859505|\n",
      "+----+-----------------+\n",
      "\n"
     ]
    }
   ],
   "source": [
    "df_flights_clean.select(\"DepDel15\", \"Year\").where(\"DepDel15=1\").groupBy(\"Year\").agg(F.count(\"*\").alias(\"Number of flights\")).show()"
   ]
  },
  {
   "cell_type": "markdown",
   "id": "26e41ef7-6acc-482e-b65f-bcb4f970345a",
   "metadata": {},
   "source": [
    "Os atrasos nas partidas foram mais sentidos em 2019 e menos em 2020, devido à pandemia e a todas as restrições a ela associadas. Salientamos que não temos os dados completos para o ano de 2022, o que também vai impactar os resultados associados ao 'Quarter', 'Month', 'DayofMonth' e 'DayofWeek'."
   ]
  },
  {
   "cell_type": "markdown",
   "id": "dc634ac1-20ee-4d4a-8596-a4e38ec4a6b9",
   "metadata": {
    "tags": []
   },
   "source": [
    "### Atrasos nas partidas por trimestre - 'DepDel15' e 'Quarter'"
   ]
  },
  {
   "cell_type": "code",
   "execution_count": 67,
   "id": "01d99480-d8c3-4d91-ab84-dbb2899bf7b0",
   "metadata": {},
   "outputs": [
    {
     "name": "stdout",
     "output_type": "stream",
     "text": [
      "+-------+-----------------+\n",
      "|Quarter|Number of flights|\n",
      "+-------+-----------------+\n",
      "|      1|          1216098|\n",
      "|      2|          1320365|\n",
      "|      3|          1254130|\n",
      "|      4|          1090674|\n",
      "+-------+-----------------+\n",
      "\n"
     ]
    }
   ],
   "source": [
    "df_flights_clean.select(\"DepDel15\", \"Quarter\").where(\"DepDel15=1\").groupBy(\"Quarter\").agg(F.count(\"*\").alias(\"Number of flights\")).sort('Quarter').show()"
   ]
  },
  {
   "cell_type": "markdown",
   "id": "792ec924-5cbb-4273-978a-204221b01f63",
   "metadata": {},
   "source": [
    "Os atrasos nas partidas são mais sentidos no segundo trimestre e menos no quarto. Os atrasos no primeiro e terceiro trimestres são parecidos."
   ]
  },
  {
   "cell_type": "markdown",
   "id": "22526593-1ace-4972-a8ce-aae890050afb",
   "metadata": {},
   "source": [
    "### Atrasos nas partidas por mês - 'DepDel15' e 'Month'"
   ]
  },
  {
   "cell_type": "code",
   "execution_count": 69,
   "id": "73d1a1b6-a6f5-472e-8aaf-3c5210980924",
   "metadata": {},
   "outputs": [
    {
     "name": "stdout",
     "output_type": "stream",
     "text": [
      "+-----+-----------------+\n",
      "|Month|Number of flights|\n",
      "+-----+-----------------+\n",
      "|    1|           413990|\n",
      "|    2|           401130|\n",
      "|    3|           400978|\n",
      "|    4|           383490|\n",
      "|    5|           409288|\n",
      "|    6|           527587|\n",
      "|    7|           551043|\n",
      "|    8|           417018|\n",
      "|    9|           286069|\n",
      "|   10|           348365|\n",
      "|   11|           322306|\n",
      "|   12|           420003|\n",
      "+-----+-----------------+\n",
      "\n"
     ]
    }
   ],
   "source": [
    "df_flights_clean.select(\"DepDel15\", \"Month\").where(\"DepDel15=1\").groupBy(\"Month\").agg(F.count(\"*\").alias(\"Number of flights\")).sort('Month').show()"
   ]
  },
  {
   "cell_type": "markdown",
   "id": "05f3a267-b0c0-48aa-90b1-52c5bc42b09b",
   "metadata": {},
   "source": [
    "O mês com mais atrasos nas partidas é julho - 7 - e o com menos é novembro - 11."
   ]
  },
  {
   "cell_type": "markdown",
   "id": "9a10c7c0-1b62-4c61-814b-fc61586f4e5b",
   "metadata": {
    "tags": []
   },
   "source": [
    "### Atrasos nas partidas por dia do mês - 'DepDel15' e 'DayofMonth'"
   ]
  },
  {
   "cell_type": "code",
   "execution_count": 73,
   "id": "c7482537-cfc6-4c57-9c61-5acb9938d6d3",
   "metadata": {},
   "outputs": [
    {
     "name": "stdout",
     "output_type": "stream",
     "text": [
      "+----------+-----------------+\n",
      "|DayofMonth|Number of flights|\n",
      "+----------+-----------------+\n",
      "|         1|           163376|\n",
      "|         2|           163094|\n",
      "|         3|           158438|\n",
      "|         4|           140853|\n",
      "|         5|           141602|\n",
      "|         6|           155992|\n",
      "|         7|           158927|\n",
      "|         8|           158102|\n",
      "|         9|           161175|\n",
      "|        10|           159534|\n",
      "|        11|           165785|\n",
      "|        12|           169513|\n",
      "|        13|           171745|\n",
      "|        14|           160419|\n",
      "|        15|           164919|\n",
      "|        16|           162939|\n",
      "|        17|           164926|\n",
      "|        18|           177675|\n",
      "|        19|           171931|\n",
      "|        20|           171953|\n",
      "+----------+-----------------+\n",
      "only showing top 20 rows\n",
      "\n"
     ]
    }
   ],
   "source": [
    "df_flights_clean.select(\"DepDel15\", \"DayofMonth\").where(\"DepDel15=1\").groupBy(\"DayofMonth\").agg(F.count(\"*\").alias(\"Number of flights\")).sort('DayofMonth').show()"
   ]
  },
  {
   "cell_type": "markdown",
   "id": "23668297-9404-4e18-8dfc-2afb93739695",
   "metadata": {},
   "source": [
    "Dos dias visíveis, o com mais atrasos é o dia 20 e o com menos é o dia 4. Mais uma vez, colocamos a hipótese de que o dia com menos atrasos é o dia 31, porque é um dia que ocorre em todos os meses. Esta vai ser corroborada no gráfico 'Número de voos atrasados na partida por dia do mês' no notebook 'Visualização'."
   ]
  },
  {
   "cell_type": "markdown",
   "id": "103c3681-9ade-4f80-8209-6a4530e06195",
   "metadata": {
    "tags": []
   },
   "source": [
    "### Atrasos nas partidas por dia da semana - 'DepDel15' e 'DayofWeek'"
   ]
  },
  {
   "cell_type": "code",
   "execution_count": 76,
   "id": "ae9f919c-f634-4629-9944-f7e671d6de4b",
   "metadata": {},
   "outputs": [
    {
     "name": "stdout",
     "output_type": "stream",
     "text": [
      "+---------+-----------------+\n",
      "|DayofWeek|Number of flights|\n",
      "+---------+-----------------+\n",
      "|        1|           748214|\n",
      "|        2|           616739|\n",
      "|        3|           625170|\n",
      "|        4|           761820|\n",
      "|        5|           794939|\n",
      "|        6|           595880|\n",
      "|        7|           738505|\n",
      "+---------+-----------------+\n",
      "\n"
     ]
    }
   ],
   "source": [
    "df_flights_clean.select(\"DepDel15\", \"DayofWeek\").where(\"DepDel15=1\").groupBy(\"DayofWeek\").agg(F.count(\"*\").alias(\"Number of flights\")).sort('DayofWeek').show()"
   ]
  },
  {
   "cell_type": "markdown",
   "id": "ca88b406-e434-46b1-bf74-5009290017ec",
   "metadata": {
    "tags": []
   },
   "source": [
    "O dia da semana com mais atrasos nas partidas é quinta e o com menos é sábado."
   ]
  },
  {
   "cell_type": "markdown",
   "id": "32ddd4ac-b69c-404e-90f4-62728630cd2f",
   "metadata": {
    "tags": []
   },
   "source": [
    "### Top 10 de atrasos nas partidas por origem - 'DepDel15' e 'Origin'"
   ]
  },
  {
   "cell_type": "code",
   "execution_count": 78,
   "id": "7dd0ccbd-6398-4277-8755-2b227a81f99e",
   "metadata": {},
   "outputs": [
    {
     "name": "stdout",
     "output_type": "stream",
     "text": [
      "+------+-----------------+\n",
      "|Origin|Number of flights|\n",
      "+------+-----------------+\n",
      "|   ORD|           248917|\n",
      "|   DEN|           241926|\n",
      "|   DFW|           211241|\n",
      "|   ATL|           207956|\n",
      "|   CLT|           139740|\n",
      "|   LAX|           139398|\n",
      "|   EWR|           133151|\n",
      "|   LAS|           131881|\n",
      "|   PHX|           120779|\n",
      "|   MCO|           119677|\n",
      "+------+-----------------+\n",
      "\n"
     ]
    }
   ],
   "source": [
    "df_flights_clean.select(\"DepDel15\", \"Origin\").where(\"DepDel15=1\").groupBy(\"Origin\").agg(F.count(\"*\").alias(\"Number of flights\")).sort(F.desc(\"Number of flights\")).limit(10).show()"
   ]
  },
  {
   "cell_type": "markdown",
   "id": "57286f6f-e44a-4aa0-a244-8e25595d7810",
   "metadata": {},
   "source": [
    "Os voos com mais atrasos nas partidas vêm do Aeroporto Internacional O'Hare, sendo que este é o segundo aeroporto com mais voos."
   ]
  },
  {
   "cell_type": "markdown",
   "id": "6170db7c-5182-47cc-bbd7-115d4c0e933f",
   "metadata": {},
   "source": [
    "### Top 10 de atrasos nas partidas por destino - 'DepDel15' e 'Dest'"
   ]
  },
  {
   "cell_type": "code",
   "execution_count": 15,
   "id": "56e5d298-d3ca-4825-9af9-e1a782cfb146",
   "metadata": {
    "tags": []
   },
   "outputs": [
    {
     "name": "stdout",
     "output_type": "stream",
     "text": [
      "+----+-----------------+\n",
      "|Dest|Number of flights|\n",
      "+----+-----------------+\n",
      "| ORD|           223344|\n",
      "| DEN|           188175|\n",
      "| DFW|           178987|\n",
      "| ATL|           175550|\n",
      "| LAX|           136812|\n",
      "| EWR|           136637|\n",
      "| CLT|           127284|\n",
      "| LAS|           122632|\n",
      "| SFO|           116644|\n",
      "| MCO|           113850|\n",
      "+----+-----------------+\n",
      "\n"
     ]
    }
   ],
   "source": [
    "df_flights_clean.select(\"DepDel15\", \"Dest\").where(\"DepDel15=1\").groupBy(\"Dest\").agg(F.count(\"*\").alias(\"Number of flights\")).sort(F.desc(\"Number of flights\")).limit(10).show()"
   ]
  },
  {
   "cell_type": "markdown",
   "id": "f56436d8-95f7-4163-a58d-46d78dd62a75",
   "metadata": {
    "tags": []
   },
   "source": [
    "Os voos com mais atrasos nas partidas vão para o Aeroporto Internacional O'Hare."
   ]
  },
  {
   "cell_type": "markdown",
   "id": "1e633e90-eeed-474d-99c3-3f46a5da2d05",
   "metadata": {},
   "source": [
    "### Diversidade de estatísticas associadas aos voos de partida atrasados"
   ]
  },
  {
   "cell_type": "code",
   "execution_count": 24,
   "id": "9a8a0e5d-5253-4a3b-8896-8c2786b8bfd0",
   "metadata": {
    "tags": []
   },
   "outputs": [
    {
     "name": "stdout",
     "output_type": "stream",
     "text": [
      "+--------------------+-------------------------+---------------------------+-----------------------+--------------+\n",
      "|Número total de voos|Voos atrasados na partida|% Voos atrasados na partida|Voos a tempo na partida|% Voos a tempo|\n",
      "+--------------------+-------------------------+---------------------------+-----------------------+--------------+\n",
      "|            28339509|                  4881267|                      17.22|               23458242|         82.78|\n",
      "+--------------------+-------------------------+---------------------------+-----------------------+--------------+\n",
      "\n"
     ]
    }
   ],
   "source": [
    "# número total de voos\n",
    "total_flights = df_flights_clean.count()\n",
    "\n",
    "# voos atrasados mais de 15 min\n",
    "delayed_flights = df_flights_clean.filter(F.col(\"DepDel15\") == 1).count()\n",
    "\n",
    "# voos a tempo\n",
    "delayed_flights1 = df_flights_clean.filter(F.col(\"DepDel15\") == 0).count()\n",
    "\n",
    "# % voos atrasados\n",
    "percent_delayed = round((delayed_flights / total_flights) * 100, 2)\n",
    "\n",
    "# % voos a tempo\n",
    "percent_on_time = round((delayed_flights1 / total_flights) * 100, 2)\n",
    "\n",
    "table = [(total_flights, delayed_flights, percent_delayed, delayed_flights1, percent_on_time)]\n",
    "\n",
    "df_table = spark.createDataFrame(table, [\"Número total de voos\", \"Voos atrasados na partida\", \"% Voos atrasados na partida\", \"Voos a tempo na partida\", \"% Voos a tempo\"])\n",
    "\n",
    "df_table.show()"
   ]
  },
  {
   "cell_type": "markdown",
   "id": "0b20ad5a-f16a-44b4-90af-025b66c28b3f",
   "metadata": {},
   "source": [
    "De um total de 28339509 voos, 4881267 são atrasados na partida, o que representa 17.22% de todos os voos e os a tempo são  23458242, o que corresponde a 82.78% ."
   ]
  },
  {
   "cell_type": "markdown",
   "id": "7924a453-9b7d-4d59-ae6c-5d60f501322d",
   "metadata": {},
   "source": [
    "### Atrasos na chegadas - 'ArrDel15'"
   ]
  },
  {
   "cell_type": "markdown",
   "id": "12d81a25-d03e-443e-9fde-eca6c2b1ead1",
   "metadata": {},
   "source": [
    "É de notar que a variável ArrDel15, apenas assume 2 valores - 0 e 1. Sendo que 1, corresponde a voos com atraso na chegada, ou seja, voos atrasados por 15 ou mais minutos e 0, se os voos tiverem chegado com menos de 15 minutos de atraso. "
   ]
  },
  {
   "cell_type": "code",
   "execution_count": 83,
   "id": "f5a997b2-50c5-4bce-9d13-28d550d5eaf6",
   "metadata": {},
   "outputs": [
    {
     "name": "stdout",
     "output_type": "stream",
     "text": [
      "+--------+-----------------+\n",
      "|ArrDel15|Number of flights|\n",
      "+--------+-----------------+\n",
      "|     0.0|         23334258|\n",
      "|     1.0|          5005251|\n",
      "+--------+-----------------+\n",
      "\n"
     ]
    }
   ],
   "source": [
    "df_flights_clean.groupBy(\"ArrDel15\").agg(F.count(\"*\").alias(\"Number of flights\")).show()"
   ]
  },
  {
   "cell_type": "markdown",
   "id": "449a2a71-c584-4fa8-9904-80d8daf242d5",
   "metadata": {},
   "source": [
    "Há mais voos sem atrasos nas chegadas do que o contrário."
   ]
  },
  {
   "cell_type": "code",
   "execution_count": 84,
   "id": "8b70266f-bcab-4758-b9df-6ebcc6c24011",
   "metadata": {},
   "outputs": [],
   "source": [
    "df_arrdel15 = df_flights_clean.filter(df_flights_clean.ArrDel15 == 1)"
   ]
  },
  {
   "cell_type": "markdown",
   "id": "a8fe4cef-9df7-4a97-97d5-0bb74d8969a3",
   "metadata": {},
   "source": [
    "### Top 10 companhias aéreas com atrasos nas chegadas"
   ]
  },
  {
   "cell_type": "code",
   "execution_count": 86,
   "id": "a430a103-7b6e-4016-8063-fc2d4718173b",
   "metadata": {},
   "outputs": [
    {
     "name": "stdout",
     "output_type": "stream",
     "text": [
      "+--------------------+-----------------+\n",
      "|             Airline|Number of flights|\n",
      "+--------------------+-----------------+\n",
      "|Southwest Airline...|           958557|\n",
      "|American Airlines...|           565689|\n",
      "|SkyWest Airlines ...|           501389|\n",
      "|United Air Lines ...|           426434|\n",
      "|Delta Air Lines Inc.|           423125|\n",
      "|     JetBlue Airways|           274876|\n",
      "|   Republic Airlines|           203657|\n",
      "|           Envoy Air|           179823|\n",
      "|         Comair Inc.|           162124|\n",
      "|    Spirit Air Lines|           155972|\n",
      "+--------------------+-----------------+\n",
      "\n"
     ]
    }
   ],
   "source": [
    "df_arrdel15.groupBy(\"Airline\").agg(F.count(\"*\").alias(\"Number of flights\")).sort(F.desc(\"Number of flights\")).limit(10).show()"
   ]
  },
  {
   "cell_type": "markdown",
   "id": "821fdd0a-f209-46f6-9caf-e2b5c59979f8",
   "metadata": {},
   "source": [
    "A companhia aérea com mais atrasos nas chegadas é Southwest Airlines. Podemos observarv que o top 10 de companhias aéreas com mais atrasos nas partidas são praticamente as mesmas que correspondem ao top 10  de aeroportos com mais voos, a única exceção é a companhia aérea Spirit Air Line."
   ]
  },
  {
   "cell_type": "markdown",
   "id": "e1027350-801f-4d04-be95-8633ed61ade0",
   "metadata": {
    "tags": []
   },
   "source": [
    "### Atrasos nas chegadas por ano"
   ]
  },
  {
   "cell_type": "code",
   "execution_count": 88,
   "id": "43482460-dc78-4738-832c-be604143148f",
   "metadata": {},
   "outputs": [
    {
     "name": "stdout",
     "output_type": "stream",
     "text": [
      "+----+-----------------+\n",
      "|Year|Number of flights|\n",
      "+----+-----------------+\n",
      "|2018|          1086881|\n",
      "|2019|          1527454|\n",
      "|2020|           468896|\n",
      "|2021|          1068058|\n",
      "|2022|           853962|\n",
      "+----+-----------------+\n",
      "\n"
     ]
    }
   ],
   "source": [
    "df_arrdel15.groupBy(\"Year\").agg(F.count(\"*\").alias(\"Number of flights\")).show()"
   ]
  },
  {
   "cell_type": "markdown",
   "id": "f05d6026-79cd-42a8-a994-ac040b823d4f",
   "metadata": {},
   "source": [
    "O ano com mais atrasos nas chegadas é 2019 e o com menos é 2022, considerando o fecho de fronteiras, o que fez com que circulassem menos voos. Relativamente a 2022 só temos dados até julho, o que vai afetar os resultados associados a 'Year', 'Quarter', 'Month', 'DayofMonth' e 'DayofWeek'. "
   ]
  },
  {
   "cell_type": "markdown",
   "id": "52ee5bcf-c4cd-4a93-9bb9-14151b66c65b",
   "metadata": {},
   "source": [
    "### Atrasos nas chegadas por trimestre"
   ]
  },
  {
   "cell_type": "code",
   "execution_count": 89,
   "id": "0033f8b2-2675-434d-9e1d-7bb31bf00ca3",
   "metadata": {},
   "outputs": [
    {
     "name": "stdout",
     "output_type": "stream",
     "text": [
      "+-------+-----------------+\n",
      "|Quarter|Number of flights|\n",
      "+-------+-----------------+\n",
      "|      1|          1260276|\n",
      "|      2|          1329698|\n",
      "|      3|          1285847|\n",
      "|      4|          1129430|\n",
      "+-------+-----------------+\n",
      "\n"
     ]
    }
   ],
   "source": [
    "df_arrdel15.groupBy(\"Quarter\").agg(F.count(\"*\").alias(\"Number of flights\")).sort('Quarter').show()"
   ]
  },
  {
   "cell_type": "markdown",
   "id": "70a38622-44b2-4ca7-9acd-39471d6adc99",
   "metadata": {
    "tags": []
   },
   "source": [
    "O trimestre com mais atrasos nas chegadas é o segundo e o com menos é o quarto."
   ]
  },
  {
   "cell_type": "markdown",
   "id": "aa96c7b2-d8f0-450a-82f8-9a1755d21df7",
   "metadata": {
    "tags": []
   },
   "source": [
    "### Atrasos nas chegadas por mês"
   ]
  },
  {
   "cell_type": "code",
   "execution_count": 91,
   "id": "0477c7ef-f78e-435c-a5b2-be60eb892e7b",
   "metadata": {},
   "outputs": [
    {
     "name": "stdout",
     "output_type": "stream",
     "text": [
      "+-----+-----------------+\n",
      "|Month|Number of flights|\n",
      "+-----+-----------------+\n",
      "|    1|           426310|\n",
      "|    2|           426616|\n",
      "|    3|           407350|\n",
      "|    4|           388531|\n",
      "|    5|           410491|\n",
      "|    6|           530676|\n",
      "|    7|           556411|\n",
      "|    8|           432240|\n",
      "|    9|           297196|\n",
      "|   10|           364446|\n",
      "|   11|           334469|\n",
      "|   12|           430515|\n",
      "+-----+-----------------+\n",
      "\n"
     ]
    }
   ],
   "source": [
    "df_arrdel15.groupBy(\"Month\").agg(F.count(\"*\").alias(\"Number of flights\")).sort('Month').show()"
   ]
  },
  {
   "cell_type": "markdown",
   "id": "d748eecd-49f9-461c-8413-d1664abb2622",
   "metadata": {
    "tags": []
   },
   "source": [
    "O mês com mais atrasos é julho - 7 - e o com menos é setembro - 9."
   ]
  },
  {
   "cell_type": "markdown",
   "id": "df0ff253-7048-4bf4-9924-a44b2cdf0fb7",
   "metadata": {},
   "source": [
    "### Atrasos nas chegadas por dia do mês"
   ]
  },
  {
   "cell_type": "code",
   "execution_count": 93,
   "id": "9fca3b85-ca18-4d78-b4c5-bb45290ea6c5",
   "metadata": {},
   "outputs": [
    {
     "name": "stdout",
     "output_type": "stream",
     "text": [
      "+----------+-----------------+\n",
      "|DayofMonth|Number of flights|\n",
      "+----------+-----------------+\n",
      "|         1|           165609|\n",
      "|         2|           166587|\n",
      "|         3|           160485|\n",
      "|         4|           141594|\n",
      "|         5|           144130|\n",
      "|         6|           162624|\n",
      "|         7|           165503|\n",
      "|         8|           162128|\n",
      "|         9|           166086|\n",
      "|        10|           164439|\n",
      "|        11|           172700|\n",
      "|        12|           176786|\n",
      "|        13|           180683|\n",
      "|        14|           166221|\n",
      "|        15|           170036|\n",
      "|        16|           166532|\n",
      "|        17|           169099|\n",
      "|        18|           181354|\n",
      "|        19|           174817|\n",
      "|        20|           175476|\n",
      "+----------+-----------------+\n",
      "only showing top 20 rows\n",
      "\n"
     ]
    }
   ],
   "source": [
    "df_arrdel15.groupBy(\"DayofMonth\").agg(F.count(\"*\").alias(\"Number of flights\")).sort('DayofMonth').show()"
   ]
  },
  {
   "cell_type": "markdown",
   "id": "d4032526-d864-4df9-9709-2f65087cd934",
   "metadata": {},
   "source": [
    "Dos dias visíveis, o com mais atrasos de chegada é o dia 18 e o com menos é o dia 5. Mais uma vez, colocamos a hipótese de que o dia com menos atrasos é o dia 31, porque é um dia que ocorre em todos os meses. Esta vai ser corroborada no gráfico 'Número de voos atrasados na chegada por dia do mês' presente no notebook 'Visualização'."
   ]
  },
  {
   "cell_type": "markdown",
   "id": "d6a65710-7f19-49c0-9a5c-17c4768bb4ad",
   "metadata": {},
   "source": [
    "### Atrasos nas chegadas por dia da semana"
   ]
  },
  {
   "cell_type": "code",
   "execution_count": 94,
   "id": "9442ab90-67b5-473a-94bb-253878ca486d",
   "metadata": {},
   "outputs": [
    {
     "name": "stdout",
     "output_type": "stream",
     "text": [
      "+---------+-----------------+\n",
      "|DayofWeek|Number of flights|\n",
      "+---------+-----------------+\n",
      "|        1|           765874|\n",
      "|        2|           632982|\n",
      "|        3|           654294|\n",
      "|        4|           798263|\n",
      "|        5|           819020|\n",
      "|        6|           590641|\n",
      "|        7|           744177|\n",
      "+---------+-----------------+\n",
      "\n"
     ]
    }
   ],
   "source": [
    "df_arrdel15.groupBy(\"DayofWeek\").agg(F.count(\"*\").alias(\"Number of flights\")).sort('DayofWeek').show()"
   ]
  },
  {
   "cell_type": "markdown",
   "id": "9c0e34f9-e4ee-49f6-9a4a-b530f0e47772",
   "metadata": {
    "tags": []
   },
   "source": [
    "O dia da semana com menos atrasos de chegada é sábado e o com mais é segunda."
   ]
  },
  {
   "cell_type": "markdown",
   "id": "28a37601-747f-45aa-92d6-8be55de503f9",
   "metadata": {
    "tags": []
   },
   "source": [
    "### Top 10 de atrasos nas chegadas por origem"
   ]
  },
  {
   "cell_type": "code",
   "execution_count": 96,
   "id": "97967196-98ed-41b2-acc1-c6f888a9c5a5",
   "metadata": {},
   "outputs": [
    {
     "name": "stdout",
     "output_type": "stream",
     "text": [
      "+------+-----------------+\n",
      "|Origin|Number of flights|\n",
      "+------+-----------------+\n",
      "|   ORD|           280139|\n",
      "|   DEN|           239418|\n",
      "|   DFW|           220143|\n",
      "|   ATL|           196709|\n",
      "|   CLT|           155455|\n",
      "|   EWR|           137864|\n",
      "|   LAX|           133915|\n",
      "|   LAS|           122183|\n",
      "|   IAH|           120175|\n",
      "|   MCO|           116983|\n",
      "+------+-----------------+\n",
      "\n"
     ]
    }
   ],
   "source": [
    "df_arrdel15.groupBy(\"Origin\").agg(F.count(\"*\").alias(\"Number of flights\")).sort(F.desc(\"Number of flights\")).limit(10).show()"
   ]
  },
  {
   "cell_type": "markdown",
   "id": "91a24918-f650-4af7-8d15-3e0d9360741c",
   "metadata": {},
   "source": [
    "Os voos com mais atrasos nas chegadas vêm do Aeroporto Internacional O'Hare."
   ]
  },
  {
   "cell_type": "markdown",
   "id": "db1acb50-fee6-4b06-b752-13d1cb184e71",
   "metadata": {},
   "source": [
    "### Top 10 de atrasos nas chegadas por destino"
   ]
  },
  {
   "cell_type": "code",
   "execution_count": 95,
   "id": "2e4a7730-c8b8-4ea8-a1da-43cf627bfd55",
   "metadata": {},
   "outputs": [
    {
     "name": "stdout",
     "output_type": "stream",
     "text": [
      "+----+-----------------+\n",
      "|Dest|Number of flights|\n",
      "+----+-----------------+\n",
      "| ORD|           244667|\n",
      "| DEN|           201321|\n",
      "| DFW|           200131|\n",
      "| ATL|           176919|\n",
      "| EWR|           149922|\n",
      "| LAX|           140527|\n",
      "| CLT|           127368|\n",
      "| SFO|           119300|\n",
      "| LAS|           118019|\n",
      "| SEA|           117747|\n",
      "+----+-----------------+\n",
      "\n"
     ]
    }
   ],
   "source": [
    "df_arrdel15.groupBy(\"Dest\").agg(F.count(\"*\").alias(\"Number of flights\")).sort(F.desc(\"Number of flights\")).limit(10).show()"
   ]
  },
  {
   "cell_type": "markdown",
   "id": "29272fc3-015f-43e8-a091-646da8f87b6a",
   "metadata": {},
   "source": [
    "Os voos com mais atrasos nas chegadas vão para o Aeroporto Internacional O'Hare."
   ]
  },
  {
   "cell_type": "markdown",
   "id": "11984f94-334e-4a17-8a79-b390e13a2f29",
   "metadata": {},
   "source": [
    "### Diversidade de estatísticas associadas aos voos de chegada atrasados"
   ]
  },
  {
   "cell_type": "code",
   "execution_count": 23,
   "id": "ef8624d7-26c9-4483-843c-ff49047f5d15",
   "metadata": {
    "tags": []
   },
   "outputs": [
    {
     "name": "stdout",
     "output_type": "stream",
     "text": [
      "+--------------------+------------------------+--------------------------+----------------------+--------------+\n",
      "|Número total de voos|Voos atrasados à chegada|% Voos atrasados à chegada|Voos a tempo à chegada|% Voos a tempo|\n",
      "+--------------------+------------------------+--------------------------+----------------------+--------------+\n",
      "|            28339509|                 5005251|                     17.66|              23334258|         82.34|\n",
      "+--------------------+------------------------+--------------------------+----------------------+--------------+\n",
      "\n"
     ]
    }
   ],
   "source": [
    "# número de voos\n",
    "total_flights = df_flights_clean.count()\n",
    "\n",
    "# número de voos atrasados mais de 15 min\n",
    "delayed_flights = df_flights_clean.filter(F.col(\"ArrDel15\") == 1).count()\n",
    "\n",
    "# número de voos a tempo\n",
    "delayed_flights1 = df_flights_clean.filter(F.col(\"ArrDel15\") == 0).count()\n",
    "\n",
    "# % voos atrsados\n",
    "percent_delayed = round((delayed_flights / total_flights) * 100, 2)\n",
    "\n",
    "# % voos a tempo\n",
    "percent_on_time =  round((delayed_flights1 / total_flights) * 100, 2)\n",
    "\n",
    "table = [(total_flights, delayed_flights, percent_delayed, delayed_flights1, percent_on_time)]\n",
    "\n",
    "df_table = spark.createDataFrame(table, [\"Número total de voos\", \"Voos atrasados à chegada\", \"% Voos atrasados à chegada\", \"Voos a tempo à chegada\", \"% Voos a tempo\"])\n",
    "\n",
    "df_table.show()"
   ]
  },
  {
   "cell_type": "markdown",
   "id": "80e1025b-4cff-471f-8e90-5fa0d6a8aa7a",
   "metadata": {},
   "source": [
    "De um total de 28339509 voos,  5005251 estão atrasados à chegada, o que representa 17.66% de todos os voos e os a tempo são 23334258, o que corresponde a 82.34% ."
   ]
  },
  {
   "cell_type": "markdown",
   "id": "a68f2299-319d-4f74-a0e5-25314db2a7ef",
   "metadata": {},
   "source": [
    "## -----"
   ]
  },
  {
   "cell_type": "markdown",
   "id": "059e3d15-f642-4529-97c9-ac46eb3da738",
   "metadata": {},
   "source": [
    "### Top 10 de número de voos e diferença de minutos entre a partida planeada e real - 'DepDelayMinutes'¶"
   ]
  },
  {
   "cell_type": "code",
   "execution_count": 17,
   "id": "71471825-e726-4054-a4f7-2d7deb61a8aa",
   "metadata": {
    "tags": []
   },
   "outputs": [
    {
     "name": "stdout",
     "output_type": "stream",
     "text": [
      "+---------------+-----------------+\n",
      "|DepDelayMinutes|Number of flights|\n",
      "+---------------+-----------------+\n",
      "|            0.0|         19200162|\n",
      "|            1.0|           584834|\n",
      "|            2.0|           467851|\n",
      "|            3.0|           411426|\n",
      "|            4.0|           371837|\n",
      "|            5.0|           341400|\n",
      "|            6.0|           307252|\n",
      "|            7.0|           283375|\n",
      "|            8.0|           261189|\n",
      "|            9.0|           242226|\n",
      "+---------------+-----------------+\n",
      "\n"
     ]
    }
   ],
   "source": [
    "df_flights_clean.groupBy(\"DepDelayMinutes\").agg(F.count(\"*\").alias(\"Number of flights\")).sort(F.desc(\"Number of flights\")).limit(10).show()"
   ]
  },
  {
   "cell_type": "markdown",
   "id": "20c10969-3217-4f8c-b4a1-a9d05e45739e",
   "metadata": {},
   "source": [
    "19200162 voos não têm qualquer atraso."
   ]
  },
  {
   "cell_type": "markdown",
   "id": "cbf76efe-b0e8-44e8-9880-b86c5a1d992b",
   "metadata": {},
   "source": [
    "### Estatísticas sobre as companhias aéreas e aeroportos"
   ]
  },
  {
   "cell_type": "code",
   "execution_count": 15,
   "id": "84c09ef4-09c6-412f-9994-fdf6d564788c",
   "metadata": {
    "tags": []
   },
   "outputs": [
    {
     "name": "stdout",
     "output_type": "stream",
     "text": [
      "+---------------+---------------+\n",
      "|Unique Carriers|Unique Airports|\n",
      "+---------------+---------------+\n",
      "|             28|           8182|\n",
      "+---------------+---------------+\n",
      "\n"
     ]
    }
   ],
   "source": [
    "# Número de companhias aéreas\n",
    "unique_carriers = df_flights_clean.select(\"Airline\").distinct().count()\n",
    "\n",
    "# Número de aeroportos\n",
    "unique_airports = df_flights_clean.select(F.concat(F.col(\"Origin\"), F.lit(\"-\"), F.col(\"Dest\")).alias(\"Airport\")).distinct().count()\n",
    "\n",
    "table = [( unique_carriers, unique_airports)]\n",
    "\n",
    "df_table = spark.createDataFrame(table, [\"Unique Carriers\", \"Unique Airports\"])\n",
    "\n",
    "df_table.show()"
   ]
  },
  {
   "cell_type": "markdown",
   "id": "e255be81-c526-40d2-83a9-4def01c2907a",
   "metadata": {},
   "source": [
    "Temos 28 companhias aéreas e 8182 aeroportos."
   ]
  },
  {
   "cell_type": "markdown",
   "id": "497cdf69-8329-4430-91c7-d3591700784c",
   "metadata": {
    "tags": []
   },
   "source": [
    "### Top 10 de rotas com mais atrasos"
   ]
  },
  {
   "cell_type": "code",
   "execution_count": 27,
   "id": "1d6e4d76-472a-4ea6-817f-9ece174ce186",
   "metadata": {
    "tags": []
   },
   "outputs": [
    {
     "name": "stdout",
     "output_type": "stream",
     "text": [
      "+------+----+------------------+\n",
      "|Origin|Dest|AvgDepDelayMinutes|\n",
      "+------+----+------------------+\n",
      "|   RDM| MFR|            1443.0|\n",
      "|   MDT| HPN|             759.0|\n",
      "|   VPS| SRQ|             720.0|\n",
      "|   DAB| DTW|             248.0|\n",
      "|   SCE| CID|             246.0|\n",
      "|   CHA| MSP|             201.0|\n",
      "|   ICT| DAY|             181.0|\n",
      "|   ERI| ITH|             156.0|\n",
      "|   DSM| PIA|             155.0|\n",
      "|   JAX| TPA|             144.0|\n",
      "+------+----+------------------+\n",
      "\n"
     ]
    }
   ],
   "source": [
    "df_flights_clean \\\n",
    "    .groupBy(\"Origin\", \"Dest\") \\\n",
    "    .agg(avg(\"DepDelayMinutes\").alias(\"AvgDepDelayMinutes\")) \\\n",
    "    .orderBy(\"AvgDepDelayMinutes\", ascending=False) \\\n",
    "    .limit(10) \\\n",
    "    .show()"
   ]
  },
  {
   "cell_type": "markdown",
   "id": "f970093b-dc58-448b-8708-4df37475ddc2",
   "metadata": {},
   "source": [
    "A rota com mais atraso é do Redmond Municipal Airport para o Rogue Valley International Medford Airport.\n"
   ]
  }
 ],
 "metadata": {
  "kernelspec": {
   "display_name": "PySpark (python)",
   "language": "python",
   "name": "pyspark_kernel"
  },
  "language_info": {
   "file_extension": ".py",
   "help_links": [
    {
     "text": "MetaKernel Magics",
     "url": "https://metakernel.readthedocs.io/en/latest/source/README.html"
    }
   ],
   "mimetype": "text/x-python",
   "name": "python"
  }
 },
 "nbformat": 4,
 "nbformat_minor": 5
}
