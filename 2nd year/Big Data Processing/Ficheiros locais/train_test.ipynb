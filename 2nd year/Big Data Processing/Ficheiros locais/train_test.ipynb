{
 "cells": [
  {
   "cell_type": "markdown",
   "id": "33a2c6f8-d85a-42a6-bb33-09646fe087be",
   "metadata": {},
   "source": [
    "#### Processamento de Big Data: Projeto Final\n",
    "\n",
    "Licenciatura em Ciência de Dados\n",
    "\n",
    "CDB1\n",
    "\n",
    "Marco Delgado Esperança, Nº 110451\n",
    "\n",
    "Maria João Ferreira Lourenço, Nº 104716\n",
    "\n",
    "Docente: João Oliveira\n",
    "\n",
    "8 de abril de 2023\n",
    "\n",
    "Flight Status Prediction\n",
    "\n",
    "https://www.kaggle.com/datasets/robikscube/flight-delay-dataset-20182022"
   ]
  },
  {
   "cell_type": "markdown",
   "id": "66e5c8af-0ed2-40a6-9d25-51cf0682b2d9",
   "metadata": {},
   "source": [
    "# Treino e teste e implementação dos modelos SVM e K-means"
   ]
  },
  {
   "cell_type": "markdown",
   "id": "fb40da94-a26a-4eb6-98a2-9f576d1ce96e",
   "metadata": {},
   "source": [
    "Este notebook contém a criação do treino e teste e a implementação de 2 modelos - um de aprendizagem supervisionada e outro de aprendizagem não superviisionada."
   ]
  },
  {
   "cell_type": "code",
   "execution_count": 1,
   "id": "cf0cd1ee-bc00-41b6-bcf2-78b4a65fb06a",
   "metadata": {},
   "outputs": [
    {
     "name": "stderr",
     "output_type": "stream",
     "text": [
      "Setting default log level to \"WARN\".\n",
      "To adjust logging level use sc.setLogLevel(newLevel). For SparkR, use setLogLevel(newLevel).\n"
     ]
    },
    {
     "name": "stdout",
     "output_type": "stream",
     "text": [
      "23/04/06 20:32:14 WARN NativeCodeLoader: Unable to load native-hadoop library for your platform... using builtin-java classes where applicable\n",
      "Welcome to\n",
      "      ____              __\n",
      "     / __/__  ___ _____/ /__\n",
      "    _\\ \\/ _ \\/ _ `/ __/  '_/\n",
      "   /__ / .__/\\_,_/_/ /_/\\_\\   version 3.3.1\n",
      "      /_/\n",
      "\n",
      "Using Python version 3.9.13 (main, Aug 25 2022 18:29:29)\n",
      "Spark context Web UI available at http://marcos-mbp.home:4040\n",
      "Spark context available as 'sc' (master = local[*], app id = local-1680809535299).\n",
      "SparkSession available as 'spark'.\n"
     ]
    }
   ],
   "source": [
    "from pyspark.shell import spark"
   ]
  },
  {
   "cell_type": "code",
   "execution_count": 2,
   "id": "3c0c7c2d-3eca-4ea2-9246-466e7195d165",
   "metadata": {},
   "outputs": [],
   "source": [
    "spark.stop()"
   ]
  },
  {
   "cell_type": "code",
   "execution_count": 3,
   "id": "f0a88262-8ee1-42c9-a081-79a642d23d9c",
   "metadata": {},
   "outputs": [],
   "source": [
    "from pyspark.sql import SparkSession\n",
    "\n",
    "spark=SparkSession.builder.appName(\"Graficos\")\\\n",
    "      .config(\"spark.driver.memory\", \"128g\")\\\n",
    "      .config(\"spark.executor.memory\", \"64g\")\\\n",
    "      .config(\"spark.driver.host\", \"127.0.0.1\")\\\n",
    "      .getOrCreate()"
   ]
  },
  {
   "cell_type": "code",
   "execution_count": 4,
   "id": "55ecb72f-0ba9-4c1f-b543-57d48e919382",
   "metadata": {},
   "outputs": [],
   "source": [
    "filename = \"./flights_clean.parquet\""
   ]
  },
  {
   "cell_type": "code",
   "execution_count": 5,
   "id": "90a0acfe-4c16-4af1-88b9-239390b443d8",
   "metadata": {},
   "outputs": [],
   "source": [
    "df_flights_clean = spark.read.format(\"parquet\").load(filename)"
   ]
  },
  {
   "cell_type": "code",
   "execution_count": 6,
   "id": "dbeb4259-efe6-4538-aa49-5504b9d779dc",
   "metadata": {},
   "outputs": [
    {
     "name": "stdout",
     "output_type": "stream",
     "text": [
      "root\n",
      " |-- FlightDate: timestamp (nullable = true)\n",
      " |-- Airline: string (nullable = true)\n",
      " |-- Origin: string (nullable = true)\n",
      " |-- Dest: string (nullable = true)\n",
      " |-- Cancelled: boolean (nullable = true)\n",
      " |-- Diverted: boolean (nullable = true)\n",
      " |-- CRSDepTime: integer (nullable = true)\n",
      " |-- DepTime: double (nullable = true)\n",
      " |-- DepDelayMinutes: double (nullable = true)\n",
      " |-- DepDelay: double (nullable = true)\n",
      " |-- ArrTime: double (nullable = true)\n",
      " |-- ArrDelayMinutes: double (nullable = true)\n",
      " |-- AirTime: double (nullable = true)\n",
      " |-- CRSElapsedTime: double (nullable = true)\n",
      " |-- ActualElapsedTime: double (nullable = true)\n",
      " |-- Distance: double (nullable = true)\n",
      " |-- Year: integer (nullable = true)\n",
      " |-- Quarter: integer (nullable = true)\n",
      " |-- Month: integer (nullable = true)\n",
      " |-- DayofMonth: integer (nullable = true)\n",
      " |-- DayOfWeek: integer (nullable = true)\n",
      " |-- Marketing_Airline_Network: string (nullable = true)\n",
      " |-- Operated_or_Branded_Code_Share_Partners: string (nullable = true)\n",
      " |-- DOT_ID_Marketing_Airline: integer (nullable = true)\n",
      " |-- IATA_Code_Marketing_Airline: string (nullable = true)\n",
      " |-- Flight_Number_Marketing_Airline: integer (nullable = true)\n",
      " |-- Operating_Airline: string (nullable = true)\n",
      " |-- IATA_Code_Operating_Airline: string (nullable = true)\n",
      " |-- Tail_Number: string (nullable = true)\n",
      " |-- OriginAirportID: integer (nullable = true)\n",
      " |-- OriginAirportSeqID: integer (nullable = true)\n",
      " |-- OriginCityName: string (nullable = true)\n",
      " |-- OriginState: string (nullable = true)\n",
      " |-- OriginStateName: string (nullable = true)\n",
      " |-- DestAirportID: integer (nullable = true)\n",
      " |-- DestAirportSeqID: integer (nullable = true)\n",
      " |-- DestCityName: string (nullable = true)\n",
      " |-- DestState: string (nullable = true)\n",
      " |-- DestStateName: string (nullable = true)\n",
      " |-- DepDel15: double (nullable = true)\n",
      " |-- DepartureDelayGroups: double (nullable = true)\n",
      " |-- DepTimeBlk: string (nullable = true)\n",
      " |-- WheelsOff: double (nullable = true)\n",
      " |-- WheelsOn: double (nullable = true)\n",
      " |-- ArrDelay: double (nullable = true)\n",
      " |-- ArrDel15: double (nullable = true)\n",
      " |-- ArrTimeBlk: string (nullable = true)\n",
      "\n"
     ]
    }
   ],
   "source": [
    "df_flights_clean.printSchema()"
   ]
  },
  {
   "cell_type": "code",
   "execution_count": 7,
   "id": "96fffeab-9b19-4b2e-8d06-c965130d4e7a",
   "metadata": {},
   "outputs": [],
   "source": [
    "df_sample = df_flights_clean.sample(False, 0.1, seed=42)\n",
    "df_sample = df_sample.limit(15000000)"
   ]
  },
  {
   "cell_type": "code",
   "execution_count": 17,
   "id": "e175aa53-3e08-46f0-99b7-18ef0868ad87",
   "metadata": {},
   "outputs": [],
   "source": [
    "# Some Spark related imports we will use hereafter\n",
    "\n",
    "import sys\n",
    "import time\n",
    "\n",
    "from pyspark.sql import SparkSession\n",
    "import pyspark.sql.functions as F\n",
    "from pyspark.sql.types import *\n",
    "\n",
    "from pyspark.ml import Pipeline\n",
    "from pyspark.ml.stat import Correlation\n",
    "from pyspark.ml.feature import VectorAssembler, StringIndexer, OneHotEncoder\n",
    "from pyspark.ml.classification import LinearSVC\n",
    "from pyspark.ml.evaluation import BinaryClassificationEvaluator"
   ]
  },
  {
   "cell_type": "markdown",
   "id": "291b2b35-eac1-45f8-8294-c23348a6142d",
   "metadata": {},
   "source": [
    "# Aprendizegam supervisionada"
   ]
  },
  {
   "cell_type": "markdown",
   "id": "610b04e9-e0f1-473c-b26b-08b39efa15c2",
   "metadata": {},
   "source": [
    "## SVM (Classificação)"
   ]
  },
  {
   "cell_type": "markdown",
   "id": "eaa141e0-a661-4ef0-8d4d-dc68e15c83a9",
   "metadata": {},
   "source": [
    "Para este conjunto de dados, vamos aplicar um modelo de classificação binária por SVM (Support Vector Machine), com o objetivo de prever se um voo chegará com um atraso superior a 15 minutos (**target**: **ArrDel15**). A escolha deste target deve-se ao facto de um atraso superior a 15 minutos poder ter um grande impacto na programação e planejamento dos passageiros e das companhias aéreas, além de poder resultar em custos adicionais para ambos. Através deste modelo, é possível identificar os principais fatores que contribuem para a ocorrência de atrasos e, consequentemente, ajudar as companhias aéreas a tomar medidas preventivas para reduzir a incidência de atrasos em voos futuros."
   ]
  },
  {
   "cell_type": "markdown",
   "id": "0922284e-8fcb-49cb-bbc1-d3eaea531c90",
   "metadata": {},
   "source": [
    "É uma boa prática separar as variáveis numéricas das variáveis não numéricas, pois o modelo SVM pode não lida bem com variáveis não numéricas diretamente. Portanto, as variáveis não numéricas devem ser transformadas em variáveis numéricas usando técnicas como a codificação one-hot encoding ou a codificação de rótulos (label encoding) antes de serem incluídas no modelo.<br><br>"
   ]
  },
  {
   "cell_type": "markdown",
   "id": "87bd4a49-3da4-4541-b8b1-57c89cdfb489",
   "metadata": {},
   "source": [
    "Desta forma, para iniciar o processo, este código cria duas listas de variáveis independentes, uma lista chamada *cls_numeric* e outra chamada *cls_non_numeric*. A lista *cls_numeric* contém as colunas do dataframe *df_sample* que contêm variáveis numéricas que podem ser utilizadas como recursos no modelo SVM, enquanto a lista *cls_non_numeric* contém as colunas do dataframe *df_sample* que contêm variáveis não numéricas.<br><br>"
   ]
  },
  {
   "cell_type": "code",
   "execution_count": 9,
   "id": "ae0219a0-59b8-472c-9134-47beaf00bb51",
   "metadata": {},
   "outputs": [
    {
     "data": {
      "text/plain": [
       "['FlightDate',\n",
       " 'Airline',\n",
       " 'Origin',\n",
       " 'Dest',\n",
       " 'Cancelled',\n",
       " 'Diverted',\n",
       " 'DepTime',\n",
       " 'Year',\n",
       " 'Month',\n",
       " 'DayofMonth',\n",
       " 'DayOfWeek',\n",
       " 'Marketing_Airline_Network',\n",
       " 'Operated_or_Branded_Code_Share_Partners',\n",
       " 'IATA_Code_Marketing_Airline',\n",
       " 'Operating_Airline',\n",
       " 'IATA_Code_Operating_Airline',\n",
       " 'Tail_Number',\n",
       " 'OriginCityName',\n",
       " 'OriginState',\n",
       " 'OriginStateName',\n",
       " 'DestCityName',\n",
       " 'DestState',\n",
       " 'DestStateName',\n",
       " 'DepDel15',\n",
       " 'DepTimeBlk',\n",
       " 'ArrDelay']"
      ]
     },
     "execution_count": 9,
     "metadata": {},
     "output_type": "execute_result"
    }
   ],
   "source": [
    "cls_numeric = [\"CRSDepTime\", \"DepDelayMinutes\", \"DepDelay\", \"ArrTime\", \"ArrDelayMinutes\", \"AirTime\", \"CRSElapsedTime\",               \n",
    "               \"ActualElapsedTime\", \"Distance\", \"Quarter\", \"DOT_ID_Marketing_Airline\", \"Flight_Number_Marketing_Airline\",\"OriginAirportID\", \n",
    "               \"OriginAirportSeqID\", \"DestAirportID\", \"DestAirportSeqID\", \"DepartureDelayGroups\", \"WheelsOff\",  \"WheelsOn\", \"ArrDel15\", \"ArrTimeBlk\"]\n",
    "\n",
    "cls_non_numeric = [i for i in df_sample.columns if i not in cls_numeric]\n",
    "cls_non_numeric"
   ]
  },
  {
   "cell_type": "markdown",
   "id": "55d4c057-e92d-4e41-b06f-6b01eb166fdc",
   "metadata": {},
   "source": [
    "A primeira parte do código define as colunas que não são features (*cls_not_features*), ou seja, as colunas que não serão utilizadas como input para o modelo (nomeadamente o target e possíveis preditores multicolineares). Depois, são definidas as colunas categóricas e não categóricas. \n",
    "\n",
    "O próximo passo é codificar as colunas categóricas em índices numéricos, que podem ser usados como input para o modelo. Para isso, é usado um objeto designado StringIndexer. Em seguida, é criado um objeto OneHotEncoder que transforma os índices numéricos em vetores binários, que são mais adequados para o modelo.\n",
    "\n",
    "Por fim, é usado um objeto VectorAssembler para juntar todas as colunas num único vetor, que será o input do modelo de classificação. As colunas de entrada são especificadas como *assembler_inputs*, que contém os nomes das colunas categóricas e não categóricas codificadas e os seus índices numéricos correspondentes. O vetor resultante é atribuído à coluna *features*."
   ]
  },
  {
   "cell_type": "code",
   "execution_count": 10,
   "id": "9fe07646-0400-4ed6-9e0c-3d44f0ef3159",
   "metadata": {},
   "outputs": [
    {
     "data": {
      "text/plain": [
       "['Airline OHE',\n",
       " 'Origin OHE',\n",
       " 'Dest OHE',\n",
       " 'DepTime OHE',\n",
       " 'Year OHE',\n",
       " 'Month OHE',\n",
       " 'DayofMonth OHE',\n",
       " 'DayOfWeek OHE',\n",
       " 'Marketing_Airline_Network OHE',\n",
       " 'Operated_or_Branded_Code_Share_Partners OHE',\n",
       " 'IATA_Code_Marketing_Airline OHE',\n",
       " 'Operating_Airline OHE',\n",
       " 'IATA_Code_Operating_Airline OHE',\n",
       " 'Tail_Number OHE',\n",
       " 'OriginCityName OHE',\n",
       " 'OriginState OHE',\n",
       " 'OriginStateName OHE',\n",
       " 'DestCityName OHE',\n",
       " 'DestState OHE',\n",
       " 'DestStateName OHE',\n",
       " 'DepDel15 OHE',\n",
       " 'DepTimeBlk OHE',\n",
       " 'CRSDepTime',\n",
       " 'DepDelayMinutes',\n",
       " 'DepDelay',\n",
       " 'ArrTime',\n",
       " 'ArrDelayMinutes',\n",
       " 'AirTime',\n",
       " 'CRSElapsedTime',\n",
       " 'ActualElapsedTime',\n",
       " 'Distance',\n",
       " 'Quarter',\n",
       " 'DOT_ID_Marketing_Airline',\n",
       " 'Flight_Number_Marketing_Airline',\n",
       " 'OriginAirportID',\n",
       " 'OriginAirportSeqID',\n",
       " 'DestAirportID',\n",
       " 'DestAirportSeqID',\n",
       " 'DepartureDelayGroups',\n",
       " 'WheelsOff',\n",
       " 'WheelsOn']"
      ]
     },
     "execution_count": 10,
     "metadata": {},
     "output_type": "execute_result"
    }
   ],
   "source": [
    "# Encoding columns and vector assembling them\n",
    "# See Chapter 10 of the book \"Learning Spark - Lightning-Fast Data Analytics\"\n",
    "\n",
    "cls_not_features = ['FlightDate', 'ArrDelay', 'ArrDel15', 'ArrTimeBlk', \"Cancelled\", \"Diverted\"] \n",
    "categorical_cols = [i for i in cls_non_numeric if i not in cls_not_features]\n",
    "non_categorical_cols = [i for i in cls_numeric if i not in cls_not_features]\n",
    "\n",
    "index_output_cols = [x + ' Index' for x in categorical_cols]\n",
    "ohe_output_cols = [x + ' OHE' for x in categorical_cols]\n",
    "\n",
    "string_indexer = StringIndexer(inputCols=categorical_cols, outputCols=index_output_cols, handleInvalid=\"skip\")\n",
    "\n",
    "ohe_encoder = OneHotEncoder(inputCols=index_output_cols, outputCols=ohe_output_cols)\n",
    "   \n",
    "# Put all input features into a single vector, by using a transformer\n",
    "\n",
    "assembler_inputs = ohe_output_cols + non_categorical_cols\n",
    "vec_assembler = VectorAssembler(inputCols=assembler_inputs, outputCol=\"features\")\n",
    "assembler_inputs"
   ]
  },
  {
   "cell_type": "code",
   "execution_count": 11,
   "id": "fdfaba68-7a69-42e0-8591-2ab42266f3ea",
   "metadata": {},
   "outputs": [
    {
     "data": {
      "text/plain": [
       "['Airline',\n",
       " 'Origin',\n",
       " 'Dest',\n",
       " 'DepTime',\n",
       " 'Year',\n",
       " 'Month',\n",
       " 'DayofMonth',\n",
       " 'DayOfWeek',\n",
       " 'Marketing_Airline_Network',\n",
       " 'Operated_or_Branded_Code_Share_Partners',\n",
       " 'IATA_Code_Marketing_Airline',\n",
       " 'Operating_Airline',\n",
       " 'IATA_Code_Operating_Airline',\n",
       " 'Tail_Number',\n",
       " 'OriginCityName',\n",
       " 'OriginState',\n",
       " 'OriginStateName',\n",
       " 'DestCityName',\n",
       " 'DestState',\n",
       " 'DestStateName',\n",
       " 'DepDel15',\n",
       " 'DepTimeBlk']"
      ]
     },
     "execution_count": 11,
     "metadata": {},
     "output_type": "execute_result"
    }
   ],
   "source": [
    "categorical_cols"
   ]
  },
  {
   "cell_type": "code",
   "execution_count": 12,
   "id": "9cf18a2d-73f8-4da1-8f52-82dfabc03c02",
   "metadata": {},
   "outputs": [
    {
     "data": {
      "text/plain": [
       "['CRSDepTime',\n",
       " 'DepDelayMinutes',\n",
       " 'DepDelay',\n",
       " 'ArrTime',\n",
       " 'ArrDelayMinutes',\n",
       " 'AirTime',\n",
       " 'CRSElapsedTime',\n",
       " 'ActualElapsedTime',\n",
       " 'Distance',\n",
       " 'Quarter',\n",
       " 'DOT_ID_Marketing_Airline',\n",
       " 'Flight_Number_Marketing_Airline',\n",
       " 'OriginAirportID',\n",
       " 'OriginAirportSeqID',\n",
       " 'DestAirportID',\n",
       " 'DestAirportSeqID',\n",
       " 'DepartureDelayGroups',\n",
       " 'WheelsOff',\n",
       " 'WheelsOn']"
      ]
     },
     "execution_count": 12,
     "metadata": {},
     "output_type": "execute_result"
    }
   ],
   "source": [
    "non_categorical_cols"
   ]
  },
  {
   "cell_type": "markdown",
   "id": "262f77ea-c7bd-40bb-a4d0-237fb6021037",
   "metadata": {},
   "source": [
    "<br>\n",
    "<br>"
   ]
  },
  {
   "cell_type": "markdown",
   "id": "336b6a07-03b7-40eb-bc95-710eeabda15c",
   "metadata": {},
   "source": [
    "Este código divide o data set *df_sample* aleatoriamente em dois subconjuntos: um conjunto de treino (*df_train*) e um conjunto de teste (*df_test*).<br>\n",
    "Usando uma seed de 42, para garantir que subamostra seja sempre a mesma, atribui-se 80% ao conjunto de treino e 20% ao conjunto de teste."
   ]
  },
  {
   "cell_type": "code",
   "execution_count": 13,
   "id": "24e9dd54-476a-4487-a5b2-6e7a22cd5e72",
   "metadata": {},
   "outputs": [],
   "source": [
    "df_train, df_test = df_sample.randomSplit([0.8, 0.2], 42) "
   ]
  },
  {
   "cell_type": "markdown",
   "id": "c444f107-5447-4ba2-8bef-e62766d4fb13",
   "metadata": {},
   "source": [
    "<br>"
   ]
  },
  {
   "cell_type": "markdown",
   "id": "57b903e9-8330-4428-addb-2aa9d4c84856",
   "metadata": {},
   "source": [
    "Em seguida apresenta-se a contabilização do número de elementos no conjunto de treino e no conjunto de teste."
   ]
  },
  {
   "cell_type": "code",
   "execution_count": 14,
   "id": "a72cdb51-5556-4f5b-8bff-977fb66cdf18",
   "metadata": {},
   "outputs": [
    {
     "name": "stdout",
     "output_type": "stream",
     "text": [
      "23/04/06 20:33:31 WARN package: Truncated the string representation of a plan since it was too large. This behavior can be adjusted by setting 'spark.sql.debug.maxToStringFields'.\n"
     ]
    },
    {
     "name": "stderr",
     "output_type": "stream",
     "text": [
      "[Stage 6:>                                                          (0 + 1) / 1]\r"
     ]
    },
    {
     "name": "stdout",
     "output_type": "stream",
     "text": [
      "There are 2264861 rows in the training set and 566336 in the test set.\n"
     ]
    },
    {
     "name": "stderr",
     "output_type": "stream",
     "text": [
      "                                                                                \r"
     ]
    }
   ],
   "source": [
    "print(f\"There are {df_train.count()} rows in the training set and {df_test.count()} in the test set.\")"
   ]
  },
  {
   "cell_type": "markdown",
   "id": "5039b8c8-6233-47aa-935d-2d9ff0752aeb",
   "metadata": {},
   "source": [
    "Tal como definido anteriormente, o modelo será treinado com a coluna *ArrDel15* como target e usará o algoritmo de otimização de gradiente descendente para minimizar a função de perda durante o treino.<br>"
   ]
  },
  {
   "cell_type": "markdown",
   "id": "373829e0-d70e-405a-a520-126da515c1ab",
   "metadata": {},
   "source": [
    "<br>"
   ]
  },
  {
   "cell_type": "markdown",
   "id": "cae50a49-9d7c-4d8d-a400-9788675cc51f",
   "metadata": {},
   "source": [
    "Os hiperparâmetros definidos são:\n",
    "\n",
    "- maxIter: número máximo de iterações permitidas pelo algoritmo de otimização de gradiente descendente (10);\n",
    "- regParam: parâmetro de regularização para evitar overfitting (ajuste excessivo) do modelo (0.1)."
   ]
  },
  {
   "cell_type": "code",
   "execution_count": 15,
   "id": "89ccf405-001b-4e15-b75b-deb9af37194d",
   "metadata": {},
   "outputs": [],
   "source": [
    "lsvc = LinearSVC(maxIter=10, regParam=0.1, labelCol='ArrDel15')"
   ]
  },
  {
   "cell_type": "markdown",
   "id": "5ef59975-41c8-4dcc-a62d-053d4e595e8a",
   "metadata": {},
   "source": [
    "Seguidamente, criou-se um Pipeline que encapsula todo o processo de transformação e treino do modelo de classificação. O pipeline consiste em uma sequência de estados (stages), que devem ser executados em ordem."
   ]
  },
  {
   "cell_type": "markdown",
   "id": "bff0f9cf-1936-42c3-b615-1ec15cd86225",
   "metadata": {},
   "source": [
    "Neste caso, a lista de estados é definida como [string_indexer, ohe_encoder, vec_assembler, lsvc].\n",
    "\n",
    "- **string_indexer**: um transformador que mapeia colunas categóricas em índices numéricos.\n",
    "- **ohe_encoder**: um transformador que transforma os índices numéricos em vetores binários (one-hot-encoding).\n",
    "- **vec_assembler**: um transformador que une todos os vetores de entrada em um único vetor.\n",
    "- **lsvc**: um estimador de classificação, que neste caso é um LinearSVC."
   ]
  },
  {
   "cell_type": "code",
   "execution_count": 16,
   "id": "f014a80c-67f3-47f6-8b67-097104fa67c2",
   "metadata": {},
   "outputs": [],
   "source": [
    "pipeline = Pipeline(stages=[string_indexer, ohe_encoder, vec_assembler, lsvc])"
   ]
  },
  {
   "cell_type": "markdown",
   "id": "2ec03f72-9d8b-4e71-94ce-875b966d55d3",
   "metadata": {},
   "source": [
    "Assim, criou-se um modelo de pipeline utilizando os dados de treino *df_train*."
   ]
  },
  {
   "cell_type": "code",
   "execution_count": 18,
   "id": "5589872e-361a-4c7d-a768-4bcef61d1429",
   "metadata": {},
   "outputs": [
    {
     "name": "stderr",
     "output_type": "stream",
     "text": [
      "[Stage 11:======================================>                  (8 + 4) / 12]\r"
     ]
    },
    {
     "name": "stdout",
     "output_type": "stream",
     "text": [
      "23/04/06 20:51:29 WARN DAGScheduler: Broadcasting large task binary with size 1358.6 KiB\n"
     ]
    },
    {
     "name": "stderr",
     "output_type": "stream",
     "text": [
      "                                                                                \r"
     ]
    },
    {
     "name": "stdout",
     "output_type": "stream",
     "text": [
      "23/04/06 20:53:10 WARN InstanceBuilder$JavaBLAS: Failed to load implementation from:dev.ludovic.netlib.blas.VectorBLAS\n",
      "23/04/06 20:53:10 WARN DAGScheduler: Broadcasting large task binary with size 1359.9 KiB\n"
     ]
    },
    {
     "name": "stderr",
     "output_type": "stream",
     "text": [
      "[Stage 15:>                                                         (0 + 1) / 1]\r"
     ]
    },
    {
     "name": "stdout",
     "output_type": "stream",
     "text": [
      "23/04/06 20:53:59 WARN MemoryStore: Not enough space to cache rdd_48_0 in memory! (computed 419.1 MiB so far)\n",
      "23/04/06 20:53:59 WARN BlockManager: Persisting block rdd_48_0 to disk instead.\n"
     ]
    },
    {
     "name": "stderr",
     "output_type": "stream",
     "text": [
      "[Stage 15:>                                                         (0 + 1) / 1]\r"
     ]
    },
    {
     "name": "stdout",
     "output_type": "stream",
     "text": [
      "23/04/06 20:54:59 WARN MemoryStore: Not enough space to cache rdd_48_0 in memory! (computed 419.1 MiB so far)\n",
      "23/04/06 20:55:00 WARN InstanceBuilder$NativeBLAS: Failed to load implementation from:dev.ludovic.netlib.blas.JNIBLAS\n",
      "23/04/06 20:55:00 WARN InstanceBuilder$NativeBLAS: Failed to load implementation from:dev.ludovic.netlib.blas.ForeignLinkerBLAS\n",
      "23/04/06 20:55:00 WARN BLAS: Failed to load implementation from: com.github.fommil.netlib.NativeSystemBLAS\n",
      "23/04/06 20:55:00 WARN BLAS: Failed to load implementation from: com.github.fommil.netlib.NativeRefBLAS\n",
      "23/04/06 20:55:00 WARN DAGScheduler: Broadcasting large task binary with size 1359.9 KiB\n"
     ]
    },
    {
     "name": "stderr",
     "output_type": "stream",
     "text": [
      "[Stage 17:>                                                         (0 + 1) / 1]\r"
     ]
    },
    {
     "name": "stdout",
     "output_type": "stream",
     "text": [
      "23/04/06 20:55:01 WARN MemoryStore: Not enough space to cache rdd_48_0 in memory! (computed 419.1 MiB so far)\n"
     ]
    },
    {
     "name": "stderr",
     "output_type": "stream",
     "text": [
      "                                                                                \r"
     ]
    },
    {
     "name": "stdout",
     "output_type": "stream",
     "text": [
      "23/04/06 20:55:02 WARN DAGScheduler: Broadcasting large task binary with size 1359.9 KiB\n"
     ]
    },
    {
     "name": "stderr",
     "output_type": "stream",
     "text": [
      "[Stage 19:>                                                         (0 + 1) / 1]\r"
     ]
    },
    {
     "name": "stdout",
     "output_type": "stream",
     "text": [
      "23/04/06 20:55:03 WARN MemoryStore: Not enough space to cache rdd_48_0 in memory! (computed 419.1 MiB so far)\n"
     ]
    },
    {
     "name": "stderr",
     "output_type": "stream",
     "text": [
      "                                                                                \r"
     ]
    },
    {
     "name": "stdout",
     "output_type": "stream",
     "text": [
      "23/04/06 20:55:04 WARN DAGScheduler: Broadcasting large task binary with size 1359.9 KiB\n"
     ]
    },
    {
     "name": "stderr",
     "output_type": "stream",
     "text": [
      "[Stage 21:>                                                         (0 + 1) / 1]\r"
     ]
    },
    {
     "name": "stdout",
     "output_type": "stream",
     "text": [
      "23/04/06 20:55:05 WARN MemoryStore: Not enough space to cache rdd_48_0 in memory! (computed 419.1 MiB so far)\n"
     ]
    },
    {
     "name": "stderr",
     "output_type": "stream",
     "text": [
      "                                                                                \r"
     ]
    },
    {
     "name": "stdout",
     "output_type": "stream",
     "text": [
      "23/04/06 20:55:06 WARN DAGScheduler: Broadcasting large task binary with size 1359.9 KiB\n"
     ]
    },
    {
     "name": "stderr",
     "output_type": "stream",
     "text": [
      "[Stage 23:>                                                         (0 + 1) / 1]\r"
     ]
    },
    {
     "name": "stdout",
     "output_type": "stream",
     "text": [
      "23/04/06 20:55:07 WARN MemoryStore: Not enough space to cache rdd_48_0 in memory! (computed 419.1 MiB so far)\n"
     ]
    },
    {
     "name": "stderr",
     "output_type": "stream",
     "text": [
      "                                                                                \r"
     ]
    },
    {
     "name": "stdout",
     "output_type": "stream",
     "text": [
      "23/04/06 20:55:08 WARN DAGScheduler: Broadcasting large task binary with size 1359.9 KiB\n"
     ]
    },
    {
     "name": "stderr",
     "output_type": "stream",
     "text": [
      "[Stage 25:>                                                         (0 + 1) / 1]\r"
     ]
    },
    {
     "name": "stdout",
     "output_type": "stream",
     "text": [
      "23/04/06 20:55:09 WARN MemoryStore: Not enough space to cache rdd_48_0 in memory! (computed 419.1 MiB so far)\n"
     ]
    },
    {
     "name": "stderr",
     "output_type": "stream",
     "text": [
      "                                                                                \r"
     ]
    },
    {
     "name": "stdout",
     "output_type": "stream",
     "text": [
      "23/04/06 20:55:10 WARN DAGScheduler: Broadcasting large task binary with size 1359.9 KiB\n"
     ]
    },
    {
     "name": "stderr",
     "output_type": "stream",
     "text": [
      "[Stage 27:>                                                         (0 + 1) / 1]\r"
     ]
    },
    {
     "name": "stdout",
     "output_type": "stream",
     "text": [
      "23/04/06 20:55:11 WARN MemoryStore: Not enough space to cache rdd_48_0 in memory! (computed 419.1 MiB so far)\n"
     ]
    },
    {
     "name": "stderr",
     "output_type": "stream",
     "text": [
      "                                                                                \r"
     ]
    },
    {
     "name": "stdout",
     "output_type": "stream",
     "text": [
      "23/04/06 20:55:13 WARN DAGScheduler: Broadcasting large task binary with size 1359.9 KiB\n"
     ]
    },
    {
     "name": "stderr",
     "output_type": "stream",
     "text": [
      "[Stage 29:>                                                         (0 + 1) / 1]\r"
     ]
    },
    {
     "name": "stdout",
     "output_type": "stream",
     "text": [
      "23/04/06 20:55:13 WARN MemoryStore: Not enough space to cache rdd_48_0 in memory! (computed 419.1 MiB so far)\n"
     ]
    },
    {
     "name": "stderr",
     "output_type": "stream",
     "text": [
      "                                                                                \r"
     ]
    },
    {
     "name": "stdout",
     "output_type": "stream",
     "text": [
      "23/04/06 20:55:15 WARN DAGScheduler: Broadcasting large task binary with size 1359.9 KiB\n"
     ]
    },
    {
     "name": "stderr",
     "output_type": "stream",
     "text": [
      "[Stage 31:>                                                         (0 + 1) / 1]\r"
     ]
    },
    {
     "name": "stdout",
     "output_type": "stream",
     "text": [
      "23/04/06 20:55:15 WARN MemoryStore: Not enough space to cache rdd_48_0 in memory! (computed 419.1 MiB so far)\n"
     ]
    },
    {
     "name": "stderr",
     "output_type": "stream",
     "text": [
      "                                                                                \r"
     ]
    },
    {
     "name": "stdout",
     "output_type": "stream",
     "text": [
      "23/04/06 20:55:17 WARN DAGScheduler: Broadcasting large task binary with size 1359.9 KiB\n"
     ]
    },
    {
     "name": "stderr",
     "output_type": "stream",
     "text": [
      "[Stage 33:>                                                         (0 + 1) / 1]\r"
     ]
    },
    {
     "name": "stdout",
     "output_type": "stream",
     "text": [
      "23/04/06 20:55:17 WARN MemoryStore: Not enough space to cache rdd_48_0 in memory! (computed 419.1 MiB so far)\n"
     ]
    },
    {
     "name": "stderr",
     "output_type": "stream",
     "text": [
      "                                                                                \r"
     ]
    },
    {
     "name": "stdout",
     "output_type": "stream",
     "text": [
      "23/04/06 20:55:19 WARN DAGScheduler: Broadcasting large task binary with size 1359.9 KiB\n"
     ]
    },
    {
     "name": "stderr",
     "output_type": "stream",
     "text": [
      "[Stage 35:>                                                         (0 + 1) / 1]\r"
     ]
    },
    {
     "name": "stdout",
     "output_type": "stream",
     "text": [
      "23/04/06 20:55:19 WARN MemoryStore: Not enough space to cache rdd_48_0 in memory! (computed 419.1 MiB so far)\n"
     ]
    },
    {
     "name": "stderr",
     "output_type": "stream",
     "text": [
      "                                                                                \r"
     ]
    },
    {
     "name": "stdout",
     "output_type": "stream",
     "text": [
      "23/04/06 20:55:21 WARN DAGScheduler: Broadcasting large task binary with size 1359.9 KiB\n"
     ]
    },
    {
     "name": "stderr",
     "output_type": "stream",
     "text": [
      "[Stage 37:>                                                         (0 + 1) / 1]\r"
     ]
    },
    {
     "name": "stdout",
     "output_type": "stream",
     "text": [
      "23/04/06 20:55:21 WARN MemoryStore: Not enough space to cache rdd_48_0 in memory! (computed 419.1 MiB so far)\n"
     ]
    },
    {
     "name": "stderr",
     "output_type": "stream",
     "text": [
      "                                                                                \r"
     ]
    },
    {
     "name": "stdout",
     "output_type": "stream",
     "text": [
      "23/04/06 20:55:22 WARN DAGScheduler: Broadcasting large task binary with size 1359.9 KiB\n"
     ]
    },
    {
     "name": "stderr",
     "output_type": "stream",
     "text": [
      "[Stage 39:>                                                         (0 + 1) / 1]\r"
     ]
    },
    {
     "name": "stdout",
     "output_type": "stream",
     "text": [
      "23/04/06 20:55:23 WARN MemoryStore: Not enough space to cache rdd_48_0 in memory! (computed 419.1 MiB so far)\n"
     ]
    },
    {
     "name": "stderr",
     "output_type": "stream",
     "text": [
      "                                                                                \r"
     ]
    },
    {
     "name": "stdout",
     "output_type": "stream",
     "text": [
      "23/04/06 20:55:24 WARN DAGScheduler: Broadcasting large task binary with size 1359.9 KiB\n"
     ]
    },
    {
     "name": "stderr",
     "output_type": "stream",
     "text": [
      "[Stage 41:>                                                         (0 + 1) / 1]\r"
     ]
    },
    {
     "name": "stdout",
     "output_type": "stream",
     "text": [
      "23/04/06 20:55:25 WARN MemoryStore: Not enough space to cache rdd_48_0 in memory! (computed 419.1 MiB so far)\n"
     ]
    },
    {
     "name": "stderr",
     "output_type": "stream",
     "text": [
      "                                                                                \r"
     ]
    },
    {
     "name": "stdout",
     "output_type": "stream",
     "text": [
      "23/04/06 20:55:26 WARN DAGScheduler: Broadcasting large task binary with size 1359.9 KiB\n",
      "23/04/06 20:55:27 WARN MemoryStore: Not enough space to cache rdd_48_0 in memory! (computed 419.1 MiB so far)\n"
     ]
    },
    {
     "name": "stderr",
     "output_type": "stream",
     "text": [
      "                                                                                \r"
     ]
    },
    {
     "name": "stdout",
     "output_type": "stream",
     "text": [
      "23/04/06 20:55:28 WARN DAGScheduler: Broadcasting large task binary with size 1359.9 KiB\n"
     ]
    },
    {
     "name": "stderr",
     "output_type": "stream",
     "text": [
      "[Stage 45:>                                                         (0 + 1) / 1]\r"
     ]
    },
    {
     "name": "stdout",
     "output_type": "stream",
     "text": [
      "23/04/06 20:55:29 WARN MemoryStore: Not enough space to cache rdd_48_0 in memory! (computed 419.1 MiB so far)\n"
     ]
    },
    {
     "name": "stderr",
     "output_type": "stream",
     "text": [
      "                                                                                \r"
     ]
    },
    {
     "name": "stdout",
     "output_type": "stream",
     "text": [
      "23/04/06 20:55:30 WARN DAGScheduler: Broadcasting large task binary with size 1359.9 KiB\n"
     ]
    },
    {
     "name": "stderr",
     "output_type": "stream",
     "text": [
      "[Stage 47:>                                                         (0 + 1) / 1]\r"
     ]
    },
    {
     "name": "stdout",
     "output_type": "stream",
     "text": [
      "23/04/06 20:55:31 WARN MemoryStore: Not enough space to cache rdd_48_0 in memory! (computed 419.1 MiB so far)\n"
     ]
    },
    {
     "name": "stderr",
     "output_type": "stream",
     "text": [
      "                                                                                \r"
     ]
    },
    {
     "name": "stdout",
     "output_type": "stream",
     "text": [
      "23/04/06 20:55:33 WARN DAGScheduler: Broadcasting large task binary with size 1359.9 KiB\n"
     ]
    },
    {
     "name": "stderr",
     "output_type": "stream",
     "text": [
      "[Stage 49:>                                                         (0 + 1) / 1]\r"
     ]
    },
    {
     "name": "stdout",
     "output_type": "stream",
     "text": [
      "23/04/06 20:55:34 WARN MemoryStore: Not enough space to cache rdd_48_0 in memory! (computed 419.1 MiB so far)\n"
     ]
    },
    {
     "name": "stderr",
     "output_type": "stream",
     "text": [
      "                                                                                \r"
     ]
    },
    {
     "name": "stdout",
     "output_type": "stream",
     "text": [
      "23/04/06 20:55:35 WARN DAGScheduler: Broadcasting large task binary with size 1359.9 KiB\n"
     ]
    },
    {
     "name": "stderr",
     "output_type": "stream",
     "text": [
      "[Stage 51:>                                                         (0 + 1) / 1]\r"
     ]
    },
    {
     "name": "stdout",
     "output_type": "stream",
     "text": [
      "23/04/06 20:55:36 WARN MemoryStore: Not enough space to cache rdd_48_0 in memory! (computed 419.1 MiB so far)\n"
     ]
    },
    {
     "name": "stderr",
     "output_type": "stream",
     "text": [
      "                                                                                \r"
     ]
    },
    {
     "name": "stdout",
     "output_type": "stream",
     "text": [
      "23/04/06 20:55:37 WARN DAGScheduler: Broadcasting large task binary with size 1359.9 KiB\n"
     ]
    },
    {
     "name": "stderr",
     "output_type": "stream",
     "text": [
      "[Stage 53:>                                                         (0 + 1) / 1]\r"
     ]
    },
    {
     "name": "stdout",
     "output_type": "stream",
     "text": [
      "23/04/06 20:55:38 WARN MemoryStore: Not enough space to cache rdd_48_0 in memory! (computed 419.1 MiB so far)\n"
     ]
    },
    {
     "name": "stderr",
     "output_type": "stream",
     "text": [
      "                                                                                \r"
     ]
    },
    {
     "name": "stdout",
     "output_type": "stream",
     "text": [
      "23/04/06 20:55:40 WARN DAGScheduler: Broadcasting large task binary with size 1359.9 KiB\n"
     ]
    },
    {
     "name": "stderr",
     "output_type": "stream",
     "text": [
      "[Stage 55:>                                                         (0 + 1) / 1]\r"
     ]
    },
    {
     "name": "stdout",
     "output_type": "stream",
     "text": [
      "23/04/06 20:55:40 WARN MemoryStore: Not enough space to cache rdd_48_0 in memory! (computed 419.1 MiB so far)\n"
     ]
    },
    {
     "name": "stderr",
     "output_type": "stream",
     "text": [
      "                                                                                \r"
     ]
    },
    {
     "name": "stdout",
     "output_type": "stream",
     "text": [
      "23/04/06 20:55:42 WARN DAGScheduler: Broadcasting large task binary with size 1359.9 KiB\n"
     ]
    },
    {
     "name": "stderr",
     "output_type": "stream",
     "text": [
      "[Stage 57:>                                                         (0 + 1) / 1]\r"
     ]
    },
    {
     "name": "stdout",
     "output_type": "stream",
     "text": [
      "23/04/06 20:55:42 WARN MemoryStore: Not enough space to cache rdd_48_0 in memory! (computed 419.1 MiB so far)\n"
     ]
    },
    {
     "name": "stderr",
     "output_type": "stream",
     "text": [
      "                                                                                \r"
     ]
    },
    {
     "name": "stdout",
     "output_type": "stream",
     "text": [
      "23/04/06 20:55:44 WARN DAGScheduler: Broadcasting large task binary with size 1359.9 KiB\n"
     ]
    },
    {
     "name": "stderr",
     "output_type": "stream",
     "text": [
      "[Stage 59:>                                                         (0 + 1) / 1]\r"
     ]
    },
    {
     "name": "stdout",
     "output_type": "stream",
     "text": [
      "23/04/06 20:55:45 WARN MemoryStore: Not enough space to cache rdd_48_0 in memory! (computed 419.1 MiB so far)\n"
     ]
    },
    {
     "name": "stderr",
     "output_type": "stream",
     "text": [
      "[Stage 61:===================================================>    (11 + 1) / 12]\r"
     ]
    },
    {
     "name": "stdout",
     "output_type": "stream",
     "text": [
      "Tempo total de execução (s): 320.90149307250977 segundos\n",
      "Tempo total de execução (min): 5.3483582178751625 minutos\n"
     ]
    }
   ],
   "source": [
    "start_time = time.time()\n",
    "pipeline_model = pipeline.fit(df_train)\n",
    "end_time = time.time()\n",
    "elapsed_time = end_time - start_time\n",
    "elapsed_time_min = elapsed_time/60\n",
    "print(\"Tempo total de execução (s):\", elapsed_time, \"segundos\")\n",
    "print(\"Tempo total de execução (min):\", elapsed_time_min, \"minutos\")"
   ]
  },
  {
   "cell_type": "markdown",
   "id": "1d610539-f164-452b-8f8f-e34537f293c3",
   "metadata": {},
   "source": [
    "<br>"
   ]
  },
  {
   "cell_type": "markdown",
   "id": "ccf106b2-3e1c-48dc-96f5-2823b492b561",
   "metadata": {},
   "source": [
    "De seguida, aplica-se o modelo treinado (pipeline_model) ao conjunto de dados de teste (*df_test*), usando o método transform() do PipelineModel. O resultado é armazenado em um novo DataFrame chamado *df_prediction*, imprimindo-se a estrutura (schema) do DataFrame resultante."
   ]
  },
  {
   "cell_type": "markdown",
   "id": "29a029a1-2ad3-4967-8378-d9f0788a3823",
   "metadata": {},
   "source": [
    "<br>"
   ]
  },
  {
   "cell_type": "code",
   "execution_count": 19,
   "id": "a8e34168-89b8-4525-b6d9-3000fba75cf8",
   "metadata": {},
   "outputs": [
    {
     "name": "stdout",
     "output_type": "stream",
     "text": [
      "root\n",
      " |-- FlightDate: timestamp (nullable = true)\n",
      " |-- Airline: string (nullable = true)\n",
      " |-- Origin: string (nullable = true)\n",
      " |-- Dest: string (nullable = true)\n",
      " |-- Cancelled: boolean (nullable = true)\n",
      " |-- Diverted: boolean (nullable = true)\n",
      " |-- CRSDepTime: integer (nullable = true)\n",
      " |-- DepTime: double (nullable = true)\n",
      " |-- DepDelayMinutes: double (nullable = true)\n",
      " |-- DepDelay: double (nullable = true)\n",
      " |-- ArrTime: double (nullable = true)\n",
      " |-- ArrDelayMinutes: double (nullable = true)\n",
      " |-- AirTime: double (nullable = true)\n",
      " |-- CRSElapsedTime: double (nullable = true)\n",
      " |-- ActualElapsedTime: double (nullable = true)\n",
      " |-- Distance: double (nullable = true)\n",
      " |-- Year: integer (nullable = true)\n",
      " |-- Quarter: integer (nullable = true)\n",
      " |-- Month: integer (nullable = true)\n",
      " |-- DayofMonth: integer (nullable = true)\n",
      " |-- DayOfWeek: integer (nullable = true)\n",
      " |-- Marketing_Airline_Network: string (nullable = true)\n",
      " |-- Operated_or_Branded_Code_Share_Partners: string (nullable = true)\n",
      " |-- DOT_ID_Marketing_Airline: integer (nullable = true)\n",
      " |-- IATA_Code_Marketing_Airline: string (nullable = true)\n",
      " |-- Flight_Number_Marketing_Airline: integer (nullable = true)\n",
      " |-- Operating_Airline: string (nullable = true)\n",
      " |-- IATA_Code_Operating_Airline: string (nullable = true)\n",
      " |-- Tail_Number: string (nullable = true)\n",
      " |-- OriginAirportID: integer (nullable = true)\n",
      " |-- OriginAirportSeqID: integer (nullable = true)\n",
      " |-- OriginCityName: string (nullable = true)\n",
      " |-- OriginState: string (nullable = true)\n",
      " |-- OriginStateName: string (nullable = true)\n",
      " |-- DestAirportID: integer (nullable = true)\n",
      " |-- DestAirportSeqID: integer (nullable = true)\n",
      " |-- DestCityName: string (nullable = true)\n",
      " |-- DestState: string (nullable = true)\n",
      " |-- DestStateName: string (nullable = true)\n",
      " |-- DepDel15: double (nullable = true)\n",
      " |-- DepartureDelayGroups: double (nullable = true)\n",
      " |-- DepTimeBlk: string (nullable = true)\n",
      " |-- WheelsOff: double (nullable = true)\n",
      " |-- WheelsOn: double (nullable = true)\n",
      " |-- ArrDelay: double (nullable = true)\n",
      " |-- ArrDel15: double (nullable = true)\n",
      " |-- ArrTimeBlk: string (nullable = true)\n",
      " |-- Airline Index: double (nullable = false)\n",
      " |-- Origin Index: double (nullable = false)\n",
      " |-- Dest Index: double (nullable = false)\n",
      " |-- DepTime Index: double (nullable = false)\n",
      " |-- Year Index: double (nullable = false)\n",
      " |-- Month Index: double (nullable = false)\n",
      " |-- DayofMonth Index: double (nullable = false)\n",
      " |-- DayOfWeek Index: double (nullable = false)\n",
      " |-- Marketing_Airline_Network Index: double (nullable = false)\n",
      " |-- Operated_or_Branded_Code_Share_Partners Index: double (nullable = false)\n",
      " |-- IATA_Code_Marketing_Airline Index: double (nullable = false)\n",
      " |-- Operating_Airline Index: double (nullable = false)\n",
      " |-- IATA_Code_Operating_Airline Index: double (nullable = false)\n",
      " |-- Tail_Number Index: double (nullable = false)\n",
      " |-- OriginCityName Index: double (nullable = false)\n",
      " |-- OriginState Index: double (nullable = false)\n",
      " |-- OriginStateName Index: double (nullable = false)\n",
      " |-- DestCityName Index: double (nullable = false)\n",
      " |-- DestState Index: double (nullable = false)\n",
      " |-- DestStateName Index: double (nullable = false)\n",
      " |-- DepDel15 Index: double (nullable = false)\n",
      " |-- DepTimeBlk Index: double (nullable = false)\n",
      " |-- Airline OHE: vector (nullable = true)\n",
      " |-- Origin OHE: vector (nullable = true)\n",
      " |-- Dest OHE: vector (nullable = true)\n",
      " |-- DepTime OHE: vector (nullable = true)\n",
      " |-- Year OHE: vector (nullable = true)\n",
      " |-- Month OHE: vector (nullable = true)\n",
      " |-- DayofMonth OHE: vector (nullable = true)\n",
      " |-- DayOfWeek OHE: vector (nullable = true)\n",
      " |-- Marketing_Airline_Network OHE: vector (nullable = true)\n",
      " |-- Operated_or_Branded_Code_Share_Partners OHE: vector (nullable = true)\n",
      " |-- IATA_Code_Marketing_Airline OHE: vector (nullable = true)\n",
      " |-- Operating_Airline OHE: vector (nullable = true)\n",
      " |-- IATA_Code_Operating_Airline OHE: vector (nullable = true)\n",
      " |-- Tail_Number OHE: vector (nullable = true)\n",
      " |-- OriginCityName OHE: vector (nullable = true)\n",
      " |-- OriginState OHE: vector (nullable = true)\n",
      " |-- OriginStateName OHE: vector (nullable = true)\n",
      " |-- DestCityName OHE: vector (nullable = true)\n",
      " |-- DestState OHE: vector (nullable = true)\n",
      " |-- DestStateName OHE: vector (nullable = true)\n",
      " |-- DepDel15 OHE: vector (nullable = true)\n",
      " |-- DepTimeBlk OHE: vector (nullable = true)\n",
      " |-- features: vector (nullable = true)\n",
      " |-- rawPrediction: vector (nullable = true)\n",
      " |-- prediction: double (nullable = false)\n",
      "\n"
     ]
    }
   ],
   "source": [
    "# Make predictions on test data and show values of columns of interest\n",
    "\n",
    "df_prediction = pipeline_model.transform(df_test)\n",
    "\n",
    "# Check its schema\n",
    "\n",
    "df_prediction.printSchema()"
   ]
  },
  {
   "cell_type": "markdown",
   "id": "ef8fa427-39c7-40f7-ad2d-8e98bce65a80",
   "metadata": {},
   "source": [
    "Este código mostra as colunas 'features', 'rawPrediction', 'prediction' e 'ArrDel15' do DataFrame df_prediction.\n",
    "\n",
    "- A coluna **features** representa as características do voo (horários de partida e chegada, duração, etc.) em formato vetor. Essas características foram criadas anteriormente através do processo de codificação e vetorização.\n",
    "\n",
    "- A coluna **rawPrediction** mostra a pontuação resultante da aplicação do modelo LinearSVC às características do voo. Essa pontuação não é a previsão final (0 ou 1), mas é uma medida da confiança do modelo na previsão.\n",
    "\n",
    "- A coluna **prediction** mostra a previsão final (0 ou 1) do modelo LinearSVC para a coluna 'ArrDel15' (o atraso na chegada é maior ou igual a 15 minutos).\n",
    "\n",
    "- A coluna **ArrDel15** é a variável alvo que indica se o voo teve um atraso na chegada maior ou igual a 15 minutos (1) ou não (0)."
   ]
  },
  {
   "cell_type": "code",
   "execution_count": 20,
   "id": "f01ad729-64aa-429c-975f-66a33adc1ff1",
   "metadata": {},
   "outputs": [
    {
     "name": "stderr",
     "output_type": "stream",
     "text": [
      "[Stage 62:==========================================>              (9 + 3) / 12]\r"
     ]
    },
    {
     "name": "stdout",
     "output_type": "stream",
     "text": [
      "23/04/06 20:58:09 WARN DAGScheduler: Broadcasting large task binary with size 1450.8 KiB\n"
     ]
    },
    {
     "name": "stderr",
     "output_type": "stream",
     "text": [
      "[Stage 64:>                                                         (0 + 1) / 1]\r"
     ]
    },
    {
     "name": "stdout",
     "output_type": "stream",
     "text": [
      "+--------------------+--------------------+----------+--------+\n",
      "|            features|       rawPrediction|prediction|ArrDel15|\n",
      "+--------------------+--------------------+----------+--------+\n",
      "|(10412,[17,194,41...|[0.80052559210690...|       0.0|     0.0|\n",
      "|(10412,[17,50,454...|[1.21949266390181...|       0.0|     0.0|\n",
      "|(10412,[17,28,537...|[1.08230908707386...|       0.0|     0.0|\n",
      "|(10412,[17,28,566...|[-3.3058396577280...|       1.0|     1.0|\n",
      "|(10412,[10,37,442...|[-1.2519736322716...|       1.0|     1.0|\n",
      "|(10412,[10,234,66...|[-0.4391781912607...|       1.0|     1.0|\n",
      "|(10412,[10,65,442...|[1.29848166000987...|       0.0|     0.0|\n",
      "|(10412,[10,56,429...|[1.14829699988868...|       0.0|     0.0|\n",
      "|(10412,[10,33,483...|[0.98596471388529...|       0.0|     0.0|\n",
      "|(10412,[10,33,483...|[1.15681808060158...|       0.0|     0.0|\n",
      "|(10412,[10,33,483...|[1.11290939295176...|       0.0|     0.0|\n",
      "|(10412,[10,33,429...|[1.03681530851206...|       0.0|     1.0|\n",
      "|(10412,[10,33,481...|[1.17433940888603...|       0.0|     0.0|\n",
      "|(10412,[10,33,442...|[0.95855370919637...|       0.0|     0.0|\n",
      "|(10412,[14,163,49...|[-1.2641953374694...|       1.0|     1.0|\n",
      "|(10412,[14,49,666...|[1.18085083162769...|       0.0|     0.0|\n",
      "|(10412,[14,36,563...|[1.14226348498624...|       0.0|     0.0|\n",
      "|(10412,[21,40,462...|[1.24243273879801...|       0.0|     0.0|\n",
      "|(10412,[22,32,445...|[1.17410865667188...|       0.0|     0.0|\n",
      "|(10412,[22,118,41...|[-0.7168911552478...|       1.0|     1.0|\n",
      "+--------------------+--------------------+----------+--------+\n",
      "only showing top 20 rows\n",
      "\n"
     ]
    },
    {
     "name": "stderr",
     "output_type": "stream",
     "text": [
      "                                                                                \r"
     ]
    }
   ],
   "source": [
    "# Columns to be focus on\n",
    "\n",
    "df_prediction.select('features', 'rawPrediction', 'prediction', 'ArrDel15').show() "
   ]
  },
  {
   "cell_type": "markdown",
   "id": "25c3a98c-9d74-45fb-bdac-e58f78f5260c",
   "metadata": {},
   "source": [
    "### Avaliação dos resultados"
   ]
  },
  {
   "cell_type": "markdown",
   "id": "129dfc99-091f-473f-ab59-11468490d399",
   "metadata": {},
   "source": [
    "Em primeiro lugar, procedeu-se ao cálculo da métrica de avaliação binária \"areaUnderROC\" (Área sob a curva ROC), que é uma medida da qualidade do modelo para classificar corretamente exemplos positivos e negativos. Para isso, são usados os dados de teste que foram processados pelo pipeline de treinamento e ajustados pelo modelo treinado."
   ]
  },
  {
   "cell_type": "code",
   "execution_count": 21,
   "id": "11e75e07-1f71-4600-a936-4f14341a1052",
   "metadata": {},
   "outputs": [
    {
     "name": "stderr",
     "output_type": "stream",
     "text": [
      "[Stage 65:==========================================>              (9 + 3) / 12]\r"
     ]
    },
    {
     "name": "stdout",
     "output_type": "stream",
     "text": [
      "23/04/06 20:58:40 WARN DAGScheduler: Broadcasting large task binary with size 1447.3 KiB\n"
     ]
    },
    {
     "name": "stderr",
     "output_type": "stream",
     "text": [
      "[Stage 77:>                                                         (0 + 1) / 1]\r"
     ]
    },
    {
     "name": "stdout",
     "output_type": "stream",
     "text": [
      "areaUnderROC = 0.977832125303426\n"
     ]
    },
    {
     "name": "stderr",
     "output_type": "stream",
     "text": [
      "                                                                                \r"
     ]
    }
   ],
   "source": [
    "# Compute evaluation metrics on test data\n",
    "\n",
    "prediction_label = df_prediction.select('rawPrediction', 'prediction', 'ArrDel15')  \n",
    "\n",
    "# supports metricName=\"areaUnderROC\" (default) and \"areaUnderPR\"\n",
    "# it relates to sensitivity (TP rate) and specificity (FP rate)\n",
    "\n",
    "evaluator = BinaryClassificationEvaluator(labelCol='ArrDel15')\n",
    "\n",
    "print(\"areaUnderROC = \" + str(evaluator.evaluate(prediction_label)))\n",
    "# print(\"areaUnderPR = \" + str(evaluator.evaluate(prediction_label, {evaluator.metricName: 'areaUnderPR'})))"
   ]
  },
  {
   "cell_type": "markdown",
   "id": "0bf2fb55-3ce8-4c5f-90c9-cd0dd72782df",
   "metadata": {},
   "source": [
    "No contexto deste modelo, uma área sob a curva ROC de 0.9778 indica que o modelo é capaz de distinguir entre voos que chegam com atraso de pelo menos 15 minutos e voos que chegam na hora ou com um atraso menor com uma precisão muito alta."
   ]
  },
  {
   "cell_type": "markdown",
   "id": "703abae3-c033-4393-8082-4ed34cbf0d9a",
   "metadata": {},
   "source": [
    "<br>"
   ]
  },
  {
   "cell_type": "markdown",
   "id": "69ed2b4e-fd4f-41fe-b460-5d3e5a21aafc",
   "metadata": {},
   "source": [
    "Em seguida, para o cálculo de diversas métricas de classificação, procedeu-se ao cálculo da contagem de cada caso do resultado da previsão feita pelo modelo SVM no conjunto de teste. "
   ]
  },
  {
   "cell_type": "code",
   "execution_count": 22,
   "id": "5dc156a8-be0c-46b0-9ebb-c8fb349add74",
   "metadata": {},
   "outputs": [
    {
     "name": "stderr",
     "output_type": "stream",
     "text": [
      "[Stage 81:==============================================>         (10 + 2) / 12]\r"
     ]
    },
    {
     "name": "stdout",
     "output_type": "stream",
     "text": [
      "23/04/06 21:00:26 WARN DAGScheduler: Broadcasting large task binary with size 1454.5 KiB\n"
     ]
    },
    {
     "name": "stderr",
     "output_type": "stream",
     "text": [
      "[Stage 84:==============================================>         (10 + 2) / 12]\r"
     ]
    },
    {
     "name": "stdout",
     "output_type": "stream",
     "text": [
      "23/04/06 21:01:07 WARN DAGScheduler: Broadcasting large task binary with size 1454.3 KiB\n"
     ]
    },
    {
     "name": "stderr",
     "output_type": "stream",
     "text": [
      "[Stage 87:======================================>                  (8 + 4) / 12]\r"
     ]
    },
    {
     "name": "stdout",
     "output_type": "stream",
     "text": [
      "23/04/06 21:01:57 WARN DAGScheduler: Broadcasting large task binary with size 1454.5 KiB\n"
     ]
    },
    {
     "name": "stderr",
     "output_type": "stream",
     "text": [
      "                                                                                \r"
     ]
    },
    {
     "data": {
      "text/plain": [
       "[77704, 446723, 19617, 22290, 566334]"
      ]
     },
     "execution_count": 22,
     "metadata": {},
     "output_type": "execute_result"
    }
   ],
   "source": [
    "# Counting rows for each case TP, TN, FP and FN respectively\n",
    "\n",
    "n = df_prediction.count()\n",
    "tp = df_prediction.filter((F.col('prediction') > 0) & (F.col('ArrDel15') == 1)).count()\n",
    "tn = df_prediction.filter((F.col('prediction') == 0) & (F.col('ArrDel15') == 0)).count()\n",
    "fp = df_prediction.filter((F.col('prediction') > 0) & (F.col('ArrDel15') == 0)).count()\n",
    "fn = n - tp - tn - fp\n",
    "[tp, tn, fp, fn, n]"
   ]
  },
  {
   "cell_type": "code",
   "execution_count": 23,
   "id": "e7305ea0-a6ba-40fe-b4c4-8ce16011b192",
   "metadata": {},
   "outputs": [
    {
     "data": {
      "text/plain": [
       "0.9260030300140907"
      ]
     },
     "execution_count": 23,
     "metadata": {},
     "output_type": "execute_result"
    }
   ],
   "source": [
    "accuracy = (tp + tn) / (tp + tn + fp + fn)\n",
    "accuracy"
   ]
  },
  {
   "cell_type": "markdown",
   "id": "868caed3-3217-447a-81c1-fbfe70706368",
   "metadata": {},
   "source": [
    "No contexto deste modelo, uma accuracy de 0.926 significa que o modelo acertou 92.6% das vezes na sua previsão de atrasos de voo de pelo menos 15 minutos."
   ]
  },
  {
   "cell_type": "code",
   "execution_count": 24,
   "id": "2ec7fe3c-457a-431c-99ea-8fa720d845f9",
   "metadata": {},
   "outputs": [
    {
     "data": {
      "text/plain": [
       "0.7984299380400941"
      ]
     },
     "execution_count": 24,
     "metadata": {},
     "output_type": "execute_result"
    }
   ],
   "source": [
    "precision = tp / (tp + fp)\n",
    "precision"
   ]
  },
  {
   "cell_type": "markdown",
   "id": "ee691eb0-03a0-4d26-9531-dbd62c8dae30",
   "metadata": {},
   "source": [
    "A precision de 0.7984 significa que, das vezes em que o modelo previu que um voo seria atrasado em pelo menos 15 minutos (ou seja, classificou como positivo), em média, 79.84% desses voos realmente foram atrasados."
   ]
  },
  {
   "cell_type": "code",
   "execution_count": 25,
   "id": "645a87f7-d444-4264-8da1-8d67d471d5c9",
   "metadata": {},
   "outputs": [
    {
     "data": {
      "text/plain": [
       "0.7770866251975118"
      ]
     },
     "execution_count": 25,
     "metadata": {},
     "output_type": "execute_result"
    }
   ],
   "source": [
    "recall = tp / (tp + fn)\n",
    "recall"
   ]
  },
  {
   "cell_type": "markdown",
   "id": "ae0b915a-db0d-4a23-9e15-6060f9da031a",
   "metadata": {},
   "source": [
    "Um recall de 0.777 significa que o modelo foi capaz de identificar corretamente 77.7% de todos os voos que realmente atrasaram pelo menos 15 minutos (classe positiva)."
   ]
  },
  {
   "cell_type": "code",
   "execution_count": 26,
   "id": "96615954-b9d4-4f91-9c8c-c474a9307212",
   "metadata": {},
   "outputs": [
    {
     "data": {
      "text/plain": [
       "0.9579341253162929"
      ]
     },
     "execution_count": 26,
     "metadata": {},
     "output_type": "execute_result"
    }
   ],
   "source": [
    "specificity = tn / (tn + fp)\n",
    "specificity"
   ]
  },
  {
   "cell_type": "markdown",
   "id": "3232fd15-7b37-469f-b55b-dc04db957836",
   "metadata": {},
   "source": [
    "No contexto do modelo, uma specificity de 0.9579 significa que 95.79% dos voos que não tiveram atrasos superiores a 15 minutos foram corretamente identificados como não tendo atrasos significativos pelo modelo."
   ]
  },
  {
   "cell_type": "code",
   "execution_count": 27,
   "id": "485ba671-3cb8-41ea-848e-b06fac6b8818",
   "metadata": {},
   "outputs": [
    {
     "data": {
      "text/plain": [
       "0.7876137141119529"
      ]
     },
     "execution_count": 27,
     "metadata": {},
     "output_type": "execute_result"
    }
   ],
   "source": [
    "f1_score = 2 * recall * precision / (recall + precision)\n",
    "f1_score"
   ]
  },
  {
   "cell_type": "markdown",
   "id": "472b1d1d-afc4-46cd-b60e-ff20e4cda1d9",
   "metadata": {},
   "source": [
    "No que diz respeito ao F1-score, que é de 0.7876, significa que o modelo é razoavelmente preciso na detecção de voos atrasados pelo menos 15 minutos (classe positiva) e não atrasados (classe negativa). "
   ]
  },
  {
   "cell_type": "markdown",
   "id": "6db38cde-0e90-4a9d-9ec9-a8223f400af9",
   "metadata": {},
   "source": [
    "# Aprendizagem não supervisionada "
   ]
  },
  {
   "cell_type": "markdown",
   "id": "4d4c2b23-c09a-46d7-9461-2791a844b4a5",
   "metadata": {},
   "source": [
    "## KMeans"
   ]
  },
  {
   "cell_type": "markdown",
   "id": "d4a7f5a5-a10a-4e1c-980a-b75af380db5a",
   "metadata": {},
   "source": [
    "No contexto de dados de atrasos em voos, o modelo KMeans, um dos algoritmos mais populares de aprendizagem não supervisionada, pode ser usado como uma ferramenta de aprendizagem não supervisionada para descobrir padrões e agrupamentos entre os voos com atrasos. Esses padrões podem ajudar as companhias aéreas e os reguladores a entender melhor as causas dos atrasos e a tomar medidas para melhorar o desempenho e a eficácia do sistema de transporte aéreo. O modelo KMeans é especialmente adequado para esse tipo de análise, pois é capaz de agrupar dados em clusters com base nas suas características semelhantes, o que pode ser útil para detectar padrões ocultos e relacionamentos entre os voos com atrasos."
   ]
  },
  {
   "cell_type": "code",
   "execution_count": 28,
   "id": "27aaa325-d3ec-452b-8c82-e16625436384",
   "metadata": {},
   "outputs": [],
   "source": [
    "from pyspark.ml.feature import VectorAssembler, StandardScaler\n",
    "from pyspark.ml.clustering import KMeans\n",
    "from pyspark.ml.stat import Correlation"
   ]
  },
  {
   "cell_type": "markdown",
   "id": "03e866bb-2f97-41ba-ad67-e0c4b6667146",
   "metadata": {},
   "source": [
    "<br>"
   ]
  },
  {
   "cell_type": "markdown",
   "id": "a2bc9276-c02c-47c5-a4d3-1fd0e37ba7a3",
   "metadata": {},
   "source": [
    "### Padrões de atraso entre atrasos de partida/chegada e distância"
   ]
  },
  {
   "cell_type": "markdown",
   "id": "afb821bc-29b6-4a36-b6a0-de2b15cc4752",
   "metadata": {},
   "source": [
    "Em primeiro lugar, procedeu-se à seleção de três colunas específicas (*DepDelay*, *ArrDelay* e *Distance*) do DataFrame *df_sample*. As colunas selecionadas são usadas para ajustar um modelo de clustering K-means."
   ]
  },
  {
   "cell_type": "code",
   "execution_count": 29,
   "id": "505b7e95-e0b7-419c-893e-3d77f543a4bf",
   "metadata": {},
   "outputs": [],
   "source": [
    "cols = [\"DepDelay\", \"ArrDelay\", \"Distance\"]"
   ]
  },
  {
   "cell_type": "markdown",
   "id": "7f2f989c-768e-4e23-a958-9d034898671e",
   "metadata": {},
   "source": [
    "De seguida, criou-se uma instância do VectorAssembler, que é um transformador que combina várias colunas em uma única coluna de recursos (features).\n",
    "Recorreu-se ao método \"transform()\" do VectorAssembler para aplicar a transformação aos dados em *df_sample*. O parâmetro *inputCols* especifica as colunas de entrada que serão usadas para criar a nova coluna de recursos (features), enquanto o parâmetro *outputCol* especifica o nome da nova coluna criada."
   ]
  },
  {
   "cell_type": "code",
   "execution_count": 30,
   "id": "ea25a2d6-8dfc-478c-8752-654b055b72ce",
   "metadata": {},
   "outputs": [],
   "source": [
    "# Criação do vector\n",
    "\n",
    "vec_assembler = VectorAssembler(inputCols=cols, outputCol=\"features\")\n",
    "vec_df = vec_assembler.transform(df_sample)"
   ]
  },
  {
   "cell_type": "code",
   "execution_count": 31,
   "id": "8bba22e9-ea79-475d-8d2b-604363633719",
   "metadata": {},
   "outputs": [
    {
     "data": {
      "text/plain": [
       "['FlightDate',\n",
       " 'Airline',\n",
       " 'Origin',\n",
       " 'Dest',\n",
       " 'Cancelled',\n",
       " 'Diverted',\n",
       " 'CRSDepTime',\n",
       " 'DepTime',\n",
       " 'DepDelayMinutes',\n",
       " 'DepDelay',\n",
       " 'ArrTime',\n",
       " 'ArrDelayMinutes',\n",
       " 'AirTime',\n",
       " 'CRSElapsedTime',\n",
       " 'ActualElapsedTime',\n",
       " 'Distance',\n",
       " 'Year',\n",
       " 'Quarter',\n",
       " 'Month',\n",
       " 'DayofMonth',\n",
       " 'DayOfWeek',\n",
       " 'Marketing_Airline_Network',\n",
       " 'Operated_or_Branded_Code_Share_Partners',\n",
       " 'DOT_ID_Marketing_Airline',\n",
       " 'IATA_Code_Marketing_Airline',\n",
       " 'Flight_Number_Marketing_Airline',\n",
       " 'Operating_Airline',\n",
       " 'IATA_Code_Operating_Airline',\n",
       " 'Tail_Number',\n",
       " 'OriginAirportID',\n",
       " 'OriginAirportSeqID',\n",
       " 'OriginCityName',\n",
       " 'OriginState',\n",
       " 'OriginStateName',\n",
       " 'DestAirportID',\n",
       " 'DestAirportSeqID',\n",
       " 'DestCityName',\n",
       " 'DestState',\n",
       " 'DestStateName',\n",
       " 'DepDel15',\n",
       " 'DepartureDelayGroups',\n",
       " 'DepTimeBlk',\n",
       " 'WheelsOff',\n",
       " 'WheelsOn',\n",
       " 'ArrDelay',\n",
       " 'ArrDel15',\n",
       " 'ArrTimeBlk',\n",
       " 'features']"
      ]
     },
     "execution_count": 31,
     "metadata": {},
     "output_type": "execute_result"
    }
   ],
   "source": [
    "# Imprimir as colunas do vetor\n",
    "\n",
    "vec_df.columns"
   ]
  },
  {
   "cell_type": "markdown",
   "id": "ecc44ca5-b7c2-44d7-9fcb-859034627ca9",
   "metadata": {},
   "source": [
    "<br>"
   ]
  },
  {
   "cell_type": "markdown",
   "id": "945c4913-db81-44c8-91b3-c57c6e654be3",
   "metadata": {},
   "source": [
    "De forma a escolhermos o melhor k (número de clusters) para a aplicação do algoritmo KMeans, decidimos reduzir o tamanho do vetor usado para treinar o modelo, limitando o número de linhas do DataFrame da amostra para 100 (*max_tiny*). <br>"
   ]
  },
  {
   "cell_type": "markdown",
   "id": "8486a15e-0350-41b3-864b-3ccd9e6f2314",
   "metadata": {},
   "source": [
    "Definido esse limite, após a criação do DataFrame *vec_dftiny* limitado com o número de linhas anteriormente indicado, aplicou-se o VectorAssembler que combina as colunas especificadas em *cols* em uma única coluna de features, que é adicionada como uma nova coluna no DataFrame resultante."
   ]
  },
  {
   "cell_type": "code",
   "execution_count": 32,
   "id": "29bade2d-8485-4cd9-808a-b152584054ac",
   "metadata": {},
   "outputs": [],
   "source": [
    "# para encontrar o melhor k iremos reduzir o tamanho do nosso vetor\n",
    "max_tiny = 100\n",
    "vec_dftiny = vec_assembler.transform(df_sample.limit(max_tiny))"
   ]
  },
  {
   "cell_type": "markdown",
   "id": "a0f1bd0e-4c4f-4e99-ae32-afd507332fa3",
   "metadata": {},
   "source": [
    "<br>"
   ]
  },
  {
   "cell_type": "markdown",
   "id": "a8cb9349-28c3-47fa-8fd5-d0d656350a55",
   "metadata": {},
   "source": [
    "Criou-se uma instância do modelo K-means com o número de clusters definido por \"k\", semente (seed) igual a 221 e número máximo de iterações igual a 20.\n",
    "Ajustou-se o modelo aos dados de treino (*vec_dftiny*) usando o método \"fit()\", sendo o modelo é usado para gerar previsões para os dados de treino usando o método \"transform()\".<br>\n",
    "Os centroides são armazenados numa lista designada *cluster_centres*.\n",
    "Por fim, calcula-se a métrica de Silhouette para as previsões geradas pelo modelo, usando o objeto *evaluator*, sendo o valor armazenado na lista *silhouettes*.\n",
    "O código fornece uma lista de valores de Silhouette para cada valor de \"k\" testado. Isso pode ser usado para selecionar o número ideal de clusters para o modelo de KMeans, ou seja, aquele que maximiza a métrica de Silhouette."
   ]
  },
  {
   "cell_type": "code",
   "execution_count": 33,
   "id": "26039ded-e62e-4117-9bca-b387e7d73f5d",
   "metadata": {},
   "outputs": [
    {
     "name": "stderr",
     "output_type": "stream",
     "text": [
      "                                                                                \r"
     ]
    },
    {
     "name": "stdout",
     "output_type": "stream",
     "text": [
      "Tempo total de execução (s): 22.267162084579468 segundos\n",
      "Tempo total de execução (min): 0.37111936807632445 minutos\n"
     ]
    }
   ],
   "source": [
    "# Algortimo K-Means\n",
    "from pyspark.ml.evaluation import ClusteringEvaluator\n",
    "\n",
    "start_time = time.time()\n",
    "evaluator = ClusteringEvaluator()\n",
    "\n",
    "silhouettes = []\n",
    "cluster_centres = []\n",
    "for k in range(2,20):\n",
    "    \n",
    "    # Treina um modelo K-mean\n",
    "    kmeans = KMeans(k=k, seed=221, maxIter=20)\n",
    "    \n",
    "    # Ajuste do modelo\n",
    "    model = kmeans.fit(vec_dftiny)\n",
    "    \n",
    "    # usar modelo para transformar o DataFrame ao adicionar previsões com aglomerados (\"cluster\") \n",
    "    predictions = model.transform(vec_dftiny)\n",
    "    \n",
    "\n",
    "    # Obter ClustersCenters através do modelo\n",
    "    cluster_centres.append(model.clusterCenters())\n",
    "    \n",
    "    # Avaliação do modelo com base no silhouette\n",
    "    silhouettes.append(evaluator.evaluate(predictions))\n",
    "end_time = time.time()\n",
    "elapsed_time = end_time - start_time\n",
    "elapsed_time_min = elapsed_time/60\n",
    "print(\"Tempo total de execução (s):\", elapsed_time, \"segundos\")\n",
    "print(\"Tempo total de execução (min):\", elapsed_time_min, \"minutos\")"
   ]
  },
  {
   "cell_type": "markdown",
   "id": "08dd099a-dead-4bcc-9be1-498cc67735fa",
   "metadata": {},
   "source": [
    "De seguida, imprime-se os resultados dos centroides dos clusters e das métricas de Silhouette para cada valor de k testado no modelo de clustering KMeans."
   ]
  },
  {
   "cell_type": "code",
   "execution_count": 34,
   "id": "3bee09d2-aba1-4b05-9632-465fee81deb8",
   "metadata": {},
   "outputs": [
    {
     "name": "stdout",
     "output_type": "stream",
     "text": [
      "Cluster centres: \n",
      "[array([  5.87096774,  -0.77419355, 307.72580645]), array([  4.23684211,  -6.02631579, 616.        ])]\n",
      "[array([ 6.23333333e+00, -1.16666667e-01,  3.03050000e+02]), array([  4.05405405,  -6.91891892, 569.27027027]), array([ 3.33333333e-01, -4.66666667e+00,  1.08033333e+03])]\n",
      "[array([ -4.14285714, -19.71428571, 904.        ]), array([  4.0625,  -0.4375, 140.125 ]), array([  6.12903226,  -2.93548387, 550.96774194]), array([  6.5       ,  -0.89130435, 366.02173913])]\n",
      "[array([  6.12903226,  -2.93548387, 550.96774194]), array([  4.0625,  -0.4375, 140.125 ]), array([  6.5       ,  -0.89130435, 366.02173913]), array([ -6.8, -24.4, 795. ]), array([   2.5,   -8. , 1176.5])]\n",
      "[array([  1.33333333,  -9.        , 552.66666667]), array([  4.0625,  -0.4375, 140.125 ]), array([ 2.58064516e-01, -9.51612903e+00,  3.42193548e+02]), array([ -6.8, -24.4, 795. ]), array([   2.5,   -8. , 1176.5]), array([ 27.5625,  27.0625, 420.5625])]\n",
      "[array([  4.0625,  -0.4375, 140.125 ]), array([9.23529412e+00, 2.05882353e-01, 3.43264706e+02]), array([   2.5,   -8. , 1176.5]), array([ -7.5 , -31.  , 771.75]), array([  6.12903226,  -2.93548387, 550.96774194]), array([ -1.25,  -4.  , 430.5 ]), array([ -4.,   2., 888.])]\n",
      "[array([ -4.66666667, -10.86666667, 136.26666667]), array([ 2.58064516e-01, -9.51612903e+00,  3.42193548e+02]), array([   2.5,   -8. , 1176.5]), array([ -7.5 , -31.  , 771.75]), array([  1.33333333,  -9.        , 552.66666667]), array([ -1.25,  -4.  , 430.5 ]), array([ -4.,   2., 888.]), array([118.2, 127.4, 352.2])]\n",
      "[array([  1.33333333,  -9.        , 552.66666667]), array([ -6.8, -24.4, 795. ]), array([ -4.66666667, -10.86666667, 136.26666667]), array([ -1.25,  -4.  , 430.5 ]), array([   2.5,   -8. , 1176.5]), array([ 90.5 ,  85.75, 341.25]), array([ -1.6       , -11.2       , 343.53333333]), array([135., 156., 198.]), array([150., 179., 500.])]\n",
      "[array([  1.33333333,  -9.        , 552.66666667]), array([ -6.8, -24.4, 795. ]), array([ -5.25      , -10.5       , 119.33333333]), array([ -1.25,  -4.  , 430.5 ]), array([   2.5,   -8. , 1176.5]), array([ 90.5 ,  85.75, 341.25]), array([ -1.6       , -11.2       , 343.53333333]), array([135., 156., 198.]), array([150., 179., 500.]), array([ -2.33333333, -12.33333333, 204.        ])]\n",
      "[array([ -5.25      , -10.5       , 119.33333333]), array([ -7.5 , -31.  , 771.75]), array([ -1.25,  -4.  , 430.5 ]), array([   2.5,   -8. , 1176.5]), array([  1.33333333,  -9.        , 552.66666667]), array([ 90.5 ,  85.75, 341.25]), array([ -1.6       , -11.2       , 343.53333333]), array([135., 156., 198.]), array([150., 179., 500.]), array([ -2.33333333, -12.33333333, 204.        ]), array([ -4.,   2., 888.])]\n",
      "[array([ 48. ,  53. , 588.5]), array([ -4. , -21.4, 604.2]), array([  14.,   12., 1097.]), array([ 2.58064516e-01, -9.51612903e+00,  3.42193548e+02]), array([ -4.66666667, -10.86666667, 136.26666667]), array([ -1.25,  -4.  , 430.5 ]), array([  -9.,  -28., 1256.]), array([135., 156., 198.]), array([150., 179., 500.]), array([102.        , 100.66666667, 354.33333333]), array([ -1.56521739, -11.69565217, 538.34782609]), array([ -6.8, -24.4, 795. ])]\n",
      "[array([  1.45454545,  -8.31818182, 570.95454545]), array([ -4.,   2., 888.]), array([-8. , -8.2, 83. ]), array([ -2.26315789,  -8.68421053, 462.42105263]), array([ -4.13333333, -16.86666667, 358.        ]), array([   2.5,   -8. , 1176.5]), array([ -7.5 , -31.  , 771.75]), array([135., 156., 198.]), array([150., 179., 500.]), array([121.5, 119.5, 356.5]), array([ -5.83333333, -10.66666667, 322.16666667]), array([ -3. , -12.2, 162.9]), array([ 39.83333333,  29.83333333, 353.5       ])]\n",
      "[array([ -4.  , -13.75, 577.25]), array([ -4.,   2., 888.]), array([-8. , -8.2, 83. ]), array([ -4.63636364,  -7.09090909, 433.36363636]), array([ -5.61538462, -14.84615385, 341.26923077]), array([   2.5,   -8. , 1176.5]), array([ -7.5 , -31.  , 771.75]), array([ -1.5, -12.5, 218.5]), array([126.        , 131.66666667, 303.66666667]), array([150., 179., 500.]), array([ 36.14285714,  26.28571429, 354.85714286]), array([ -3.375, -12.125, 149.   ]), array([ 48. ,  53. , 588.5]), array([  0.66666667, -13.        , 513.91666667])]\n",
      "[array([ -4.  , -13.75, 577.25]), array([ -4.,   2., 888.]), array([-8. , -8.2, 83. ]), array([ -4.63636364,  -7.09090909, 433.36363636]), array([ -5.61538462, -14.84615385, 341.26923077]), array([   2.5,   -8. , 1176.5]), array([ -7.5 , -31.  , 771.75]), array([ -1.5, -12.5, 218.5]), array([121.5, 119.5, 356.5]), array([150., 179., 500.]), array([ 36.14285714,  26.28571429, 354.85714286]), array([ -3.375, -12.125, 149.   ]), array([ 48. ,  53. , 588.5]), array([  0.66666667, -13.        , 513.91666667]), array([135., 156., 198.])]\n",
      "[array([-8. , -8.2, 83. ]), array([ 26.8,  16. , 366.4]), array([ -7.5 , -31.  , 771.75]), array([ -4.63636364,  -7.09090909, 433.36363636]), array([135., 156., 198.]), array([  -9.,  -28., 1256.]), array([ -5.83333333, -10.66666667, 322.16666667]), array([ -1.5, -12.5, 218.5]), array([ 90.5 ,  85.75, 341.25]), array([150., 179., 500.]), array([  3.16666667,  -8.5       , 605.5       ]), array([ -3.375, -12.125, 149.   ]), array([ -4.,   2., 888.]), array([  0.875     ,  -9.125     , 539.45833333]), array([  14.,   12., 1097.]), array([ -5.42857143, -18.42857143, 357.64285714])]\n",
      "[array([-8. , -8.2, 83. ]), array([ 36.14285714,  26.28571429, 354.85714286]), array([ -7.66666667, -33.66666667, 783.        ]), array([ -4.  , -13.75, 577.25]), array([135., 156., 198.]), array([   2.5,   -8. , 1176.5]), array([ -4.57142857, -15.        , 502.28571429]), array([ -1.5, -12.5, 218.5]), array([150., 179., 500.]), array([121.5, 119.5, 356.5]), array([ 48. ,  53. , 588.5]), array([ -3.375, -12.125, 149.   ]), array([ -7., -23., 738.]), array([  8. , -10.2, 530.2]), array([ -4.63636364,  -7.09090909, 433.36363636]), array([ -5.61538462, -14.84615385, 341.26923077]), array([ -4.,   2., 888.])]\n",
      "[array([-8. , -8.2, 83. ]), array([ -7.5 , -31.  , 771.75]), array([ 43.2,  35. , 352.8]), array([ -2.93333333, -12.13333333, 557.53333333]), array([135., 156., 198.]), array([  -9.,  -28., 1256.]), array([  1.   , -10.875, 502.375]), array([ -1.5, -12.5, 218.5]), array([121.5, 119.5, 356.5]), array([ -1.92857143, -14.        , 360.21428571]), array([ -4. , -21.4, 604.2]), array([ -3.375, -12.125, 149.   ]), array([ 48. ,  53. , 588.5]), array([ -4.,   2., 888.]), array([  14.,   12., 1097.]), array([150., 179., 500.]), array([ -5.85714286, -12.92857143, 325.        ]), array([ -4.63636364,  -7.09090909, 433.36363636])]\n",
      "[array([-8. , -8.2, 83. ]), array([ -7., -23., 738.]), array([ -4.  , -13.75, 577.25]), array([   2.5,   -8. , 1176.5]), array([-12. , -38. , 370.5]), array([150., 179., 500.]), array([  1.   , -10.875, 502.375]), array([ -5.66666667,  -6.33333333, 271.33333333]), array([ 62.5 ,  55.25, 338.  ]), array([  2.33333333,  -6.58333333, 359.91666667]), array([ 48. ,  53. , 588.5]), array([  0.  , -17.25, 537.  ]), array([ -4.,   2., 888.]), array([ -2.88888889, -10.22222222, 155.55555556]), array([ -7.66666667, -33.66666667, 783.        ]), array([145., 147., 363.]), array([ -5.53846154, -16.69230769, 331.61538462]), array([135., 156., 198.]), array([ -1.25,  -4.  , 430.5 ])]\n",
      "Silhouettes with squared euclidean distances: \n",
      "[0.6708090475845465, 0.6620996942268041, 0.7403201502777189, 0.7792932000341325, 0.6781271353463458, 0.5783857331521329, 0.7137875519187294, 0.7357784147598357, 0.7006227890429325, 0.687583322987582, 0.6419123549270637, 0.6103562356013025, 0.7013943401329158, 0.7099903402584098, 0.5727911696028523, 0.663531460020965, 0.6504352475698503, 0.5402476627611454]\n"
     ]
    }
   ],
   "source": [
    "# Resultados dos clusterscenters e silhouette\n",
    "\n",
    "print(\"Cluster centres: \")\n",
    "for centroid in cluster_centres:\n",
    "    print(centroid)\n",
    "print(\"Silhouettes with squared euclidean distances: \")\n",
    "print(silhouettes)"
   ]
  },
  {
   "cell_type": "markdown",
   "id": "d5aeb297-9b10-4463-857c-f12071c583fb",
   "metadata": {},
   "source": [
    "<br>"
   ]
  },
  {
   "cell_type": "markdown",
   "id": "7dcba912-8e9f-41cb-9fcc-a6577c8c1605",
   "metadata": {},
   "source": [
    "Em seguida, procedou-se à apresentação de um gráfico que mostra como a métrica de Silhouette varia com o número de clusters em um modelo de clustering KMeans. Procurou-se o número ideal de clusters, que é aquele que maximiza a métrica de Silhouette, ou seja, aquele que corresponde ao valor mais alto do eixo y no gráfico."
   ]
  },
  {
   "cell_type": "code",
   "execution_count": 35,
   "id": "8f564dc6-8a2e-4555-81c2-c5ad34f18f4d",
   "metadata": {},
   "outputs": [
    {
     "data": {
      "text/plain": [
       "Text(0, 0.5, 'silhouette score')"
      ]
     },
     "execution_count": 35,
     "metadata": {},
     "output_type": "execute_result"
    },
    {
     "data": {
      "image/png": "[encoded data removed]",
      "text/plain": [
       "<Figure size 800x600 with 1 Axes>"
      ]
     },
     "metadata": {},
     "output_type": "display_data"
    }
   ],
   "source": [
    "# Escolher melhor k\n",
    "import matplotlib.pyplot as plt \n",
    "\n",
    "fig, ax = plt.subplots(1,1, figsize =(8,6))\n",
    "ax.plot(range(2,20),silhouettes[0:20])\n",
    "ax.set_xlabel('k')\n",
    "ax.set_ylabel('silhouette score')"
   ]
  },
  {
   "cell_type": "markdown",
   "id": "9de96000-2c90-4be9-9287-639abf684302",
   "metadata": {},
   "source": [
    "O pico mais alto é atingido para k=5, então escolhe-se esse valor para k."
   ]
  },
  {
   "cell_type": "code",
   "execution_count": 36,
   "id": "5b790627-b90f-4d6b-a3c3-8530e674b678",
   "metadata": {},
   "outputs": [],
   "source": [
    "optimal_k = 5"
   ]
  },
  {
   "cell_type": "markdown",
   "id": "5670b902-dd33-4373-801c-878639904bc1",
   "metadata": {},
   "source": [
    "<br>"
   ]
  },
  {
   "cell_type": "markdown",
   "id": "1f03f782-380e-4d5d-9a75-7b484dbb1632",
   "metadata": {},
   "source": [
    "Aplica-se o modelo KMeans, usando o valor ótimo determinado para k (5).\n",
    "O modelo KKMeans é inicializado com o número de clusters ótimo encontrado anteriormente (*optimal_k*=5), um valor de semente aleatório fixo (*seed*=221) e um limite máximo de iterações (*maxIter*=20).<br>\n",
    "Ajusta-se  o modelo aos dados de treino usando o método \"fit()\" com o conjunto de dados que passou pelo processo de transformação com VectorAssembler (*vec_df*).<br> \n",
    "O modelo é então usado para prever os clusters para todo o conjunto de dados com o método \"transform()\".<br>\n",
    "Usa-se o método \"clusterCenters()\" para obter os centroides dos clusters do modelo, usando a métrica de Silhouette para avaliar o desempenho do modelo.<br>\n",
    "Finalmente, imprimem-se os centroides dos clusters."
   ]
  },
  {
   "cell_type": "markdown",
   "id": "b2e89219-16c1-4b1b-a197-e03ac976e241",
   "metadata": {},
   "source": [
    "<br>"
   ]
  },
  {
   "cell_type": "code",
   "execution_count": 37,
   "id": "e6b22ee3-9a77-4fab-8c00-6c7492421252",
   "metadata": {},
   "outputs": [
    {
     "name": "stderr",
     "output_type": "stream",
     "text": [
      "[Stage 759:>                                                        (0 + 1) / 1]\r"
     ]
    },
    {
     "name": "stdout",
     "output_type": "stream",
     "text": [
      "Silhouette with squared euclidean distance = 0.6980553448359867\n",
      "Cluster Centers: \n",
      "[  9.29277053   3.91349379 613.83473151]\n",
      "[  8.072814     3.34661518 277.08166936]\n",
      "[9.83938256e+00 1.13501627e+00 2.45359735e+03]\n",
      "[  10.17033023    2.63316883 1607.00594719]\n",
      "[  10.38634541    4.53472864 1015.45989227]\n",
      "Tempo total de execução (s): 53.2317750453949 segundos\n",
      "Tempo total de execução (min): 0.8871962507565816 minutos\n"
     ]
    },
    {
     "name": "stderr",
     "output_type": "stream",
     "text": [
      "                                                                                \r"
     ]
    }
   ],
   "source": [
    "# Avaliar o modelo com optimal_k = 5\n",
    "\n",
    "# Algoritmo K-means aplicado a todo o dataset (sem vec_dftiny)\n",
    "from pyspark.ml.evaluation import ClusteringEvaluator\n",
    "from pyspark.ml.clustering import KMeans\n",
    "\n",
    "start_time = time.time()\n",
    "# Loads data\n",
    "dataset = df_sample\n",
    "\n",
    "# Treina um modelo K-mean\n",
    "kmeans = KMeans(k=optimal_k, seed=221, maxIter=20)\n",
    "\n",
    "# Ajuste do modelo\n",
    "model = kmeans.fit(vec_df)\n",
    "\n",
    "# usar modelo para transformar o DataFrame ao adicionar previsões com aglomerados (\"cluster\") \n",
    "predictions = model.transform(vec_df)\n",
    "    \n",
    "# Obter ClustersCenters através do modelo\n",
    "cluster_centres = model.clusterCenters()\n",
    "\n",
    "# Avaliar o clustering calculando o valor do Silhouette\n",
    "evaluator = ClusteringEvaluator()\n",
    "\n",
    "silhouette = evaluator.evaluate(predictions)\n",
    "print(\"Silhouette with squared euclidean distance = \" + str(silhouette))\n",
    "\n",
    "# Mostrar os resultados\n",
    "print(\"Cluster Centers: \")\n",
    "ctr=[]\n",
    "centers = model.clusterCenters()\n",
    "for center in centers:\n",
    "    ctr.append(center)\n",
    "    print(center)\n",
    "    \n",
    "end_time = time.time()\n",
    "elapsed_time = end_time - start_time\n",
    "elapsed_time_min = elapsed_time/60\n",
    "print(\"Tempo total de execução (s):\", elapsed_time, \"segundos\")\n",
    "print(\"Tempo total de execução (min):\", elapsed_time_min, \"minutos\")"
   ]
  },
  {
   "cell_type": "markdown",
   "id": "41cac6f8-008b-4914-973a-8a10ab69fe9e",
   "metadata": {},
   "source": [
    "Com todas as variaveis e K=5, Silhouette with squared euclidean distance = 0.698, logo o modelo tem uma coesão média com os dados iniciais."
   ]
  },
  {
   "cell_type": "markdown",
   "id": "7ab6651b-cc1c-4dc4-afce-5622c3e57d1e",
   "metadata": {},
   "source": [
    "<br>"
   ]
  },
  {
   "cell_type": "markdown",
   "id": "ffe2b83c-4bf2-423f-9bae-8f05414020ec",
   "metadata": {},
   "source": [
    "De seguida, apresenta-se o número dos diferentes clusters."
   ]
  },
  {
   "cell_type": "code",
   "execution_count": 40,
   "id": "aaf83c4c-b110-4aa8-9c76-c041cde032b6",
   "metadata": {},
   "outputs": [
    {
     "name": "stderr",
     "output_type": "stream",
     "text": [
      "[Stage 762:>                                                        (0 + 1) / 1]\r"
     ]
    },
    {
     "name": "stdout",
     "output_type": "stream",
     "text": [
      "+----------+\n",
      "|prediction|\n",
      "+----------+\n",
      "|         1|\n",
      "|         0|\n",
      "|         4|\n",
      "|         2|\n",
      "|         3|\n",
      "+----------+\n",
      "\n"
     ]
    },
    {
     "name": "stderr",
     "output_type": "stream",
     "text": [
      "                                                                                \r"
     ]
    }
   ],
   "source": [
    "# Mostrar os números dos diferentes clusteres\n",
    "\n",
    "predictions.select(\"prediction\").distinct().show()"
   ]
  },
  {
   "cell_type": "markdown",
   "id": "30ca018f-7ff0-4282-8c02-4acd6b6e5d68",
   "metadata": {},
   "source": [
    "## Gráfico de dispersão para a relação entre o atrasa na partida (DepDelay) e o atraso na chegada (ArrDelay)"
   ]
  },
  {
   "cell_type": "code",
   "execution_count": 57,
   "id": "aaaaa81e-8d01-44d3-9cca-941ac602bbf0",
   "metadata": {},
   "outputs": [
    {
     "name": "stderr",
     "output_type": "stream",
     "text": [
      "/var/folders/6f/xxdlxkl953v7h6b6nsn7dhp40000gn/T/ipykernel_21615/3442062530.py:9: UserWarning: No data for colormapping provided via 'c'. Parameters 'cmap' will be ignored\n",
      "  plt.scatter(df_plot.iloc[:,0], df_plot.iloc[:,1], s=40, cmap='viridis');\n"
     ]
    },
    {
     "data": {
      "image/png": "[encoded data removed]",
      "text/plain": [
       "<Figure size 640x480 with 1 Axes>"
      ]
     },
     "metadata": {},
     "output_type": "display_data"
    }
   ],
   "source": [
    "# Vizualização do algoritmo K Means\n",
    "import matplotlib.pyplot as plt \n",
    "import pandas\n",
    "import numpy as np\n",
    "\n",
    "df_plot =  predictions.select([\"DepDelay\", \"ArrDelay\", \"Distance\"]).toPandas()\n",
    "plt.xlabel('DepDelay')\n",
    "plt.ylabel('ArrDelay')\n",
    "plt.scatter(df_plot.iloc[:,0], df_plot.iloc[:,1], s=40, cmap='viridis');"
   ]
  },
  {
   "cell_type": "markdown",
   "id": "14efbc73-6ab2-4e3f-8052-d8d3a5656751",
   "metadata": {},
   "source": [
    "Verifica-se que há uma relação, tal como se esperava, diretamente proporcinal entre o atrado de partida (*DepDelay*) e atraso de chegada (*ArrDelay*)."
   ]
  },
  {
   "cell_type": "markdown",
   "id": "4872e3db-b241-4098-a2d2-265bb6741852",
   "metadata": {},
   "source": [
    "## Gráfico de dispersão para a relação entre o atraso na partida (DepDelay) e a distância entre os aeroportos (Distance)"
   ]
  },
  {
   "cell_type": "code",
   "execution_count": 58,
   "id": "39a21952-48cd-457a-8f58-0f477d8473a6",
   "metadata": {},
   "outputs": [
    {
     "name": "stderr",
     "output_type": "stream",
     "text": [
      "/var/folders/6f/xxdlxkl953v7h6b6nsn7dhp40000gn/T/ipykernel_21615/1811034646.py:4: UserWarning: No data for colormapping provided via 'c'. Parameters 'cmap' will be ignored\n",
      "  plt.scatter(df_plot.iloc[:,0], df_plot.iloc[:,2], s=20, cmap='viridis');\n"
     ]
    },
    {
     "data": {
      "image/png": "[encoded data removed]",
      "text/plain": [
       "<Figure size 640x480 with 1 Axes>"
      ]
     },
     "metadata": {},
     "output_type": "display_data"
    }
   ],
   "source": [
    "df_plot =  predictions.select([\"DepDelay\", \"ArrDelay\", \"Distance\"]).toPandas()\n",
    "plt.xlabel('DepDelay')\n",
    "plt.ylabel('Distance')\n",
    "plt.scatter(df_plot.iloc[:,0], df_plot.iloc[:,2], s=20, cmap='viridis');"
   ]
  },
  {
   "cell_type": "markdown",
   "id": "0c97410e-65fb-44e1-9951-ce92271a6e8f",
   "metadata": {},
   "source": [
    "Neste gráfico podemos observar que há uma tendência para quanto maior for a distância da viagem, menor serem os atrasos nas partidas. Além disso, verifica-se que a maioria dos atrasos não é muito significativo, até porque a viagem mais longa tem um atraso nulo."
   ]
  },
  {
   "cell_type": "markdown",
   "id": "ffe790fe-af0a-421a-bf72-60c25cc3017d",
   "metadata": {},
   "source": [
    "## Gráfico de dispersão para a relação entre o atraso na chegada (ArrDelay) e a distância entre aeroportos (Distance)"
   ]
  },
  {
   "cell_type": "code",
   "execution_count": 52,
   "id": "4abdc848-bb59-48bd-9916-eb99fb8858e0",
   "metadata": {},
   "outputs": [
    {
     "name": "stderr",
     "output_type": "stream",
     "text": [
      "/var/folders/6f/xxdlxkl953v7h6b6nsn7dhp40000gn/T/ipykernel_21615/3671868252.py:4: UserWarning: No data for colormapping provided via 'c'. Parameters 'cmap' will be ignored\n",
      "  plt.scatter(df_plot.iloc[:,1], df_plot.iloc[:,2], s=20, cmap='viridis');\n"
     ]
    },
    {
     "data": {
      "image/png": "[encoded data removed]",
      "text/plain": [
       "<Figure size 640x480 with 1 Axes>"
      ]
     },
     "metadata": {},
     "output_type": "display_data"
    }
   ],
   "source": [
    "df_plot =  predictions.select([\"DepDelay\", \"ArrDelay\", \"Distance\"]).toPandas()\n",
    "plt.xlabel('ArrDelay')\n",
    "plt.ylabel('Distance')\n",
    "plt.scatter(df_plot.iloc[:,1], df_plot.iloc[:,2], s=20, cmap='viridis');"
   ]
  },
  {
   "cell_type": "markdown",
   "id": "b20b487b-1c24-4338-b3a6-874b5b24f739",
   "metadata": {},
   "source": [
    "De forma idêntica à análise anterior, verifica-se que há uma tendência para quanto maior for a distância na viagem, menor serem os atrasos nas chegadas."
   ]
  },
  {
   "cell_type": "markdown",
   "id": "3d70dfc7-15c7-47fb-9fc5-e738642adf24",
   "metadata": {},
   "source": [
    "## Identificar padrões de atraso baseado em outros fatores"
   ]
  },
  {
   "cell_type": "markdown",
   "id": "2e572442-e8b0-49b5-a774-9d78df51df25",
   "metadata": {},
   "source": [
    "De forma a identificar padrões de atraso baseados em outros fatores escolheram-se as colunas que se apresentam abaixo para aplicar o KMeans."
   ]
  },
  {
   "cell_type": "code",
   "execution_count": 40,
   "id": "37aae972-f0bf-4dca-8dec-170536aec01f",
   "metadata": {},
   "outputs": [],
   "source": [
    "cols2 = [\"Airline\", \"Origin\", \"Dest\", \"CRSDepTime\", \"DepDelayMinutes\", \"DepDelay\", \"ArrDelayMinutes\", \"AirTime\", \"Distance\", \"Month\"]"
   ]
  },
  {
   "cell_type": "markdown",
   "id": "e435a7ba-5804-4aba-9e0a-a11b20903b51",
   "metadata": {},
   "source": [
    "<br>"
   ]
  },
  {
   "cell_type": "markdown",
   "id": "a9d5510b-fd99-4387-9274-29535920da97",
   "metadata": {},
   "source": [
    "Primeiro, são criados indexadores de string para as colunas \"Airline\", \"Origin\" e \"Dest\". O resultado desse processo é uma nova coluna para cada coluna original, com o sufixo \"_index\", contendo os valores numéricos correspondentes a cada categoria.\n",
    "\n",
    "Em seguida, é utilizado o encoder OneHotEncoder para converter as colunas indexadas em vetores binários, onde cada elemento do vetor representa uma categoria da variável. Assim, para cada categoria, é criado um novo atributo, onde o valor 1 indica que aquela categoria está presente na observação e o valor 0 indica ausência.\n",
    "\n",
    "As colunas selecionadas para compor o vetor de características são: \"CRSDepTime\", \"DepDelayMinutes\", \"DepDelay\", \"ArrDelayMinutes\", \"AirTime\", \"Distance\", \"Month\", \"Airline_vec\", \"Origin_vec\" e \"Dest_vec\". É utilizado o VectorAssembler para juntar essas colunas em um único vetor, com o nome \"features\", que será utilizado no treino do modelo. O método \"limit(100)\" é utilizado para limitar o número de observações do dataset para 100, apenas para fins de demonstração."
   ]
  },
  {
   "cell_type": "markdown",
   "id": "cc183fe5-fd3b-4576-8cfe-436ab6de810f",
   "metadata": {},
   "source": [
    "<br>"
   ]
  },
  {
   "cell_type": "code",
   "execution_count": 41,
   "id": "9329ea96-8975-4e59-ba3e-7a6097138372",
   "metadata": {},
   "outputs": [
    {
     "name": "stderr",
     "output_type": "stream",
     "text": [
      "                                                                                \r"
     ]
    }
   ],
   "source": [
    "# Criação do vector\n",
    "from pyspark.ml.stat import Correlation\n",
    "from pyspark.ml.feature import VectorAssembler\n",
    "\n",
    "indexers = [StringIndexer(inputCol=col, outputCol=col+\"_index\", handleInvalid=\"keep\")\n",
    "            for col in [\"Airline\", \"Origin\", \"Dest\"]]\n",
    "indexed = Pipeline(stages=indexers).fit(df_sample).transform(df_sample)\n",
    "\n",
    "\n",
    "encoder = OneHotEncoder(inputCols=[\"Airline_index\", \"Origin_index\", \"Dest_index\"], outputCols=[\"Airline_vec\", \"Origin_vec\", \"Dest_vec\"])\n",
    "encoded = encoder.fit(indexed).transform(indexed)\n",
    "\n",
    "\n",
    "cols2 = [\"CRSDepTime\", \"DepDelayMinutes\", \"DepDelay\", \"ArrDelayMinutes\", \"AirTime\", \"Distance\", \"Month\", \"Airline_vec\", \"Origin_vec\", \"Dest_vec\"]\n",
    "assembler = VectorAssembler(inputCols=cols2, outputCol=\"features\")\n",
    "assembled = assembler.transform(encoded.limit(100))"
   ]
  },
  {
   "cell_type": "markdown",
   "id": "4df270c5-e68e-4af1-b13c-ad749ea9887f",
   "metadata": {},
   "source": [
    "De forma análoga à explicada anteriormente, calcula-se o Silhouette score para diferentes valores de k."
   ]
  },
  {
   "cell_type": "code",
   "execution_count": 42,
   "id": "506cd9ce-2a66-49f6-8df4-cfa5df5e7779",
   "metadata": {},
   "outputs": [
    {
     "name": "stderr",
     "output_type": "stream",
     "text": [
      "[Stage 1415:================================>                      (7 + 5) / 12]\r"
     ]
    },
    {
     "name": "stdout",
     "output_type": "stream",
     "text": [
      "Tempo total de execução (s): 148.84939885139465 segundos\n",
      "Tempo total de execução (min): 2.480823314189911 minutos\n"
     ]
    },
    {
     "name": "stderr",
     "output_type": "stream",
     "text": [
      "                                                                                \r"
     ]
    }
   ],
   "source": [
    "# Algortimo K-Means\n",
    "from pyspark.ml.evaluation import ClusteringEvaluator\n",
    "from pyspark.ml.clustering import KMeans\n",
    "\n",
    "start_time = time.time()\n",
    "evaluator = ClusteringEvaluator()\n",
    "\n",
    "silhouettes = []\n",
    "cluster_centres = []\n",
    "for k in range(2,20):\n",
    "    \n",
    "    # Treina um modelo K-mean\n",
    "    kmeans = KMeans(k=k, seed=221, maxIter=20)\n",
    "    \n",
    "    # Ajuste do modelo\n",
    "    model = kmeans.fit(assembled)\n",
    "    \n",
    "    # usar modelo para transformar o DataFrame ao adicionar previsões com aglomerados (\"cluster\") \n",
    "    prediction = model.transform(assembled)\n",
    "    \n",
    "\n",
    "    # Obter ClustersCenters através do modelo\n",
    "    cluster_centres.append(model.clusterCenters())\n",
    "    \n",
    "    # Avaliação do modelo com base no silhouette\n",
    "    silhouettes.append(evaluator.evaluate(prediction))\n",
    "end_time = time.time()\n",
    "elapsed_time = end_time - start_time\n",
    "elapsed_time_min = elapsed_time/60\n",
    "print(\"Tempo total de execução (s):\", elapsed_time, \"segundos\")\n",
    "print(\"Tempo total de execução (min):\", elapsed_time_min, \"minutos\")"
   ]
  },
  {
   "cell_type": "markdown",
   "id": "d2e7eb40-246e-4037-8182-397f5b1a94f4",
   "metadata": {},
   "source": [
    "Em seguida apresenta-se o gráfico na procura do pico mais alto que é encontrado para k=2."
   ]
  },
  {
   "cell_type": "code",
   "execution_count": 43,
   "id": "f4780abf-2e89-498b-8203-ee8f0943f75b",
   "metadata": {},
   "outputs": [
    {
     "data": {
      "text/plain": [
       "Text(0, 0.5, 'silhouette score')"
      ]
     },
     "execution_count": 43,
     "metadata": {},
     "output_type": "execute_result"
    },
    {
     "data": {
      "image/png": "[encoded data removed]",
      "text/plain": [
       "<Figure size 800x600 with 1 Axes>"
      ]
     },
     "metadata": {},
     "output_type": "display_data"
    }
   ],
   "source": [
    "# Escolher melhor k\n",
    "import matplotlib.pyplot as plt \n",
    "\n",
    "fig, ax = plt.subplots(1,1, figsize =(8,6))\n",
    "ax.plot(range(2,20),silhouettes[0:20])\n",
    "ax.set_xlabel('k')\n",
    "ax.set_ylabel('silhouette score')"
   ]
  },
  {
   "cell_type": "markdown",
   "id": "73ddb070-4537-4e0e-a62c-bd8cee447792",
   "metadata": {},
   "source": [
    "Escolhe-se o valor ótimo segundo a Silhouette score para k (k=2)."
   ]
  },
  {
   "cell_type": "code",
   "execution_count": 44,
   "id": "7f752d37-89b1-4089-ba4e-cd47bc156487",
   "metadata": {},
   "outputs": [],
   "source": [
    "optimal_k = 2"
   ]
  },
  {
   "cell_type": "markdown",
   "id": "831a5d1e-0938-45c1-a364-8f27776e4062",
   "metadata": {},
   "source": [
    "Em seguida avalia-se o modelo com k=2 e calcula-se o centroide para cada cluster."
   ]
  },
  {
   "cell_type": "code",
   "execution_count": 45,
   "id": "dbdd95ec-39f5-4c22-81c1-f59acbaf25e3",
   "metadata": {},
   "outputs": [
    {
     "name": "stderr",
     "output_type": "stream",
     "text": [
      "[Stage 1447:================================>                      (7 + 5) / 12]\r"
     ]
    },
    {
     "name": "stdout",
     "output_type": "stream",
     "text": [
      "Silhouette with squared euclidean distance = 0.7273011247796886\n",
      "Cluster Centers: \n",
      "[ 8.29869565e+02  4.56521739e+00 -8.91304348e-01  3.47826087e+00\n",
      "  6.60434783e+01  3.96804348e+02  1.00000000e+00  0.00000000e+00\n",
      "  0.00000000e+00  0.00000000e+00  0.00000000e+00  0.00000000e+00\n",
      "  0.00000000e+00  0.00000000e+00  0.00000000e+00  1.00000000e+00\n",
      "  0.00000000e+00  0.00000000e+00  0.00000000e+00  0.00000000e+00\n",
      "  0.00000000e+00  0.00000000e+00  0.00000000e+00  0.00000000e+00\n",
      "  0.00000000e+00  0.00000000e+00  0.00000000e+00  0.00000000e+00\n",
      "  0.00000000e+00  0.00000000e+00  0.00000000e+00  0.00000000e+00\n",
      "  0.00000000e+00  0.00000000e+00  0.00000000e+00  3.69565217e-01\n",
      "  0.00000000e+00  0.00000000e+00  0.00000000e+00  0.00000000e+00\n",
      "  0.00000000e+00  0.00000000e+00  0.00000000e+00  0.00000000e+00\n",
      "  0.00000000e+00  0.00000000e+00  2.17391304e-02  0.00000000e+00\n",
      "  0.00000000e+00  2.17391304e-02  0.00000000e+00  2.17391304e-02\n",
      "  0.00000000e+00  0.00000000e+00  0.00000000e+00  0.00000000e+00\n",
      "  0.00000000e+00  0.00000000e+00  0.00000000e+00  0.00000000e+00\n",
      "  0.00000000e+00  0.00000000e+00  0.00000000e+00  0.00000000e+00\n",
      "  0.00000000e+00  0.00000000e+00  0.00000000e+00  0.00000000e+00\n",
      "  0.00000000e+00  0.00000000e+00  2.17391304e-02  0.00000000e+00\n",
      "  0.00000000e+00  0.00000000e+00  0.00000000e+00  0.00000000e+00\n",
      "  6.52173913e-02  0.00000000e+00  0.00000000e+00  2.17391304e-02\n",
      "  0.00000000e+00  0.00000000e+00  0.00000000e+00  0.00000000e+00\n",
      "  2.17391304e-02  0.00000000e+00  0.00000000e+00  0.00000000e+00\n",
      "  0.00000000e+00  0.00000000e+00  0.00000000e+00  0.00000000e+00\n",
      "  0.00000000e+00  0.00000000e+00  0.00000000e+00  0.00000000e+00\n",
      "  0.00000000e+00  0.00000000e+00  0.00000000e+00  0.00000000e+00\n",
      "  0.00000000e+00  0.00000000e+00  0.00000000e+00  0.00000000e+00\n",
      "  0.00000000e+00  0.00000000e+00  0.00000000e+00  0.00000000e+00\n",
      "  0.00000000e+00  0.00000000e+00  0.00000000e+00  0.00000000e+00\n",
      "  0.00000000e+00  0.00000000e+00  0.00000000e+00  6.52173913e-02\n",
      "  0.00000000e+00  2.17391304e-02  0.00000000e+00  0.00000000e+00\n",
      "  0.00000000e+00  0.00000000e+00  0.00000000e+00  0.00000000e+00\n",
      "  0.00000000e+00  0.00000000e+00  0.00000000e+00  0.00000000e+00\n",
      "  0.00000000e+00  0.00000000e+00  0.00000000e+00  0.00000000e+00\n",
      "  0.00000000e+00  0.00000000e+00  0.00000000e+00  0.00000000e+00\n",
      "  0.00000000e+00  0.00000000e+00  0.00000000e+00  0.00000000e+00\n",
      "  0.00000000e+00  0.00000000e+00  0.00000000e+00  0.00000000e+00\n",
      "  0.00000000e+00  0.00000000e+00  0.00000000e+00  0.00000000e+00\n",
      "  0.00000000e+00  0.00000000e+00  0.00000000e+00  0.00000000e+00\n",
      "  0.00000000e+00  0.00000000e+00  0.00000000e+00  0.00000000e+00\n",
      "  0.00000000e+00  0.00000000e+00  0.00000000e+00  0.00000000e+00\n",
      "  0.00000000e+00  0.00000000e+00  0.00000000e+00  0.00000000e+00\n",
      "  0.00000000e+00  0.00000000e+00  0.00000000e+00  0.00000000e+00\n",
      "  0.00000000e+00  0.00000000e+00  0.00000000e+00  0.00000000e+00\n",
      "  0.00000000e+00  0.00000000e+00  0.00000000e+00  0.00000000e+00\n",
      "  0.00000000e+00  0.00000000e+00  0.00000000e+00  0.00000000e+00\n",
      "  0.00000000e+00  0.00000000e+00  0.00000000e+00  0.00000000e+00\n",
      "  0.00000000e+00  0.00000000e+00  0.00000000e+00  0.00000000e+00\n",
      "  0.00000000e+00  0.00000000e+00  2.17391304e-02  0.00000000e+00\n",
      "  0.00000000e+00  2.17391304e-02  0.00000000e+00  0.00000000e+00\n",
      "  0.00000000e+00  0.00000000e+00  0.00000000e+00  0.00000000e+00\n",
      "  0.00000000e+00  0.00000000e+00  0.00000000e+00  4.34782609e-02\n",
      "  0.00000000e+00  0.00000000e+00  0.00000000e+00  0.00000000e+00\n",
      "  0.00000000e+00  0.00000000e+00  2.17391304e-02  0.00000000e+00\n",
      "  0.00000000e+00  0.00000000e+00  0.00000000e+00  0.00000000e+00\n",
      "  0.00000000e+00  0.00000000e+00  0.00000000e+00  0.00000000e+00\n",
      "  0.00000000e+00  0.00000000e+00  0.00000000e+00  0.00000000e+00\n",
      "  2.17391304e-02  0.00000000e+00  0.00000000e+00  0.00000000e+00\n",
      "  0.00000000e+00  0.00000000e+00  0.00000000e+00  0.00000000e+00\n",
      "  0.00000000e+00  0.00000000e+00  0.00000000e+00  0.00000000e+00\n",
      "  0.00000000e+00  0.00000000e+00  0.00000000e+00  0.00000000e+00\n",
      "  0.00000000e+00  0.00000000e+00  0.00000000e+00  0.00000000e+00\n",
      "  0.00000000e+00  0.00000000e+00  0.00000000e+00  0.00000000e+00\n",
      "  0.00000000e+00  0.00000000e+00  0.00000000e+00  0.00000000e+00\n",
      "  0.00000000e+00  0.00000000e+00  0.00000000e+00  0.00000000e+00\n",
      "  0.00000000e+00  0.00000000e+00  0.00000000e+00  0.00000000e+00\n",
      "  0.00000000e+00  0.00000000e+00  0.00000000e+00  0.00000000e+00\n",
      "  6.52173913e-02  0.00000000e+00  2.17391304e-02  0.00000000e+00\n",
      "  0.00000000e+00  0.00000000e+00  0.00000000e+00  0.00000000e+00\n",
      "  0.00000000e+00  0.00000000e+00  0.00000000e+00  1.08695652e-01\n",
      "  0.00000000e+00  0.00000000e+00  0.00000000e+00  0.00000000e+00\n",
      "  0.00000000e+00  0.00000000e+00  0.00000000e+00  0.00000000e+00\n",
      "  0.00000000e+00  0.00000000e+00  0.00000000e+00  0.00000000e+00\n",
      "  0.00000000e+00  0.00000000e+00  0.00000000e+00  0.00000000e+00\n",
      "  0.00000000e+00  0.00000000e+00  0.00000000e+00  0.00000000e+00\n",
      "  0.00000000e+00  0.00000000e+00  0.00000000e+00  0.00000000e+00\n",
      "  0.00000000e+00  2.17391304e-02  0.00000000e+00  0.00000000e+00\n",
      "  0.00000000e+00  0.00000000e+00  0.00000000e+00  0.00000000e+00\n",
      "  0.00000000e+00  0.00000000e+00  0.00000000e+00  0.00000000e+00\n",
      "  0.00000000e+00  0.00000000e+00  0.00000000e+00  0.00000000e+00\n",
      "  0.00000000e+00  0.00000000e+00  0.00000000e+00  0.00000000e+00\n",
      "  0.00000000e+00  0.00000000e+00  0.00000000e+00  0.00000000e+00\n",
      "  0.00000000e+00  0.00000000e+00  0.00000000e+00  0.00000000e+00\n",
      "  0.00000000e+00  0.00000000e+00  0.00000000e+00  0.00000000e+00\n",
      "  0.00000000e+00  0.00000000e+00  0.00000000e+00  0.00000000e+00\n",
      "  0.00000000e+00  0.00000000e+00  0.00000000e+00  0.00000000e+00\n",
      "  0.00000000e+00  0.00000000e+00  0.00000000e+00  0.00000000e+00\n",
      "  0.00000000e+00  0.00000000e+00  0.00000000e+00  0.00000000e+00\n",
      "  0.00000000e+00  0.00000000e+00  0.00000000e+00  0.00000000e+00\n",
      "  0.00000000e+00  0.00000000e+00  0.00000000e+00  0.00000000e+00\n",
      "  0.00000000e+00  0.00000000e+00  0.00000000e+00  0.00000000e+00\n",
      "  0.00000000e+00  0.00000000e+00  0.00000000e+00  0.00000000e+00\n",
      "  0.00000000e+00  0.00000000e+00  0.00000000e+00  0.00000000e+00\n",
      "  0.00000000e+00  0.00000000e+00  0.00000000e+00  0.00000000e+00\n",
      "  0.00000000e+00  0.00000000e+00  0.00000000e+00  0.00000000e+00\n",
      "  0.00000000e+00  0.00000000e+00  0.00000000e+00  0.00000000e+00\n",
      "  0.00000000e+00  0.00000000e+00  0.00000000e+00  0.00000000e+00\n",
      "  0.00000000e+00  0.00000000e+00  0.00000000e+00  0.00000000e+00\n",
      "  0.00000000e+00  0.00000000e+00  0.00000000e+00  0.00000000e+00\n",
      "  0.00000000e+00  0.00000000e+00  0.00000000e+00  0.00000000e+00\n",
      "  0.00000000e+00  0.00000000e+00  0.00000000e+00  0.00000000e+00\n",
      "  0.00000000e+00  0.00000000e+00  0.00000000e+00  0.00000000e+00\n",
      "  0.00000000e+00  0.00000000e+00  0.00000000e+00  0.00000000e+00\n",
      "  0.00000000e+00  0.00000000e+00  0.00000000e+00  0.00000000e+00\n",
      "  0.00000000e+00  0.00000000e+00  0.00000000e+00  0.00000000e+00\n",
      "  0.00000000e+00  0.00000000e+00  0.00000000e+00  0.00000000e+00\n",
      "  0.00000000e+00  0.00000000e+00  2.39130435e-01  0.00000000e+00\n",
      "  0.00000000e+00  0.00000000e+00  0.00000000e+00  0.00000000e+00\n",
      "  0.00000000e+00  0.00000000e+00  0.00000000e+00  0.00000000e+00\n",
      "  0.00000000e+00  6.52173913e-02  0.00000000e+00  0.00000000e+00\n",
      "  1.95652174e-01  6.52173913e-02  0.00000000e+00  0.00000000e+00\n",
      "  0.00000000e+00  0.00000000e+00  0.00000000e+00  0.00000000e+00\n",
      "  0.00000000e+00  0.00000000e+00  0.00000000e+00  0.00000000e+00\n",
      "  0.00000000e+00  0.00000000e+00  0.00000000e+00  0.00000000e+00\n",
      "  0.00000000e+00  2.17391304e-02  0.00000000e+00  0.00000000e+00\n",
      "  0.00000000e+00  0.00000000e+00  0.00000000e+00  0.00000000e+00\n",
      "  0.00000000e+00  2.17391304e-02  0.00000000e+00  0.00000000e+00\n",
      "  0.00000000e+00  0.00000000e+00  0.00000000e+00  0.00000000e+00\n",
      "  0.00000000e+00  0.00000000e+00  0.00000000e+00  0.00000000e+00\n",
      "  0.00000000e+00  0.00000000e+00  0.00000000e+00  0.00000000e+00\n",
      "  0.00000000e+00  0.00000000e+00  0.00000000e+00  0.00000000e+00\n",
      "  0.00000000e+00  0.00000000e+00  0.00000000e+00  0.00000000e+00\n",
      "  0.00000000e+00  0.00000000e+00  0.00000000e+00  0.00000000e+00\n",
      "  0.00000000e+00  0.00000000e+00  0.00000000e+00  0.00000000e+00\n",
      "  0.00000000e+00  0.00000000e+00  0.00000000e+00  0.00000000e+00\n",
      "  0.00000000e+00  0.00000000e+00  0.00000000e+00  0.00000000e+00\n",
      "  0.00000000e+00  0.00000000e+00  0.00000000e+00  0.00000000e+00\n",
      "  0.00000000e+00  0.00000000e+00  0.00000000e+00  0.00000000e+00\n",
      "  0.00000000e+00  0.00000000e+00  0.00000000e+00  0.00000000e+00\n",
      "  0.00000000e+00  0.00000000e+00  0.00000000e+00  0.00000000e+00\n",
      "  0.00000000e+00  0.00000000e+00  0.00000000e+00  0.00000000e+00\n",
      "  0.00000000e+00  0.00000000e+00  0.00000000e+00  0.00000000e+00\n",
      "  0.00000000e+00  0.00000000e+00  0.00000000e+00  0.00000000e+00\n",
      "  0.00000000e+00  0.00000000e+00  0.00000000e+00  0.00000000e+00\n",
      "  0.00000000e+00  0.00000000e+00  0.00000000e+00  0.00000000e+00\n",
      "  0.00000000e+00  0.00000000e+00  0.00000000e+00  0.00000000e+00\n",
      "  0.00000000e+00  0.00000000e+00  0.00000000e+00  0.00000000e+00\n",
      "  0.00000000e+00  0.00000000e+00  0.00000000e+00  0.00000000e+00\n",
      "  0.00000000e+00  0.00000000e+00  0.00000000e+00  0.00000000e+00\n",
      "  0.00000000e+00  0.00000000e+00  0.00000000e+00  0.00000000e+00\n",
      "  0.00000000e+00  0.00000000e+00  0.00000000e+00  0.00000000e+00\n",
      "  0.00000000e+00  0.00000000e+00  2.17391304e-02  0.00000000e+00\n",
      "  0.00000000e+00  0.00000000e+00  0.00000000e+00  0.00000000e+00\n",
      "  0.00000000e+00  0.00000000e+00  0.00000000e+00  0.00000000e+00\n",
      "  0.00000000e+00  0.00000000e+00  0.00000000e+00  0.00000000e+00\n",
      "  0.00000000e+00  0.00000000e+00  0.00000000e+00  0.00000000e+00\n",
      "  0.00000000e+00  0.00000000e+00  0.00000000e+00  1.30434783e-01\n",
      "  0.00000000e+00  0.00000000e+00  4.34782609e-02  0.00000000e+00\n",
      "  0.00000000e+00  0.00000000e+00  0.00000000e+00  0.00000000e+00\n",
      "  0.00000000e+00  0.00000000e+00  0.00000000e+00  0.00000000e+00\n",
      "  0.00000000e+00  0.00000000e+00  0.00000000e+00  6.52173913e-02\n",
      "  0.00000000e+00  0.00000000e+00  0.00000000e+00  0.00000000e+00\n",
      "  0.00000000e+00  0.00000000e+00  0.00000000e+00  0.00000000e+00\n",
      "  0.00000000e+00  0.00000000e+00  0.00000000e+00  0.00000000e+00\n",
      "  0.00000000e+00  0.00000000e+00  0.00000000e+00  0.00000000e+00\n",
      "  0.00000000e+00  0.00000000e+00  0.00000000e+00  0.00000000e+00\n",
      "  0.00000000e+00  0.00000000e+00  0.00000000e+00  0.00000000e+00\n",
      "  0.00000000e+00  0.00000000e+00  0.00000000e+00  0.00000000e+00\n",
      "  0.00000000e+00  0.00000000e+00  0.00000000e+00  0.00000000e+00\n",
      "  0.00000000e+00  0.00000000e+00  0.00000000e+00  0.00000000e+00\n",
      "  0.00000000e+00  0.00000000e+00  0.00000000e+00  0.00000000e+00\n",
      "  0.00000000e+00  0.00000000e+00  0.00000000e+00  0.00000000e+00\n",
      "  0.00000000e+00  0.00000000e+00  0.00000000e+00  0.00000000e+00\n",
      "  0.00000000e+00  0.00000000e+00  0.00000000e+00  0.00000000e+00\n",
      "  0.00000000e+00  0.00000000e+00  0.00000000e+00  0.00000000e+00\n",
      "  0.00000000e+00  0.00000000e+00  0.00000000e+00  0.00000000e+00\n",
      "  0.00000000e+00  0.00000000e+00  0.00000000e+00  0.00000000e+00\n",
      "  0.00000000e+00  0.00000000e+00  0.00000000e+00  0.00000000e+00\n",
      "  0.00000000e+00  0.00000000e+00  0.00000000e+00  0.00000000e+00\n",
      "  0.00000000e+00  0.00000000e+00  0.00000000e+00  0.00000000e+00\n",
      "  0.00000000e+00  0.00000000e+00  0.00000000e+00  0.00000000e+00\n",
      "  0.00000000e+00  0.00000000e+00  0.00000000e+00  0.00000000e+00\n",
      "  0.00000000e+00  0.00000000e+00  0.00000000e+00  0.00000000e+00\n",
      "  0.00000000e+00  0.00000000e+00  0.00000000e+00  0.00000000e+00\n",
      "  0.00000000e+00  1.30434783e-01  0.00000000e+00  0.00000000e+00\n",
      "  0.00000000e+00  0.00000000e+00  0.00000000e+00  0.00000000e+00\n",
      "  0.00000000e+00  0.00000000e+00  0.00000000e+00  0.00000000e+00\n",
      "  0.00000000e+00  0.00000000e+00  0.00000000e+00  0.00000000e+00\n",
      "  0.00000000e+00  0.00000000e+00  0.00000000e+00  0.00000000e+00\n",
      "  0.00000000e+00  0.00000000e+00  0.00000000e+00  0.00000000e+00\n",
      "  0.00000000e+00  0.00000000e+00  0.00000000e+00  0.00000000e+00\n",
      "  0.00000000e+00  0.00000000e+00  0.00000000e+00  0.00000000e+00\n",
      "  0.00000000e+00  0.00000000e+00  0.00000000e+00  0.00000000e+00\n",
      "  0.00000000e+00  0.00000000e+00  0.00000000e+00  0.00000000e+00\n",
      "  0.00000000e+00  0.00000000e+00  0.00000000e+00  0.00000000e+00\n",
      "  0.00000000e+00  0.00000000e+00  0.00000000e+00  0.00000000e+00\n",
      "  0.00000000e+00  0.00000000e+00  0.00000000e+00  0.00000000e+00\n",
      "  0.00000000e+00  0.00000000e+00  0.00000000e+00  0.00000000e+00\n",
      "  0.00000000e+00  0.00000000e+00  0.00000000e+00  0.00000000e+00\n",
      "  0.00000000e+00  0.00000000e+00  0.00000000e+00  0.00000000e+00\n",
      "  0.00000000e+00  0.00000000e+00  0.00000000e+00  0.00000000e+00\n",
      "  0.00000000e+00  0.00000000e+00  0.00000000e+00  0.00000000e+00\n",
      "  0.00000000e+00  0.00000000e+00  0.00000000e+00  0.00000000e+00\n",
      "  0.00000000e+00  0.00000000e+00  0.00000000e+00  0.00000000e+00\n",
      "  0.00000000e+00  0.00000000e+00  0.00000000e+00  0.00000000e+00\n",
      "  0.00000000e+00  0.00000000e+00  0.00000000e+00  0.00000000e+00\n",
      "  0.00000000e+00  0.00000000e+00  0.00000000e+00  0.00000000e+00\n",
      "  0.00000000e+00  0.00000000e+00  0.00000000e+00  0.00000000e+00\n",
      "  0.00000000e+00  0.00000000e+00  0.00000000e+00  0.00000000e+00\n",
      "  0.00000000e+00  0.00000000e+00  0.00000000e+00  0.00000000e+00\n",
      "  0.00000000e+00  0.00000000e+00  0.00000000e+00  0.00000000e+00\n",
      "  0.00000000e+00  0.00000000e+00  0.00000000e+00  0.00000000e+00\n",
      "  0.00000000e+00  0.00000000e+00  0.00000000e+00  0.00000000e+00\n",
      "  0.00000000e+00]\n",
      "[1.57301852e+03 1.47592593e+01 1.04814815e+01 1.52592593e+01\n",
      " 7.14259259e+01 4.48777778e+02 1.00000000e+00 0.00000000e+00\n",
      " 0.00000000e+00 0.00000000e+00 0.00000000e+00 0.00000000e+00\n",
      " 0.00000000e+00 0.00000000e+00 0.00000000e+00 1.00000000e+00\n",
      " 0.00000000e+00 0.00000000e+00 0.00000000e+00 0.00000000e+00\n",
      " 0.00000000e+00 0.00000000e+00 0.00000000e+00 0.00000000e+00\n",
      " 0.00000000e+00 0.00000000e+00 0.00000000e+00 0.00000000e+00\n",
      " 0.00000000e+00 0.00000000e+00 0.00000000e+00 0.00000000e+00\n",
      " 0.00000000e+00 0.00000000e+00 0.00000000e+00 4.25925926e-01\n",
      " 0.00000000e+00 0.00000000e+00 0.00000000e+00 0.00000000e+00\n",
      " 0.00000000e+00 0.00000000e+00 0.00000000e+00 0.00000000e+00\n",
      " 0.00000000e+00 0.00000000e+00 3.70370370e-02 0.00000000e+00\n",
      " 0.00000000e+00 3.70370370e-02 1.85185185e-02 0.00000000e+00\n",
      " 0.00000000e+00 0.00000000e+00 0.00000000e+00 0.00000000e+00\n",
      " 0.00000000e+00 0.00000000e+00 0.00000000e+00 0.00000000e+00\n",
      " 0.00000000e+00 0.00000000e+00 0.00000000e+00 0.00000000e+00\n",
      " 0.00000000e+00 0.00000000e+00 0.00000000e+00 0.00000000e+00\n",
      " 0.00000000e+00 0.00000000e+00 1.48148148e-01 0.00000000e+00\n",
      " 0.00000000e+00 0.00000000e+00 0.00000000e+00 0.00000000e+00\n",
      " 0.00000000e+00 0.00000000e+00 0.00000000e+00 0.00000000e+00\n",
      " 0.00000000e+00 0.00000000e+00 0.00000000e+00 1.85185185e-02\n",
      " 0.00000000e+00 0.00000000e+00 0.00000000e+00 0.00000000e+00\n",
      " 0.00000000e+00 0.00000000e+00 0.00000000e+00 0.00000000e+00\n",
      " 0.00000000e+00 0.00000000e+00 0.00000000e+00 0.00000000e+00\n",
      " 0.00000000e+00 0.00000000e+00 0.00000000e+00 1.85185185e-02\n",
      " 0.00000000e+00 0.00000000e+00 0.00000000e+00 0.00000000e+00\n",
      " 0.00000000e+00 0.00000000e+00 0.00000000e+00 0.00000000e+00\n",
      " 0.00000000e+00 0.00000000e+00 0.00000000e+00 0.00000000e+00\n",
      " 0.00000000e+00 0.00000000e+00 0.00000000e+00 0.00000000e+00\n",
      " 0.00000000e+00 0.00000000e+00 0.00000000e+00 1.85185185e-02\n",
      " 0.00000000e+00 0.00000000e+00 0.00000000e+00 0.00000000e+00\n",
      " 0.00000000e+00 0.00000000e+00 0.00000000e+00 0.00000000e+00\n",
      " 0.00000000e+00 0.00000000e+00 0.00000000e+00 0.00000000e+00\n",
      " 0.00000000e+00 0.00000000e+00 0.00000000e+00 0.00000000e+00\n",
      " 0.00000000e+00 0.00000000e+00 0.00000000e+00 7.40740741e-02\n",
      " 0.00000000e+00 0.00000000e+00 0.00000000e+00 0.00000000e+00\n",
      " 0.00000000e+00 0.00000000e+00 0.00000000e+00 0.00000000e+00\n",
      " 0.00000000e+00 0.00000000e+00 0.00000000e+00 0.00000000e+00\n",
      " 0.00000000e+00 0.00000000e+00 0.00000000e+00 0.00000000e+00\n",
      " 0.00000000e+00 0.00000000e+00 0.00000000e+00 0.00000000e+00\n",
      " 0.00000000e+00 0.00000000e+00 0.00000000e+00 0.00000000e+00\n",
      " 0.00000000e+00 0.00000000e+00 0.00000000e+00 0.00000000e+00\n",
      " 0.00000000e+00 0.00000000e+00 3.70370370e-02 0.00000000e+00\n",
      " 0.00000000e+00 0.00000000e+00 0.00000000e+00 0.00000000e+00\n",
      " 0.00000000e+00 0.00000000e+00 0.00000000e+00 0.00000000e+00\n",
      " 0.00000000e+00 0.00000000e+00 0.00000000e+00 0.00000000e+00\n",
      " 0.00000000e+00 0.00000000e+00 0.00000000e+00 0.00000000e+00\n",
      " 0.00000000e+00 0.00000000e+00 0.00000000e+00 0.00000000e+00\n",
      " 0.00000000e+00 1.85185185e-02 0.00000000e+00 0.00000000e+00\n",
      " 0.00000000e+00 0.00000000e+00 0.00000000e+00 0.00000000e+00\n",
      " 3.70370370e-02 0.00000000e+00 0.00000000e+00 0.00000000e+00\n",
      " 0.00000000e+00 0.00000000e+00 0.00000000e+00 0.00000000e+00\n",
      " 0.00000000e+00 0.00000000e+00 5.55555556e-02 1.85185185e-02\n",
      " 0.00000000e+00 0.00000000e+00 0.00000000e+00 0.00000000e+00\n",
      " 0.00000000e+00 0.00000000e+00 0.00000000e+00 0.00000000e+00\n",
      " 0.00000000e+00 1.85185185e-02 0.00000000e+00 0.00000000e+00\n",
      " 0.00000000e+00 0.00000000e+00 0.00000000e+00 0.00000000e+00\n",
      " 0.00000000e+00 0.00000000e+00 0.00000000e+00 0.00000000e+00\n",
      " 0.00000000e+00 0.00000000e+00 0.00000000e+00 0.00000000e+00\n",
      " 0.00000000e+00 0.00000000e+00 0.00000000e+00 0.00000000e+00\n",
      " 0.00000000e+00 0.00000000e+00 0.00000000e+00 0.00000000e+00\n",
      " 0.00000000e+00 0.00000000e+00 0.00000000e+00 0.00000000e+00\n",
      " 0.00000000e+00 0.00000000e+00 0.00000000e+00 0.00000000e+00\n",
      " 0.00000000e+00 0.00000000e+00 0.00000000e+00 0.00000000e+00\n",
      " 0.00000000e+00 0.00000000e+00 0.00000000e+00 0.00000000e+00\n",
      " 0.00000000e+00 0.00000000e+00 0.00000000e+00 0.00000000e+00\n",
      " 1.85185185e-02 0.00000000e+00 0.00000000e+00 0.00000000e+00\n",
      " 0.00000000e+00 0.00000000e+00 0.00000000e+00 0.00000000e+00\n",
      " 0.00000000e+00 0.00000000e+00 0.00000000e+00 0.00000000e+00\n",
      " 0.00000000e+00 0.00000000e+00 0.00000000e+00 0.00000000e+00\n",
      " 0.00000000e+00 0.00000000e+00 0.00000000e+00 0.00000000e+00\n",
      " 0.00000000e+00 0.00000000e+00 0.00000000e+00 0.00000000e+00\n",
      " 0.00000000e+00 0.00000000e+00 0.00000000e+00 0.00000000e+00\n",
      " 0.00000000e+00 0.00000000e+00 0.00000000e+00 0.00000000e+00\n",
      " 0.00000000e+00 0.00000000e+00 0.00000000e+00 0.00000000e+00\n",
      " 0.00000000e+00 0.00000000e+00 0.00000000e+00 0.00000000e+00\n",
      " 0.00000000e+00 0.00000000e+00 0.00000000e+00 0.00000000e+00\n",
      " 0.00000000e+00 0.00000000e+00 0.00000000e+00 0.00000000e+00\n",
      " 0.00000000e+00 0.00000000e+00 0.00000000e+00 0.00000000e+00\n",
      " 0.00000000e+00 0.00000000e+00 0.00000000e+00 0.00000000e+00\n",
      " 0.00000000e+00 0.00000000e+00 0.00000000e+00 0.00000000e+00\n",
      " 0.00000000e+00 0.00000000e+00 0.00000000e+00 0.00000000e+00\n",
      " 0.00000000e+00 0.00000000e+00 0.00000000e+00 0.00000000e+00\n",
      " 0.00000000e+00 0.00000000e+00 0.00000000e+00 0.00000000e+00\n",
      " 0.00000000e+00 0.00000000e+00 0.00000000e+00 0.00000000e+00\n",
      " 0.00000000e+00 0.00000000e+00 0.00000000e+00 0.00000000e+00\n",
      " 0.00000000e+00 0.00000000e+00 0.00000000e+00 0.00000000e+00\n",
      " 0.00000000e+00 0.00000000e+00 0.00000000e+00 0.00000000e+00\n",
      " 0.00000000e+00 0.00000000e+00 0.00000000e+00 0.00000000e+00\n",
      " 0.00000000e+00 0.00000000e+00 0.00000000e+00 0.00000000e+00\n",
      " 0.00000000e+00 0.00000000e+00 0.00000000e+00 0.00000000e+00\n",
      " 0.00000000e+00 0.00000000e+00 0.00000000e+00 0.00000000e+00\n",
      " 0.00000000e+00 0.00000000e+00 0.00000000e+00 0.00000000e+00\n",
      " 0.00000000e+00 0.00000000e+00 0.00000000e+00 0.00000000e+00\n",
      " 0.00000000e+00 0.00000000e+00 0.00000000e+00 0.00000000e+00\n",
      " 0.00000000e+00 0.00000000e+00 0.00000000e+00 0.00000000e+00\n",
      " 0.00000000e+00 0.00000000e+00 0.00000000e+00 0.00000000e+00\n",
      " 0.00000000e+00 0.00000000e+00 0.00000000e+00 0.00000000e+00\n",
      " 0.00000000e+00 0.00000000e+00 0.00000000e+00 0.00000000e+00\n",
      " 0.00000000e+00 0.00000000e+00 0.00000000e+00 0.00000000e+00\n",
      " 0.00000000e+00 0.00000000e+00 0.00000000e+00 0.00000000e+00\n",
      " 0.00000000e+00 0.00000000e+00 0.00000000e+00 0.00000000e+00\n",
      " 0.00000000e+00 0.00000000e+00 0.00000000e+00 0.00000000e+00\n",
      " 0.00000000e+00 0.00000000e+00 0.00000000e+00 0.00000000e+00\n",
      " 0.00000000e+00 0.00000000e+00 0.00000000e+00 0.00000000e+00\n",
      " 0.00000000e+00 0.00000000e+00 2.03703704e-01 0.00000000e+00\n",
      " 0.00000000e+00 0.00000000e+00 0.00000000e+00 0.00000000e+00\n",
      " 0.00000000e+00 0.00000000e+00 0.00000000e+00 0.00000000e+00\n",
      " 0.00000000e+00 7.40740741e-02 0.00000000e+00 0.00000000e+00\n",
      " 1.85185185e-02 3.70370370e-02 7.40740741e-02 0.00000000e+00\n",
      " 0.00000000e+00 0.00000000e+00 9.25925926e-02 0.00000000e+00\n",
      " 0.00000000e+00 0.00000000e+00 0.00000000e+00 0.00000000e+00\n",
      " 0.00000000e+00 0.00000000e+00 0.00000000e+00 0.00000000e+00\n",
      " 0.00000000e+00 1.85185185e-02 0.00000000e+00 0.00000000e+00\n",
      " 0.00000000e+00 0.00000000e+00 0.00000000e+00 0.00000000e+00\n",
      " 0.00000000e+00 0.00000000e+00 0.00000000e+00 0.00000000e+00\n",
      " 0.00000000e+00 0.00000000e+00 1.85185185e-02 0.00000000e+00\n",
      " 0.00000000e+00 0.00000000e+00 0.00000000e+00 0.00000000e+00\n",
      " 0.00000000e+00 0.00000000e+00 0.00000000e+00 0.00000000e+00\n",
      " 0.00000000e+00 0.00000000e+00 0.00000000e+00 0.00000000e+00\n",
      " 0.00000000e+00 0.00000000e+00 0.00000000e+00 0.00000000e+00\n",
      " 0.00000000e+00 0.00000000e+00 0.00000000e+00 0.00000000e+00\n",
      " 0.00000000e+00 0.00000000e+00 0.00000000e+00 0.00000000e+00\n",
      " 0.00000000e+00 0.00000000e+00 0.00000000e+00 0.00000000e+00\n",
      " 0.00000000e+00 0.00000000e+00 0.00000000e+00 0.00000000e+00\n",
      " 0.00000000e+00 0.00000000e+00 0.00000000e+00 0.00000000e+00\n",
      " 0.00000000e+00 0.00000000e+00 0.00000000e+00 0.00000000e+00\n",
      " 0.00000000e+00 0.00000000e+00 0.00000000e+00 0.00000000e+00\n",
      " 0.00000000e+00 0.00000000e+00 0.00000000e+00 1.85185185e-02\n",
      " 0.00000000e+00 0.00000000e+00 0.00000000e+00 0.00000000e+00\n",
      " 0.00000000e+00 0.00000000e+00 0.00000000e+00 0.00000000e+00\n",
      " 0.00000000e+00 0.00000000e+00 0.00000000e+00 0.00000000e+00\n",
      " 0.00000000e+00 0.00000000e+00 0.00000000e+00 0.00000000e+00\n",
      " 0.00000000e+00 0.00000000e+00 0.00000000e+00 0.00000000e+00\n",
      " 0.00000000e+00 0.00000000e+00 0.00000000e+00 0.00000000e+00\n",
      " 0.00000000e+00 0.00000000e+00 0.00000000e+00 0.00000000e+00\n",
      " 0.00000000e+00 0.00000000e+00 0.00000000e+00 0.00000000e+00\n",
      " 0.00000000e+00 0.00000000e+00 0.00000000e+00 0.00000000e+00\n",
      " 0.00000000e+00 0.00000000e+00 0.00000000e+00 1.85185185e-02\n",
      " 0.00000000e+00 3.70370370e-02 0.00000000e+00 0.00000000e+00\n",
      " 0.00000000e+00 0.00000000e+00 1.85185185e-02 0.00000000e+00\n",
      " 0.00000000e+00 0.00000000e+00 0.00000000e+00 0.00000000e+00\n",
      " 0.00000000e+00 0.00000000e+00 0.00000000e+00 0.00000000e+00\n",
      " 0.00000000e+00 0.00000000e+00 0.00000000e+00 0.00000000e+00\n",
      " 0.00000000e+00 0.00000000e+00 0.00000000e+00 0.00000000e+00\n",
      " 0.00000000e+00 0.00000000e+00 0.00000000e+00 1.29629630e-01\n",
      " 0.00000000e+00 0.00000000e+00 3.70370370e-02 0.00000000e+00\n",
      " 9.25925926e-02 0.00000000e+00 0.00000000e+00 0.00000000e+00\n",
      " 0.00000000e+00 0.00000000e+00 0.00000000e+00 0.00000000e+00\n",
      " 0.00000000e+00 0.00000000e+00 0.00000000e+00 3.70370370e-02\n",
      " 0.00000000e+00 0.00000000e+00 0.00000000e+00 0.00000000e+00\n",
      " 0.00000000e+00 0.00000000e+00 0.00000000e+00 0.00000000e+00\n",
      " 0.00000000e+00 0.00000000e+00 5.55555556e-02 0.00000000e+00\n",
      " 0.00000000e+00 1.85185185e-02 0.00000000e+00 0.00000000e+00\n",
      " 0.00000000e+00 0.00000000e+00 0.00000000e+00 0.00000000e+00\n",
      " 0.00000000e+00 0.00000000e+00 0.00000000e+00 0.00000000e+00\n",
      " 0.00000000e+00 0.00000000e+00 0.00000000e+00 0.00000000e+00\n",
      " 0.00000000e+00 0.00000000e+00 0.00000000e+00 0.00000000e+00\n",
      " 0.00000000e+00 0.00000000e+00 0.00000000e+00 0.00000000e+00\n",
      " 0.00000000e+00 0.00000000e+00 0.00000000e+00 0.00000000e+00\n",
      " 0.00000000e+00 0.00000000e+00 0.00000000e+00 0.00000000e+00\n",
      " 0.00000000e+00 0.00000000e+00 0.00000000e+00 0.00000000e+00\n",
      " 0.00000000e+00 0.00000000e+00 0.00000000e+00 0.00000000e+00\n",
      " 0.00000000e+00 0.00000000e+00 0.00000000e+00 0.00000000e+00\n",
      " 0.00000000e+00 0.00000000e+00 0.00000000e+00 0.00000000e+00\n",
      " 0.00000000e+00 0.00000000e+00 0.00000000e+00 0.00000000e+00\n",
      " 0.00000000e+00 0.00000000e+00 0.00000000e+00 0.00000000e+00\n",
      " 0.00000000e+00 0.00000000e+00 0.00000000e+00 0.00000000e+00\n",
      " 0.00000000e+00 0.00000000e+00 0.00000000e+00 0.00000000e+00\n",
      " 0.00000000e+00 0.00000000e+00 0.00000000e+00 0.00000000e+00\n",
      " 0.00000000e+00 0.00000000e+00 0.00000000e+00 0.00000000e+00\n",
      " 0.00000000e+00 0.00000000e+00 0.00000000e+00 0.00000000e+00\n",
      " 0.00000000e+00 0.00000000e+00 0.00000000e+00 0.00000000e+00\n",
      " 0.00000000e+00 0.00000000e+00 0.00000000e+00 0.00000000e+00\n",
      " 0.00000000e+00 0.00000000e+00 0.00000000e+00 0.00000000e+00\n",
      " 0.00000000e+00 0.00000000e+00 0.00000000e+00 0.00000000e+00\n",
      " 0.00000000e+00 0.00000000e+00 0.00000000e+00 0.00000000e+00\n",
      " 0.00000000e+00 0.00000000e+00 0.00000000e+00 0.00000000e+00\n",
      " 0.00000000e+00 0.00000000e+00 0.00000000e+00 0.00000000e+00\n",
      " 0.00000000e+00 0.00000000e+00 0.00000000e+00 0.00000000e+00\n",
      " 0.00000000e+00 0.00000000e+00 0.00000000e+00 0.00000000e+00\n",
      " 0.00000000e+00 0.00000000e+00 0.00000000e+00 0.00000000e+00\n",
      " 0.00000000e+00 0.00000000e+00 0.00000000e+00 0.00000000e+00\n",
      " 0.00000000e+00 0.00000000e+00 0.00000000e+00 0.00000000e+00\n",
      " 0.00000000e+00 0.00000000e+00 0.00000000e+00 0.00000000e+00\n",
      " 0.00000000e+00 0.00000000e+00 0.00000000e+00 0.00000000e+00\n",
      " 0.00000000e+00 0.00000000e+00 0.00000000e+00 0.00000000e+00\n",
      " 0.00000000e+00 0.00000000e+00 0.00000000e+00 0.00000000e+00\n",
      " 0.00000000e+00 0.00000000e+00 0.00000000e+00 0.00000000e+00\n",
      " 0.00000000e+00 0.00000000e+00 0.00000000e+00 0.00000000e+00\n",
      " 0.00000000e+00 0.00000000e+00 0.00000000e+00 0.00000000e+00\n",
      " 0.00000000e+00 0.00000000e+00 0.00000000e+00 0.00000000e+00\n",
      " 0.00000000e+00 0.00000000e+00 0.00000000e+00 0.00000000e+00\n",
      " 0.00000000e+00 0.00000000e+00 0.00000000e+00 0.00000000e+00\n",
      " 0.00000000e+00 0.00000000e+00 0.00000000e+00 0.00000000e+00\n",
      " 0.00000000e+00 0.00000000e+00 0.00000000e+00 0.00000000e+00\n",
      " 0.00000000e+00 0.00000000e+00 0.00000000e+00 0.00000000e+00\n",
      " 0.00000000e+00 0.00000000e+00 0.00000000e+00 0.00000000e+00\n",
      " 0.00000000e+00 0.00000000e+00 0.00000000e+00 0.00000000e+00\n",
      " 0.00000000e+00 0.00000000e+00 0.00000000e+00 0.00000000e+00\n",
      " 0.00000000e+00 0.00000000e+00 0.00000000e+00 0.00000000e+00\n",
      " 0.00000000e+00 0.00000000e+00 0.00000000e+00 0.00000000e+00\n",
      " 0.00000000e+00]\n",
      "Tempo total de execução (s): 6.4073851108551025 segundos\n",
      "Tempo total de execução (min): 0.10678975184758505 minutos\n"
     ]
    },
    {
     "name": "stderr",
     "output_type": "stream",
     "text": [
      "                                                                                \r"
     ]
    }
   ],
   "source": [
    "#Avaliar o modelo com optimal_k = 2\n",
    "\n",
    "# Algoritmo K-means aplicado a todo o dataset (sem vec_dftiny)\n",
    "from pyspark.ml.evaluation import ClusteringEvaluator\n",
    "from pyspark.ml.clustering import KMeans\n",
    "\n",
    "start_time = time.time()\n",
    "# Loads data\n",
    "dataset = df_sample\n",
    "\n",
    "# Treina um modelo K-mean\n",
    "kmeans = KMeans(k=optimal_k, seed=221, maxIter=20)\n",
    "\n",
    "# Ajuste do modelo\n",
    "model = kmeans.fit(assembled)\n",
    "\n",
    "# usar modelo para transformar o DataFrame ao adicionar previsões com aglomerados (\"cluster\") \n",
    "predictions = model.transform(assembled)\n",
    "    \n",
    "# Obter ClustersCenters através do modelo\n",
    "cluster_centres = model.clusterCenters()\n",
    "\n",
    "# Avaliar o clustering calculando o valor do Silhouette\n",
    "evaluator = ClusteringEvaluator()\n",
    "\n",
    "silhouette = evaluator.evaluate(predictions)\n",
    "print(\"Silhouette with squared euclidean distance = \" + str(silhouette))\n",
    "\n",
    "# Mostrar os resultados\n",
    "print(\"Cluster Centers: \")\n",
    "ctr=[]\n",
    "centers = model.clusterCenters()\n",
    "for center in centers:\n",
    "    ctr.append(center)\n",
    "    print(center)\n",
    "    \n",
    "end_time = time.time()\n",
    "elapsed_time = end_time - start_time\n",
    "elapsed_time_min = elapsed_time/60\n",
    "print(\"Tempo total de execução (s):\", elapsed_time, \"segundos\")\n",
    "print(\"Tempo total de execução (min):\", elapsed_time_min, \"minutos\")"
   ]
  },
  {
   "cell_type": "markdown",
   "id": "9af8d97f-18d6-4938-9d48-fe6caeb0c2a0",
   "metadata": {},
   "source": [
    "- Com todas as variaveis e K=2, Silhouette com dist squared euclidean distance = 0.73, logo o modelo tem uma coesão moderada com os dados iniciais"
   ]
  },
  {
   "cell_type": "markdown",
   "id": "55c578ef-e32a-417b-ace7-513bb0eddd86",
   "metadata": {},
   "source": [
    "<br>"
   ]
  },
  {
   "cell_type": "markdown",
   "id": "b487616c-c55a-4894-9f06-335cbe4d594e",
   "metadata": {},
   "source": [
    "Em seguida, apresentam-se as \"previsões\" do algoritmo de clustering."
   ]
  },
  {
   "cell_type": "code",
   "execution_count": 65,
   "id": "d650b888-dbf0-44fb-9b17-f974614b37c4",
   "metadata": {},
   "outputs": [
    {
     "name": "stderr",
     "output_type": "stream",
     "text": [
      "                                                                                \r"
     ]
    },
    {
     "data": {
      "text/html": [
       "<div>\n",
       "<style scoped>\n",
       "    .dataframe tbody tr th:only-of-type {\n",
       "        vertical-align: middle;\n",
       "    }\n",
       "\n",
       "    .dataframe tbody tr th {\n",
       "        vertical-align: top;\n",
       "    }\n",
       "\n",
       "    .dataframe thead th {\n",
       "        text-align: right;\n",
       "    }\n",
       "</style>\n",
       "<table border=\"1\" class=\"dataframe\">\n",
       "  <thead>\n",
       "    <tr style=\"text-align: right;\">\n",
       "      <th></th>\n",
       "      <th>FlightDate</th>\n",
       "      <th>Airline</th>\n",
       "      <th>Origin</th>\n",
       "      <th>Dest</th>\n",
       "      <th>Cancelled</th>\n",
       "      <th>Diverted</th>\n",
       "      <th>CRSDepTime</th>\n",
       "      <th>DepTime</th>\n",
       "      <th>DepDelayMinutes</th>\n",
       "      <th>DepDelay</th>\n",
       "      <th>...</th>\n",
       "      <th>ArrDel15</th>\n",
       "      <th>ArrTimeBlk</th>\n",
       "      <th>Airline_index</th>\n",
       "      <th>Origin_index</th>\n",
       "      <th>Dest_index</th>\n",
       "      <th>Airline_vec</th>\n",
       "      <th>Origin_vec</th>\n",
       "      <th>Dest_vec</th>\n",
       "      <th>features</th>\n",
       "      <th>prediction</th>\n",
       "    </tr>\n",
       "  </thead>\n",
       "  <tbody>\n",
       "    <tr>\n",
       "      <th>0</th>\n",
       "      <td>2018-01-05</td>\n",
       "      <td>Endeavor Air Inc.</td>\n",
       "      <td>ATL</td>\n",
       "      <td>ABY</td>\n",
       "      <td>False</td>\n",
       "      <td>False</td>\n",
       "      <td>1037</td>\n",
       "      <td>1032.0</td>\n",
       "      <td>0.0</td>\n",
       "      <td>-5.0</td>\n",
       "      <td>...</td>\n",
       "      <td>0.0</td>\n",
       "      <td>1100-1159</td>\n",
       "      <td>8.0</td>\n",
       "      <td>0.0</td>\n",
       "      <td>271.0</td>\n",
       "      <td>(0.0, 0.0, 0.0, 0.0, 0.0, 0.0, 0.0, 0.0, 1.0, ...</td>\n",
       "      <td>(1.0, 0.0, 0.0, 0.0, 0.0, 0.0, 0.0, 0.0, 0.0, ...</td>\n",
       "      <td>(0.0, 0.0, 0.0, 0.0, 0.0, 0.0, 0.0, 0.0, 0.0, ...</td>\n",
       "      <td>(1037.0, 0.0, -5.0, 0.0, 29.0, 145.0, 1.0, 0.0...</td>\n",
       "      <td>0</td>\n",
       "    </tr>\n",
       "    <tr>\n",
       "      <th>1</th>\n",
       "      <td>2018-01-13</td>\n",
       "      <td>Endeavor Air Inc.</td>\n",
       "      <td>ATL</td>\n",
       "      <td>ABY</td>\n",
       "      <td>False</td>\n",
       "      <td>False</td>\n",
       "      <td>1037</td>\n",
       "      <td>1034.0</td>\n",
       "      <td>0.0</td>\n",
       "      <td>-3.0</td>\n",
       "      <td>...</td>\n",
       "      <td>0.0</td>\n",
       "      <td>1100-1159</td>\n",
       "      <td>8.0</td>\n",
       "      <td>0.0</td>\n",
       "      <td>271.0</td>\n",
       "      <td>(0.0, 0.0, 0.0, 0.0, 0.0, 0.0, 0.0, 0.0, 1.0, ...</td>\n",
       "      <td>(1.0, 0.0, 0.0, 0.0, 0.0, 0.0, 0.0, 0.0, 0.0, ...</td>\n",
       "      <td>(0.0, 0.0, 0.0, 0.0, 0.0, 0.0, 0.0, 0.0, 0.0, ...</td>\n",
       "      <td>(1037.0, 0.0, -3.0, 0.0, 34.0, 145.0, 1.0, 0.0...</td>\n",
       "      <td>0</td>\n",
       "    </tr>\n",
       "    <tr>\n",
       "      <th>2</th>\n",
       "      <td>2018-01-15</td>\n",
       "      <td>Endeavor Air Inc.</td>\n",
       "      <td>ATL</td>\n",
       "      <td>ABY</td>\n",
       "      <td>False</td>\n",
       "      <td>False</td>\n",
       "      <td>1037</td>\n",
       "      <td>1030.0</td>\n",
       "      <td>0.0</td>\n",
       "      <td>-7.0</td>\n",
       "      <td>...</td>\n",
       "      <td>0.0</td>\n",
       "      <td>1100-1159</td>\n",
       "      <td>8.0</td>\n",
       "      <td>0.0</td>\n",
       "      <td>271.0</td>\n",
       "      <td>(0.0, 0.0, 0.0, 0.0, 0.0, 0.0, 0.0, 0.0, 1.0, ...</td>\n",
       "      <td>(1.0, 0.0, 0.0, 0.0, 0.0, 0.0, 0.0, 0.0, 0.0, ...</td>\n",
       "      <td>(0.0, 0.0, 0.0, 0.0, 0.0, 0.0, 0.0, 0.0, 0.0, ...</td>\n",
       "      <td>(1037.0, 0.0, -7.0, 0.0, 30.0, 145.0, 1.0, 0.0...</td>\n",
       "      <td>0</td>\n",
       "    </tr>\n",
       "    <tr>\n",
       "      <th>3</th>\n",
       "      <td>2018-01-23</td>\n",
       "      <td>Endeavor Air Inc.</td>\n",
       "      <td>ATL</td>\n",
       "      <td>ABY</td>\n",
       "      <td>False</td>\n",
       "      <td>False</td>\n",
       "      <td>1037</td>\n",
       "      <td>1032.0</td>\n",
       "      <td>0.0</td>\n",
       "      <td>-5.0</td>\n",
       "      <td>...</td>\n",
       "      <td>0.0</td>\n",
       "      <td>1100-1159</td>\n",
       "      <td>8.0</td>\n",
       "      <td>0.0</td>\n",
       "      <td>271.0</td>\n",
       "      <td>(0.0, 0.0, 0.0, 0.0, 0.0, 0.0, 0.0, 0.0, 1.0, ...</td>\n",
       "      <td>(1.0, 0.0, 0.0, 0.0, 0.0, 0.0, 0.0, 0.0, 0.0, ...</td>\n",
       "      <td>(0.0, 0.0, 0.0, 0.0, 0.0, 0.0, 0.0, 0.0, 0.0, ...</td>\n",
       "      <td>(1037.0, 0.0, -5.0, 0.0, 38.0, 145.0, 1.0, 0.0...</td>\n",
       "      <td>0</td>\n",
       "    </tr>\n",
       "    <tr>\n",
       "      <th>4</th>\n",
       "      <td>2018-01-28</td>\n",
       "      <td>Endeavor Air Inc.</td>\n",
       "      <td>ATL</td>\n",
       "      <td>ABY</td>\n",
       "      <td>False</td>\n",
       "      <td>False</td>\n",
       "      <td>1037</td>\n",
       "      <td>1052.0</td>\n",
       "      <td>15.0</td>\n",
       "      <td>15.0</td>\n",
       "      <td>...</td>\n",
       "      <td>0.0</td>\n",
       "      <td>1100-1159</td>\n",
       "      <td>8.0</td>\n",
       "      <td>0.0</td>\n",
       "      <td>271.0</td>\n",
       "      <td>(0.0, 0.0, 0.0, 0.0, 0.0, 0.0, 0.0, 0.0, 1.0, ...</td>\n",
       "      <td>(1.0, 0.0, 0.0, 0.0, 0.0, 0.0, 0.0, 0.0, 0.0, ...</td>\n",
       "      <td>(0.0, 0.0, 0.0, 0.0, 0.0, 0.0, 0.0, 0.0, 0.0, ...</td>\n",
       "      <td>(1037.0, 15.0, 15.0, 0.0, 30.0, 145.0, 1.0, 0....</td>\n",
       "      <td>0</td>\n",
       "    </tr>\n",
       "    <tr>\n",
       "      <th>...</th>\n",
       "      <td>...</td>\n",
       "      <td>...</td>\n",
       "      <td>...</td>\n",
       "      <td>...</td>\n",
       "      <td>...</td>\n",
       "      <td>...</td>\n",
       "      <td>...</td>\n",
       "      <td>...</td>\n",
       "      <td>...</td>\n",
       "      <td>...</td>\n",
       "      <td>...</td>\n",
       "      <td>...</td>\n",
       "      <td>...</td>\n",
       "      <td>...</td>\n",
       "      <td>...</td>\n",
       "      <td>...</td>\n",
       "      <td>...</td>\n",
       "      <td>...</td>\n",
       "      <td>...</td>\n",
       "      <td>...</td>\n",
       "      <td>...</td>\n",
       "    </tr>\n",
       "    <tr>\n",
       "      <th>95</th>\n",
       "      <td>2018-01-09</td>\n",
       "      <td>Endeavor Air Inc.</td>\n",
       "      <td>ATL</td>\n",
       "      <td>PIA</td>\n",
       "      <td>False</td>\n",
       "      <td>False</td>\n",
       "      <td>1458</td>\n",
       "      <td>1453.0</td>\n",
       "      <td>0.0</td>\n",
       "      <td>-5.0</td>\n",
       "      <td>...</td>\n",
       "      <td>0.0</td>\n",
       "      <td>1500-1559</td>\n",
       "      <td>8.0</td>\n",
       "      <td>0.0</td>\n",
       "      <td>161.0</td>\n",
       "      <td>(0.0, 0.0, 0.0, 0.0, 0.0, 0.0, 0.0, 0.0, 1.0, ...</td>\n",
       "      <td>(1.0, 0.0, 0.0, 0.0, 0.0, 0.0, 0.0, 0.0, 0.0, ...</td>\n",
       "      <td>(0.0, 0.0, 0.0, 0.0, 0.0, 0.0, 0.0, 0.0, 0.0, ...</td>\n",
       "      <td>(1458.0, 0.0, -5.0, 0.0, 92.0, 565.0, 1.0, 0.0...</td>\n",
       "      <td>1</td>\n",
       "    </tr>\n",
       "    <tr>\n",
       "      <th>96</th>\n",
       "      <td>2018-01-22</td>\n",
       "      <td>Endeavor Air Inc.</td>\n",
       "      <td>ATL</td>\n",
       "      <td>PIA</td>\n",
       "      <td>False</td>\n",
       "      <td>False</td>\n",
       "      <td>1458</td>\n",
       "      <td>1449.0</td>\n",
       "      <td>0.0</td>\n",
       "      <td>-9.0</td>\n",
       "      <td>...</td>\n",
       "      <td>0.0</td>\n",
       "      <td>1500-1559</td>\n",
       "      <td>8.0</td>\n",
       "      <td>0.0</td>\n",
       "      <td>161.0</td>\n",
       "      <td>(0.0, 0.0, 0.0, 0.0, 0.0, 0.0, 0.0, 0.0, 1.0, ...</td>\n",
       "      <td>(1.0, 0.0, 0.0, 0.0, 0.0, 0.0, 0.0, 0.0, 0.0, ...</td>\n",
       "      <td>(0.0, 0.0, 0.0, 0.0, 0.0, 0.0, 0.0, 0.0, 0.0, ...</td>\n",
       "      <td>(1458.0, 0.0, -9.0, 0.0, 87.0, 565.0, 1.0, 0.0...</td>\n",
       "      <td>1</td>\n",
       "    </tr>\n",
       "    <tr>\n",
       "      <th>97</th>\n",
       "      <td>2018-01-25</td>\n",
       "      <td>Endeavor Air Inc.</td>\n",
       "      <td>ATL</td>\n",
       "      <td>PIA</td>\n",
       "      <td>False</td>\n",
       "      <td>False</td>\n",
       "      <td>1458</td>\n",
       "      <td>1455.0</td>\n",
       "      <td>0.0</td>\n",
       "      <td>-3.0</td>\n",
       "      <td>...</td>\n",
       "      <td>0.0</td>\n",
       "      <td>1500-1559</td>\n",
       "      <td>8.0</td>\n",
       "      <td>0.0</td>\n",
       "      <td>161.0</td>\n",
       "      <td>(0.0, 0.0, 0.0, 0.0, 0.0, 0.0, 0.0, 0.0, 1.0, ...</td>\n",
       "      <td>(1.0, 0.0, 0.0, 0.0, 0.0, 0.0, 0.0, 0.0, 0.0, ...</td>\n",
       "      <td>(0.0, 0.0, 0.0, 0.0, 0.0, 0.0, 0.0, 0.0, 0.0, ...</td>\n",
       "      <td>(1458.0, 0.0, -3.0, 0.0, 92.0, 565.0, 1.0, 0.0...</td>\n",
       "      <td>1</td>\n",
       "    </tr>\n",
       "    <tr>\n",
       "      <th>98</th>\n",
       "      <td>2018-01-26</td>\n",
       "      <td>Endeavor Air Inc.</td>\n",
       "      <td>ATL</td>\n",
       "      <td>PIA</td>\n",
       "      <td>False</td>\n",
       "      <td>False</td>\n",
       "      <td>1458</td>\n",
       "      <td>1452.0</td>\n",
       "      <td>0.0</td>\n",
       "      <td>-6.0</td>\n",
       "      <td>...</td>\n",
       "      <td>0.0</td>\n",
       "      <td>1500-1559</td>\n",
       "      <td>8.0</td>\n",
       "      <td>0.0</td>\n",
       "      <td>161.0</td>\n",
       "      <td>(0.0, 0.0, 0.0, 0.0, 0.0, 0.0, 0.0, 0.0, 1.0, ...</td>\n",
       "      <td>(1.0, 0.0, 0.0, 0.0, 0.0, 0.0, 0.0, 0.0, 0.0, ...</td>\n",
       "      <td>(0.0, 0.0, 0.0, 0.0, 0.0, 0.0, 0.0, 0.0, 0.0, ...</td>\n",
       "      <td>(1458.0, 0.0, -6.0, 0.0, 84.0, 565.0, 1.0, 0.0...</td>\n",
       "      <td>1</td>\n",
       "    </tr>\n",
       "    <tr>\n",
       "      <th>99</th>\n",
       "      <td>2018-01-10</td>\n",
       "      <td>Endeavor Air Inc.</td>\n",
       "      <td>PIA</td>\n",
       "      <td>ATL</td>\n",
       "      <td>False</td>\n",
       "      <td>False</td>\n",
       "      <td>1620</td>\n",
       "      <td>1615.0</td>\n",
       "      <td>0.0</td>\n",
       "      <td>-5.0</td>\n",
       "      <td>...</td>\n",
       "      <td>0.0</td>\n",
       "      <td>1900-1959</td>\n",
       "      <td>8.0</td>\n",
       "      <td>158.0</td>\n",
       "      <td>0.0</td>\n",
       "      <td>(0.0, 0.0, 0.0, 0.0, 0.0, 0.0, 0.0, 0.0, 1.0, ...</td>\n",
       "      <td>(0.0, 0.0, 0.0, 0.0, 0.0, 0.0, 0.0, 0.0, 0.0, ...</td>\n",
       "      <td>(1.0, 0.0, 0.0, 0.0, 0.0, 0.0, 0.0, 0.0, 0.0, ...</td>\n",
       "      <td>(1620.0, 0.0, -5.0, 0.0, 85.0, 565.0, 1.0, 0.0...</td>\n",
       "      <td>1</td>\n",
       "    </tr>\n",
       "  </tbody>\n",
       "</table>\n",
       "<p>100 rows × 55 columns</p>\n",
       "</div>"
      ],
      "text/plain": [
       "   FlightDate            Airline Origin Dest  Cancelled  Diverted  CRSDepTime  \\\n",
       "0  2018-01-05  Endeavor Air Inc.    ATL  ABY      False     False        1037   \n",
       "1  2018-01-13  Endeavor Air Inc.    ATL  ABY      False     False        1037   \n",
       "2  2018-01-15  Endeavor Air Inc.    ATL  ABY      False     False        1037   \n",
       "3  2018-01-23  Endeavor Air Inc.    ATL  ABY      False     False        1037   \n",
       "4  2018-01-28  Endeavor Air Inc.    ATL  ABY      False     False        1037   \n",
       "..        ...                ...    ...  ...        ...       ...         ...   \n",
       "95 2018-01-09  Endeavor Air Inc.    ATL  PIA      False     False        1458   \n",
       "96 2018-01-22  Endeavor Air Inc.    ATL  PIA      False     False        1458   \n",
       "97 2018-01-25  Endeavor Air Inc.    ATL  PIA      False     False        1458   \n",
       "98 2018-01-26  Endeavor Air Inc.    ATL  PIA      False     False        1458   \n",
       "99 2018-01-10  Endeavor Air Inc.    PIA  ATL      False     False        1620   \n",
       "\n",
       "    DepTime  DepDelayMinutes  DepDelay  ...  ArrDel15  ArrTimeBlk  \\\n",
       "0    1032.0              0.0      -5.0  ...       0.0   1100-1159   \n",
       "1    1034.0              0.0      -3.0  ...       0.0   1100-1159   \n",
       "2    1030.0              0.0      -7.0  ...       0.0   1100-1159   \n",
       "3    1032.0              0.0      -5.0  ...       0.0   1100-1159   \n",
       "4    1052.0             15.0      15.0  ...       0.0   1100-1159   \n",
       "..      ...              ...       ...  ...       ...         ...   \n",
       "95   1453.0              0.0      -5.0  ...       0.0   1500-1559   \n",
       "96   1449.0              0.0      -9.0  ...       0.0   1500-1559   \n",
       "97   1455.0              0.0      -3.0  ...       0.0   1500-1559   \n",
       "98   1452.0              0.0      -6.0  ...       0.0   1500-1559   \n",
       "99   1615.0              0.0      -5.0  ...       0.0   1900-1959   \n",
       "\n",
       "    Airline_index  Origin_index  Dest_index  \\\n",
       "0             8.0           0.0       271.0   \n",
       "1             8.0           0.0       271.0   \n",
       "2             8.0           0.0       271.0   \n",
       "3             8.0           0.0       271.0   \n",
       "4             8.0           0.0       271.0   \n",
       "..            ...           ...         ...   \n",
       "95            8.0           0.0       161.0   \n",
       "96            8.0           0.0       161.0   \n",
       "97            8.0           0.0       161.0   \n",
       "98            8.0           0.0       161.0   \n",
       "99            8.0         158.0         0.0   \n",
       "\n",
       "                                          Airline_vec  \\\n",
       "0   (0.0, 0.0, 0.0, 0.0, 0.0, 0.0, 0.0, 0.0, 1.0, ...   \n",
       "1   (0.0, 0.0, 0.0, 0.0, 0.0, 0.0, 0.0, 0.0, 1.0, ...   \n",
       "2   (0.0, 0.0, 0.0, 0.0, 0.0, 0.0, 0.0, 0.0, 1.0, ...   \n",
       "3   (0.0, 0.0, 0.0, 0.0, 0.0, 0.0, 0.0, 0.0, 1.0, ...   \n",
       "4   (0.0, 0.0, 0.0, 0.0, 0.0, 0.0, 0.0, 0.0, 1.0, ...   \n",
       "..                                                ...   \n",
       "95  (0.0, 0.0, 0.0, 0.0, 0.0, 0.0, 0.0, 0.0, 1.0, ...   \n",
       "96  (0.0, 0.0, 0.0, 0.0, 0.0, 0.0, 0.0, 0.0, 1.0, ...   \n",
       "97  (0.0, 0.0, 0.0, 0.0, 0.0, 0.0, 0.0, 0.0, 1.0, ...   \n",
       "98  (0.0, 0.0, 0.0, 0.0, 0.0, 0.0, 0.0, 0.0, 1.0, ...   \n",
       "99  (0.0, 0.0, 0.0, 0.0, 0.0, 0.0, 0.0, 0.0, 1.0, ...   \n",
       "\n",
       "                                           Origin_vec  \\\n",
       "0   (1.0, 0.0, 0.0, 0.0, 0.0, 0.0, 0.0, 0.0, 0.0, ...   \n",
       "1   (1.0, 0.0, 0.0, 0.0, 0.0, 0.0, 0.0, 0.0, 0.0, ...   \n",
       "2   (1.0, 0.0, 0.0, 0.0, 0.0, 0.0, 0.0, 0.0, 0.0, ...   \n",
       "3   (1.0, 0.0, 0.0, 0.0, 0.0, 0.0, 0.0, 0.0, 0.0, ...   \n",
       "4   (1.0, 0.0, 0.0, 0.0, 0.0, 0.0, 0.0, 0.0, 0.0, ...   \n",
       "..                                                ...   \n",
       "95  (1.0, 0.0, 0.0, 0.0, 0.0, 0.0, 0.0, 0.0, 0.0, ...   \n",
       "96  (1.0, 0.0, 0.0, 0.0, 0.0, 0.0, 0.0, 0.0, 0.0, ...   \n",
       "97  (1.0, 0.0, 0.0, 0.0, 0.0, 0.0, 0.0, 0.0, 0.0, ...   \n",
       "98  (1.0, 0.0, 0.0, 0.0, 0.0, 0.0, 0.0, 0.0, 0.0, ...   \n",
       "99  (0.0, 0.0, 0.0, 0.0, 0.0, 0.0, 0.0, 0.0, 0.0, ...   \n",
       "\n",
       "                                             Dest_vec  \\\n",
       "0   (0.0, 0.0, 0.0, 0.0, 0.0, 0.0, 0.0, 0.0, 0.0, ...   \n",
       "1   (0.0, 0.0, 0.0, 0.0, 0.0, 0.0, 0.0, 0.0, 0.0, ...   \n",
       "2   (0.0, 0.0, 0.0, 0.0, 0.0, 0.0, 0.0, 0.0, 0.0, ...   \n",
       "3   (0.0, 0.0, 0.0, 0.0, 0.0, 0.0, 0.0, 0.0, 0.0, ...   \n",
       "4   (0.0, 0.0, 0.0, 0.0, 0.0, 0.0, 0.0, 0.0, 0.0, ...   \n",
       "..                                                ...   \n",
       "95  (0.0, 0.0, 0.0, 0.0, 0.0, 0.0, 0.0, 0.0, 0.0, ...   \n",
       "96  (0.0, 0.0, 0.0, 0.0, 0.0, 0.0, 0.0, 0.0, 0.0, ...   \n",
       "97  (0.0, 0.0, 0.0, 0.0, 0.0, 0.0, 0.0, 0.0, 0.0, ...   \n",
       "98  (0.0, 0.0, 0.0, 0.0, 0.0, 0.0, 0.0, 0.0, 0.0, ...   \n",
       "99  (1.0, 0.0, 0.0, 0.0, 0.0, 0.0, 0.0, 0.0, 0.0, ...   \n",
       "\n",
       "                                             features  prediction  \n",
       "0   (1037.0, 0.0, -5.0, 0.0, 29.0, 145.0, 1.0, 0.0...           0  \n",
       "1   (1037.0, 0.0, -3.0, 0.0, 34.0, 145.0, 1.0, 0.0...           0  \n",
       "2   (1037.0, 0.0, -7.0, 0.0, 30.0, 145.0, 1.0, 0.0...           0  \n",
       "3   (1037.0, 0.0, -5.0, 0.0, 38.0, 145.0, 1.0, 0.0...           0  \n",
       "4   (1037.0, 15.0, 15.0, 0.0, 30.0, 145.0, 1.0, 0....           0  \n",
       "..                                                ...         ...  \n",
       "95  (1458.0, 0.0, -5.0, 0.0, 92.0, 565.0, 1.0, 0.0...           1  \n",
       "96  (1458.0, 0.0, -9.0, 0.0, 87.0, 565.0, 1.0, 0.0...           1  \n",
       "97  (1458.0, 0.0, -3.0, 0.0, 92.0, 565.0, 1.0, 0.0...           1  \n",
       "98  (1458.0, 0.0, -6.0, 0.0, 84.0, 565.0, 1.0, 0.0...           1  \n",
       "99  (1620.0, 0.0, -5.0, 0.0, 85.0, 565.0, 1.0, 0.0...           1  \n",
       "\n",
       "[100 rows x 55 columns]"
      ]
     },
     "execution_count": 65,
     "metadata": {},
     "output_type": "execute_result"
    }
   ],
   "source": [
    "predictions.toPandas()"
   ]
  },
  {
   "cell_type": "markdown",
   "id": "06f158c9-a167-4f66-aa77-b2ce7d79a464",
   "metadata": {},
   "source": [
    "<br>"
   ]
  },
  {
   "cell_type": "markdown",
   "id": "dec57f5d-1830-455c-9947-3ec8d94c9d81",
   "metadata": {},
   "source": [
    "Seguidamente, apresentam-se o número dos diferentes clusters."
   ]
  },
  {
   "cell_type": "code",
   "execution_count": 66,
   "id": "884b942c-5dde-432b-8bf0-74a046ac04fb",
   "metadata": {},
   "outputs": [
    {
     "name": "stderr",
     "output_type": "stream",
     "text": [
      "[Stage 1501:================================>                      (7 + 5) / 12]\r"
     ]
    },
    {
     "name": "stdout",
     "output_type": "stream",
     "text": [
      "+----------+\n",
      "|prediction|\n",
      "+----------+\n",
      "|         0|\n",
      "|         1|\n",
      "+----------+\n",
      "\n"
     ]
    },
    {
     "name": "stderr",
     "output_type": "stream",
     "text": [
      "                                                                                \r"
     ]
    }
   ],
   "source": [
    "# Mostrar os números dos diferentes clusteres\n",
    "predictions.select(\"prediction\").distinct().show()"
   ]
  },
  {
   "cell_type": "code",
   "execution_count": 67,
   "id": "24c01387-b2e6-48b2-94d9-b99e4deefa78",
   "metadata": {},
   "outputs": [],
   "source": [
    "# Relembrar as colunas selecionadas\n",
    "\n",
    "cols2 = [\"Airline\", \"Origin\", \"Dest\", \"CRSDepTime\", \"DepDelayMinutes\", \"DepDelay\", \"ArrDelayMinutes\", \"AirTime\", \"Distance\", \"Month\"]"
   ]
  },
  {
   "cell_type": "markdown",
   "id": "84487775-3b55-47d8-a069-1ea752bc03d2",
   "metadata": {},
   "source": [
    "## Gráfico de dispersão para a relação entre a Origem (Origin) e atraso na partida (DestDelay)"
   ]
  },
  {
   "cell_type": "code",
   "execution_count": 69,
   "id": "9bd49a07-eb30-407a-b79f-5d885a5e794f",
   "metadata": {},
   "outputs": [
    {
     "name": "stderr",
     "output_type": "stream",
     "text": [
      "/var/folders/6f/xxdlxkl953v7h6b6nsn7dhp40000gn/T/ipykernel_21615/2158272528.py:8: UserWarning: No data for colormapping provided via 'c'. Parameters 'cmap' will be ignored\n",
      "  plt.scatter(df_plot.iloc[:,1], df_plot.iloc[:,5], s=40, cmap='viridis');\n"
     ]
    },
    {
     "data": {
      "image/png": "[encoded data removed]",
      "text/plain": [
       "<Figure size 640x480 with 1 Axes>"
      ]
     },
     "metadata": {},
     "output_type": "display_data"
    }
   ],
   "source": [
    "# Visualização do algoritmo Kmeans\n",
    "\n",
    "df_plot =  predictions.select(cols2).toPandas()\n",
    "plt.xlim(-1,20)\n",
    "plt.xticks(rotation=45)\n",
    "plt.xlabel(cols2[1])\n",
    "plt.ylabel(cols2[5])\n",
    "plt.scatter(df_plot.iloc[:,1], df_plot.iloc[:,5], s=40, cmap='viridis');"
   ]
  },
  {
   "cell_type": "markdown",
   "id": "18c8e891-6583-4ffa-ab34-557697d543fd",
   "metadata": {},
   "source": [
    "Pela análise deste gráfico, verificamos que existe um claro destaque com partidas atrasadas para o aeroporto de Atlanta (ATL)."
   ]
  },
  {
   "cell_type": "markdown",
   "id": "0cd824b8-d55b-4bab-9b04-c215d04ab493",
   "metadata": {},
   "source": [
    "## Gráfico de dispersão para a relação entre o Destino (Dest) e atraso na partida (DestDelay)"
   ]
  },
  {
   "cell_type": "code",
   "execution_count": 79,
   "id": "68f4c87b-ae7e-410a-ae33-f647eda7c955",
   "metadata": {},
   "outputs": [
    {
     "name": "stderr",
     "output_type": "stream",
     "text": [
      "/var/folders/6f/xxdlxkl953v7h6b6nsn7dhp40000gn/T/ipykernel_21615/3408388266.py:8: UserWarning: No data for colormapping provided via 'c'. Parameters 'cmap' will be ignored\n",
      "  plt.scatter(df_plot.iloc[:,2], df_plot.iloc[:,5], s=40, cmap='viridis');\n"
     ]
    },
    {
     "data": {
      "image/png": "[encoded data removed]",
      "text/plain": [
       "<Figure size 640x480 with 1 Axes>"
      ]
     },
     "metadata": {},
     "output_type": "display_data"
    }
   ],
   "source": [
    "# # Visualização do algoritmo Kmeans\n",
    "\n",
    "df_plot =  predictions.select(cols2).toPandas()\n",
    "plt.xlim(-1,20)\n",
    "plt.xticks(rotation=45)\n",
    "plt.xlabel(cols2[2])\n",
    "plt.ylabel(cols2[5])\n",
    "plt.scatter(df_plot.iloc[:,2], df_plot.iloc[:,5], s=40, cmap='viridis');"
   ]
  },
  {
   "cell_type": "markdown",
   "id": "13ad41e4-a6fe-4797-9e9b-39082166f8f7",
   "metadata": {},
   "source": [
    "Há uma tendência para os voos partirem a tempo ou até adiantados, havendo contudo alguns exemplos de voos com grande atrasos de partida."
   ]
  },
  {
   "cell_type": "markdown",
   "id": "3422e788-5cee-4abe-94b6-dcb7e48eb138",
   "metadata": {},
   "source": [
    "## Gráfico de dispersão para a relação entre a origem (Origin) e o atraso de chegada em minutos (ArrDelayMinutes)"
   ]
  },
  {
   "cell_type": "code",
   "execution_count": 72,
   "id": "2e4b65ae-69b2-480a-b7d1-66995f54b1d5",
   "metadata": {},
   "outputs": [
    {
     "name": "stderr",
     "output_type": "stream",
     "text": [
      "/var/folders/6f/xxdlxkl953v7h6b6nsn7dhp40000gn/T/ipykernel_21615/2496826933.py:8: UserWarning: No data for colormapping provided via 'c'. Parameters 'cmap' will be ignored\n",
      "  plt.scatter(df_plot.iloc[:,1], df_plot.iloc[:,6], s=40, cmap='viridis');\n"
     ]
    },
    {
     "data": {
      "image/png": "[encoded data removed]",
      "text/plain": [
       "<Figure size 640x480 with 1 Axes>"
      ]
     },
     "metadata": {},
     "output_type": "display_data"
    }
   ],
   "source": [
    "# Visualização do algoritmo Kmeans\n",
    "\n",
    "df_plot =  predictions.select(cols2).toPandas()\n",
    "plt.xlim(-1,20)\n",
    "plt.xticks(rotation=45)\n",
    "plt.xlabel(cols2[1])\n",
    "plt.ylabel(cols2[6])\n",
    "plt.scatter(df_plot.iloc[:,1], df_plot.iloc[:,6], s=40, cmap='viridis');"
   ]
  },
  {
   "cell_type": "markdown",
   "id": "ec02c208-00da-44c1-b581-f3724100008d",
   "metadata": {},
   "source": [
    "Constata-se que tal como nos atrasos das partidas, é o aeroporto de Atlanta (ATL) que regista os maiores atrasos de chegada (em minutos)."
   ]
  }
 ],
 "metadata": {
  "kernelspec": {
   "display_name": "Python 3 (ipykernel)",
   "language": "python",
   "name": "python3"
  },
  "language_info": {
   "codemirror_mode": {
    "name": "ipython",
    "version": 3
   },
   "file_extension": ".py",
   "mimetype": "text/x-python",
   "name": "python",
   "nbconvert_exporter": "python",
   "pygments_lexer": "ipython3",
   "version": "3.9.13"
  }
 },
 "nbformat": 4,
 "nbformat_minor": 5
}
